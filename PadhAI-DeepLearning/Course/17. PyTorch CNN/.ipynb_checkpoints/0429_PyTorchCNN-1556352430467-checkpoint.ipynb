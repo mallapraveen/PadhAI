{
 "cells": [
  {
   "cell_type": "markdown",
   "metadata": {
    "colab_type": "text",
    "id": "6yY-u1fMO3se"
   },
   "source": [
    "## Outline\n",
    "\n",
    "* Downloading dataset (CIFAR10)\n",
    "* `Dataloader` in `torch.utils`\n",
    "* Visualising images\n",
    "* Single and multiple convolutional layers\n",
    "* LeNet\n",
    "* Training LeNet\n",
    "* Training on GPU\n",
    "* Simple visualisation\n",
    "* Exercises"
   ]
  },
  {
   "cell_type": "code",
   "execution_count": 1,
   "metadata": {
    "colab": {},
    "colab_type": "code",
    "id": "ebTDFe6qZOS6"
   },
   "outputs": [],
   "source": [
    "import torch\n",
    "import matplotlib.pyplot as plt\n",
    "import numpy as np"
   ]
  },
  {
   "cell_type": "markdown",
   "metadata": {
    "colab_type": "text",
    "id": "v3RZSgGLO9iY"
   },
   "source": [
    "## Data loading"
   ]
  },
  {
   "cell_type": "code",
   "execution_count": 2,
   "metadata": {
    "colab": {
     "base_uri": "https://localhost:8080/",
     "height": 36
    },
    "colab_type": "code",
    "id": "fOgFtnl2ZXsx",
    "outputId": "a555b5f9-4bd0-418f-e000-5b61cd2b808a"
   },
   "outputs": [
    {
     "name": "stdout",
     "output_type": "stream",
     "text": [
      "Downloading https://www.cs.toronto.edu/~kriz/cifar-10-python.tar.gz to ./data\\cifar-10-python.tar.gz\n"
     ]
    },
    {
     "data": {
      "application/vnd.jupyter.widget-view+json": {
       "model_id": "3a80a5db317d4b5dbc4a213f92e71264",
       "version_major": 2,
       "version_minor": 0
      },
      "text/plain": [
       "  0%|          | 0/170498071 [00:00<?, ?it/s]"
      ]
     },
     "metadata": {},
     "output_type": "display_data"
    },
    {
     "name": "stdout",
     "output_type": "stream",
     "text": [
      "Extracting ./data\\cifar-10-python.tar.gz to ./data\n"
     ]
    }
   ],
   "source": [
    "import torchvision\n",
    "import torchvision.transforms as transforms\n",
    "trainset = torchvision.datasets.CIFAR10(root='./data', train=True, \n",
    "                                        download=True, \n",
    "                                        transform=transforms.ToTensor())"
   ]
  },
  {
   "cell_type": "code",
   "execution_count": 3,
   "metadata": {
    "colab": {},
    "colab_type": "code",
    "id": "tjT-1-Uba1n-"
   },
   "outputs": [],
   "source": [
    "classes = ('plane', 'car', 'bird', 'cat', 'deer', 'dog', 'frog', 'horse', 'ship', 'truck')"
   ]
  },
  {
   "cell_type": "code",
   "execution_count": 4,
   "metadata": {
    "colab": {},
    "colab_type": "code",
    "id": "dpU3_h-JaFi_"
   },
   "outputs": [],
   "source": [
    "trainloader = torch.utils.data.DataLoader(trainset, batch_size=4, shuffle=True)"
   ]
  },
  {
   "cell_type": "code",
   "execution_count": 26,
   "metadata": {
    "colab": {
     "base_uri": "https://localhost:8080/",
     "height": 74
    },
    "colab_type": "code",
    "id": "TGkggskRaXhz",
    "outputId": "b501d775-a892-40ae-8607-e53fd411e801"
   },
   "outputs": [
    {
     "name": "stdout",
     "output_type": "stream",
     "text": [
      "torch.Size([4, 3, 32, 32])\n",
      "torch.Size([3, 32, 32])\n",
      "7\n"
     ]
    }
   ],
   "source": [
    "dataiter = iter(trainloader)\n",
    "images, labels = dataiter.next()\n",
    "\n",
    "print(images.shape)\n",
    "\n",
    "print(images[1].shape)\n",
    "print(labels[1].item())"
   ]
  },
  {
   "cell_type": "markdown",
   "metadata": {
    "colab_type": "text",
    "id": "bQTsI03XPGId"
   },
   "source": [
    "## Visualise data"
   ]
  },
  {
   "cell_type": "code",
   "execution_count": 80,
   "metadata": {
    "colab": {
     "base_uri": "https://localhost:8080/",
     "height": 36
    },
    "colab_type": "code",
    "id": "RMLgzgf8PtN9",
    "outputId": "c246f85e-c000-4a4c-b588-825d84e089be"
   },
   "outputs": [
    {
     "name": "stdout",
     "output_type": "stream",
     "text": [
      "<class 'torch.Tensor'>\n"
     ]
    }
   ],
   "source": [
    "img = images[0]\n",
    "print(type(img))"
   ]
  },
  {
   "cell_type": "code",
   "execution_count": 81,
   "metadata": {
    "colab": {
     "base_uri": "https://localhost:8080/",
     "height": 36
    },
    "colab_type": "code",
    "id": "mXeB_gG9QIIW",
    "outputId": "6c229a40-0021-42ce-ecb2-3e4e368a1cd5"
   },
   "outputs": [
    {
     "name": "stdout",
     "output_type": "stream",
     "text": [
      "(3, 32, 32)\n"
     ]
    }
   ],
   "source": [
    "npimg = img.numpy()\n",
    "print(npimg.shape)"
   ]
  },
  {
   "cell_type": "code",
   "execution_count": 82,
   "metadata": {
    "colab": {
     "base_uri": "https://localhost:8080/",
     "height": 36
    },
    "colab_type": "code",
    "id": "T7MfJdNAQKmy",
    "outputId": "b5066d55-58db-41d6-eae3-fba9fa82debb"
   },
   "outputs": [
    {
     "name": "stdout",
     "output_type": "stream",
     "text": [
      "(32, 32, 3)\n"
     ]
    }
   ],
   "source": [
    "npimg = np.transpose(npimg, (1, 2, 0))\n",
    "print(npimg.shape)"
   ]
  },
  {
   "cell_type": "code",
   "execution_count": 83,
   "metadata": {
    "colab": {
     "base_uri": "https://localhost:8080/",
     "height": 106
    },
    "colab_type": "code",
    "id": "Xjh0IJNIQS4G",
    "outputId": "364f5451-79be-49c9-9c02-59bb1f13b2b1"
   },
   "outputs": [
    {
     "data": {
      "image/png": "[encoded data removed]",
      "text/plain": [
       "<Figure size 72x72 with 1 Axes>"
      ]
     },
     "metadata": {
      "needs_background": "light"
     },
     "output_type": "display_data"
    }
   ],
   "source": [
    "plt.figure(figsize = (1,1))\n",
    "plt.imshow(npimg)\n",
    "plt.show()"
   ]
  },
  {
   "cell_type": "code",
   "execution_count": 59,
   "metadata": {
    "colab": {},
    "colab_type": "code",
    "id": "ItDj5P3xZrX3"
   },
   "outputs": [],
   "source": [
    "def imshow(img):\n",
    "    npimg = img.numpy()\n",
    "    plt.imshow(np.transpose(npimg, (1, 2, 0)))\n",
    "    plt.show()"
   ]
  },
  {
   "cell_type": "code",
   "execution_count": 60,
   "metadata": {
    "colab": {
     "base_uri": "https://localhost:8080/",
     "height": 158
    },
    "colab_type": "code",
    "id": "vX2OhQjVhFVT",
    "outputId": "47dc44d1-7ff9-45bc-9ddd-2c5ed7932b0c"
   },
   "outputs": [
    {
     "data": {
      "image/png": "[encoded data removed]",
      "text/plain": [
       "<Figure size 432x288 with 1 Axes>"
      ]
     },
     "metadata": {
      "needs_background": "light"
     },
     "output_type": "display_data"
    },
    {
     "name": "stdout",
     "output_type": "stream",
     "text": [
      "ship horse truck horse\n"
     ]
    }
   ],
   "source": [
    "imshow(torchvision.utils.make_grid(images))\n",
    "print(' '.join([classes[labels[j]] for j in range(4)]))"
   ]
  },
  {
   "cell_type": "markdown",
   "metadata": {
    "colab_type": "text",
    "id": "KIP5NFfgQfNo",
    "tags": []
   },
   "source": [
    "## Single Convolutional Layer"
   ]
  },
  {
   "cell_type": "code",
   "execution_count": 69,
   "metadata": {
    "colab": {},
    "colab_type": "code",
    "id": "rehaPwlqaapX"
   },
   "outputs": [],
   "source": [
    "import torch.nn as nn\n",
    "\n",
    "class FirstCNN(nn.Module):\n",
    "    def __init__(self): \n",
    "        super(FirstCNN, self).__init__()\n",
    "        self.conv1 = nn.Conv2d(3, 16, 3, padding=(1,1), stride=(2,2)) # padding=(1,1), stride=(2,2))\n",
    "        \n",
    "    def forward(self, x):\n",
    "        x = self.conv1(x)\n",
    "        return x"
   ]
  },
  {
   "cell_type": "code",
   "execution_count": 71,
   "metadata": {
    "colab": {},
    "colab_type": "code",
    "id": "Gj33mJuCg8w-"
   },
   "outputs": [],
   "source": [
    "net = FirstCNN()"
   ]
  },
  {
   "cell_type": "code",
   "execution_count": 72,
   "metadata": {
    "colab": {
     "base_uri": "https://localhost:8080/",
     "height": 36
    },
    "colab_type": "code",
    "id": "BnAWY2-qg9jR",
    "outputId": "260401da-3351-4610-fe1b-47bb8b4f5022"
   },
   "outputs": [
    {
     "data": {
      "text/plain": [
       "torch.Size([4, 16, 16, 16])"
      ]
     },
     "execution_count": 72,
     "metadata": {},
     "output_type": "execute_result"
    }
   ],
   "source": [
    "out = net(images)\n",
    "out.shape"
   ]
  },
  {
   "cell_type": "code",
   "execution_count": 73,
   "metadata": {
    "colab": {
     "base_uri": "https://localhost:8080/",
     "height": 55
    },
    "colab_type": "code",
    "id": "ynP7midTjfIn",
    "outputId": "be96b3b3-295c-49e2-8a80-b2904cb75b16"
   },
   "outputs": [
    {
     "name": "stdout",
     "output_type": "stream",
     "text": [
      "torch.Size([16, 3, 3, 3])\n",
      "torch.Size([16])\n"
     ]
    }
   ],
   "source": [
    "for param in net.parameters():\n",
    "    print(param.shape)"
   ]
  },
  {
   "cell_type": "code",
   "execution_count": 74,
   "metadata": {
    "colab": {
     "base_uri": "https://localhost:8080/",
     "height": 36
    },
    "colab_type": "code",
    "id": "aBYgoxzEia-D",
    "outputId": "d1cdb49f-52aa-4ee9-f9c9-453070caaa96"
   },
   "outputs": [
    {
     "name": "stdout",
     "output_type": "stream",
     "text": [
      "(16, 16)\n"
     ]
    }
   ],
   "source": [
    "out1 = out[0, 0, :, :].detach().numpy()\n",
    "print(out1.shape)"
   ]
  },
  {
   "cell_type": "code",
   "execution_count": 79,
   "metadata": {
    "colab": {
     "base_uri": "https://localhost:8080/",
     "height": 269
    },
    "colab_type": "code",
    "id": "FG8Mqfw5i7hP",
    "outputId": "fc14783f-1ff2-4967-9bda-fbb4df1bfd66"
   },
   "outputs": [
    {
     "data": {
      "image/png": "[encoded data removed]",
      "text/plain": [
       "<Figure size 432x288 with 1 Axes>"
      ]
     },
     "metadata": {
      "needs_background": "light"
     },
     "output_type": "display_data"
    }
   ],
   "source": [
    "plt.imshow(out[0, 0, :, :].detach().numpy())\n",
    "plt.show()"
   ]
  },
  {
   "cell_type": "markdown",
   "metadata": {
    "colab_type": "text",
    "id": "Y6nSsRqRQ3sJ"
   },
   "source": [
    "## Deep Convolutional Network"
   ]
  },
  {
   "cell_type": "code",
   "execution_count": 84,
   "metadata": {
    "colab": {},
    "colab_type": "code",
    "id": "YtwIDsUUjH9h"
   },
   "outputs": [],
   "source": [
    "class FirstCNN_v2(nn.Module):\n",
    "    def __init__(self): \n",
    "        super(FirstCNN_v2, self).__init__()\n",
    "        self.model = nn.Sequential(\n",
    "            nn.Conv2d(3, 8, 3),   # (N, 3, 32, 32) -> (N, 8, 30, 30)\n",
    "            nn.Conv2d(8, 16, 3)   # (N, 8, 30, 30) -> (N, 16, 28, 28)\n",
    "        )\n",
    "        \n",
    "    def forward(self, x):\n",
    "        x = self.model(x)\n",
    "        return x"
   ]
  },
  {
   "cell_type": "code",
   "execution_count": 85,
   "metadata": {
    "colab": {
     "base_uri": "https://localhost:8080/",
     "height": 36
    },
    "colab_type": "code",
    "id": "1TlJtTMoliU3",
    "outputId": "124279cf-c3fa-4d26-8f8c-290f5c562fda"
   },
   "outputs": [
    {
     "data": {
      "text/plain": [
       "torch.Size([4, 16, 28, 28])"
      ]
     },
     "execution_count": 85,
     "metadata": {},
     "output_type": "execute_result"
    }
   ],
   "source": [
    "net = FirstCNN_v2()\n",
    "out = net(images)\n",
    "out.shape"
   ]
  },
  {
   "cell_type": "code",
   "execution_count": 86,
   "metadata": {
    "colab": {
     "base_uri": "https://localhost:8080/",
     "height": 288
    },
    "colab_type": "code",
    "id": "jpPuOr1TlilH",
    "outputId": "f0bb1601-8a3a-492d-e69c-377ef5841f16"
   },
   "outputs": [
    {
     "data": {
      "text/plain": [
       "<matplotlib.image.AxesImage at 0x1b5cf43f0a0>"
      ]
     },
     "execution_count": 86,
     "metadata": {},
     "output_type": "execute_result"
    },
    {
     "data": {
      "image/png": "[encoded data removed]",
      "text/plain": [
       "<Figure size 432x288 with 1 Axes>"
      ]
     },
     "metadata": {
      "needs_background": "light"
     },
     "output_type": "display_data"
    }
   ],
   "source": [
    "plt.imshow(out[0, 0, :, :].detach().numpy())"
   ]
  },
  {
   "cell_type": "code",
   "execution_count": 90,
   "metadata": {
    "colab": {},
    "colab_type": "code",
    "id": "5GnYimnTmFyi"
   },
   "outputs": [],
   "source": [
    "class FirstCNN_v3(nn.Module):\n",
    "    def __init__(self): \n",
    "        super(FirstCNN_v3, self).__init__()\n",
    "        self.model = nn.Sequential(\n",
    "            nn.Conv2d(3, 6, 5),          # (N, 3, 32, 32) -> (N, 6, 28, 28)\n",
    "            nn.AvgPool2d(2, stride=2),   # (N, 6, 28, 28) -> (N, 6, 14, 14)\n",
    "            nn.Conv2d(6, 16, 5),         # (N, 6, 14, 14) -> (N, 16, 10, 10)\n",
    "            nn.AvgPool2d(2, stride=2)    # (N, 16, 10, 10) -> (N, 16, 5, 5)\n",
    "        )\n",
    "        \n",
    "    def forward(self, x):\n",
    "        x = self.model(x)\n",
    "        return x"
   ]
  },
  {
   "cell_type": "code",
   "execution_count": 91,
   "metadata": {
    "colab": {
     "base_uri": "https://localhost:8080/",
     "height": 36
    },
    "colab_type": "code",
    "id": "ldq1anrdmwox",
    "outputId": "c2634082-bbdf-493c-a74a-2d994d53d232"
   },
   "outputs": [
    {
     "data": {
      "text/plain": [
       "torch.Size([4, 16, 5, 5])"
      ]
     },
     "execution_count": 91,
     "metadata": {},
     "output_type": "execute_result"
    }
   ],
   "source": [
    "net = FirstCNN_v3()\n",
    "out = net(images)\n",
    "out.shape"
   ]
  },
  {
   "cell_type": "code",
   "execution_count": 93,
   "metadata": {
    "colab": {
     "base_uri": "https://localhost:8080/",
     "height": 288
    },
    "colab_type": "code",
    "id": "tOnUd7TyVunB",
    "outputId": "56a3491e-2e01-462f-f204-a67c0b425e48"
   },
   "outputs": [
    {
     "data": {
      "text/plain": [
       "<matplotlib.image.AxesImage at 0x1b5cf5aa7c0>"
      ]
     },
     "execution_count": 93,
     "metadata": {},
     "output_type": "execute_result"
    },
    {
     "data": {
      "image/png": "[encoded data removed]",
      "text/plain": [
       "<Figure size 432x288 with 1 Axes>"
      ]
     },
     "metadata": {
      "needs_background": "light"
     },
     "output_type": "display_data"
    }
   ],
   "source": [
    "plt.imshow(out[0, 0, :, :].detach().numpy())"
   ]
  },
  {
   "cell_type": "markdown",
   "metadata": {
    "colab_type": "text",
    "id": "vymNQCrDQ7dM"
   },
   "source": [
    "## LeNet"
   ]
  },
  {
   "cell_type": "code",
   "execution_count": 105,
   "metadata": {
    "colab": {},
    "colab_type": "code",
    "id": "npS8lRGT15bx"
   },
   "outputs": [],
   "source": [
    "class LeNet(nn.Module):\n",
    "    def __init__(self): \n",
    "        super(LeNet, self).__init__()\n",
    "        self.cnn_model = nn.Sequential(\n",
    "            nn.Conv2d(3, 6, 5),         # (N, 3, 32, 32) -> (N,  6, 28, 28)\n",
    "            nn.Tanh(),\n",
    "            nn.AvgPool2d(2, stride=2),  # (N, 6, 28, 28) -> (N,  6, 14, 14)\n",
    "            nn.Conv2d(6, 16, 5),        # (N, 6, 14, 14) -> (N, 16, 10, 10)  \n",
    "            nn.Tanh(),\n",
    "            nn.AvgPool2d(2, stride=2)   # (N,16, 10, 10) -> (N, 16, 5, 5)\n",
    "        )\n",
    "        self.fc_model = nn.Sequential(\n",
    "            nn.Linear(400,120),         # (N, 400) -> (N, 120)\n",
    "            nn.Tanh(),\n",
    "            nn.Linear(120,84),          # (N, 120) -> (N, 84)\n",
    "            nn.Tanh(),\n",
    "            nn.Linear(84,10)            # (N, 84)  -> (N, 10)\n",
    "        )\n",
    "        \n",
    "    def forward(self, x):\n",
    "        print(x.shape)\n",
    "        x = self.cnn_model(x)\n",
    "        print(x.shape)\n",
    "        x = x.view(x.size(0), -1)\n",
    "        print(x.shape)\n",
    "        x = self.fc_model(x)\n",
    "        print(x.shape)\n",
    "        return x"
   ]
  },
  {
   "cell_type": "code",
   "execution_count": 106,
   "metadata": {
    "colab": {
     "base_uri": "https://localhost:8080/",
     "height": 94
    },
    "colab_type": "code",
    "id": "hruUII0sRIO4",
    "outputId": "aacea47a-e755-4925-d83e-0c0b612f9b71"
   },
   "outputs": [
    {
     "name": "stdout",
     "output_type": "stream",
     "text": [
      "torch.Size([4, 3, 32, 32])\n",
      "torch.Size([4, 16, 5, 5])\n",
      "torch.Size([4, 400])\n",
      "torch.Size([4, 10])\n"
     ]
    }
   ],
   "source": [
    "net = LeNet()\n",
    "out = net(images)"
   ]
  },
  {
   "cell_type": "code",
   "execution_count": 110,
   "metadata": {
    "colab": {
     "base_uri": "https://localhost:8080/",
     "height": 170
    },
    "colab_type": "code",
    "id": "2E66qlEzRapT",
    "outputId": "f4feaba8-e2cf-422a-d724-e51702a2dd87"
   },
   "outputs": [
    {
     "name": "stdout",
     "output_type": "stream",
     "text": [
      "tensor([[-0.0183, -0.0366,  0.0648, -0.0625, -0.0698,  0.0072,  0.0414, -0.0661,\n",
      "          0.0599, -0.0728],\n",
      "        [-0.0126, -0.0318,  0.0570, -0.0271, -0.0639,  0.0135,  0.0478, -0.0636,\n",
      "          0.0670, -0.0822],\n",
      "        [-0.0208, -0.0295,  0.0681, -0.0354, -0.0955,  0.0038,  0.0311, -0.0710,\n",
      "          0.0625, -0.0492],\n",
      "        [-0.0284, -0.0295,  0.0578, -0.0191, -0.0628,  0.0136,  0.0447, -0.0588,\n",
      "          0.0767, -0.0519]], grad_fn=<AddmmBackward0>)\n"
     ]
    }
   ],
   "source": [
    "print(out)"
   ]
  },
  {
   "cell_type": "code",
   "execution_count": 114,
   "metadata": {
    "colab": {
     "base_uri": "https://localhost:8080/",
     "height": 36
    },
    "colab_type": "code",
    "id": "ZiYvD0l7Rhma",
    "outputId": "3c85ab12-4c6a-48c3-a30f-2ea0e025e259"
   },
   "outputs": [
    {
     "name": "stdout",
     "output_type": "stream",
     "text": [
      "tensor([2, 8, 2, 8])\n"
     ]
    }
   ],
   "source": [
    "max_values, pred_class = torch.max(out.data, 1)\n",
    "print(pred_class)"
   ]
  },
  {
   "cell_type": "markdown",
   "metadata": {
    "colab_type": "text",
    "id": "lOQGdybZRQqk"
   },
   "source": [
    "## Training LeNet"
   ]
  },
  {
   "cell_type": "code",
   "execution_count": 115,
   "metadata": {
    "colab": {},
    "colab_type": "code",
    "id": "ylTZodUuV1eb"
   },
   "outputs": [],
   "source": [
    "class LeNet(nn.Module):\n",
    "    def __init__(self): \n",
    "        super(LeNet, self).__init__()\n",
    "        self.cnn_model = nn.Sequential(\n",
    "            nn.Conv2d(3, 6, 5),         # (N, 3, 32, 32) -> (N,  6, 28, 28)\n",
    "            nn.Tanh(),\n",
    "            nn.AvgPool2d(2, stride=2),  # (N, 6, 28, 28) -> (N,  6, 14, 14)\n",
    "            nn.Conv2d(6, 16, 5),        # (N, 6, 14, 14) -> (N, 16, 10, 10)  \n",
    "            nn.Tanh(),\n",
    "            nn.AvgPool2d(2, stride=2)   # (N,16, 10, 10) -> (N, 16, 5, 5)\n",
    "        )\n",
    "        self.fc_model = nn.Sequential(\n",
    "            nn.Linear(400,120),         # (N, 400) -> (N, 120)\n",
    "            nn.Tanh(),\n",
    "            nn.Linear(120,84),          # (N, 120) -> (N, 84)\n",
    "            nn.Tanh(),\n",
    "            nn.Linear(84,10)            # (N, 84)  -> (N, 10)\n",
    "        )\n",
    "        \n",
    "    def forward(self, x):\n",
    "        x = self.cnn_model(x)\n",
    "        x = x.view(x.size(0), -1)\n",
    "        x = self.fc_model(x)\n",
    "        return x"
   ]
  },
  {
   "cell_type": "code",
   "execution_count": 116,
   "metadata": {
    "colab": {
     "base_uri": "https://localhost:8080/",
     "height": 55
    },
    "colab_type": "code",
    "id": "GOWc4kya8UDC",
    "outputId": "294bcf73-47a0-4492-d4b7-36125d991218"
   },
   "outputs": [
    {
     "name": "stdout",
     "output_type": "stream",
     "text": [
      "Files already downloaded and verified\n",
      "Files already downloaded and verified\n"
     ]
    }
   ],
   "source": [
    "batch_size = 128\n",
    "trainset = torchvision.datasets.CIFAR10(root='./data', train=True, download=True, transform=transforms.ToTensor())\n",
    "trainloader = torch.utils.data.DataLoader(trainset, batch_size=batch_size, shuffle=True)\n",
    "testset = torchvision.datasets.CIFAR10(root='./data', train=False, download=True, transform=transforms.ToTensor())\n",
    "testloader = torch.utils.data.DataLoader(testset, batch_size=batch_size, shuffle=False)"
   ]
  },
  {
   "cell_type": "code",
   "execution_count": 117,
   "metadata": {
    "colab": {},
    "colab_type": "code",
    "id": "x9ehrnaHHZoj"
   },
   "outputs": [],
   "source": [
    "def evaluation(dataloader):\n",
    "    total, correct = 0, 0\n",
    "    for data in dataloader:\n",
    "        inputs, labels = data\n",
    "        outputs = net(inputs)\n",
    "        _, pred = torch.max(outputs.data, 1)\n",
    "        total += labels.size(0)\n",
    "        correct += (pred == labels).sum().item()\n",
    "    return 100 * correct / total"
   ]
  },
  {
   "cell_type": "code",
   "execution_count": 118,
   "metadata": {
    "colab": {},
    "colab_type": "code",
    "id": "3pYTvSvD2TwM"
   },
   "outputs": [],
   "source": [
    "net = LeNet()"
   ]
  },
  {
   "cell_type": "code",
   "execution_count": 119,
   "metadata": {
    "colab": {},
    "colab_type": "code",
    "id": "2T6Wzz7J2xq3"
   },
   "outputs": [],
   "source": [
    "import torch.optim as optim\n",
    "\n",
    "loss_fn = nn.CrossEntropyLoss()\n",
    "opt = optim.Adam(net.parameters())"
   ]
  },
  {
   "cell_type": "code",
   "execution_count": 120,
   "metadata": {
    "colab": {
     "base_uri": "https://localhost:8080/",
     "height": 613
    },
    "colab_type": "code",
    "id": "a0LnxsXi6Cgt",
    "outputId": "3fa30730-bdfa-4af6-825d-bdf84d31955d",
    "tags": []
   },
   "outputs": [
    {
     "name": "stdout",
     "output_type": "stream",
     "text": [
      "Epoch: 0/16, Test acc: 37.47, Train acc: 37.32\n",
      "Epoch: 1/16, Test acc: 43.11, Train acc: 43.74\n",
      "Epoch: 2/16, Test acc: 45.87, Train acc: 47.13\n",
      "Epoch: 3/16, Test acc: 49.00, Train acc: 50.80\n",
      "Epoch: 4/16, Test acc: 50.31, Train acc: 52.43\n",
      "Epoch: 5/16, Test acc: 52.10, Train acc: 55.03\n",
      "Epoch: 6/16, Test acc: 53.08, Train acc: 56.62\n",
      "Epoch: 7/16, Test acc: 53.28, Train acc: 57.67\n",
      "Epoch: 8/16, Test acc: 54.07, Train acc: 58.70\n",
      "Epoch: 9/16, Test acc: 54.90, Train acc: 60.71\n",
      "Epoch: 10/16, Test acc: 54.48, Train acc: 61.12\n",
      "Epoch: 11/16, Test acc: 55.11, Train acc: 62.60\n",
      "Epoch: 12/16, Test acc: 55.66, Train acc: 63.27\n",
      "Epoch: 13/16, Test acc: 55.64, Train acc: 63.99\n",
      "Epoch: 14/16, Test acc: 55.54, Train acc: 64.72\n",
      "Epoch: 15/16, Test acc: 56.41, Train acc: 65.97\n"
     ]
    },
    {
     "data": {
      "image/png": "[encoded data removed]",
      "text/plain": [
       "<Figure size 432x288 with 1 Axes>"
      ]
     },
     "metadata": {
      "needs_background": "light"
     },
     "output_type": "display_data"
    },
    {
     "name": "stdout",
     "output_type": "stream",
     "text": [
      "Wall time: 12min 13s\n"
     ]
    }
   ],
   "source": [
    "%%time\n",
    "loss_arr = []\n",
    "loss_epoch_arr = []\n",
    "max_epochs = 16\n",
    "\n",
    "for epoch in range(max_epochs):\n",
    "\n",
    "    for i, data in enumerate(trainloader, 0):\n",
    "\n",
    "        inputs, labels = data\n",
    "\n",
    "        opt.zero_grad()\n",
    "\n",
    "        outputs = net(inputs)\n",
    "        loss = loss_fn(outputs, labels)\n",
    "        loss.backward()\n",
    "        opt.step()\n",
    "        \n",
    "        loss_arr.append(loss.item())\n",
    "        \n",
    "    loss_epoch_arr.append(loss.item())\n",
    "        \n",
    "    print('Epoch: %d/%d, Test acc: %0.2f, Train acc: %0.2f' % (epoch, max_epochs, evaluation(testloader), evaluation(trainloader)))\n",
    "    \n",
    "    \n",
    "plt.plot(loss_epoch_arr)\n",
    "plt.show()"
   ]
  },
  {
   "cell_type": "markdown",
   "metadata": {
    "colab_type": "text",
    "id": "ECHeB_BUTHl5",
    "jp-MarkdownHeadingCollapsed": true,
    "tags": []
   },
   "source": [
    "## Move to GPU"
   ]
  },
  {
   "cell_type": "code",
   "execution_count": 67,
   "metadata": {
    "colab": {
     "base_uri": "https://localhost:8080/",
     "height": 36
    },
    "colab_type": "code",
    "id": "Mj0-Y6zJTJ5z",
    "outputId": "eaefec94-b413-44f5-e500-e821e39d8299"
   },
   "outputs": [
    {
     "name": "stdout",
     "output_type": "stream",
     "text": [
      "cuda:0\n"
     ]
    }
   ],
   "source": [
    "device = torch.device(\"cuda:0\" if torch.cuda.is_available() else \"cpu\")\n",
    "print(device)"
   ]
  },
  {
   "cell_type": "code",
   "execution_count": null,
   "metadata": {
    "colab": {},
    "colab_type": "code",
    "id": "n4fHbz2fTNpR"
   },
   "outputs": [],
   "source": [
    "def evaluation(dataloader):\n",
    "    total, correct = 0, 0\n",
    "    for data in dataloader:\n",
    "        inputs, labels = data\n",
    "        inputs, labels = inputs.to(device), labels.to(device)\n",
    "        outputs = net(inputs)\n",
    "        _, pred = torch.max(outputs.data, 1)\n",
    "        total += labels.size(0)\n",
    "        correct += (pred == labels).sum().item()\n",
    "    return 100 * correct / total"
   ]
  },
  {
   "cell_type": "code",
   "execution_count": null,
   "metadata": {
    "colab": {},
    "colab_type": "code",
    "id": "mnxecsfVTQH-"
   },
   "outputs": [],
   "source": [
    "net = LeNet().to(device)\n",
    "loss_fn = nn.CrossEntropyLoss()\n",
    "opt = optim.Adam(net.parameters())"
   ]
  },
  {
   "cell_type": "code",
   "execution_count": 70,
   "metadata": {
    "colab": {
     "base_uri": "https://localhost:8080/",
     "height": 361
    },
    "colab_type": "code",
    "id": "i9t3Js-XTWkf",
    "outputId": "403d0f72-f6fb-4179-8831-75cfeccbf8f4"
   },
   "outputs": [
    {
     "name": "stdout",
     "output_type": "stream",
     "text": [
      "Epoch: 0/16\n",
      "Epoch: 1/16\n",
      "Epoch: 2/16\n",
      "Epoch: 3/16\n",
      "Epoch: 4/16\n",
      "Epoch: 5/16\n",
      "Epoch: 6/16\n",
      "Epoch: 7/16\n",
      "Epoch: 8/16\n",
      "Epoch: 9/16\n",
      "Epoch: 10/16\n",
      "Epoch: 11/16\n",
      "Epoch: 12/16\n",
      "Epoch: 13/16\n",
      "Epoch: 14/16\n",
      "Epoch: 15/16\n",
      "CPU times: user 1min 37s, sys: 1.97 s, total: 1min 38s\n",
      "Wall time: 1min 39s\n"
     ]
    }
   ],
   "source": [
    "%%time\n",
    "max_epochs = 16\n",
    "\n",
    "for epoch in range(max_epochs):\n",
    "\n",
    "    for i, data in enumerate(trainloader, 0):\n",
    "\n",
    "        inputs, labels = data\n",
    "        inputs, labels = inputs.to(device), labels.to(device)\n",
    "\n",
    "        opt.zero_grad()\n",
    "\n",
    "        outputs = net(inputs)\n",
    "        loss = loss_fn(outputs, labels)\n",
    "        loss.backward()\n",
    "        opt.step()\n",
    "        \n",
    "    print('Epoch: %d/%d' % (epoch, max_epochs))"
   ]
  },
  {
   "cell_type": "code",
   "execution_count": 104,
   "metadata": {
    "colab": {
     "base_uri": "https://localhost:8080/",
     "height": 36
    },
    "colab_type": "code",
    "id": "1mao_iiQZVlE",
    "outputId": "5b557db9-fdd7-4da6-ecd2-2baa1040993c"
   },
   "outputs": [
    {
     "name": "stdout",
     "output_type": "stream",
     "text": [
      "Test acc: 56.11, Train acc: 63.25\n"
     ]
    }
   ],
   "source": [
    "print('Test acc: %0.2f, Train acc: %0.2f' % (evaluation(testloader), evaluation(trainloader)))"
   ]
  },
  {
   "cell_type": "markdown",
   "metadata": {
    "colab_type": "text",
    "id": "Fq5T-KsjTEUQ",
    "tags": []
   },
   "source": [
    "## Basic Visualisation"
   ]
  },
  {
   "cell_type": "code",
   "execution_count": 131,
   "metadata": {
    "colab": {
     "base_uri": "https://localhost:8080/",
     "height": 139
    },
    "colab_type": "code",
    "id": "LWfeXhrzSFSc",
    "outputId": "b333a769-3e5e-4749-937b-827cc73433d2"
   },
   "outputs": [
    {
     "data": {
      "image/png": "[encoded data removed]",
      "text/plain": [
       "<Figure size 432x288 with 1 Axes>"
      ]
     },
     "metadata": {
      "needs_background": "light"
     },
     "output_type": "display_data"
    }
   ],
   "source": [
    "imshow(torchvision.utils.make_grid(images))"
   ]
  },
  {
   "cell_type": "code",
   "execution_count": 128,
   "metadata": {
    "colab": {},
    "colab_type": "code",
    "id": "DiorUKc-LnWx"
   },
   "outputs": [],
   "source": [
    "net = net.to('cpu')"
   ]
  },
  {
   "cell_type": "code",
   "execution_count": 132,
   "metadata": {
    "colab": {
     "base_uri": "https://localhost:8080/",
     "height": 36
    },
    "colab_type": "code",
    "id": "luNsBRCAKQC_",
    "outputId": "3c9d1a33-3035-48ce-fe56-f3c8063a3055"
   },
   "outputs": [
    {
     "name": "stdout",
     "output_type": "stream",
     "text": [
      "torch.Size([128, 10])\n"
     ]
    }
   ],
   "source": [
    "out = net(images)\n",
    "print(out.shape)"
   ]
  },
  {
   "cell_type": "code",
   "execution_count": 133,
   "metadata": {
    "colab": {
     "base_uri": "https://localhost:8080/",
     "height": 36
    },
    "colab_type": "code",
    "id": "-38nfaIUKSeF",
    "outputId": "53c818dc-8e60-4194-8d17-76de22ff1fb2"
   },
   "outputs": [
    {
     "data": {
      "text/plain": [
       "torch.Size([128, 6, 28, 28])"
      ]
     },
     "execution_count": 133,
     "metadata": {},
     "output_type": "execute_result"
    }
   ],
   "source": [
    "out = net.cnn_model[0](images)\n",
    "out.shape"
   ]
  },
  {
   "cell_type": "code",
   "execution_count": 137,
   "metadata": {
    "colab": {
     "base_uri": "https://localhost:8080/",
     "height": 160
    },
    "colab_type": "code",
    "id": "Gqj4_qG1KYcO",
    "outputId": "84163ad5-5c14-4752-d00e-89c6ffaefbaa"
   },
   "outputs": [
    {
     "data": {
      "image/png": "[encoded data removed]",
      "text/plain": [
       "<Figure size 144x144 with 1 Axes>"
      ]
     },
     "metadata": {
      "needs_background": "light"
     },
     "output_type": "display_data"
    }
   ],
   "source": [
    "image_id = 3\n",
    "plt.figure(figsize = (2,2))\n",
    "imshow(images[image_id,])"
   ]
  },
  {
   "cell_type": "code",
   "execution_count": 145,
   "metadata": {
    "colab": {
     "base_uri": "https://localhost:8080/",
     "height": 455
    },
    "colab_type": "code",
    "id": "19iXHHLitP2D",
    "outputId": "e8de9ff0-2792-4d43-ec42-9fedac2692b3"
   },
   "outputs": [
    {
     "data": {
      "image/png": "[encoded data removed]",
      "text/plain": [
       "<Figure size 432x432 with 6 Axes>"
      ]
     },
     "metadata": {
      "needs_background": "light"
     },
     "output_type": "display_data"
    }
   ],
   "source": [
    "plt.figure(figsize = (6,6))\n",
    "plt.subplot(321)\n",
    "for i in range(6):\n",
    "    ax1 = plt.subplot(3, 2, i+1)\n",
    "    plt.imshow(out[image_id, i, :, :].detach().numpy(), cmap=\"binary\")\n",
    "plt.show()"
   ]
  },
  {
   "cell_type": "markdown",
   "metadata": {
    "colab_type": "text",
    "id": "eARYa3OZexaC"
   },
   "source": [
    "## Exercises\n",
    "\n",
    "* Modify LeNet to work with ReLU instead of Tanh -> What is the impact on training time, final loss\n",
    "* We have observed over-fitting -> Use weight_decay in torch.optim to add L2 regularisation\n",
    "* Instead of CIFAR10, use the MNIST data available from `torchvision.datasets.MNIST`. Download and visualise MNIST data.\n",
    "* But importantly MNIST images have only 1 channel instead of 3 channels in the case of CIFAR10. Modify LeNet to work with MNIST. Train and find optimised test accuracy."
   ]
  },
  {
   "cell_type": "code",
   "execution_count": 260,
   "metadata": {},
   "outputs": [],
   "source": [
    "import numpy as np\n",
    "\n",
    "import torch\n",
    "import torch.nn as nn\n",
    "import torchvision"
   ]
  },
  {
   "cell_type": "code",
   "execution_count": 261,
   "metadata": {
    "tags": []
   },
   "outputs": [],
   "source": [
    "train = torchvision.datasets.MNIST(root = './MNIST/', train = True, download = True, transform = torchvision.transforms.ToTensor())\n",
    "test = torchvision.datasets.MNIST(root = './MNIST/', train = False, download = True, transform = torchvision.transforms.ToTensor())"
   ]
  },
  {
   "cell_type": "code",
   "execution_count": 262,
   "metadata": {},
   "outputs": [],
   "source": [
    "trainloader = torch.utils.data.DataLoader(train, batch_size=128, shuffle=True)\n",
    "testloader = torch.utils.data.DataLoader(test, batch_size=128)"
   ]
  },
  {
   "cell_type": "code",
   "execution_count": 263,
   "metadata": {},
   "outputs": [
    {
     "name": "stdout",
     "output_type": "stream",
     "text": [
      "torch.Size([128, 1, 28, 28])\n",
      "torch.Size([1, 28, 28])\n",
      "tensor([8, 5, 5, 1, 1, 3, 5, 3, 3, 7, 5, 0, 3, 0, 4, 5, 1, 4, 3, 9, 9, 9, 8, 1,\n",
      "        3, 0, 9, 0, 2, 9, 0, 0, 4, 6, 5, 6, 5, 4, 3, 3, 0, 1, 8, 9, 6, 2, 3, 8,\n",
      "        7, 8, 9, 5, 3, 8, 7, 8, 9, 8, 9, 1, 4, 3, 9, 6, 4, 4, 7, 2, 0, 0, 7, 1,\n",
      "        5, 4, 3, 6, 6, 4, 9, 0, 5, 5, 4, 4, 0, 9, 6, 1, 5, 5, 0, 9, 3, 8, 1, 6,\n",
      "        6, 5, 3, 8, 0, 3, 0, 1, 7, 7, 1, 1, 5, 7, 2, 4, 7, 2, 0, 0, 4, 4, 5, 3,\n",
      "        8, 3, 4, 8, 9, 9, 9, 1])\n"
     ]
    }
   ],
   "source": [
    "dataiter = iter(trainloader)\n",
    "images, labels = dataiter.next()\n",
    "\n",
    "print(images.shape)\n",
    "\n",
    "print(images[1].shape)\n",
    "print(labels)"
   ]
  },
  {
   "cell_type": "code",
   "execution_count": 264,
   "metadata": {},
   "outputs": [],
   "source": [
    "def imshow(img):\n",
    "    plt.imshow(np.transpose(img.numpy(),(1,2,0)),cmap='binary')"
   ]
  },
  {
   "cell_type": "code",
   "execution_count": 268,
   "metadata": {},
   "outputs": [
    {
     "data": {
      "image/png": "[encoded data removed]",
      "text/plain": [
       "<Figure size 432x288 with 1 Axes>"
      ]
     },
     "metadata": {
      "needs_background": "light"
     },
     "output_type": "display_data"
    }
   ],
   "source": [
    "imshow(images[0])"
   ]
  },
  {
   "cell_type": "code",
   "execution_count": 269,
   "metadata": {},
   "outputs": [],
   "source": [
    "def evaluation(dataloader):\n",
    "    total, correct = 0, 0\n",
    "    for data in dataloader:\n",
    "        inputs, labels = data\n",
    "        outputs = net(inputs)\n",
    "        _, pred = torch.max(outputs.data, 1)\n",
    "        total += labels.size(0)\n",
    "        correct += (pred == labels).sum().item()\n",
    "    return 100 * correct / total"
   ]
  },
  {
   "cell_type": "code",
   "execution_count": 273,
   "metadata": {},
   "outputs": [],
   "source": [
    "class LeNet(nn.Module):\n",
    "    def __init__(self): \n",
    "        super(LeNet, self).__init__()\n",
    "        self.cnn_model = nn.Sequential(\n",
    "            nn.Conv2d(1, 6, 5),         # (N, 1, 28, 28) -> (N,  6, 24, 24)\n",
    "            nn.LeakyReLU(),\n",
    "            nn.AvgPool2d(2, stride=2),  # (N, 6, 24, 24) -> (N,  6, 12, 12)\n",
    "            nn.Conv2d(6, 16, 5),        # (N, 6, 12, 12) -> (N, 16, 8, 8)  \n",
    "            nn.LeakyReLU(),\n",
    "            nn.AvgPool2d(2, stride=2)   # (N,16, 8, 8) -> (N, 16, 4, 4)\n",
    "        )\n",
    "        self.fc_model = nn.Sequential(\n",
    "            nn.Linear(256,120),         # (N, 256) -> (N, 120)\n",
    "            nn.LeakyReLU(),\n",
    "            nn.Linear(120,84),          # (N, 120) -> (N, 84)\n",
    "            nn.LeakyReLU(),\n",
    "            nn.Linear(84,10)            # (N, 84)  -> (N, 10)\n",
    "        )\n",
    "        \n",
    "    def forward(self, x):\n",
    "        x = self.cnn_model(x)\n",
    "        x = x.view(x.size(0), -1)\n",
    "        x = self.fc_model(x)\n",
    "        return x"
   ]
  },
  {
   "cell_type": "code",
   "execution_count": 274,
   "metadata": {
    "tags": []
   },
   "outputs": [
    {
     "name": "stdout",
     "output_type": "stream",
     "text": [
      "Epoch: 0/16, Test acc: 94.6, Train acc: 94.355\n",
      "Epoch: 1/16, Test acc: 97.29, Train acc: 97.26833333333333\n",
      "Epoch: 2/16, Test acc: 97.98, Train acc: 98.06333333333333\n",
      "Epoch: 3/16, Test acc: 98.09, Train acc: 98.30833333333334\n",
      "Epoch: 4/16, Test acc: 98.09, Train acc: 98.43666666666667\n",
      "Epoch: 5/16, Test acc: 98.57, Train acc: 98.84\n",
      "Epoch: 6/16, Test acc: 98.69, Train acc: 98.99666666666667\n",
      "Epoch: 7/16, Test acc: 98.71, Train acc: 99.135\n",
      "Epoch: 8/16, Test acc: 98.65, Train acc: 99.025\n",
      "Epoch: 9/16, Test acc: 98.56, Train acc: 99.285\n",
      "Epoch: 10/16, Test acc: 98.84, Train acc: 99.32833333333333\n",
      "Epoch: 11/16, Test acc: 98.72, Train acc: 99.445\n",
      "Epoch: 12/16, Test acc: 98.78, Train acc: 99.435\n",
      "Epoch: 13/16, Test acc: 98.9, Train acc: 99.45\n",
      "Epoch: 14/16, Test acc: 98.75, Train acc: 99.4\n",
      "Epoch: 15/16, Test acc: 98.83, Train acc: 99.60333333333334\n"
     ]
    },
    {
     "data": {
      "image/png": "[encoded data removed]",
      "text/plain": [
       "<Figure size 432x288 with 1 Axes>"
      ]
     },
     "metadata": {
      "needs_background": "light"
     },
     "output_type": "display_data"
    },
    {
     "name": "stdout",
     "output_type": "stream",
     "text": [
      "Wall time: 7min 56s\n"
     ]
    }
   ],
   "source": [
    "%%time\n",
    "net = LeNet()\n",
    "loss_fn = nn.CrossEntropyLoss()\n",
    "opt = torch.optim.Adam(net.parameters())\n",
    "loss_arr = []\n",
    "loss_epoch_arr = []\n",
    "max_epochs = 16\n",
    "\n",
    "for epoch in range(max_epochs):\n",
    "    \n",
    "    for i,data in enumerate(trainloader,0):\n",
    "        inputs, labels = data\n",
    "        \n",
    "        opt.zero_grad()\n",
    "        \n",
    "        outputs = net(inputs)\n",
    "        loss = loss_fn(outputs, labels)\n",
    "        loss.backward()\n",
    "        opt.step()\n",
    "        \n",
    "        loss_arr.append(loss.item())\n",
    "    loss_epoch_arr.append(loss.item())\n",
    "    \n",
    "    print(f'Epoch: {epoch}/{max_epochs}, Test acc: {evaluation(testloader)}, Train acc: {evaluation(trainloader)}')\n",
    "    \n",
    "plt.plot(loss_epoch_arr)\n",
    "plt.show()"
   ]
  },
  {
   "cell_type": "code",
   "execution_count": 278,
   "metadata": {},
   "outputs": [
    {
     "name": "stdout",
     "output_type": "stream",
     "text": [
      "torch.Size([128, 1, 28, 28])\n",
      "torch.Size([1, 28, 28])\n",
      "tensor([7, 2, 1, 0, 4, 1, 4, 9, 5, 9, 0, 6, 9, 0, 1, 5, 9, 7, 3, 4, 9, 6, 6, 5,\n",
      "        4, 0, 7, 4, 0, 1, 3, 1, 3, 4, 7, 2, 7, 1, 2, 1, 1, 7, 4, 2, 3, 5, 1, 2,\n",
      "        4, 4, 6, 3, 5, 5, 6, 0, 4, 1, 9, 5, 7, 8, 9, 3, 7, 4, 6, 4, 3, 0, 7, 0,\n",
      "        2, 9, 1, 7, 3, 2, 9, 7, 7, 6, 2, 7, 8, 4, 7, 3, 6, 1, 3, 6, 9, 3, 1, 4,\n",
      "        1, 7, 6, 9, 6, 0, 5, 4, 9, 9, 2, 1, 9, 4, 8, 7, 3, 9, 7, 4, 4, 4, 9, 2,\n",
      "        5, 4, 7, 6, 7, 9, 0, 5])\n"
     ]
    }
   ],
   "source": [
    "dataiter = iter(testloader)\n",
    "images, labels = dataiter.next()\n",
    "\n",
    "print(images.shape)\n",
    "\n",
    "print(images[1].shape)\n",
    "print(labels)"
   ]
  }
 ],
 "metadata": {
  "accelerator": "GPU",
  "colab": {
   "collapsed_sections": [],
   "name": "0427_PyTorchCNN.ipynb",
   "provenance": [],
   "version": "0.3.2"
  },
  "kernelspec": {
   "display_name": "Python 3 (ipykernel)",
   "language": "python",
   "name": "python3"
  },
  "language_info": {
   "codemirror_mode": {
    "name": "ipython",
    "version": 3
   },
   "file_extension": ".py",
   "mimetype": "text/x-python",
   "name": "python",
   "nbconvert_exporter": "python",
   "pygments_lexer": "ipython3",
   "version": "3.8.12"
  }
 },
 "nbformat": 4,
 "nbformat_minor": 4
}
