{
 "cells": [
  {
   "cell_type": "markdown",
   "metadata": {
    "colab_type": "text",
    "id": "5pSmvozkb8R5"
   },
   "source": [
    "#Exercise 1 <br>\n",
    "**Attempt any 3 questions**"
   ]
  },
  {
   "cell_type": "markdown",
   "metadata": {
    "colab_type": "text",
    "id": "7O_5OQI7b6ST"
   },
   "source": [
    "1.   Create a list of 10 ordered pairs **$(x,y),\\ \\ x\\ \\epsilon\\ [-6,6]$** such that they satisfy the equation **$x^2+y^2=r^2$** where **$r=6$**.\n",
    "2.   We have a list of tuple representing the name and height (in cms) of 5 students respectively. Convert the list into a dictionary so that we can access the student's height from their names. \n",
    "> ```data = [('Sumit', 183), ('Rahul', 175), ('Kritika', 170), ('Harshit', 177), ('Deepak', 162)]``` \n",
    "\n",
    "3.   Write a function which takes list of random integers as an input and returns the list all the unique values present in that list. For ex:\n",
    ">``` \n",
    "Input: [1, 2, 4, 4, 3, 2, 1, 1, 2, 4, 5, 3]\n",
    "Output : [1, 2, 3, 4, 5]\n",
    "```\n",
    "4.   Write a program to generate a dictionary that contains the number between $1$ and $n$ in the form of $(key : value) = (x : x^2)$ where $n=100$. For ex:\n",
    ">```\n",
    "If n = 7 then output will be = {0:0, 1:1, 2:4}\n",
    "```\n",
    "5.  Write a function which takes a dictionary as an input as return the list of all unique values of dictionary. For ex:\n",
    ">```\n",
    "Input : {'a':1, 'b':2, 'c':1, 'd':1, 'e':2, 'f':3, 'g':4, 'h':3, 'i':4}\n",
    "output : [1, 2, 3, 4]\n",
    "```\n",
    "6.  Write a Python program to remove newline characters from a file.\n",
    "7.  Write a Python program that takes a text file as input and returns the number of words of a given text file."
   ]
  },
  {
   "cell_type": "markdown",
   "metadata": {
    "colab_type": "text",
    "id": "pn87J0ZoTZju"
   },
   "source": [
    "#####Question 1"
   ]
  },
  {
   "cell_type": "code",
   "execution_count": 0,
   "metadata": {
    "colab": {
     "base_uri": "https://localhost:8080/",
     "height": 54
    },
    "colab_type": "code",
    "executionInfo": {
     "elapsed": 1183,
     "status": "ok",
     "timestamp": 1583424316370,
     "user": {
      "displayName": "Malla Praveen",
      "photoUrl": "https://lh3.googleusercontent.com/a-/AOh14GgElT8ec53FsqEvcNi8CUM49cEAtoU_GTM6RVT18w=s64",
      "userId": "11000256338339484296"
     },
     "user_tz": -330
    },
    "id": "-zo-4bgYTgMJ",
    "outputId": "29afbce7-23e8-4706-b5a7-cc32eb274ec4"
   },
   "outputs": [
    {
     "name": "stdout",
     "output_type": "stream",
     "text": [
      "[(-5, 3.3166247903554), (-4, 4.47213595499958), (-3, 5.196152422706632), (-2, 5.656854249492381), (-1, 5.916079783099616), (0, 6.0), (1, 5.916079783099616), (2, 5.656854249492381), (3, 5.196152422706632), (4, 4.47213595499958)]\n"
     ]
    }
   ],
   "source": [
    "def f(x):\n",
    "    return ((36 - x**2)**(1/2))\n",
    "\n",
    "pairs=[]\n",
    "for i in range(-5,5):\n",
    "    pairs.append((i,f(i)))\n",
    "\n",
    "print(pairs)\n",
    "\n"
   ]
  },
  {
   "cell_type": "markdown",
   "metadata": {
    "colab_type": "text",
    "id": "-LtjbR28ceCs"
   },
   "source": [
    "#####Question 2"
   ]
  },
  {
   "cell_type": "code",
   "execution_count": 1,
   "metadata": {
    "colab": {
     "base_uri": "https://localhost:8080/",
     "height": 34
    },
    "colab_type": "code",
    "executionInfo": {
     "elapsed": 1011,
     "status": "ok",
     "timestamp": 1583468344504,
     "user": {
      "displayName": "Malla Praveen",
      "photoUrl": "https://lh3.googleusercontent.com/a-/AOh14GgElT8ec53FsqEvcNi8CUM49cEAtoU_GTM6RVT18w=s64",
      "userId": "11000256338339484296"
     },
     "user_tz": -330
    },
    "id": "OAN6zzrPcfi-",
    "outputId": "af3bd2d9-7ac2-46b0-c0bc-7b2b6ca4e7b1"
   },
   "outputs": [
    {
     "name": "stdout",
     "output_type": "stream",
     "text": [
      "{'Sumit': 183, 'Rahul': 175, 'Kritika': 170, 'Harshit': 177, 'Deepak': 162}\n"
     ]
    }
   ],
   "source": [
    "data = [('Sumit', 183), ('Rahul', 175), ('Kritika', 170), ('Harshit', 177), ('Deepak', 162)]\n",
    "dis={}\n",
    "for i in data:\n",
    "    dis[i[0]]=i[1]\n",
    "print(dis)"
   ]
  },
  {
   "cell_type": "markdown",
   "metadata": {
    "colab_type": "text",
    "id": "EaFlmGfMEihO"
   },
   "source": [
    "#####Question 3"
   ]
  },
  {
   "cell_type": "code",
   "execution_count": 4,
   "metadata": {
    "colab": {
     "base_uri": "https://localhost:8080/",
     "height": 34
    },
    "colab_type": "code",
    "executionInfo": {
     "elapsed": 1029,
     "status": "ok",
     "timestamp": 1583468530597,
     "user": {
      "displayName": "Malla Praveen",
      "photoUrl": "https://lh3.googleusercontent.com/a-/AOh14GgElT8ec53FsqEvcNi8CUM49cEAtoU_GTM6RVT18w=s64",
      "userId": "11000256338339484296"
     },
     "user_tz": -330
    },
    "id": "guabHOKQEj5v",
    "outputId": "f37dadf4-60ce-4b72-bbaf-ab912a7ad922"
   },
   "outputs": [
    {
     "name": "stdout",
     "output_type": "stream",
     "text": [
      "[1, 2, 3, 4, 5]\n"
     ]
    }
   ],
   "source": [
    "def unique_nums(data):\n",
    "    return list(set(data))\n",
    "data = [1, 2, 4, 4, 3, 2, 1, 1, 2, 4, 5, 3]\n",
    "data = unique_nums(data)\n",
    "print(data)"
   ]
  },
  {
   "cell_type": "markdown",
   "metadata": {
    "colab_type": "text",
    "id": "rvgowgScEw2Q"
   },
   "source": [
    "#####Question 4"
   ]
  },
  {
   "cell_type": "code",
   "execution_count": 8,
   "metadata": {
    "colab": {
     "base_uri": "https://localhost:8080/",
     "height": 34
    },
    "colab_type": "code",
    "executionInfo": {
     "elapsed": 1134,
     "status": "ok",
     "timestamp": 1583468675657,
     "user": {
      "displayName": "Malla Praveen",
      "photoUrl": "https://lh3.googleusercontent.com/a-/AOh14GgElT8ec53FsqEvcNi8CUM49cEAtoU_GTM6RVT18w=s64",
      "userId": "11000256338339484296"
     },
     "user_tz": -330
    },
    "id": "BZbn2_FOEyiG",
    "outputId": "b474a576-205e-47bd-a910-4d89d44dce8e"
   },
   "outputs": [
    {
     "name": "stdout",
     "output_type": "stream",
     "text": [
      "{0: 0, 1: 1, 2: 4}\n"
     ]
    }
   ],
   "source": [
    "def dictsquare(n):\n",
    "    dis={}\n",
    "    for i in range(0,n+1):\n",
    "        if i**2>n:\n",
    "            break;\n",
    "        dis[i]=i**2\n",
    "    return dis\n",
    "print(dictsquare(7))"
   ]
  },
  {
   "cell_type": "markdown",
   "metadata": {
    "colab_type": "text",
    "id": "jC3FIZVKFrZ9"
   },
   "source": [
    "#####Question 5\n"
   ]
  },
  {
   "cell_type": "code",
   "execution_count": 9,
   "metadata": {
    "colab": {
     "base_uri": "https://localhost:8080/",
     "height": 34
    },
    "colab_type": "code",
    "executionInfo": {
     "elapsed": 1006,
     "status": "ok",
     "timestamp": 1583468835553,
     "user": {
      "displayName": "Malla Praveen",
      "photoUrl": "https://lh3.googleusercontent.com/a-/AOh14GgElT8ec53FsqEvcNi8CUM49cEAtoU_GTM6RVT18w=s64",
      "userId": "11000256338339484296"
     },
     "user_tz": -330
    },
    "id": "K_CyY_9LFtBq",
    "outputId": "8036ecd8-7f8a-4ccb-e9ef-3f1443f8dac4"
   },
   "outputs": [
    {
     "name": "stdout",
     "output_type": "stream",
     "text": [
      "[1, 2, 3, 4]\n"
     ]
    }
   ],
   "source": [
    "def retunique(dis):\n",
    "    lis=[]\n",
    "    for key,value in dis.items():\n",
    "        lis.append(value)\n",
    "    return list(set(lis))\n",
    "print(retunique({'a':1, 'b':2, 'c':1, 'd':1, 'e':2, 'f':3, 'g':4, 'h':3, 'i':4}))"
   ]
  },
  {
   "cell_type": "markdown",
   "metadata": {
    "colab_type": "text",
    "id": "nR4zsAvaGXPz"
   },
   "source": [
    "#####Question 6"
   ]
  },
  {
   "cell_type": "code",
   "execution_count": 0,
   "metadata": {
    "colab": {},
    "colab_type": "code",
    "id": "NH6vP8-WIg3D"
   },
   "outputs": [],
   "source": [
    "sample_text = \"Quantum entanglement is a label for the observed physical phenomenon\\nthat occurs when a pair or group of particles is generated, interact, or share\\nspatial proximity in a way such that the quantum state of each particle\\nof the pair or group cannot be described independently of the state of the others,\\neven when the particles are separated by a large distance. The topic of\\nquantum entanglement is at the heart of the disparity between\\nclassical and quantum physics.\"\n",
    "with open(\"sample text.txt\",\"w\") as f:\n",
    "    f.write(sample_text)"
   ]
  },
  {
   "cell_type": "code",
   "execution_count": 18,
   "metadata": {
    "colab": {
     "base_uri": "https://localhost:8080/",
     "height": 54
    },
    "colab_type": "code",
    "executionInfo": {
     "elapsed": 1000,
     "status": "ok",
     "timestamp": 1583469825688,
     "user": {
      "displayName": "Malla Praveen",
      "photoUrl": "https://lh3.googleusercontent.com/a-/AOh14GgElT8ec53FsqEvcNi8CUM49cEAtoU_GTM6RVT18w=s64",
      "userId": "11000256338339484296"
     },
     "user_tz": -330
    },
    "id": "GXem7PdNGYdZ",
    "outputId": "b63ec7d5-9a88-4bdf-c28f-cba9915b5eb9"
   },
   "outputs": [
    {
     "name": "stdout",
     "output_type": "stream",
     "text": [
      "Quantum entanglement is a label for the observed physical phenomenothat occurs when a pair or group of particles is generated, interact, or sharspatial proximity in a way such that the quantum state of each particlof the pair or group cannot be described independently of the state of the otherseven when the particles are separated by a large distance. The topic oquantum entanglement is at the heart of the disparity betweeclassical and quantum physic\n"
     ]
    }
   ],
   "source": [
    "def removeLine(name):\n",
    "    inp=[]\n",
    "    with open(name,\"r\") as f:\n",
    "        inp=f.readlines()\n",
    "    text=\"\"\n",
    "    for i in inp:\n",
    "        text+=i[0:-2]\n",
    "    print(text)\n",
    "removeLine(\"sample text.txt\")"
   ]
  },
  {
   "cell_type": "markdown",
   "metadata": {
    "colab_type": "text",
    "id": "hi-9-PDnKDBO"
   },
   "source": [
    "#####Question 7"
   ]
  },
  {
   "cell_type": "code",
   "execution_count": 24,
   "metadata": {
    "colab": {
     "base_uri": "https://localhost:8080/",
     "height": 34
    },
    "colab_type": "code",
    "executionInfo": {
     "elapsed": 995,
     "status": "ok",
     "timestamp": 1583470202483,
     "user": {
      "displayName": "Malla Praveen",
      "photoUrl": "https://lh3.googleusercontent.com/a-/AOh14GgElT8ec53FsqEvcNi8CUM49cEAtoU_GTM6RVT18w=s64",
      "userId": "11000256338339484296"
     },
     "user_tz": -330
    },
    "id": "gkFIGWUoKHCS",
    "outputId": "cc7588c6-ec7a-4579-92fe-771941c93e9c"
   },
   "outputs": [
    {
     "name": "stdout",
     "output_type": "stream",
     "text": [
      "79\n"
     ]
    }
   ],
   "source": [
    "no_of_words = 0\n",
    "ln=0\n",
    "with open('sample text.txt', 'r') as file:\n",
    "    for line in file.readlines():\n",
    "        ln+=len(line.split())\n",
    "print(ln)"
   ]
  },
  {
   "cell_type": "markdown",
   "metadata": {
    "colab_type": "text",
    "id": "O4egsCpycPFy"
   },
   "source": [
    "#Exercise 2\n",
    "**Attempt any 3 questions**"
   ]
  },
  {
   "cell_type": "markdown",
   "metadata": {
    "colab_type": "text",
    "id": "X09PXL74cSzI"
   },
   "source": [
    "1.  Write a python function which accpets a tuple representing the fields (func, $x_a$) where 'func' is **any** function $f(x)$ and $x_a$ is a point on which you have to find the slope i,e; $\\frac{df(x)}{dx}$ and return a tuple of (slope, $x_a$, $f(x_a)$, $\\Delta x$)  where $\\Delta x \\to 0$ but $\\Delta x \\neq 0$.\n",
    ">   Remember : $\\lim_{\\Delta x \\to 0} \\frac{f(x_a + \\Delta x) - f(x_a)}{\\Delta x}$\n",
    "2.  Write a python function which accepts two arguments ($n$, $a$) and returns a tuple of $n$ elements where $n^{th}$ element should be : $n^{th}_{element} = 1+\\frac{a}{1!}+\\frac{a^2}{2!}+\\frac{a^3}{3!}+...+\\frac{a^n}{n!}$ and $a$ should be any positive number. (Observe the last 10 values of returned tuple if $n > 20$)\n",
    "\n",
    "3.  Write a python function which generates the list of $n$ dictionaries representing $n$ students. Each dictionary should have two keys **Name** and **Marks**, the value of **Marks** key should be a list of 10 elements representing marks in 10 subjects as $[a_1,a_2,a_3,a_4,...,a_{10}]$. Create another function which accepts such dictionary and performs operation on marks and returns a list as $[\\alpha_1,\\alpha_2,\\alpha_3,\\alpha_4,...,\\alpha_{10}]$ where $\\alpha_i = \\beta \\alpha_{i-1} + (1-\\beta)a_i$ and $\\beta = 0.99, \\alpha_0 = 1, i=1,2,3,...,10$\n",
    "4.  Create a dictionary, with **keys** should be the number from 1 to 100 (1 and 100 both inclusive) and the value should be the list of string representing whether that key is **'Prime'**, **'Fibonacci'** (if that number exist in Fibonacci sequence), **'Square'** or all of three. Also write a function which accepts a dictionary (which you will create) and string **Prime**, **Fibonacci** or **Square** and by searching through dictionary it should return a tuple of that numbers. Fo ex:\n",
    ">```\n",
    "sample_dict = {1: ['Fibonacci', 'Square'], 6: [], ..., 13: ['Prime', 'Fibonacci'], ..., 34: ['Fibonacci'], ..., 100: ['Square']}\n",
    " For second part of the question:\n",
    " seq = func_name('Fibonacci')\n",
    " print(seq) --> (1, 2, 3, 5, 8, 13, 21, ..., 89)\n",
    "```\n",
    "\n",
    "5.  Copy the below paragraph and write an ecoded text file then read the same file and reconstruct the original paragraph. You have to use $f(a)$ function for encoding and decoding the text. $f(a) = 2a + 3$,where $a$ is an **ASCII** value of charater.\n",
    ">```\n",
    "Data science is an inter-disciplinary field that uses scientific methods, processes, algorithms and systems to extract knowledge and insights from structured and unstructured data. Data science is related to data mining and big data. Data science is a \"concept to unify statistics, data analysis, machine learning and their related methods\" in order to \"understand and analyze actual phenomena\" with data. It employs techniques and theories drawn from many fields within the context of mathematics, statistics, computer science, and information science. Turing award winner Jim Gray imagined data science as a \"fourth paradigm\" of science (empirical, theoretical, computational and now data-driven) and asserted that \"everything about science is changing because of the impact of information technology\" and the data deluge. In 2015, the American Statistical Association identified database management, statistics and machine learning, and distributed and parallel systems as the three emerging foundational professional communities.\n",
    "```\n",
    "6.  Using below text, write a file named File_1.txt and you have to insert new line character after every 10 words.\n",
    ">```\n",
    "Data science is an inter-disciplinary field that uses scientific methods processes algorithms and systems to extract knowledge and insights from structured and unstructured data Data science is related to data mining and big data. Data science is a concept to unify statistics data analysis machine learning and their related methods in order to understand and analyze actual phenomena with data It employs techniques and theories drawn from many fields within the context of mathematics statistics computer science and information science Turing award winner Jim Gray imagined data science as a fourth paradigm of science empirical theoretical computational and now data driven and asserted that everything about science is changing because of the impact of information technology and the data deluge In 2015 the American Statistical Association identified database management statistics and machine learning and distributed and parallel systems as the three emerging foundational professional communities\n",
    "```"
   ]
  },
  {
   "cell_type": "markdown",
   "metadata": {
    "colab_type": "text",
    "id": "4ObtH9UpLmaT"
   },
   "source": [
    "#####Question 1"
   ]
  },
  {
   "cell_type": "code",
   "execution_count": 0,
   "metadata": {
    "colab": {},
    "colab_type": "code",
    "id": "OUNAO_cALsAd"
   },
   "outputs": [],
   "source": [
    "def func(x):\n",
    "    return x**2\n",
    "def find_derivative(x):\n",
    "    delta = 0.000001\n",
    "    slope = (x[0](x[1]+delta)-x[0](x[1]))/delta\n",
    "    res=(slope,x[1],x[0](x[1]),delta)\n",
    "    return res\n"
   ]
  },
  {
   "cell_type": "code",
   "execution_count": 31,
   "metadata": {
    "colab": {
     "base_uri": "https://localhost:8080/",
     "height": 34
    },
    "colab_type": "code",
    "executionInfo": {
     "elapsed": 1013,
     "status": "ok",
     "timestamp": 1583473157372,
     "user": {
      "displayName": "Malla Praveen",
      "photoUrl": "https://lh3.googleusercontent.com/a-/AOh14GgElT8ec53FsqEvcNi8CUM49cEAtoU_GTM6RVT18w=s64",
      "userId": "11000256338339484296"
     },
     "user_tz": -330
    },
    "id": "wvS5o3v9Wq7h",
    "outputId": "0fa9f3e8-21d3-4ea8-8c19-878e15cc4993"
   },
   "outputs": [
    {
     "data": {
      "text/plain": [
       "(12.00000099998988, 6, 36, 1e-06)"
      ]
     },
     "execution_count": 31,
     "metadata": {
      "tags": []
     },
     "output_type": "execute_result"
    }
   ],
   "source": [
    "data = (func, 6)\n",
    "find_derivative(data)"
   ]
  },
  {
   "cell_type": "markdown",
   "metadata": {
    "colab_type": "text",
    "id": "xQc8MP9EWxkP"
   },
   "source": [
    "#####Question 2"
   ]
  },
  {
   "cell_type": "code",
   "execution_count": 0,
   "metadata": {
    "colab": {},
    "colab_type": "code",
    "id": "IFb3fRo-WzXf"
   },
   "outputs": [],
   "source": [
    "def factorial(n):\n",
    "    res=1\n",
    "    for i in range(1,n+1):\n",
    "        res=res*i\n",
    "    return res\n",
    "def series(n,a):\n",
    "    sum=1\n",
    "    for i in range(1,n+1):\n",
    "        sum+=a**i/factorial(i)\n",
    "    return sum\n",
    "def sumseries(n,a):\n",
    "    lis=[]\n",
    "    for i in range(1,n+1):\n",
    "        lis.append(series(i,a))\n",
    "    return tuple(lis)"
   ]
  },
  {
   "cell_type": "code",
   "execution_count": 46,
   "metadata": {
    "colab": {
     "base_uri": "https://localhost:8080/",
     "height": 54
    },
    "colab_type": "code",
    "executionInfo": {
     "elapsed": 1029,
     "status": "ok",
     "timestamp": 1583474436216,
     "user": {
      "displayName": "Malla Praveen",
      "photoUrl": "https://lh3.googleusercontent.com/a-/AOh14GgElT8ec53FsqEvcNi8CUM49cEAtoU_GTM6RVT18w=s64",
      "userId": "11000256338339484296"
     },
     "user_tz": -330
    },
    "id": "e82qtAwva7wE",
    "outputId": "58f93724-bf6f-4a5d-824e-404fab1af464"
   },
   "outputs": [
    {
     "name": "stdout",
     "output_type": "stream",
     "text": [
      "(7.0, 25.0, 61.0, 115.0, 179.8, 244.60000000000002, 300.14285714285717, 341.8, 369.57142857142856, 386.2342857142857, 395.3231168831169, 399.86753246753244, 401.964955044955, 402.86385043527895, 403.22340859140854, 403.35824289995713, 403.4058314794449, 403.42169433927415, 403.42670366343077, 403.42820646067776, 403.42863583131975, 403.42875293240394, 403.42878348051283, 403.4287911175401, 403.4287929504266, 403.4287933734004, 403.4287934673946, 403.4287934875362, 403.42879349170346, 403.4287934925369, 403.4287934926982, 403.42879349272846, 403.428793492734, 403.42879349273494, 403.4287934927351, 403.4287934927351, 403.4287934927351, 403.4287934927351, 403.4287934927351, 403.4287934927351, 403.4287934927351, 403.4287934927351, 403.4287934927351, 403.4287934927351, 403.4287934927351, 403.4287934927351, 403.4287934927351, 403.4287934927351, 403.4287934927351, 403.4287934927351, 403.4287934927351, 403.4287934927351, 403.4287934927351, 403.4287934927351, 403.4287934927351, 403.4287934927351, 403.4287934927351, 403.4287934927351, 403.4287934927351, 403.4287934927351, 403.4287934927351, 403.4287934927351, 403.4287934927351, 403.4287934927351, 403.4287934927351, 403.4287934927351, 403.4287934927351, 403.4287934927351, 403.4287934927351, 403.4287934927351, 403.4287934927351, 403.4287934927351, 403.4287934927351, 403.4287934927351, 403.4287934927351, 403.4287934927351, 403.4287934927351, 403.4287934927351, 403.4287934927351, 403.4287934927351, 403.4287934927351, 403.4287934927351, 403.4287934927351, 403.4287934927351, 403.4287934927351, 403.4287934927351, 403.4287934927351, 403.4287934927351, 403.4287934927351, 403.4287934927351, 403.4287934927351, 403.4287934927351, 403.4287934927351, 403.4287934927351, 403.4287934927351, 403.4287934927351, 403.4287934927351, 403.4287934927351, 403.4287934927351, 403.4287934927351)\n"
     ]
    }
   ],
   "source": [
    "print(sumseries(100, 6))"
   ]
  },
  {
   "cell_type": "markdown",
   "metadata": {
    "colab_type": "text",
    "id": "8PpfB5aEbsYS"
   },
   "source": [
    "#####Question 3"
   ]
  },
  {
   "cell_type": "code",
   "execution_count": 0,
   "metadata": {
    "colab": {},
    "colab_type": "code",
    "id": "OJPT52SKbtT9"
   },
   "outputs": [],
   "source": [
    "def create_dict(n):\n",
    "    lis=[]\n",
    "    for i in range(0,n):\n",
    "        dic={}\n",
    "        dic['Name']=name[i]\n",
    "        dic['Marks']=marks[i]\n",
    "        lis.append(dic)\n",
    "    return lis\n",
    "aplha_list=[]\n",
    "def alpha_i(n,lis):\n",
    "    aplha_list=[0]\n",
    "    for i in range(1,n+1):\n",
    "        aplha_list.append(0.99*aplha_list[i-1]+(1-0.99)*lis[i-1])\n",
    "    return aplha_list[1:]\n"
   ]
  },
  {
   "cell_type": "code",
   "execution_count": 82,
   "metadata": {
    "colab": {
     "base_uri": "https://localhost:8080/",
     "height": 187
    },
    "colab_type": "code",
    "executionInfo": {
     "elapsed": 1214,
     "status": "ok",
     "timestamp": 1583476029330,
     "user": {
      "displayName": "Malla Praveen",
      "photoUrl": "https://lh3.googleusercontent.com/a-/AOh14GgElT8ec53FsqEvcNi8CUM49cEAtoU_GTM6RVT18w=s64",
      "userId": "11000256338339484296"
     },
     "user_tz": -330
    },
    "id": "-yQywRNTc_0-",
    "outputId": "82b8e05b-1900-4c22-fae9-7dc8a72ef18c"
   },
   "outputs": [
    {
     "data": {
      "text/plain": [
       "[0.8000000000000007,\n",
       " 1.3920000000000012,\n",
       " 1.9480800000000018,\n",
       " 2.7685992000000024,\n",
       " 3.260913208000003,\n",
       " 4.208304075920004,\n",
       " 4.6562210351608035,\n",
       " 5.189658824809197,\n",
       " 5.867762236561105,\n",
       " 6.459084614195494]"
      ]
     },
     "execution_count": 82,
     "metadata": {
      "tags": []
     },
     "output_type": "execute_result"
    }
   ],
   "source": [
    "name = ['Rahul', 'Deepak']\n",
    "marks = [[80, 60, 57, 84, 52, 98, 49, 58, 73, 65], [58, 66, 50, 94, 87, 98, 82, 62, 83, 67]]\n",
    "dicts = create_dict(2)\n",
    "dicts\n",
    "alpha_i(len(dicts[0]['Marks']),dicts[0]['Marks'])"
   ]
  },
  {
   "cell_type": "markdown",
   "metadata": {
    "colab_type": "text",
    "id": "s86SFqEghw46"
   },
   "source": [
    ""
   ]
  },
  {
   "cell_type": "markdown",
   "metadata": {
    "colab_type": "text",
    "id": "EBjC4J57hyAe"
   },
   "source": [
    "#####Question 4"
   ]
  },
  {
   "cell_type": "code",
   "execution_count": 109,
   "metadata": {
    "colab": {
     "base_uri": "https://localhost:8080/",
     "height": 54
    },
    "colab_type": "code",
    "executionInfo": {
     "elapsed": 1576,
     "status": "ok",
     "timestamp": 1583477208418,
     "user": {
      "displayName": "Malla Praveen",
      "photoUrl": "https://lh3.googleusercontent.com/a-/AOh14GgElT8ec53FsqEvcNi8CUM49cEAtoU_GTM6RVT18w=s64",
      "userId": "11000256338339484296"
     },
     "user_tz": -330
    },
    "id": "Gg1CY1ach0S-",
    "outputId": "0929876a-8fd4-4cb8-d4ca-086df7ee9803"
   },
   "outputs": [
    {
     "name": "stdout",
     "output_type": "stream",
     "text": [
      "{1: ['Prime', 'Fibonacci'], 2: ['Prime', 'Fibonacci'], 3: ['Prime', 'Fibonacci'], 4: ['Prime', 'Square'], 5: ['Prime', 'Fibonacci'], 6: [], 7: ['Prime'], 8: ['Fibonacci'], 9: ['Square'], 10: [], 11: ['Prime'], 12: [], 13: ['Prime', 'Fibonacci'], 14: [], 15: [], 16: ['Square'], 17: ['Prime'], 18: [], 19: ['Prime'], 20: [], 21: ['Fibonacci'], 22: [], 23: ['Prime'], 24: [], 25: ['Square'], 26: [], 27: [], 28: [], 29: ['Prime'], 30: [], 31: ['Prime'], 32: [], 33: [], 34: ['Fibonacci'], 35: [], 36: ['Square'], 37: ['Prime'], 38: [], 39: [], 40: [], 41: ['Prime'], 42: [], 43: ['Prime'], 44: [], 45: [], 46: [], 47: ['Prime'], 48: [], 49: ['Square'], 50: [], 51: [], 52: [], 53: ['Prime'], 54: [], 55: ['Fibonacci'], 56: [], 57: [], 58: [], 59: ['Prime'], 60: [], 61: ['Prime'], 62: [], 63: [], 64: ['Square'], 65: [], 66: [], 67: ['Prime'], 68: [], 69: [], 70: [], 71: ['Prime'], 72: [], 73: ['Prime'], 74: [], 75: [], 76: [], 77: [], 78: [], 79: ['Prime'], 80: [], 81: ['Square'], 82: [], 83: ['Prime'], 84: [], 85: [], 86: [], 87: [], 88: [], 89: ['Prime', 'Fibonacci'], 90: [], 91: [], 92: [], 93: [], 94: [], 95: [], 96: [], 97: ['Prime'], 98: [], 99: [], 100: ['Square']}\n"
     ]
    }
   ],
   "source": [
    "sample_dict={}\n",
    "for i in range(1,101):\n",
    "    sample_dict[i]=[]\n",
    "def square(n):\n",
    "    for i in range(2,11):\n",
    "        if(i*i==n):\n",
    "            return True\n",
    "    return False\n",
    "def prime(n):\n",
    "    for i in range(2,n//2):\n",
    "        if(n%i==0):\n",
    "            return False\n",
    "    return True\n",
    "def fibonacci(n):\n",
    "    a=0\n",
    "    b=1\n",
    "    c=0\n",
    "    for i in range(1,101):\n",
    "        c=a+b\n",
    "        a=b\n",
    "        b=c\n",
    "        if(c==n):\n",
    "            return True\n",
    "    return False\n",
    "\n",
    "def compute(sample_dict):\n",
    "    for key,value in sample_dict.items():\n",
    "        if(prime(key)):\n",
    "            value.append(\"Prime\")\n",
    "        if(finbonaci(key)):\n",
    "            value.append(\"Fibonacci\")\n",
    "        if(square(key)):\n",
    "            value.append(\"Square\")\n",
    "    print(sample_dict)\n",
    "compute(sample_dict)"
   ]
  },
  {
   "cell_type": "code",
   "execution_count": 112,
   "metadata": {
    "colab": {
     "base_uri": "https://localhost:8080/",
     "height": 68
    },
    "colab_type": "code",
    "executionInfo": {
     "elapsed": 952,
     "status": "ok",
     "timestamp": 1583477429498,
     "user": {
      "displayName": "Malla Praveen",
      "photoUrl": "https://lh3.googleusercontent.com/a-/AOh14GgElT8ec53FsqEvcNi8CUM49cEAtoU_GTM6RVT18w=s64",
      "userId": "11000256338339484296"
     },
     "user_tz": -330
    },
    "id": "Wdh3UX8zkenh",
    "outputId": "3a0a7e92-9483-4200-db64-3d21eec6a959"
   },
   "outputs": [
    {
     "name": "stdout",
     "output_type": "stream",
     "text": [
      "[1, 2, 3, 5, 8, 13, 21, 34, 55, 89]\n",
      "[4, 9, 16, 25, 36, 49, 64, 81, 100]\n",
      "[1, 2, 3, 4, 5, 7, 11, 13, 17, 19, 23, 29, 31, 37, 41, 43, 47, 53, 59, 61, 67, 71, 73, 79, 83, 89, 97]\n"
     ]
    }
   ],
   "source": [
    "def search_dict_elem(s):\n",
    "    lis=[]\n",
    "    for key,value in sample_dict.items():\n",
    "        if s in value:\n",
    "            lis.append(key)\n",
    "    return lis\n",
    "print(search_dict_elem('Fibonacci'))\n",
    "print(search_dict_elem('Square'))\n",
    "print(search_dict_elem('Prime'))"
   ]
  },
  {
   "cell_type": "markdown",
   "metadata": {
    "colab_type": "text",
    "id": "GbzHhWFPnGhR"
   },
   "source": [
    "#####Question 5"
   ]
  },
  {
   "cell_type": "code",
   "execution_count": 0,
   "metadata": {
    "colab": {},
    "colab_type": "code",
    "id": "u781I0wZ-s-R"
   },
   "outputs": [],
   "source": [
    "def f(a):\n",
    "    return 2*ord(a)+3\n",
    "def f_inv(a):\n",
    "    return chr(int((a-3)/2))"
   ]
  },
  {
   "cell_type": "code",
   "execution_count": 0,
   "metadata": {
    "colab": {},
    "colab_type": "code",
    "id": "pD76QFuu_gwR"
   },
   "outputs": [],
   "source": [
    "para = 'Data science is an inter-disciplinary field that uses scientific methods, processes, algorithms and systems to extract knowledge and insights from structured and unstructured data. Data science is related to data mining and big data. Data science is a \"concept to unify statistics, data analysis, machine learning and their related methods\" in order to \"understand and analyze actual phenomena\" with data. It employs techniques and theories drawn from many fields within the context of mathematics, statistics, computer science, and information science. Turing award winner Jim Gray imagined data science as a \"fourth paradigm\" of science (empirical, theoretical, computational and now data-driven) and asserted that \"everything about science is changing because of the impact of information technology\" and the data deluge. In 2015, the American Statistical Association identified database management, statistics and machine learning, and distributed and parallel systems as the three emerging foundational professional communities.'\n",
    "s=\"\"\n",
    "for i in para:\n",
    "    s+=str(f(i))\n",
    "    s+=' '\n",
    "with open(\"encode.txt\",\"w\") as f_out:\n",
    "    f_out.write(s)"
   ]
  },
  {
   "cell_type": "code",
   "execution_count": 193,
   "metadata": {
    "colab": {
     "base_uri": "https://localhost:8080/",
     "height": 71
    },
    "colab_type": "code",
    "executionInfo": {
     "elapsed": 1026,
     "status": "ok",
     "timestamp": 1583485258150,
     "user": {
      "displayName": "Malla Praveen",
      "photoUrl": "https://lh3.googleusercontent.com/a-/AOh14GgElT8ec53FsqEvcNi8CUM49cEAtoU_GTM6RVT18w=s64",
      "userId": "11000256338339484296"
     },
     "user_tz": -330
    },
    "id": "B6YwXnW0C_H8",
    "outputId": "f9e50f88-cc57-4cf7-9c17-836b7df0c2f5"
   },
   "outputs": [
    {
     "name": "stdout",
     "output_type": "stream",
     "text": [
      "['139', '197', '235', '197', '67', '233', '201', '213', '205', '223', '201', '205', '67', '213', '233', '67', '197', '223', '67', '213', '223', '235', '205', '231', '93', '203', '213', '233', '201', '213', '227', '219', '213', '223', '197', '231', '245', '67', '207', '213', '205', '219', '203', '67', '235', '211', '197', '235', '67', '237', '233', '205', '233', '67', '233', '201', '213', '205', '223', '235', '213', '207', '213', '201', '67', '221', '205', '235', '211', '225', '203', '233', '91', '67', '227', '231', '225', '201', '205', '233', '233', '205', '233', '91', '67', '197', '219', '209', '225', '231', '213', '235', '211', '221', '233', '67', '197', '223', '203', '67', '233', '245', '233', '235', '205', '221', '233', '67', '235', '225', '67', '205', '243', '235', '231', '197', '201', '235', '67', '217', '223', '225', '241', '219', '205', '203', '209', '205', '67', '197', '223', '203', '67', '213', '223', '233', '213', '209', '211', '235', '233', '67', '207', '231', '225', '221', '67', '233', '235', '231', '237', '201', '235', '237', '231', '205', '203', '67', '197', '223', '203', '67', '237', '223', '233', '235', '231', '237', '201', '235', '237', '231', '205', '203', '67', '203', '197', '235', '197', '95', '67', '139', '197', '235', '197', '67', '233', '201', '213', '205', '223', '201', '205', '67', '213', '233', '67', '231', '205', '219', '197', '235', '205', '203', '67', '235', '225', '67', '203', '197', '235', '197', '67', '221', '213', '223', '213', '223', '209', '67', '197', '223', '203', '67', '199', '213', '209', '67', '203', '197', '235', '197', '95', '67', '139', '197', '235', '197', '67', '233', '201', '213', '205', '223', '201', '205', '67', '213', '233', '67', '197', '67', '71', '201', '225', '223', '201', '205', '227', '235', '67', '235', '225', '67', '237', '223', '213', '207', '245', '67', '233', '235', '197', '235', '213', '233', '235', '213', '201', '233', '91', '67', '203', '197', '235', '197', '67', '197', '223', '197', '219', '245', '233', '213', '233', '91', '67', '221', '197', '201', '211', '213', '223', '205', '67', '219', '205', '197', '231', '223', '213', '223', '209', '67', '197', '223', '203', '67', '235', '211', '205', '213', '231', '67', '231', '205', '219', '197', '235', '205', '203', '67', '221', '205', '235', '211', '225', '203', '233', '71', '67', '213', '223', '67', '225', '231', '203', '205', '231', '67', '235', '225', '67', '71', '237', '223', '203', '205', '231', '233', '235', '197', '223', '203', '67', '197', '223', '203', '67', '197', '223', '197', '219', '245', '247', '205', '67', '197', '201', '235', '237', '197', '219', '67', '227', '211', '205', '223', '225', '221', '205', '223', '197', '71', '67', '241', '213', '235', '211', '67', '203', '197', '235', '197', '95', '67', '149', '235', '67', '205', '221', '227', '219', '225', '245', '233', '67', '235', '205', '201', '211', '223', '213', '229', '237', '205', '233', '67', '197', '223', '203', '67', '235', '211', '205', '225', '231', '213', '205', '233', '67', '203', '231', '197', '241', '223', '67', '207', '231', '225', '221', '67', '221', '197', '223', '245', '67', '207', '213', '205', '219', '203', '233', '67', '241', '213', '235', '211', '213', '223', '67', '235', '211', '205', '67', '201', '225', '223', '235', '205', '243', '235', '67', '225', '207', '67', '221', '197', '235', '211', '205', '221', '197', '235', '213', '201', '233', '91', '67', '233', '235', '197', '235', '213', '233', '235', '213', '201', '233', '91', '67', '201', '225', '221', '227', '237', '235', '205', '231', '67', '233', '201', '213', '205', '223', '201', '205', '91', '67', '197', '223', '203', '67', '213', '223', '207', '225', '231', '221', '197', '235', '213', '225', '223', '67', '233', '201', '213', '205', '223', '201', '205', '95', '67', '171', '237', '231', '213', '223', '209', '67', '197', '241', '197', '231', '203', '67', '241', '213', '223', '223', '205', '231', '67', '151', '213', '221', '67', '145', '231', '197', '245', '67', '213', '221', '197', '209', '213', '223', '205', '203', '67', '203', '197', '235', '197', '67', '233', '201', '213', '205', '223', '201', '205', '67', '197', '233', '67', '197', '67', '71', '207', '225', '237', '231', '235', '211', '67', '227', '197', '231', '197', '203', '213', '209', '221', '71', '67', '225', '207', '67', '233', '201', '213', '205', '223', '201', '205', '67', '83', '205', '221', '227', '213', '231', '213', '201', '197', '219', '91', '67', '235', '211', '205', '225', '231', '205', '235', '213', '201', '197', '219', '91', '67', '201', '225', '221', '227', '237', '235', '197', '235', '213', '225', '223', '197', '219', '67', '197', '223', '203', '67', '223', '225', '241', '67', '203', '197', '235', '197', '93', '203', '231', '213', '239', '205', '223', '85', '67', '197', '223', '203', '67', '197', '233', '233', '205', '231', '235', '205', '203', '67', '235', '211', '197', '235', '67', '71', '205', '239', '205', '231', '245', '235', '211', '213', '223', '209', '67', '197', '199', '225', '237', '235', '67', '233', '201', '213', '205', '223', '201', '205', '67', '213', '233', '67', '201', '211', '197', '223', '209', '213', '223', '209', '67', '199', '205', '201', '197', '237', '233', '205', '67', '225', '207', '67', '235', '211', '205', '67', '213', '221', '227', '197', '201', '235', '67', '225', '207', '67', '213', '223', '207', '225', '231', '221', '197', '235', '213', '225', '223', '67', '235', '205', '201', '211', '223', '225', '219', '225', '209', '245', '71', '67', '197', '223', '203', '67', '235', '211', '205', '67', '203', '197', '235', '197', '67', '203', '205', '219', '237', '209', '205', '95', '67', '149', '223', '67', '103', '99', '101', '109', '91', '67', '235', '211', '205', '67', '133', '221', '205', '231', '213', '201', '197', '223', '67', '169', '235', '197', '235', '213', '233', '235', '213', '201', '197', '219', '67', '133', '233', '233', '225', '201', '213', '197', '235', '213', '225', '223', '67', '213', '203', '205', '223', '235', '213', '207', '213', '205', '203', '67', '203', '197', '235', '197', '199', '197', '233', '205', '67', '221', '197', '223', '197', '209', '205', '221', '205', '223', '235', '91', '67', '233', '235', '197', '235', '213', '233', '235', '213', '201', '233', '67', '197', '223', '203', '67', '221', '197', '201', '211', '213', '223', '205', '67', '219', '205', '197', '231', '223', '213', '223', '209', '91', '67', '197', '223', '203', '67', '203', '213', '233', '235', '231', '213', '199', '237', '235', '205', '203', '67', '197', '223', '203', '67', '227', '197', '231', '197', '219', '219', '205', '219', '67', '233', '245', '233', '235', '205', '221', '233', '67', '197', '233', '67', '235', '211', '205', '67', '235', '211', '231', '205', '205', '67', '205', '221', '205', '231', '209', '213', '223', '209', '67', '207', '225', '237', '223', '203', '197', '235', '213', '225', '223', '197', '219', '67', '227', '231', '225', '207', '205', '233', '233', '213', '225', '223', '197', '219', '67', '201', '225', '221', '221', '237', '223', '213', '235', '213', '205', '233', '95', '']\n",
      "Data science is an inter-disciplinary field that uses scientific methods, processes, algorithms and systems to extract knowledge and insights from structured and unstructured data. Data science is related to data mining and big data. Data science is a \"concept to unify statistics, data analysis, machine learning and their related methods\" in order to \"understand and analyze actual phenomena\" with data. It employs techniques and theories drawn from many fields within the context of mathematics, statistics, computer science, and information science. Turing award winner Jim Gray imagined data science as a \"fourth paradigm\" of science (empirical, theoretical, computational and now data-driven) and asserted that \"everything about science is changing because of the impact of information technology\" and the data deluge. In 2015, the American Statistical Association identified database management, statistics and machine learning, and distributed and parallel systems as the three emerging foundational professional communities.\n"
     ]
    }
   ],
   "source": [
    "with open(\"encode.txt\",\"r\") as f_out:\n",
    "    s=f_out.read()\n",
    "re=\"\"\n",
    "li=s.split(' ')\n",
    "print(li)\n",
    "for i in li:\n",
    "    if(len(i)>0):\n",
    "        re+=f_inv(int(i))\n",
    "print(re)"
   ]
  },
  {
   "cell_type": "markdown",
   "metadata": {
    "colab_type": "text",
    "id": "nXZQ_Vb-E7pN"
   },
   "source": [
    "#####Question 6\n"
   ]
  },
  {
   "cell_type": "code",
   "execution_count": 204,
   "metadata": {
    "colab": {
     "base_uri": "https://localhost:8080/",
     "height": 343
    },
    "colab_type": "code",
    "executionInfo": {
     "elapsed": 1004,
     "status": "ok",
     "timestamp": 1583486184795,
     "user": {
      "displayName": "Malla Praveen",
      "photoUrl": "https://lh3.googleusercontent.com/a-/AOh14GgElT8ec53FsqEvcNi8CUM49cEAtoU_GTM6RVT18w=s64",
      "userId": "11000256338339484296"
     },
     "user_tz": -330
    },
    "id": "uATfSHrrE9g_",
    "outputId": "fd0b28d0-a459-4f2f-efb5-46e6e984e6be"
   },
   "outputs": [
    {
     "name": "stdout",
     "output_type": "stream",
     "text": [
      "145\n",
      "['Data', 'science', 'is', 'an', 'inter-disciplinary', 'field', 'that', 'uses', 'scientific', 'methods', 'processes', 'algorithms', 'and', 'systems', 'to', 'extract', 'knowledge', 'and', 'insights', 'from', 'structured', 'and', 'unstructured', 'data', 'Data', 'science', 'is', 'related', 'to', 'data', 'mining', 'and', 'big', 'data.', 'Data', 'science', 'is', 'a', 'concept', 'to', 'unify', 'statistics', 'data', 'analysis', 'machine', 'learning', 'and', 'their', 'related', 'methods', 'in', 'order', 'to', 'understand', 'and', 'analyze', 'actual', 'phenomena', 'with', 'data', 'It', 'employs', 'techniques', 'and', 'theories', 'drawn', 'from', 'many', 'fields', 'within', 'the', 'context', 'of', 'mathematics', 'statistics', 'computer', 'science', 'and', 'information', 'science', 'Turing', 'award', 'winner', 'Jim', 'Gray', 'imagined', 'data', 'science', 'as', 'a', 'fourth', 'paradigm', 'of', 'science', 'empirical', 'theoretical', 'computational', 'and', 'now', 'data', 'driven', 'and', 'asserted', 'that', 'everything', 'about', 'science', 'is', 'changing', 'because', 'of', 'the', 'impact', 'of', 'information', 'technology', 'and', 'the', 'data', 'deluge', 'In', '2015', 'the', 'American', 'Statistical', 'Association', 'identified', 'database', 'management', 'statistics', 'and', 'machine', 'learning', 'and', 'distributed', 'and', 'parallel', 'systems', 'as', 'the', 'three', 'emerging', 'foundational', 'professional', 'communities.']\n",
      "Data science is an inter-disciplinary field that uses scientific methods\n",
      "processes algorithms and systems to extract knowledge and insights from\n",
      "structured and unstructured data Data science is related to data\n",
      "mining and big data. Data science is a concept to\n",
      "unify statistics data analysis machine learning and their related methods\n",
      "in order to understand and analyze actual phenomena with data\n",
      "It employs techniques and theories drawn from many fields within\n",
      "the context of mathematics statistics computer science and information science\n",
      "Turing award winner Jim Gray imagined data science as a\n",
      "fourth paradigm of science empirical theoretical computational and now data\n",
      "driven and asserted that everything about science is changing because\n",
      "of the impact of information technology and the data deluge\n",
      "In 2015 the American Statistical Association identified database management statistics\n",
      "and machine learning and distributed and parallel systems as the\n",
      "three emerging foundational professional communities.\n",
      "\n"
     ]
    }
   ],
   "source": [
    "s='Data science is an inter-disciplinary field that uses scientific methods processes algorithms and systems to extract knowledge and insights from structured and unstructured data Data science is related to data mining and big data. Data science is a concept to unify statistics data analysis machine learning and their related methods in order to understand and analyze actual phenomena with data It employs techniques and theories drawn from many fields within the context of mathematics statistics computer science and information science Turing award winner Jim Gray imagined data science as a fourth paradigm of science empirical theoretical computational and now data driven and asserted that everything about science is changing because of the impact of information technology and the data deluge In 2015 the American Statistical Association identified database management statistics and machine learning and distributed and parallel systems as the three emerging foundational professional communities.'\n",
    "lis=s.split(' ')\n",
    "print(len(lis))\n",
    "print(lis)\n",
    "j=0\n",
    "temp=\"\"\n",
    "str_lis=[]\n",
    "for i in lis:\n",
    "    if(j==10):\n",
    "        str_lis.append(temp.strip())\n",
    "        j=0\n",
    "        temp=\"\"\n",
    "    j+=1\n",
    "    temp+=i+\" \"\n",
    "str_lis.append(temp.strip())\n",
    "with open(\"File_1.txt\",\"w\") as f_out:\n",
    "    for i in str_lis:\n",
    "        f_out.write(i+'\\n')\n",
    "with open(\"File_1.txt\",\"r\") as f_out:\n",
    "    print(f_out.read())\n"
   ]
  }
 ],
 "metadata": {
  "colab": {
   "collapsed_sections": [
    "pn87J0ZoTZju",
    "-LtjbR28ceCs",
    "EaFlmGfMEihO",
    "rvgowgScEw2Q",
    "jC3FIZVKFrZ9",
    "nR4zsAvaGXPz",
    "hi-9-PDnKDBO",
    "4ObtH9UpLmaT",
    "xQc8MP9EWxkP",
    "8PpfB5aEbsYS",
    "EBjC4J57hyAe",
    "GbzHhWFPnGhR"
   ],
   "name": "PadhAI_FDS_Week_5_Assignment-200304-124339.ipynb",
   "provenance": []
  },
  "kernelspec": {
   "display_name": "Python 3",
   "name": "python3"
  }
 },
 "nbformat": 4,
 "nbformat_minor": 0
}
