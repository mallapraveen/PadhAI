{
 "cells": [
  {
   "cell_type": "markdown",
   "metadata": {
    "colab_type": "text",
    "id": "4b_kLRYttQJP"
   },
   "source": [
    "# Assignments"
   ]
  },
  {
   "cell_type": "markdown",
   "metadata": {
    "colab_type": "text",
    "id": "GRO0giYhU0dt"
   },
   "source": [
    "##Problem 1"
   ]
  },
  {
   "cell_type": "code",
   "execution_count": 0,
   "metadata": {
    "colab": {
     "base_uri": "https://localhost:8080/",
     "height": 34
    },
    "colab_type": "code",
    "executionInfo": {
     "elapsed": 6093,
     "status": "ok",
     "timestamp": 1581912490948,
     "user": {
      "displayName": "Malla Praveen",
      "photoUrl": "https://lh3.googleusercontent.com/a-/AAuE7mBMYBMAY5M3rU3NBhnP5p03wUhzzSrp1htNOFi0Gg=s64",
      "userId": "11000256338339484296"
     },
     "user_tz": -330
    },
    "id": "RIRCYEm_VAqT",
    "outputId": "f0b56123-2842-4378-94cf-24033c2da788"
   },
   "outputs": [
    {
     "name": "stdout",
     "output_type": "stream",
     "text": [
      "Enter your weight (in kgs)64\n"
     ]
    }
   ],
   "source": [
    "weight = input(\"Enter your weight (in kgs)\")"
   ]
  },
  {
   "cell_type": "code",
   "execution_count": 0,
   "metadata": {
    "colab": {
     "base_uri": "https://localhost:8080/",
     "height": 34
    },
    "colab_type": "code",
    "executionInfo": {
     "elapsed": 16222,
     "status": "ok",
     "timestamp": 1581912530862,
     "user": {
      "displayName": "Malla Praveen",
      "photoUrl": "https://lh3.googleusercontent.com/a-/AAuE7mBMYBMAY5M3rU3NBhnP5p03wUhzzSrp1htNOFi0Gg=s64",
      "userId": "11000256338339484296"
     },
     "user_tz": -330
    },
    "id": "44SKjEvPVOs4",
    "outputId": "7b403d22-1a74-4835-c60b-dbbd640b1ad9"
   },
   "outputs": [
    {
     "name": "stdout",
     "output_type": "stream",
     "text": [
      "What is your preferred unit of height?F\n"
     ]
    }
   ],
   "source": [
    "unit_of_height = input(\"What is your preferred unit of height?\")"
   ]
  },
  {
   "cell_type": "code",
   "execution_count": 0,
   "metadata": {
    "colab": {
     "base_uri": "https://localhost:8080/",
     "height": 51
    },
    "colab_type": "code",
    "executionInfo": {
     "elapsed": 10928,
     "status": "ok",
     "timestamp": 1581912758465,
     "user": {
      "displayName": "Malla Praveen",
      "photoUrl": "https://lh3.googleusercontent.com/a-/AAuE7mBMYBMAY5M3rU3NBhnP5p03wUhzzSrp1htNOFi0Gg=s64",
      "userId": "11000256338339484296"
     },
     "user_tz": -330
    },
    "id": "cY5JvnbPVV9V",
    "outputId": "7b181557-9b77-4b81-c455-8ddc44db935e"
   },
   "outputs": [
    {
     "name": "stdout",
     "output_type": "stream",
     "text": [
      "You will enter your height given as feet and inches. First enter feet5\n",
      "Now enter inches6\n"
     ]
    }
   ],
   "source": [
    "if(unit_of_height == \"F\"):\n",
    "    height_feet = input(\"You will enter your height given as feet and inches. First enter feet\")\n",
    "    height_inches = input(\"Now enter inches\")\n",
    "elif(unit_of_height == \"M\"):\n",
    "    height_meter = input(\"What is your height in meters\")"
   ]
  },
  {
   "cell_type": "code",
   "execution_count": 0,
   "metadata": {
    "colab": {},
    "colab_type": "code",
    "id": "MxyGdl1pWSX6"
   },
   "outputs": [],
   "source": [
    "if(unit_of_height == \"F\"):\n",
    "    height = int(height_feet)*0.3048 + int(height_inches)*0.0254\n",
    "else:\n",
    "    height = int(height_meter)"
   ]
  },
  {
   "cell_type": "code",
   "execution_count": 0,
   "metadata": {
    "colab": {},
    "colab_type": "code",
    "id": "CnPhM7_pXGo-"
   },
   "outputs": [],
   "source": [
    "bmi = int(weight)/(height*height)"
   ]
  },
  {
   "cell_type": "code",
   "execution_count": 0,
   "metadata": {
    "colab": {
     "base_uri": "https://localhost:8080/",
     "height": 34
    },
    "colab_type": "code",
    "executionInfo": {
     "elapsed": 979,
     "status": "ok",
     "timestamp": 1581913139048,
     "user": {
      "displayName": "Malla Praveen",
      "photoUrl": "https://lh3.googleusercontent.com/a-/AAuE7mBMYBMAY5M3rU3NBhnP5p03wUhzzSrp1htNOFi0Gg=s64",
      "userId": "11000256338339484296"
     },
     "user_tz": -330
    },
    "id": "_7orISsTXRxG",
    "outputId": "84731e73-255c-4d49-a57e-7d9ecc46accf"
   },
   "outputs": [
    {
     "name": "stdout",
     "output_type": "stream",
     "text": [
      "OVERWEIGHT\n"
     ]
    }
   ],
   "source": [
    "if(bmi<18.5):\n",
    "    print(\"UNDERWEIGHT\")\n",
    "elif(bmi<=18.5 and bmi<25):\n",
    "    print(\"NORMAL\")\n",
    "elif(bmi<=25 and bmi<30):\n",
    "    print(\"OVERWEIGHT\")\n",
    "else:\n",
    "    print(\"VERY-OVERWEIGHT\")"
   ]
  },
  {
   "cell_type": "markdown",
   "metadata": {
    "colab_type": "text",
    "id": "kBN7VqZyYRiv"
   },
   "source": [
    "##Problem 2"
   ]
  },
  {
   "cell_type": "code",
   "execution_count": 0,
   "metadata": {
    "colab": {},
    "colab_type": "code",
    "id": "DcwyjBQjYbNp"
   },
   "outputs": [],
   "source": [
    "def factorial(n):\n",
    "    fact=1\n",
    "    for i in range(1,n+1):\n",
    "        fact=fact*i\n",
    "    return fact"
   ]
  },
  {
   "cell_type": "code",
   "execution_count": 0,
   "metadata": {
    "colab": {},
    "colab_type": "code",
    "id": "thdiM8Lkb0Qu"
   },
   "outputs": [],
   "source": [
    "def factorial_recursive(n):\n",
    "    if(n==1):\n",
    "        return 1\n",
    "    else:\n",
    "        return n*factorial_recursive(n-1)"
   ]
  },
  {
   "cell_type": "code",
   "execution_count": 0,
   "metadata": {
    "colab": {},
    "colab_type": "code",
    "id": "7r_fHpVUcUKY"
   },
   "outputs": [],
   "source": [
    "def compute1(x,n):\n",
    "    return (x**n)/factorial(n)"
   ]
  },
  {
   "cell_type": "code",
   "execution_count": 0,
   "metadata": {
    "colab": {},
    "colab_type": "code",
    "id": "aKU5WWknczv9"
   },
   "outputs": [],
   "source": [
    "def compute2(x,n):\n",
    "    val=1\n",
    "    for i in range(1,n+1):\n",
    "        val+=compute1(x,i)\n",
    "    return val"
   ]
  },
  {
   "cell_type": "code",
   "execution_count": 0,
   "metadata": {
    "colab": {},
    "colab_type": "code",
    "id": "OTQ9tHIKddfM"
   },
   "outputs": [],
   "source": [
    "def compute3(x,e):\n",
    "    n=1\n",
    "    sum=1\n",
    "    while(compute2(x,n)-compute2(x,n-1)>e):\n",
    "        sum+=compute1(x,n)\n",
    "        n+=1\n",
    "    return sum"
   ]
  },
  {
   "cell_type": "code",
   "execution_count": 0,
   "metadata": {
    "colab": {},
    "colab_type": "code",
    "id": "Eo_AXG13f9dx"
   },
   "outputs": [],
   "source": [
    "def compute4(p,q):\n",
    "    v1 = compute2(p,100)*compute2(q,100)\n",
    "    v2 = compute2(p+q,100)\n",
    "    return v1-v2\n"
   ]
  },
  {
   "cell_type": "code",
   "execution_count": 0,
   "metadata": {
    "colab": {
     "base_uri": "https://localhost:8080/",
     "height": 34
    },
    "colab_type": "code",
    "executionInfo": {
     "elapsed": 928,
     "status": "ok",
     "timestamp": 1582176454390,
     "user": {
      "displayName": "Malla Praveen",
      "photoUrl": "https://lh3.googleusercontent.com/a-/AAuE7mBMYBMAY5M3rU3NBhnP5p03wUhzzSrp1htNOFi0Gg=s64",
      "userId": "11000256338339484296"
     },
     "user_tz": -330
    },
    "id": "P_j6Xpsa_3Se",
    "outputId": "99ba3b4b-b3cf-499c-ef5e-59512818f02a"
   },
   "outputs": [
    {
     "name": "stdout",
     "output_type": "stream",
     "text": [
      "0\n"
     ]
    }
   ],
   "source": [
    "print(compute3(2, 0.01))"
   ]
  }
 ],
 "metadata": {
  "colab": {
   "authorship_tag": "ABX9TyP+i8e48NgsnyowdFw4LdxW",
   "collapsed_sections": [
    "GRO0giYhU0dt"
   ],
   "mount_file_id": "1VxmkbMy4MGd9M0Zjswr2dSiWtkiH9zwM",
   "name": "FDS_W03_P01.ipynb",
   "provenance": [],
   "toc_visible": true
  },
  "kernelspec": {
   "display_name": "Python 3",
   "name": "python3"
  }
 },
 "nbformat": 4,
 "nbformat_minor": 0
}
