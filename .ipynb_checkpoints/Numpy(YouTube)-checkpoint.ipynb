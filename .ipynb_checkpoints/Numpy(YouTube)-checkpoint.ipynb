{
 "cells": [
  {
   "cell_type": "markdown",
   "metadata": {},
   "source": [
    "## Tech With Tim"
   ]
  },
  {
   "cell_type": "code",
   "execution_count": 12,
   "metadata": {},
   "outputs": [
    {
     "name": "stdout",
     "output_type": "stream",
     "text": [
      "Hello\n"
     ]
    }
   ],
   "source": [
    "print(\"Hello\")"
   ]
  },
  {
   "cell_type": "code",
   "execution_count": 2,
   "metadata": {},
   "outputs": [],
   "source": [
    "import numpy as np"
   ]
  },
  {
   "cell_type": "code",
   "execution_count": 14,
   "metadata": {},
   "outputs": [
    {
     "name": "stdout",
     "output_type": "stream",
     "text": [
      "[1 2 3]\n",
      "\n",
      "4\n",
      "12\n",
      "\n",
      "<class 'numpy.ndarray'>\n",
      "(3,)\n",
      "int32\n",
      "[5 6 5 7 2 6 2]\n",
      "int16\n"
     ]
    }
   ],
   "source": [
    "arr = np.array([1,2,3])\n",
    "print(arr)\n",
    "\n",
    "print()\n",
    "# single Item size in bytes\n",
    "print(arr.itemsize)\n",
    "#size of whole array\n",
    "print(arr.nbytes)\n",
    "print()\n",
    "\n",
    "print(type(arr))\n",
    "print(arr.shape)\n",
    "print(arr.dtype)\n",
    "arr9 = np.array([5,6,5,7,2,6,2],dtype='int16')\n",
    "print(arr9)\n",
    "print(arr9.dtype)"
   ]
  },
  {
   "cell_type": "code",
   "execution_count": 3,
   "metadata": {},
   "outputs": [
    {
     "name": "stdout",
     "output_type": "stream",
     "text": [
      "[[1, 2, 3], [4, 5, 6]]\n",
      "[[1 2 3]\n",
      " [4 5 6]]\n"
     ]
    }
   ],
   "source": [
    "li = list([[1,2,3],[4,5,6]])\n",
    "arr = np.array([[1,2,3],[4,5,6]])\n",
    "print(li)\n",
    "print(arr)"
   ]
  },
  {
   "cell_type": "code",
   "execution_count": 10,
   "metadata": {},
   "outputs": [
    {
     "name": "stdout",
     "output_type": "stream",
     "text": [
      "5\n",
      "5\n",
      "(2, 3)\n",
      "6\n",
      "['True' '2' '1']\n",
      "<memory at 0x000002059F0AC748>\n",
      "[1 2 3 4 6]\n",
      "[[1 2 3]\n",
      " [4 5 6]]\n"
     ]
    }
   ],
   "source": [
    "print(arr[1,1])\n",
    "print(arr[1][1])\n",
    "print(arr.shape)\n",
    "print(arr.size)\n",
    "lis = [True,'Hello',1]\n",
    "a = np.array([\"True\",2,1])\n",
    "print(a)\n",
    "# Dimension\n",
    "arr.ndim\n",
    "# Memory Location\n",
    "print(arr.data)\n",
    "print(np.delete(arr,4))\n",
    "print(arr)"
   ]
  },
  {
   "cell_type": "code",
   "execution_count": 13,
   "metadata": {},
   "outputs": [
    {
     "name": "stdout",
     "output_type": "stream",
     "text": [
      "[[-6 -6 -6]\n",
      " [-6 -6 -6]]\n",
      "[[ 8 10 12]\n",
      " [14 16 18]]\n",
      "[[ 7 16 27]\n",
      " [40 55 72]]\n",
      "[[ 7 16 27]\n",
      " [40 55 72]]\n",
      "[[1.         1.41421356 1.73205081]\n",
      " [2.         2.23606798 2.44948974]]\n",
      "[[0.14285714 0.25       0.33333333]\n",
      " [0.4        0.45454545 0.5       ]]\n",
      "\n",
      "\n",
      "32\n",
      "32\n",
      "[[1 4]\n",
      " [2 5]\n",
      " [3 6]]\n",
      "21\n",
      "[ 6 15]\n",
      "[5 7 9]\n"
     ]
    }
   ],
   "source": [
    "arr1 = np.array([[1,2,3],[4,5,6]])\n",
    "arr2 = np.array([[7,8,9],[10,11,12]])\n",
    "print(arr1-arr2)\n",
    "print(np.add(arr1,arr2))\n",
    "print(arr1*arr2)\n",
    "print(np.multiply(arr1,arr2))\n",
    "print(np.sqrt(arr1))\n",
    "print(arr1/arr2)\n",
    "# Dot Product\n",
    "print()\n",
    "print()\n",
    "a = np.array([1,2,3])\n",
    "b = np.array([4,5,6])\n",
    "print(a.dot(b))\n",
    "print(np.dot(a,b))\n",
    "print(arr1.T)\n",
    "print(np.sum(arr1.T))\n",
    "print(np.sum(arr1.T,axis=0))\n",
    "print(np.sum(arr1.T,axis=1))"
   ]
  },
  {
   "cell_type": "markdown",
   "metadata": {},
   "source": [
    "## Keith Galli"
   ]
  },
  {
   "cell_type": "code",
   "execution_count": 62,
   "metadata": {},
   "outputs": [
    {
     "name": "stdout",
     "output_type": "stream",
     "text": [
      "[[0. 0.]\n",
      " [0. 0.]]\n",
      "[[1 1]\n",
      " [1 1]]\n",
      "[[99. 99.]\n",
      " [99. 99.]]\n",
      "[[44 44 44]\n",
      " [44 44 44]]\n",
      "\n",
      "\n",
      "[[0.90856203 0.90748545]\n",
      " [0.0538421  0.42660526]\n",
      " [0.2476244  0.12836515]\n",
      " [0.64380453 0.20172624]]\n",
      "\n",
      "[[46 38 52]\n",
      " [61 68 71]\n",
      " [63  1 47]]\n",
      "\n",
      "[[-69  75  23]\n",
      " [ 17 -71  -3]\n",
      " [-37  47  74]]\n"
     ]
    }
   ],
   "source": [
    "print(np.zeros((2,2)))\n",
    "print(np.ones((2,2),dtype='int16'))\n",
    "print(np.full((2,2),99,dtype='float64'))\n",
    "print(np.full(arr.shape,44))\n",
    "\n",
    "print()\n",
    "print()\n",
    "# Matrix of random numbers\n",
    "print(np.random.rand(4,2))\n",
    "print()\n",
    "print(np.random.randint(99,size=(3,3)))\n",
    "\n",
    "print()\n",
    "print(np.random.randint(-99,99,size=(3,3)))"
   ]
  },
  {
   "cell_type": "code",
   "execution_count": 90,
   "metadata": {},
   "outputs": [
    {
     "name": "stdout",
     "output_type": "stream",
     "text": [
      "[[1. 0. 0.]\n",
      " [0. 1. 0.]\n",
      " [0. 0. 1.]]\n",
      "[1 1 1 2 2 2 3 3 3]\n",
      "\n",
      "[[1. 0. 0.]\n",
      " [0. 1. 0.]\n",
      " [0. 0. 1.]]\n",
      "[[1 2 3]\n",
      " [1 2 3]\n",
      " [1 2 3]]\n",
      "\n",
      "[10  2  3]\n",
      "[10  2  3]\n",
      "[1 2 3]\n"
     ]
    }
   ],
   "source": [
    "print(np.identity(3))\n",
    "temp=np.array([1,2,3])\n",
    "print(np.repeat(temp,3,axis=0))\n",
    "print()\n",
    "print(np.identity(3))\n",
    "temp1=np.array([[1,2,3]])\n",
    "print(np.repeat(temp1,3,axis=0))\n",
    "print()\n",
    "\n",
    "\n",
    "y = np.array([1,2,3])\n",
    "# shallow copy\n",
    "u=y\n",
    "#deep copy\n",
    "i=y.copy()\n",
    "u[0]=10\n",
    "print(u)\n",
    "print(y)\n",
    "print(i)"
   ]
  },
  {
   "cell_type": "code",
   "execution_count": 103,
   "metadata": {},
   "outputs": [
    {
     "name": "stdout",
     "output_type": "stream",
     "text": [
      "[0.84147098 0.90929743 0.14112001]\n",
      "[[ 7 16 27]\n",
      " [40 55 72]]\n",
      "[[ 7 16 27]\n",
      " [40 55 72]]\n",
      "[[ 55  61]\n",
      " [133 148]]\n",
      "\n",
      "1.0\n"
     ]
    }
   ],
   "source": [
    "#mathematics\n",
    "y = np.array([1,2,3])\n",
    "print(np.sin(y))\n",
    "arr1 = np.array([[1,2,3],[4,5,6]])\n",
    "arr2 = np.array([[7,8,9],[10,11,12]])\n",
    "#Normal multiply\n",
    "print(arr1*arr2)\n",
    "print(np.multiply(arr1,arr2))\n",
    "arr1 = np.array([[1,2,3],[4,5,6]])\n",
    "arr2 = np.array([[7,8],[9,10],[10,11]])\n",
    "# Matrix Multiplication \n",
    "print(np.matmul(arr1,arr2))\n",
    "print()\n",
    "c=np.identity(3)\n",
    "# detrminant of identity matrix is one\n",
    "print(np.linalg.det(c))"
   ]
  },
  {
   "cell_type": "code",
   "execution_count": 109,
   "metadata": {},
   "outputs": [
    {
     "name": "stdout",
     "output_type": "stream",
     "text": [
      "1\n",
      "6\n",
      "[4 5 6]\n",
      "[3 6]\n",
      "21\n",
      "[5 7 9]\n",
      "[ 6 15]\n"
     ]
    }
   ],
   "source": [
    "# Statistics\n",
    "stats = np.array([[1,2,3],[4,5,6]])\n",
    "print(np.min(stats))\n",
    "print(np.max(stats))\n",
    "print(np.max(stats,axis=0))\n",
    "print(np.max(stats,axis=1))\n",
    "print(np.sum(stats))\n",
    "print(np.sum(stats,axis=0))\n",
    "print(np.sum(stats,axis=1))"
   ]
  },
  {
   "cell_type": "code",
   "execution_count": 126,
   "metadata": {},
   "outputs": [
    {
     "name": "stdout",
     "output_type": "stream",
     "text": [
      "[[1 2 3 4]\n",
      " [5 6 7 8]]\n",
      "[[1 2]\n",
      " [3 4]\n",
      " [5 6]\n",
      " [7 8]]\n",
      "\n",
      "[[1 3 5 7]\n",
      " [2 4 6 8]]\n"
     ]
    }
   ],
   "source": [
    "## Reoraganizing array\n",
    "before = np.array([[1,2,3,4],[5,6,7,8]])\n",
    "print(before)\n",
    "after = before.reshape((4,2))\n",
    "print(after)\n",
    "print()\n",
    "#Transpose\n",
    "print(after.T)\n"
   ]
  },
  {
   "cell_type": "code",
   "execution_count": 133,
   "metadata": {},
   "outputs": [
    {
     "name": "stdout",
     "output_type": "stream",
     "text": [
      "[[ 1  2  3]\n",
      " [ 4  5  6]\n",
      " [ 7  8  9]\n",
      " [10 11 12]]\n",
      "\n",
      "[[ 1  2  3]\n",
      " [ 4  5  6]\n",
      " [ 7  8  9]\n",
      " [10 11 12]\n",
      " [ 7  8  9]\n",
      " [10 11 12]\n",
      " [ 7  8  9]\n",
      " [10 11 12]]\n",
      "\n",
      "[[ 1  2  3  7  8  9  7  8  9  7  8  9]\n",
      " [ 4  5  6 10 11 12 10 11 12 10 11 12]]\n",
      "\n"
     ]
    }
   ],
   "source": [
    "#Stacking\n",
    "arr1 = np.array([[1,2,3],[4,5,6]])\n",
    "arr2 = np.array([[7,8,9],[10,11,12]])\n",
    "print(np.vstack([arr1,arr2]))\n",
    "print()\n",
    "print(np.vstack([arr1,arr2,arr2,arr2]))\n",
    "print()\n",
    "print(np.hstack([arr1,arr2,arr2,arr2]))\n",
    "print()"
   ]
  },
  {
   "cell_type": "code",
   "execution_count": 155,
   "metadata": {},
   "outputs": [
    {
     "name": "stdout",
     "output_type": "stream",
     "text": [
      "[5 8 5 9]\n",
      "\n",
      "[[ 1.  2.  3.  4.  5.  6.  7.  8.  9. 10.]\n",
      " [11. 12. 13. 14. 15. 16. 17. 18. 19. 20.]\n",
      " [21. 22. 23. 24. 25. 26. 27. 28. 29. 30.]]\n",
      "[[False False False False False False False False False False]\n",
      " [False False False False False False False False False False]\n",
      " [False False False False False False False False False False]]\n"
     ]
    }
   ],
   "source": [
    "a = np.array([1,2,3,4,5,8,5,9])\n",
    "print(a[a>4])\n",
    "print()\n",
    "#Miscellaneous\n",
    "#load data from files\n",
    "arr = np.genfromtxt(r'C:\\Users\\malla\\OneDrive\\Desktop\\Sample.txt',delimiter=',')\n",
    "print(arr)\n",
    "print(arr>31)\n"
   ]
  }
 ],
 "metadata": {
  "kernelspec": {
   "display_name": "Python 3",
   "language": "python",
   "name": "python3"
  },
  "language_info": {
   "codemirror_mode": {
    "name": "ipython",
    "version": 3
   },
   "file_extension": ".py",
   "mimetype": "text/x-python",
   "name": "python",
   "nbconvert_exporter": "python",
   "pygments_lexer": "ipython3",
   "version": "3.7.6"
  }
 },
 "nbformat": 4,
 "nbformat_minor": 4
}
