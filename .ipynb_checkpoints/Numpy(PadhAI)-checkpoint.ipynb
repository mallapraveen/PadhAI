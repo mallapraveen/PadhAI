{
 "cells": [
  {
   "cell_type": "markdown",
   "metadata": {},
   "source": [
    "### Comparing performance with lists,etc.."
   ]
  },
  {
   "cell_type": "code",
   "execution_count": 2,
   "metadata": {},
   "outputs": [],
   "source": [
    "import numpy as np\n",
    "N = 100000000"
   ]
  },
  {
   "cell_type": "code",
   "execution_count": 3,
   "metadata": {},
   "outputs": [
    {
     "name": "stdout",
     "output_type": "stream",
     "text": [
      "Wall time: 40.2 s\n"
     ]
    }
   ],
   "source": [
    "%%time\n",
    "list_ = list(range(N))\n",
    "for i in range(N):\n",
    "    list_[i]=list_[i]*list_[i]"
   ]
  },
  {
   "cell_type": "code",
   "execution_count": 2,
   "metadata": {},
   "outputs": [
    {
     "name": "stdout",
     "output_type": "stream",
     "text": [
      "Wall time: 27.1 s\n"
     ]
    }
   ],
   "source": [
    "%%time\n",
    "N = 100000000\n",
    "list_ = list(range(N))\n",
    "list_ = [item*item for item in list_]"
   ]
  },
  {
   "cell_type": "code",
   "execution_count": 5,
   "metadata": {},
   "outputs": [
    {
     "name": "stdout",
     "output_type": "stream",
     "text": [
      "Wall time: 7.01 s\n"
     ]
    }
   ],
   "source": [
    "%%time\n",
    "list_ = list(range(N))\n",
    "list_ = map(lambda x:x*x,list_)"
   ]
  },
  {
   "cell_type": "code",
   "execution_count": 6,
   "metadata": {},
   "outputs": [
    {
     "name": "stdout",
     "output_type": "stream",
     "text": [
      "4999999950000000\n",
      "Wall time: 29.4 s\n"
     ]
    }
   ],
   "source": [
    "%%time\n",
    "list_ = list(range(N))\n",
    "list_sum = 0\n",
    "for i in list_:\n",
    "    list_sum+=i\n",
    "print(list_sum)"
   ]
  },
  {
   "cell_type": "code",
   "execution_count": 7,
   "metadata": {},
   "outputs": [
    {
     "name": "stdout",
     "output_type": "stream",
     "text": [
      "Wall time: 12.8 s\n"
     ]
    }
   ],
   "source": [
    "%%time\n",
    "list_ = list(range(N))\n",
    "list_sum=sum(list_)"
   ]
  },
  {
   "cell_type": "code",
   "execution_count": 10,
   "metadata": {},
   "outputs": [
    {
     "name": "stdout",
     "output_type": "stream",
     "text": [
      "[       0        1        2 ... 99999997 99999998 99999999]\n",
      "Wall time: 991 ms\n"
     ]
    }
   ],
   "source": [
    "%%time\n",
    "arr = np.arange(N)\n",
    "print(arr)\n",
    "arr = arr*arr"
   ]
  },
  {
   "cell_type": "code",
   "execution_count": 11,
   "metadata": {},
   "outputs": [
    {
     "name": "stdout",
     "output_type": "stream",
     "text": [
      "Wall time: 565 ms\n"
     ]
    }
   ],
   "source": [
    "%%time\n",
    "arr = np.arange(N)\n",
    "arr_sum = np.sum(arr)"
   ]
  },
  {
   "cell_type": "code",
   "execution_count": 3,
   "metadata": {},
   "outputs": [
    {
     "name": "stdout",
     "output_type": "stream",
     "text": [
      "[0 1 2 3 4]\n",
      "<class 'numpy.ndarray'>\n",
      "int16\n",
      "1\n",
      "(5,)\n",
      "5\n",
      "4\n",
      "\n",
      "\n",
      "[10 12 14 16 18 20 22 24 26 28 30 32 34 36 38 40 42 44 46 48 50 52 54 56\n",
      " 58 60 62 64 66 68]\n",
      "[ 7.    14.875 22.75  30.625 38.5   46.375 54.25  62.125 70.   ]\n",
      "['hello' '1.6' '8.9']\n",
      "<U5\n",
      "[5.6 1.6 8.9] float64\n"
     ]
    }
   ],
   "source": [
    "arr = np.arange(5,dtype='int16')\n",
    "print(arr)\n",
    "print(type(arr))\n",
    "print(arr.dtype)\n",
    "arr = np.array([2,3,4,6,7])\n",
    "print(arr.ndim)\n",
    "print(arr.shape)\n",
    "print(arr.size)\n",
    "print(arr.itemsize)\n",
    "print()\n",
    "print()\n",
    "# 3rd argument = step size\n",
    "print(np.arange(10,70,2))\n",
    "# 3 argument = no. of elements\n",
    "print(np.linspace(7,70,9))\n",
    "# unicode values\n",
    "uni = np.array(['hello','1.6','8.9'])\n",
    "print(uni)\n",
    "print(uni.dtype)\n",
    "str_arr = np.array(['5.6','1.6','8.9'])\n",
    "arr = np.array(str_arr,dtype='float')\n",
    "print(arr,arr.dtype)\n",
    "# <U5  ( 5 represents lenght of string)"
   ]
  },
  {
   "cell_type": "code",
   "execution_count": 28,
   "metadata": {},
   "outputs": [
    {
     "name": "stdout",
     "output_type": "stream",
     "text": [
      "[[[ 1  2  3]\n",
      "  [ 4  5  6]\n",
      "  [ 7  8  9]]\n",
      "\n",
      " [[10 11 12]\n",
      "  [13 14 15]\n",
      "  [16 17 18]]\n",
      "\n",
      " [[19 20 21]\n",
      "  [22 23 24]\n",
      "  [25 26 27]]]\n",
      "3\n",
      "27\n",
      "(3, 3, 3)\n"
     ]
    }
   ],
   "source": [
    "arr3d = np.array([\n",
    "    [\n",
    "        [1,2,3],[4,5,6],[7,8,9]\n",
    "    ],\n",
    "    [\n",
    "        [10,11,12],[13,14,15],[16,17,18]\n",
    "    ],\n",
    "    [\n",
    "        [19,20,21],[22,23,24],[25,26,27]\n",
    "    ]\n",
    "])\n",
    "print(arr3d)\n",
    "print(arr3d.ndim)\n",
    "print(arr3d.size)\n",
    "print(arr3d.shape)"
   ]
  },
  {
   "cell_type": "code",
   "execution_count": 37,
   "metadata": {},
   "outputs": [
    {
     "name": "stdout",
     "output_type": "stream",
     "text": [
      "[[99. 99.]\n",
      " [99. 99.]]\n",
      "[[0. 0.]\n",
      " [0. 0.]]\n",
      "[[ 5.67470754 10.44304201 46.5548501 ]\n",
      " [98.52346022 28.37020138 26.2661511 ]]\n"
     ]
    }
   ],
   "source": [
    "print(99*np.ones((2,2)))\n",
    "print(np.zeros((2,2)))\n",
    "print(99*np.random.rand(2,3))"
   ]
  },
  {
   "cell_type": "markdown",
   "metadata": {},
   "source": [
    "# Normal distribution with mean zero and variance one"
   ]
  },
  {
   "cell_type": "code",
   "execution_count": 42,
   "metadata": {},
   "outputs": [
    {
     "data": {
      "text/plain": [
       "array([[-1.7840102 ,  1.05827105,  1.31968508],\n",
       "       [-0.74735836,  1.31938037, -1.55677517],\n",
       "       [-0.99298437,  0.97401374,  0.56214515]])"
      ]
     },
     "execution_count": 42,
     "metadata": {},
     "output_type": "execute_result"
    }
   ],
   "source": [
    "np.random.randn(3,3)"
   ]
  },
  {
   "cell_type": "markdown",
   "metadata": {},
   "source": [
    "# Uniformally sampled between 0 and 1"
   ]
  },
  {
   "cell_type": "code",
   "execution_count": 44,
   "metadata": {},
   "outputs": [
    {
     "name": "stdout",
     "output_type": "stream",
     "text": [
      "[[0.05336389 0.28231343 0.01261848]\n",
      " [0.62072268 0.5760356  0.48038743]\n",
      " [0.89563895 0.46432424 0.08291442]]\n"
     ]
    }
   ],
   "source": [
    "print(np.random.rand(3,3))"
   ]
  },
  {
   "cell_type": "code",
   "execution_count": 5,
   "metadata": {},
   "outputs": [
    {
     "name": "stdout",
     "output_type": "stream",
     "text": [
      "[[0 0 0]\n",
      " [0 0 0]\n",
      " [0 0 0]]\n"
     ]
    }
   ],
   "source": [
    "print(np.random.randint(0,1,(3,3)))"
   ]
  },
  {
   "cell_type": "code",
   "execution_count": 69,
   "metadata": {},
   "outputs": [
    {
     "name": "stdout",
     "output_type": "stream",
     "text": [
      "[[0. 0. 0.]\n",
      " [0. 0. 0.]\n",
      " [0. 0. 0.]]\n",
      "[[1.99303093 1.30640134 1.22028988]\n",
      " [1.73275297 2.16762    1.18979404]\n",
      " [1.51377894 1.50782307 1.02760116]]\n",
      "[[-0.37156154 -1.31947238 -1.61400616]\n",
      " [-0.59836177 -0.25666182 -1.7499639 ]\n",
      " [-0.88041905 -0.88997277 -3.60354177]]\n",
      "[[0.63627227 0.26410541 0.19777585]\n",
      " [0.52244121 0.69873651 0.17290685]\n",
      " [0.40283221 0.3992209  0.02722376]]\n",
      "[[0.83045563 0.5169877  0.44619327]\n",
      " [0.74142528 0.87956227 0.41686954]\n",
      " [0.64390149 0.640833   0.16500642]]\n"
     ]
    }
   ],
   "source": [
    "arr1 = np.zeros((3,3))\n",
    "arr2 = np.random.rand(3,3)\n",
    "print(arr1*arr2)\n",
    "print(np.exp(arr2))\n",
    "print(np.log(arr2))\n",
    "print(np.sin(arr2))\n",
    "print(np.sqrt(arr2))"
   ]
  },
  {
   "cell_type": "code",
   "execution_count": 107,
   "metadata": {},
   "outputs": [
    {
     "name": "stdout",
     "output_type": "stream",
     "text": [
      "[[inf inf inf]\n",
      " [inf inf inf]\n",
      " [inf inf inf]]\n",
      "[[ True  True  True]\n",
      " [ True  True  True]\n",
      " [ True  True  True]]\n",
      "0.6627426984597053\n"
     ]
    },
    {
     "name": "stderr",
     "output_type": "stream",
     "text": [
      "C:\\Users\\malla\\anaconda3\\lib\\site-packages\\ipykernel_launcher.py:2: RuntimeWarning: divide by zero encountered in true_divide\n",
      "  \n"
     ]
    }
   ],
   "source": [
    "arr1 = np.zeros((3,3))\n",
    "arr2 = 1/arr1\n",
    "print(arr2)\n",
    "print(np.isinf(arr2))\n",
    "arr = np.random.rand(1,2)"
   ]
  },
  {
   "cell_type": "markdown",
   "metadata": {},
   "source": [
    "### Exercise on finding number of points outside n-dimensional sphere"
   ]
  },
  {
   "cell_type": "code",
   "execution_count": 9,
   "metadata": {},
   "outputs": [
    {
     "name": "stdout",
     "output_type": "stream",
     "text": [
      "0.21337\n",
      "Wall time: 1.49 s\n"
     ]
    }
   ],
   "source": [
    "%%time\n",
    "ndim = 2\n",
    "npoints = 100000\n",
    "points = np.random.rand(npoints,ndim)\n",
    "points = points*points\n",
    "dfo = np.zeros((npoints,1))\n",
    "for i in range(npoints):\n",
    "    for j in range(ndim):\n",
    "        dfo[i] += points[i][j]\n",
    "arr = np.sqrt(dfo)\n",
    "s= arr[arr>=1].size\n",
    "print(s/npoints)"
   ]
  },
  {
   "cell_type": "code",
   "execution_count": 16,
   "metadata": {},
   "outputs": [
    {
     "name": "stdout",
     "output_type": "stream",
     "text": [
      "0.21461944\n",
      "Wall time: 10.9 s\n"
     ]
    }
   ],
   "source": [
    "%%time\n",
    "ndim = 2\n",
    "npoints = 100000000\n",
    "points = np.random.rand(npoints,ndim)\n",
    "points = points*points\n",
    "dfo = np.sum(points,axis=1)\n",
    "arr = np.sqrt(dfo)\n",
    "s= np.sum(dfo>1)\n",
    "print(s/npoints)"
   ]
  },
  {
   "cell_type": "code",
   "execution_count": 26,
   "metadata": {},
   "outputs": [
    {
     "name": "stdout",
     "output_type": "stream",
     "text": [
      "0.215148\n",
      "0.47637\n",
      "0.691552\n",
      "0.835477\n",
      "0.91922\n",
      "0.96303\n",
      "0.984024\n",
      "0.993707\n",
      "Wall time: 1.84 s\n"
     ]
    }
   ],
   "source": [
    "%%time\n",
    "def area_outside_square(npoints,ndim):\n",
    "    points = np.random.rand(npoints,ndim)\n",
    "    return np.sum(np.sqrt(np.sum(points*points,axis=1))>1)/npoints\n",
    "#print(area_outside_square(1000000,2))\n",
    "for i in range(2,10):\n",
    "    print(area_outside_square(1000000,i))"
   ]
  },
  {
   "cell_type": "code",
   "execution_count": 8,
   "metadata": {},
   "outputs": [
    {
     "name": "stdout",
     "output_type": "stream",
     "text": [
      "0.215147225246236\n",
      "Wall time: 3.39 s\n"
     ]
    }
   ],
   "source": [
    "%%time\n",
    "yellow = 0\n",
    "red = 0\n",
    "N = 100000\n",
    "while(N):\n",
    "    arr = np.random.rand(1,2)\n",
    "    if(arr[0][0]*arr[0][0]+arr[0][1]*arr[0][1]<=1):\n",
    "        red+=1\n",
    "    else:\n",
    "        yellow+=1\n",
    "        N-=1\n",
    "print(yellow/(yellow+red))"
   ]
  },
  {
   "cell_type": "markdown",
   "metadata": {},
   "source": [
    "### Operations"
   ]
  },
  {
   "cell_type": "code",
   "execution_count": 377,
   "metadata": {},
   "outputs": [
    {
     "name": "stdout",
     "output_type": "stream",
     "text": [
      "[ 4  6  8 10 12 14 16 18 20 22 24 26]\n",
      "[[[ 1  2  3]\n",
      "  [ 4  5  6]\n",
      "  [ 7  8  9]]\n",
      "\n",
      " [[10 11 12]\n",
      "  [13 14 15]\n",
      "  [16 17 18]]\n",
      "\n",
      " [[19 20 21]\n",
      "  [22 23 24]\n",
      "  [25 26 27]]]\n"
     ]
    }
   ],
   "source": [
    "arr3d = np.array([\n",
    "    [\n",
    "        [1,2,3],[4,5,6],[7,8,9]\n",
    "    ],\n",
    "    [\n",
    "        [10,11,12],[13,14,15],[16,17,18]\n",
    "    ],\n",
    "    [\n",
    "        [19,20,21],[22,23,24],[25,26,27]\n",
    "    ]\n",
    "])\n",
    "print(arr3d[(arr3d % 2 == 0) & (arr3d > 3)])\n",
    "arr4d = arr3d.copy()\n",
    "print(arr4d)"
   ]
  },
  {
   "cell_type": "markdown",
   "metadata": {},
   "source": [
    "## Broadcasting"
   ]
  },
  {
   "cell_type": "code",
   "execution_count": 52,
   "metadata": {},
   "outputs": [
    {
     "name": "stdout",
     "output_type": "stream",
     "text": [
      "[[0 2]\n",
      " [2 4]\n",
      " [4 6]]\n",
      "[[0]\n",
      " [2]\n",
      " [4]]\n",
      "[[0 1]\n",
      " [4 5]\n",
      " [8 9]]\n",
      "[[1 2]\n",
      " [3 4]\n",
      " [5 6]]\n"
     ]
    }
   ],
   "source": [
    "arr = np.arange(6)\n",
    "#print(arr)\n",
    "arr = arr.reshape((3,2))\n",
    "#print(arr)\n",
    "arr2 = np.arange(6).reshape((3,2))\n",
    "#print(arr2)\n",
    "print(arr + arr2[0].reshape((1,2)))  # (3,2) + (1,2)\n",
    "print(arr2[:,0].reshape((3,1)))\n",
    "print(arr + arr2[:,0].reshape((3,1)))\n",
    "print(arr+1)"
   ]
  },
  {
   "cell_type": "code",
   "execution_count": 65,
   "metadata": {},
   "outputs": [
    {
     "name": "stdout",
     "output_type": "stream",
     "text": [
      "[[[ 0  1  2  3]\n",
      "  [ 4  5  6  7]\n",
      "  [ 8  9 10 11]]\n",
      "\n",
      " [[12 13 14 15]\n",
      "  [16 17 18 19]\n",
      "  [20 21 22 23]]]\n",
      "[[[ 1.  2.  3.  4.]\n",
      "  [ 5.  6.  7.  8.]\n",
      "  [ 9. 10. 11. 12.]]\n",
      "\n",
      " [[13. 14. 15. 16.]\n",
      "  [17. 18. 19. 20.]\n",
      "  [21. 22. 23. 24.]]]\n",
      "\n",
      "\n",
      "[[0 1 2 3 4]\n",
      " [1 2 3 4 5]\n",
      " [2 3 4 5 6]\n",
      " [3 4 5 6 7]]\n"
     ]
    }
   ],
   "source": [
    "arr1 = np.arange(24).reshape(2,3,4)\n",
    "print(arr1)\n",
    "arr2 = np.ones((1,4))\n",
    "print(arr1+arr2)   # (2,3,4) + (1,4)\n",
    "print()\n",
    "print()\n",
    "\n",
    "arr1 = np.arange(4).reshape(4,1)   ##  arr1.T  (For Transpose)\n",
    "arr2 = np.arange(5)\n",
    "print(arr1+arr2)"
   ]
  },
  {
   "cell_type": "markdown",
   "metadata": {},
   "source": [
    "## File Handling"
   ]
  },
  {
   "cell_type": "code",
   "execution_count": 82,
   "metadata": {},
   "outputs": [
    {
     "ename": "ValueError",
     "evalue": "could not convert string to float: 'MERCURY'",
     "output_type": "error",
     "traceback": [
      "\u001b[1;31m---------------------------------------------------------------------------\u001b[0m",
      "\u001b[1;31mValueError\u001b[0m                                Traceback (most recent call last)",
      "\u001b[1;32m<ipython-input-82-126a7b6be461>\u001b[0m in \u001b[0;36m<module>\u001b[1;34m\u001b[0m\n\u001b[1;32m----> 1\u001b[1;33m \u001b[0mplanets_small\u001b[0m \u001b[1;33m=\u001b[0m \u001b[0mnp\u001b[0m\u001b[1;33m.\u001b[0m\u001b[0mloadtxt\u001b[0m\u001b[1;33m(\u001b[0m\u001b[1;34mr\"C:\\Users\\malla\\OneDrive\\Desktop\\PadhAI\\planets_small.txt\"\u001b[0m\u001b[1;33m)\u001b[0m\u001b[1;33m\u001b[0m\u001b[1;33m\u001b[0m\u001b[0m\n\u001b[0m\u001b[0;32m      2\u001b[0m \u001b[0mprint\u001b[0m\u001b[1;33m(\u001b[0m\u001b[0mplanets_small\u001b[0m\u001b[1;33m)\u001b[0m\u001b[1;33m\u001b[0m\u001b[1;33m\u001b[0m\u001b[0m\n",
      "\u001b[1;32m~\\anaconda3\\lib\\site-packages\\numpy\\lib\\npyio.py\u001b[0m in \u001b[0;36mloadtxt\u001b[1;34m(fname, dtype, comments, delimiter, converters, skiprows, usecols, unpack, ndmin, encoding, max_rows)\u001b[0m\n\u001b[0;32m   1157\u001b[0m         \u001b[1;31m# converting the data\u001b[0m\u001b[1;33m\u001b[0m\u001b[1;33m\u001b[0m\u001b[1;33m\u001b[0m\u001b[0m\n\u001b[0;32m   1158\u001b[0m         \u001b[0mX\u001b[0m \u001b[1;33m=\u001b[0m \u001b[1;32mNone\u001b[0m\u001b[1;33m\u001b[0m\u001b[1;33m\u001b[0m\u001b[0m\n\u001b[1;32m-> 1159\u001b[1;33m         \u001b[1;32mfor\u001b[0m \u001b[0mx\u001b[0m \u001b[1;32min\u001b[0m \u001b[0mread_data\u001b[0m\u001b[1;33m(\u001b[0m\u001b[0m_loadtxt_chunksize\u001b[0m\u001b[1;33m)\u001b[0m\u001b[1;33m:\u001b[0m\u001b[1;33m\u001b[0m\u001b[1;33m\u001b[0m\u001b[0m\n\u001b[0m\u001b[0;32m   1160\u001b[0m             \u001b[1;32mif\u001b[0m \u001b[0mX\u001b[0m \u001b[1;32mis\u001b[0m \u001b[1;32mNone\u001b[0m\u001b[1;33m:\u001b[0m\u001b[1;33m\u001b[0m\u001b[1;33m\u001b[0m\u001b[0m\n\u001b[0;32m   1161\u001b[0m                 \u001b[0mX\u001b[0m \u001b[1;33m=\u001b[0m \u001b[0mnp\u001b[0m\u001b[1;33m.\u001b[0m\u001b[0marray\u001b[0m\u001b[1;33m(\u001b[0m\u001b[0mx\u001b[0m\u001b[1;33m,\u001b[0m \u001b[0mdtype\u001b[0m\u001b[1;33m)\u001b[0m\u001b[1;33m\u001b[0m\u001b[1;33m\u001b[0m\u001b[0m\n",
      "\u001b[1;32m~\\anaconda3\\lib\\site-packages\\numpy\\lib\\npyio.py\u001b[0m in \u001b[0;36mread_data\u001b[1;34m(chunk_size)\u001b[0m\n\u001b[0;32m   1085\u001b[0m \u001b[1;33m\u001b[0m\u001b[0m\n\u001b[0;32m   1086\u001b[0m             \u001b[1;31m# Convert each value according to its column and store\u001b[0m\u001b[1;33m\u001b[0m\u001b[1;33m\u001b[0m\u001b[1;33m\u001b[0m\u001b[0m\n\u001b[1;32m-> 1087\u001b[1;33m             \u001b[0mitems\u001b[0m \u001b[1;33m=\u001b[0m \u001b[1;33m[\u001b[0m\u001b[0mconv\u001b[0m\u001b[1;33m(\u001b[0m\u001b[0mval\u001b[0m\u001b[1;33m)\u001b[0m \u001b[1;32mfor\u001b[0m \u001b[1;33m(\u001b[0m\u001b[0mconv\u001b[0m\u001b[1;33m,\u001b[0m \u001b[0mval\u001b[0m\u001b[1;33m)\u001b[0m \u001b[1;32min\u001b[0m \u001b[0mzip\u001b[0m\u001b[1;33m(\u001b[0m\u001b[0mconverters\u001b[0m\u001b[1;33m,\u001b[0m \u001b[0mvals\u001b[0m\u001b[1;33m)\u001b[0m\u001b[1;33m]\u001b[0m\u001b[1;33m\u001b[0m\u001b[1;33m\u001b[0m\u001b[0m\n\u001b[0m\u001b[0;32m   1088\u001b[0m \u001b[1;33m\u001b[0m\u001b[0m\n\u001b[0;32m   1089\u001b[0m             \u001b[1;31m# Then pack it according to the dtype's nesting\u001b[0m\u001b[1;33m\u001b[0m\u001b[1;33m\u001b[0m\u001b[1;33m\u001b[0m\u001b[0m\n",
      "\u001b[1;32m~\\anaconda3\\lib\\site-packages\\numpy\\lib\\npyio.py\u001b[0m in \u001b[0;36m<listcomp>\u001b[1;34m(.0)\u001b[0m\n\u001b[0;32m   1085\u001b[0m \u001b[1;33m\u001b[0m\u001b[0m\n\u001b[0;32m   1086\u001b[0m             \u001b[1;31m# Convert each value according to its column and store\u001b[0m\u001b[1;33m\u001b[0m\u001b[1;33m\u001b[0m\u001b[1;33m\u001b[0m\u001b[0m\n\u001b[1;32m-> 1087\u001b[1;33m             \u001b[0mitems\u001b[0m \u001b[1;33m=\u001b[0m \u001b[1;33m[\u001b[0m\u001b[0mconv\u001b[0m\u001b[1;33m(\u001b[0m\u001b[0mval\u001b[0m\u001b[1;33m)\u001b[0m \u001b[1;32mfor\u001b[0m \u001b[1;33m(\u001b[0m\u001b[0mconv\u001b[0m\u001b[1;33m,\u001b[0m \u001b[0mval\u001b[0m\u001b[1;33m)\u001b[0m \u001b[1;32min\u001b[0m \u001b[0mzip\u001b[0m\u001b[1;33m(\u001b[0m\u001b[0mconverters\u001b[0m\u001b[1;33m,\u001b[0m \u001b[0mvals\u001b[0m\u001b[1;33m)\u001b[0m\u001b[1;33m]\u001b[0m\u001b[1;33m\u001b[0m\u001b[1;33m\u001b[0m\u001b[0m\n\u001b[0m\u001b[0;32m   1088\u001b[0m \u001b[1;33m\u001b[0m\u001b[0m\n\u001b[0;32m   1089\u001b[0m             \u001b[1;31m# Then pack it according to the dtype's nesting\u001b[0m\u001b[1;33m\u001b[0m\u001b[1;33m\u001b[0m\u001b[1;33m\u001b[0m\u001b[0m\n",
      "\u001b[1;32m~\\anaconda3\\lib\\site-packages\\numpy\\lib\\npyio.py\u001b[0m in \u001b[0;36mfloatconv\u001b[1;34m(x)\u001b[0m\n\u001b[0;32m    792\u001b[0m         \u001b[1;32mif\u001b[0m \u001b[1;34m'0x'\u001b[0m \u001b[1;32min\u001b[0m \u001b[0mx\u001b[0m\u001b[1;33m:\u001b[0m\u001b[1;33m\u001b[0m\u001b[1;33m\u001b[0m\u001b[0m\n\u001b[0;32m    793\u001b[0m             \u001b[1;32mreturn\u001b[0m \u001b[0mfloat\u001b[0m\u001b[1;33m.\u001b[0m\u001b[0mfromhex\u001b[0m\u001b[1;33m(\u001b[0m\u001b[0mx\u001b[0m\u001b[1;33m)\u001b[0m\u001b[1;33m\u001b[0m\u001b[1;33m\u001b[0m\u001b[0m\n\u001b[1;32m--> 794\u001b[1;33m         \u001b[1;32mreturn\u001b[0m \u001b[0mfloat\u001b[0m\u001b[1;33m(\u001b[0m\u001b[0mx\u001b[0m\u001b[1;33m)\u001b[0m\u001b[1;33m\u001b[0m\u001b[1;33m\u001b[0m\u001b[0m\n\u001b[0m\u001b[0;32m    795\u001b[0m \u001b[1;33m\u001b[0m\u001b[0m\n\u001b[0;32m    796\u001b[0m     \u001b[0mtyp\u001b[0m \u001b[1;33m=\u001b[0m \u001b[0mdtype\u001b[0m\u001b[1;33m.\u001b[0m\u001b[0mtype\u001b[0m\u001b[1;33m\u001b[0m\u001b[1;33m\u001b[0m\u001b[0m\n",
      "\u001b[1;31mValueError\u001b[0m: could not convert string to float: 'MERCURY'"
     ]
    }
   ],
   "source": [
    "planets_small = np.loadtxt(r\"C:\\Users\\malla\\OneDrive\\Desktop\\PadhAI\\planets_small.txt\")\n",
    "print(planets_small)"
   ]
  },
  {
   "cell_type": "code",
   "execution_count": 87,
   "metadata": {},
   "outputs": [
    {
     "ename": "ValueError",
     "evalue": "could not convert string to float: 'Mass'",
     "output_type": "error",
     "traceback": [
      "\u001b[1;31m---------------------------------------------------------------------------\u001b[0m",
      "\u001b[1;31mValueError\u001b[0m                                Traceback (most recent call last)",
      "\u001b[1;32m<ipython-input-87-9952d92e0516>\u001b[0m in \u001b[0;36m<module>\u001b[1;34m\u001b[0m\n\u001b[1;32m----> 1\u001b[1;33m \u001b[0mplanets_small\u001b[0m \u001b[1;33m=\u001b[0m \u001b[0mnp\u001b[0m\u001b[1;33m.\u001b[0m\u001b[0mloadtxt\u001b[0m\u001b[1;33m(\u001b[0m\u001b[1;34mr\"C:\\Users\\malla\\OneDrive\\Desktop\\PadhAI\\planets_small.txt\"\u001b[0m\u001b[1;33m,\u001b[0m\u001b[0mskiprows\u001b[0m\u001b[1;33m=\u001b[0m\u001b[1;36m1\u001b[0m\u001b[1;33m)\u001b[0m\u001b[1;33m\u001b[0m\u001b[1;33m\u001b[0m\u001b[0m\n\u001b[0m\u001b[0;32m      2\u001b[0m \u001b[0mprint\u001b[0m\u001b[1;33m(\u001b[0m\u001b[0mplanets_small\u001b[0m\u001b[1;33m)\u001b[0m\u001b[1;33m\u001b[0m\u001b[1;33m\u001b[0m\u001b[0m\n",
      "\u001b[1;32m~\\anaconda3\\lib\\site-packages\\numpy\\lib\\npyio.py\u001b[0m in \u001b[0;36mloadtxt\u001b[1;34m(fname, dtype, comments, delimiter, converters, skiprows, usecols, unpack, ndmin, encoding, max_rows)\u001b[0m\n\u001b[0;32m   1157\u001b[0m         \u001b[1;31m# converting the data\u001b[0m\u001b[1;33m\u001b[0m\u001b[1;33m\u001b[0m\u001b[1;33m\u001b[0m\u001b[0m\n\u001b[0;32m   1158\u001b[0m         \u001b[0mX\u001b[0m \u001b[1;33m=\u001b[0m \u001b[1;32mNone\u001b[0m\u001b[1;33m\u001b[0m\u001b[1;33m\u001b[0m\u001b[0m\n\u001b[1;32m-> 1159\u001b[1;33m         \u001b[1;32mfor\u001b[0m \u001b[0mx\u001b[0m \u001b[1;32min\u001b[0m \u001b[0mread_data\u001b[0m\u001b[1;33m(\u001b[0m\u001b[0m_loadtxt_chunksize\u001b[0m\u001b[1;33m)\u001b[0m\u001b[1;33m:\u001b[0m\u001b[1;33m\u001b[0m\u001b[1;33m\u001b[0m\u001b[0m\n\u001b[0m\u001b[0;32m   1160\u001b[0m             \u001b[1;32mif\u001b[0m \u001b[0mX\u001b[0m \u001b[1;32mis\u001b[0m \u001b[1;32mNone\u001b[0m\u001b[1;33m:\u001b[0m\u001b[1;33m\u001b[0m\u001b[1;33m\u001b[0m\u001b[0m\n\u001b[0;32m   1161\u001b[0m                 \u001b[0mX\u001b[0m \u001b[1;33m=\u001b[0m \u001b[0mnp\u001b[0m\u001b[1;33m.\u001b[0m\u001b[0marray\u001b[0m\u001b[1;33m(\u001b[0m\u001b[0mx\u001b[0m\u001b[1;33m,\u001b[0m \u001b[0mdtype\u001b[0m\u001b[1;33m)\u001b[0m\u001b[1;33m\u001b[0m\u001b[1;33m\u001b[0m\u001b[0m\n",
      "\u001b[1;32m~\\anaconda3\\lib\\site-packages\\numpy\\lib\\npyio.py\u001b[0m in \u001b[0;36mread_data\u001b[1;34m(chunk_size)\u001b[0m\n\u001b[0;32m   1085\u001b[0m \u001b[1;33m\u001b[0m\u001b[0m\n\u001b[0;32m   1086\u001b[0m             \u001b[1;31m# Convert each value according to its column and store\u001b[0m\u001b[1;33m\u001b[0m\u001b[1;33m\u001b[0m\u001b[1;33m\u001b[0m\u001b[0m\n\u001b[1;32m-> 1087\u001b[1;33m             \u001b[0mitems\u001b[0m \u001b[1;33m=\u001b[0m \u001b[1;33m[\u001b[0m\u001b[0mconv\u001b[0m\u001b[1;33m(\u001b[0m\u001b[0mval\u001b[0m\u001b[1;33m)\u001b[0m \u001b[1;32mfor\u001b[0m \u001b[1;33m(\u001b[0m\u001b[0mconv\u001b[0m\u001b[1;33m,\u001b[0m \u001b[0mval\u001b[0m\u001b[1;33m)\u001b[0m \u001b[1;32min\u001b[0m \u001b[0mzip\u001b[0m\u001b[1;33m(\u001b[0m\u001b[0mconverters\u001b[0m\u001b[1;33m,\u001b[0m \u001b[0mvals\u001b[0m\u001b[1;33m)\u001b[0m\u001b[1;33m]\u001b[0m\u001b[1;33m\u001b[0m\u001b[1;33m\u001b[0m\u001b[0m\n\u001b[0m\u001b[0;32m   1088\u001b[0m \u001b[1;33m\u001b[0m\u001b[0m\n\u001b[0;32m   1089\u001b[0m             \u001b[1;31m# Then pack it according to the dtype's nesting\u001b[0m\u001b[1;33m\u001b[0m\u001b[1;33m\u001b[0m\u001b[1;33m\u001b[0m\u001b[0m\n",
      "\u001b[1;32m~\\anaconda3\\lib\\site-packages\\numpy\\lib\\npyio.py\u001b[0m in \u001b[0;36m<listcomp>\u001b[1;34m(.0)\u001b[0m\n\u001b[0;32m   1085\u001b[0m \u001b[1;33m\u001b[0m\u001b[0m\n\u001b[0;32m   1086\u001b[0m             \u001b[1;31m# Convert each value according to its column and store\u001b[0m\u001b[1;33m\u001b[0m\u001b[1;33m\u001b[0m\u001b[1;33m\u001b[0m\u001b[0m\n\u001b[1;32m-> 1087\u001b[1;33m             \u001b[0mitems\u001b[0m \u001b[1;33m=\u001b[0m \u001b[1;33m[\u001b[0m\u001b[0mconv\u001b[0m\u001b[1;33m(\u001b[0m\u001b[0mval\u001b[0m\u001b[1;33m)\u001b[0m \u001b[1;32mfor\u001b[0m \u001b[1;33m(\u001b[0m\u001b[0mconv\u001b[0m\u001b[1;33m,\u001b[0m \u001b[0mval\u001b[0m\u001b[1;33m)\u001b[0m \u001b[1;32min\u001b[0m \u001b[0mzip\u001b[0m\u001b[1;33m(\u001b[0m\u001b[0mconverters\u001b[0m\u001b[1;33m,\u001b[0m \u001b[0mvals\u001b[0m\u001b[1;33m)\u001b[0m\u001b[1;33m]\u001b[0m\u001b[1;33m\u001b[0m\u001b[1;33m\u001b[0m\u001b[0m\n\u001b[0m\u001b[0;32m   1088\u001b[0m \u001b[1;33m\u001b[0m\u001b[0m\n\u001b[0;32m   1089\u001b[0m             \u001b[1;31m# Then pack it according to the dtype's nesting\u001b[0m\u001b[1;33m\u001b[0m\u001b[1;33m\u001b[0m\u001b[1;33m\u001b[0m\u001b[0m\n",
      "\u001b[1;32m~\\anaconda3\\lib\\site-packages\\numpy\\lib\\npyio.py\u001b[0m in \u001b[0;36mfloatconv\u001b[1;34m(x)\u001b[0m\n\u001b[0;32m    792\u001b[0m         \u001b[1;32mif\u001b[0m \u001b[1;34m'0x'\u001b[0m \u001b[1;32min\u001b[0m \u001b[0mx\u001b[0m\u001b[1;33m:\u001b[0m\u001b[1;33m\u001b[0m\u001b[1;33m\u001b[0m\u001b[0m\n\u001b[0;32m    793\u001b[0m             \u001b[1;32mreturn\u001b[0m \u001b[0mfloat\u001b[0m\u001b[1;33m.\u001b[0m\u001b[0mfromhex\u001b[0m\u001b[1;33m(\u001b[0m\u001b[0mx\u001b[0m\u001b[1;33m)\u001b[0m\u001b[1;33m\u001b[0m\u001b[1;33m\u001b[0m\u001b[0m\n\u001b[1;32m--> 794\u001b[1;33m         \u001b[1;32mreturn\u001b[0m \u001b[0mfloat\u001b[0m\u001b[1;33m(\u001b[0m\u001b[0mx\u001b[0m\u001b[1;33m)\u001b[0m\u001b[1;33m\u001b[0m\u001b[1;33m\u001b[0m\u001b[0m\n\u001b[0m\u001b[0;32m    795\u001b[0m \u001b[1;33m\u001b[0m\u001b[0m\n\u001b[0;32m    796\u001b[0m     \u001b[0mtyp\u001b[0m \u001b[1;33m=\u001b[0m \u001b[0mdtype\u001b[0m\u001b[1;33m.\u001b[0m\u001b[0mtype\u001b[0m\u001b[1;33m\u001b[0m\u001b[1;33m\u001b[0m\u001b[0m\n",
      "\u001b[1;31mValueError\u001b[0m: could not convert string to float: 'Mass'"
     ]
    }
   ],
   "source": [
    "planets_small = np.loadtxt(r\"C:\\Users\\malla\\OneDrive\\Desktop\\PadhAI\\planets_small.txt\",skiprows=1)\n",
    "print(planets_small)"
   ]
  },
  {
   "cell_type": "code",
   "execution_count": 98,
   "metadata": {},
   "outputs": [
    {
     "name": "stdout",
     "output_type": "stream",
     "text": [
      "[[3.3000e-01 4.8700e+00 5.9700e+00 6.4200e-01 1.8980e+03 5.6800e+02\n",
      "  8.6800e+01 1.0200e+02 1.4600e-02]\n",
      " [5.7900e+01 1.0820e+02 1.4960e+02 2.2790e+02 7.7860e+02 1.4335e+03\n",
      "  2.8725e+03 4.4951e+03 5.9064e+03]\n",
      " [4.2226e+03 2.8020e+03 2.4000e+01 2.4700e+01 9.9000e+00 1.0700e+01\n",
      "  1.7200e+01 1.6100e+01 1.5330e+02]]\n",
      "2\n"
     ]
    }
   ],
   "source": [
    "planets_small = np.loadtxt(r\"C:\\Users\\malla\\OneDrive\\Desktop\\PadhAI\\planets_small.txt\",skiprows=1,usecols=(1,2,3,4,5,6,7,8,9))\n",
    "print(planets_small)\n",
    "print(planets_small.ndim)"
   ]
  },
  {
   "cell_type": "code",
   "execution_count": 130,
   "metadata": {},
   "outputs": [
    {
     "name": "stdout",
     "output_type": "stream",
     "text": [
      "(20, 9)\n",
      "[[ 3.30000e-01  4.87000e+00  5.97000e+00  7.30000e-02  6.42000e-01\n",
      "   1.89800e+03  5.68000e+02  8.68000e+01  1.02000e+02]\n",
      " [ 4.87900e+03  1.21040e+04  1.27560e+04  3.47500e+03  6.79200e+03\n",
      "   1.42984e+05  1.20536e+05  5.11180e+04  4.95280e+04]\n",
      " [ 5.42700e+03  5.24300e+03  5.51400e+03  3.34000e+03  3.93300e+03\n",
      "   1.32600e+03  6.87000e+02  1.27100e+03  1.63800e+03]\n",
      " [ 3.70000e+00  8.90000e+00  9.80000e+00  1.60000e+00  3.70000e+00\n",
      "   2.31000e+01  9.00000e+00  8.70000e+00  1.10000e+01]\n",
      " [ 4.30000e+00  1.04000e+01  1.12000e+01  2.40000e+00  5.00000e+00\n",
      "   5.95000e+01  3.55000e+01  2.13000e+01  2.35000e+01]\n",
      " [ 1.40760e+03 -5.83250e+03  2.39000e+01  6.55700e+02  2.46000e+01\n",
      "   9.90000e+00  1.07000e+01 -1.72000e+01  1.61000e+01]\n",
      " [ 4.22260e+03  2.80200e+03  2.40000e+01  7.08700e+02  2.47000e+01\n",
      "   9.90000e+00  1.07000e+01  1.72000e+01  1.61000e+01]\n",
      " [ 5.79000e+01  1.08200e+02  1.49600e+02  3.84000e-01  2.27900e+02\n",
      "   7.78600e+02  1.43350e+03  2.87250e+03  4.49510e+03]\n",
      " [ 4.60000e+01  1.07500e+02  1.47100e+02  3.63000e-01  2.06600e+02\n",
      "   7.40500e+02  1.35260e+03  2.74130e+03  4.44450e+03]\n",
      " [ 6.98000e+01  1.08900e+02  1.52100e+02  4.06000e-01  2.49200e+02\n",
      "   8.16600e+02  1.51450e+03  3.00360e+03  4.54570e+03]\n",
      " [ 8.80000e+01  2.24700e+02  3.65200e+02  2.73000e+01  6.87000e+02\n",
      "   4.33100e+03  1.07470e+04  3.05890e+04  5.98000e+04]\n",
      " [ 4.74000e+01  3.50000e+01  2.98000e+01  1.00000e+00  2.41000e+01\n",
      "   1.31000e+01  9.70000e+00  6.80000e+00  5.40000e+00]\n",
      " [ 7.00000e+00  3.40000e+00  0.00000e+00  5.10000e+00  1.90000e+00\n",
      "   1.30000e+00  2.50000e+00  8.00000e-01  1.80000e+00]\n",
      " [ 2.05000e-01  7.00000e-03  1.70000e-02  5.50000e-02  9.40000e-02\n",
      "   4.90000e-02  5.70000e-02  4.60000e-02  1.10000e-02]\n",
      " [ 3.40000e-02  1.77400e+02  2.34000e+01  6.70000e+00  2.52000e+01\n",
      "   3.10000e+00  2.67000e+01  9.78000e+01  2.83000e+01]\n",
      " [ 1.67000e+02  4.64000e+02  1.50000e+01 -2.00000e+01 -6.50000e+01\n",
      "  -1.10000e+02 -1.40000e+02 -1.95000e+02 -2.00000e+02]\n",
      " [ 0.00000e+00  9.20000e+01  1.00000e+00  0.00000e+00  1.00000e-02\n",
      "  -1.00000e+00 -1.00000e+00 -1.00000e+00 -1.00000e+00]\n",
      " [ 0.00000e+00  0.00000e+00  1.00000e+00  0.00000e+00  2.00000e+00\n",
      "   7.90000e+01  8.20000e+01  2.70000e+01  1.40000e+01]\n",
      " [ 0.00000e+00  0.00000e+00  0.00000e+00  0.00000e+00  0.00000e+00\n",
      "   1.00000e+00  1.00000e+00  1.00000e+00  1.00000e+00]\n",
      " [ 1.00000e+00  0.00000e+00  1.00000e+00  0.00000e+00  0.00000e+00\n",
      "   1.00000e+00  1.00000e+00  1.00000e+00  1.00000e+00]]\n"
     ]
    }
   ],
   "source": [
    "planets = np.genfromtxt(r\"C:\\Users\\malla\\OneDrive\\Desktop\\PadhAI\\planets.txt\",skip_header=1,usecols=(1,2,3,4,5,6,7,8,9))\n",
    "#print(planets)\n",
    "print(planets.shape)\n",
    "#print(np.isnan(planets))\n",
    "planets_new = np.nan_to_num(planets,nan=-1)\n",
    "print(planets_new)\n",
    "np.savetxt(r\"C:\\Users\\malla\\OneDrive\\Desktop\\PadhAI\\planets_new.txt\",planets_new,delimiter=',')\n",
    "np.save(r\"C:\\Users\\malla\\OneDrive\\Desktop\\PadhAI\\planets_new.txt\",planets_new)"
   ]
  },
  {
   "cell_type": "code",
   "execution_count": 147,
   "metadata": {},
   "outputs": [],
   "source": [
    "arr1 = np.random.rand(1000,10)\n",
    "arr2 = np.random.rand(2000,5)\n",
    "arr3 = np.random.rand(20,10000)\n",
    "np.savez(r\"C:\\Users\\malla\\OneDrive\\Desktop\\PadhAI\\many_arrs\",arr1,arr2,arr3)\n",
    "arr1 = np.zeros((10000,10000))\n",
    "np.savez(r\"C:\\Users\\malla\\OneDrive\\Desktop\\PadhAI\\zeros\",arr1) ###size 760MB\n",
    "### Effective for sparse data or matrix\n",
    "np.savez_compressed(r\"C:\\Users\\malla\\OneDrive\\Desktop\\PadhAI\\zeros_compressed\",arr1)  ##size 750 KB"
   ]
  },
  {
   "cell_type": "code",
   "execution_count": 143,
   "metadata": {},
   "outputs": [
    {
     "name": "stdout",
     "output_type": "stream",
     "text": [
      "<class 'numpy.lib.npyio.NpzFile'>\n",
      "['arr_0', 'arr_1', 'arr_2']\n",
      "[[0.60287514 0.31617062 0.97129503 ... 0.08252848 0.10091189 0.6344419 ]\n",
      " [0.40872591 0.29705385 0.17254111 ... 0.94546034 0.49637816 0.10484945]\n",
      " [0.14614883 0.99386014 0.95926097 ... 0.0909683  0.3946388  0.55244893]\n",
      " ...\n",
      " [0.91966683 0.59726618 0.63230401 ... 0.56064463 0.54739129 0.43452875]\n",
      " [0.53710338 0.09196392 0.4239161  ... 0.92105943 0.12226208 0.46155716]\n",
      " [0.59267077 0.92717116 0.12999002 ... 0.96631424 0.9852696  0.95476789]]\n",
      "(1000, 10)\n"
     ]
    }
   ],
   "source": [
    "arrs = np.load(r\"C:\\Users\\malla\\OneDrive\\Desktop\\PadhAI\\many_arrs.npz\")\n",
    "print(type(arrs))\n",
    "print(arrs.files)\n",
    "print(arrs['arr_0'])\n",
    "print(arrs['arr_0'].shape)"
   ]
  },
  {
   "cell_type": "markdown",
   "metadata": {},
   "source": [
    "## Stats with Numpy"
   ]
  },
  {
   "cell_type": "code",
   "execution_count": 216,
   "metadata": {},
   "outputs": [
    {
     "name": "stdout",
     "output_type": "stream",
     "text": [
      "5.826259966146274e-06\n",
      "5.826259966146274e-06\n",
      "0.999997217767992\n",
      "0.499624676600219\n",
      "0.499624676600219\n",
      "0.0831861079543385\n",
      "0.0831861079543385\n",
      "0.28842002003040373\n",
      "0.28842002003040373\n",
      "\n",
      "0.49787884787111675\n",
      "0.49787884787111675\n",
      "0.10100510297394624\n",
      "0.9009148213571528\n",
      "0.300505875724084\n",
      "\n"
     ]
    }
   ],
   "source": [
    "arr = np.random.rand(100000)\n",
    "print(arr.min())\n",
    "print(np.amin(arr))\n",
    "print(np.amax(arr))\n",
    "## Mean\n",
    "print(np.mean(arr))\n",
    "print(arr.mean())\n",
    "## Variance\n",
    "print(arr.var())\n",
    "print(np.var(arr))\n",
    "## Standard Deviation\n",
    "print(arr.std())\n",
    "print(np.std(arr)) \n",
    "## Median\n",
    "print()\n",
    "print(np.median(arr))\n",
    "###\n",
    "print(np.percentile(arr,50))  ## Also Median\n",
    "print(np.percentile(arr,10))  ## close to 10\n",
    "print(np.percentile(arr,90))  ## close t0 90\n",
    "print(np.percentile(arr,30))  ## close to 30\n",
    "print()"
   ]
  },
  {
   "cell_type": "code",
   "execution_count": 193,
   "metadata": {},
   "outputs": [
    {
     "name": "stdout",
     "output_type": "stream",
     "text": [
      "0.4996185334709268\n",
      "Wall time: 3.99 ms\n"
     ]
    }
   ],
   "source": [
    "%%time\n",
    "## Inter Quartile Range\n",
    "iqr = np.percentile(arr,75)-np.percentile(arr,25)\n",
    "print(iqr)"
   ]
  },
  {
   "cell_type": "code",
   "execution_count": 195,
   "metadata": {},
   "outputs": [
    {
     "name": "stdout",
     "output_type": "stream",
     "text": [
      "0.47939907833614825\n",
      "Wall time: 2.9 ms\n"
     ]
    }
   ],
   "source": [
    "%%time\n",
    "## Inter Quartile Range\n",
    "quartiles = np.percentile(arr,[27,75])\n",
    "iqr = quartiles[1]-quartiles[0]\n",
    "print(iqr)"
   ]
  },
  {
   "cell_type": "code",
   "execution_count": 220,
   "metadata": {},
   "outputs": [
    {
     "name": "stdout",
     "output_type": "stream",
     "text": [
      "[ 0.89062359  1.4040388   1.47547127 ... -1.10470787  1.34611323\n",
      " -1.13711319]\n"
     ]
    }
   ],
   "source": [
    "## Z -scores\n",
    "print((arr- np.mean(arr))/np.std(arr))"
   ]
  },
  {
   "cell_type": "code",
   "execution_count": 378,
   "metadata": {},
   "outputs": [
    {
     "name": "stdout",
     "output_type": "stream",
     "text": [
      "(array([11,  7,  7, 10, 13, 12, 16, 12,  5,  7], dtype=int64), array([ 1. , 10.8, 20.6, 30.4, 40.2, 50. , 59.8, 69.6, 79.4, 89.2, 99. ]))\n",
      "(array([18, 17, 25, 28, 12], dtype=int64), array([ 1. , 20.6, 40.2, 59.8, 79.4, 99. ]))\n",
      "(array([0, 0, 0, 1], dtype=int64), array([0.  , 0.25, 0.5 , 0.75, 1.  ]))\n",
      "\n",
      "\n",
      "[5 5 5 5 5 5 5 5 5 5 5 5 5 5 5 5 5 5 5 5 5 5 5 5 5 5 5 5 5 5 5 5 5 5 5 5 5\n",
      " 5 5 5 5 5 5 5 5 5 5 5 5 5 5 5 5 5 5 5 5 5 5 5 5 5 5 5 5 5 5 5 5 5 5 5 5 5\n",
      " 5 5 5 5 5 5 5 5 5 5 5 5 5 5 5 5 5 5 5 5 5 5 5 5 5 5]\n"
     ]
    }
   ],
   "source": [
    "## Histogram\n",
    "print(np.histogram(arr))   ## array 1 - no of points   ## array 2 bin size\n",
    "print(np.histogram(arr,bins=5))\n",
    "print(np.histogram(arr,bins=[0,0.25,.5,.75,1]))\n",
    "print()\n",
    "print()\n",
    "bins=[0,0.25,.5,.75,1]\n",
    "print(np.digitize(arr,bins))  ##  individual points lie in which bin"
   ]
  },
  {
   "cell_type": "code",
   "execution_count": 253,
   "metadata": {},
   "outputs": [
    {
     "name": "stdout",
     "output_type": "stream",
     "text": [
      "[2 0 2 4 3 5 9 7 4 0]\n",
      "[1 1 1 1 1 1 2 2 1 1]\n",
      "[1 0 1 1 1 1 2 2 1 0]\n"
     ]
    }
   ],
   "source": [
    "arr1 = np.random.randint(0,10,10)\n",
    "print(arr1)\n",
    "bins = [0,6,10]\n",
    "print(np.digitize(arr1,bins)) ## left points added to bin\n",
    "print(np.digitize(arr1,bins,right=True))  ## right points added to bin"
   ]
  },
  {
   "cell_type": "code",
   "execution_count": 279,
   "metadata": {},
   "outputs": [
    {
     "name": "stdout",
     "output_type": "stream",
     "text": [
      "[ 50 150  17]\n",
      "[ 79 184  21]\n",
      "[ 63.18 167.86  19.13]\n",
      "[ 88.0476 109.3604   2.2731]\n",
      "[ 9.38336827 10.45755229  1.50768034]\n"
     ]
    }
   ],
   "source": [
    "arr1 = np.random.randint(50,80,100)   # Weight\n",
    "arr2 = np.random.randint(150,185,100) # Height\n",
    "arr3 = np.random.randint(17,22,100)   # Age\n",
    "#print(np.concatenate((arr1,arr2,arr3)))  # horizontal stack\n",
    "#print(np.vstack((arr1,arr2,arr3)))  # Vertical stack\n",
    "arr2d = np.vstack((arr1,arr2,arr3))\n",
    "#print(np.amin(arr2d))  # give minimum of entire matrix\n",
    "print(np.amin(arr2d,axis=1))  # across the column give the minimum\n",
    "#print(arr2d.min(axis=1))\n",
    "print(np.amax(arr2d,axis=1))\n",
    "print(np.mean(arr2d,axis=1))\n",
    "print(np.var(arr2d,axis=1))\n",
    "print(np.std(arr2d,axis=1))"
   ]
  },
  {
   "cell_type": "code",
   "execution_count": 280,
   "metadata": {},
   "outputs": [
    {
     "name": "stdout",
     "output_type": "stream",
     "text": [
      "-0.025720931244176525\n",
      "1.0401036490722813\n"
     ]
    }
   ],
   "source": [
    "## np.random.randn() --  normally distirubted array\n",
    "arr = np.random.randn(1000)\n",
    "print(np.mean(arr))\n",
    "print(np.var(arr))"
   ]
  },
  {
   "cell_type": "markdown",
   "metadata": {},
   "source": [
    "## Rules of Statistics\n",
    "### Checking stats rules with numpy"
   ]
  },
  {
   "cell_type": "code",
   "execution_count": 303,
   "metadata": {},
   "outputs": [
    {
     "name": "stdout",
     "output_type": "stream",
     "text": [
      "-3.730349362740526e-17\n",
      "0.0815920693993065\n"
     ]
    }
   ],
   "source": [
    "## Mean subracted array has zero mean and 1 variance\n",
    "arr = np.random.rand(1000)\n",
    "mean = np.mean(arr)\n",
    "arr1 = arr - mean\n",
    "print(np.mean(arr1))   ### Theoritcally should be zero but not zero due to numerical precision\n",
    "print(np.var(arr))"
   ]
  },
  {
   "cell_type": "code",
   "execution_count": 317,
   "metadata": {},
   "outputs": [
    {
     "name": "stdout",
     "output_type": "stream",
     "text": [
      "1 0.724265029450103\n",
      "2 0.40430380008203953\n",
      "3 0.4277666875597186\n",
      "4 0.5095622432860738\n",
      "5 0.5689105698430488\n",
      "6 0.5462137000145505\n",
      "7 0.551844828983058\n",
      "8 0.5654802213433572\n",
      "9 0.5827350935664056\n",
      "10 0.5875911639580178\n",
      "11 0.6138278147720234\n",
      "12 0.5852031778694767\n",
      "13 0.6053970400042143\n",
      "14 0.5891731493681659\n",
      "15 0.5570305492601454\n",
      "16 0.5767459296611448\n",
      "17 0.5833643442491269\n",
      "18 0.5608044897501689\n",
      "19 0.5536024332044346\n",
      "20 0.5572879146371152\n",
      "21 0.5429897136057946\n",
      "22 0.5607100150720836\n",
      "23 0.5597882811766374\n",
      "24 0.5620418382812477\n",
      "25 0.557052193287701\n",
      "26 0.5542603008602766\n",
      "27 0.5521773048579875\n",
      "28 0.5578614374828746\n",
      "29 0.5466906440834418\n",
      "30 0.5517788887196685\n",
      "31 0.5616226292731281\n",
      "32 0.5569160383703785\n",
      "33 0.5520908660812178\n",
      "34 0.5615483143575566\n",
      "35 0.5653459152371003\n",
      "36 0.5511852812489445\n",
      "37 0.5542391349123252\n",
      "38 0.5516535180848526\n",
      "39 0.5538419033626113\n",
      "40 0.5627272311393167\n",
      "41 0.5703379463979407\n",
      "42 0.5738479172275234\n",
      "43 0.5808408725387054\n",
      "44 0.5900393451605859\n",
      "45 0.5940747972615396\n",
      "46 0.6011028580401259\n",
      "47 0.5961935686105346\n",
      "48 0.5901041451877381\n",
      "49 0.5924645744198811\n"
     ]
    }
   ],
   "source": [
    "## Computing mean with smaller set of values\n",
    "arr = np.random.rand(1000)\n",
    "for i in range(1,50):\n",
    "    arr1 = arr[0:i]\n",
    "    print(i,np.mean(arr1))"
   ]
  },
  {
   "cell_type": "code",
   "execution_count": 324,
   "metadata": {},
   "outputs": [
    {
     "name": "stdout",
     "output_type": "stream",
     "text": [
      "[0.72426503 0.4043038  0.42776669 0.50956224 0.56891057 0.5462137\n",
      " 0.55184483 0.56548022 0.58273509 0.58759116 0.61382781 0.58520318\n",
      " 0.60539704 0.58917315 0.55703055 0.57674593 0.58336434 0.56080449\n",
      " 0.55360243 0.55728791 0.54298971 0.56071002 0.55978828 0.56204184\n",
      " 0.55705219 0.5542603  0.5521773  0.55786144 0.54669064 0.55177889\n",
      " 0.56162263 0.55691604 0.55209087 0.56154831 0.56534592 0.55118528\n",
      " 0.55423913 0.55165352 0.5538419  0.56272723 0.57033795 0.57384792\n",
      " 0.58084087 0.59003935 0.5940748  0.60110286 0.59619357 0.59010415\n",
      " 0.59246457 0.60044551 0.60502804 0.61244469 0.60893974 0.61101337\n",
      " 0.6070525  0.60644857 0.60593457 0.61081687 0.61368613 0.61461724\n",
      " 0.61649074 0.60935734 0.60913751 0.61170581 0.61186821 0.61471944\n",
      " 0.61703515 0.61916503 0.61486318 0.60678431 0.60823516 0.61355807\n",
      " 0.60610593 0.60523003 0.59840893 0.60307336 0.60260732 0.60281727\n",
      " 0.60571829 0.60570367 0.60106679 0.59745212 0.59352243 0.59337001\n",
      " 0.58834772 0.58714372 0.58360204 0.58705405 0.58576316 0.58998744\n",
      " 0.5896494  0.58377831 0.58708641 0.59003548 0.59386808 0.5890279\n",
      " 0.58620313 0.58832816 0.59074764 0.58871749 0.59256329 0.59045783\n",
      " 0.58973354 0.58593616 0.58939839 0.58967408 0.59125468 0.5948162\n",
      " 0.59124887 0.59005322 0.59284444 0.59434958 0.59786994 0.59480241\n",
      " 0.59257413 0.59432161 0.59557677 0.59766097 0.59532233 0.59442037\n",
      " 0.59562918 0.59661287 0.59817853 0.59422951 0.59344348 0.59597717\n",
      " 0.59692211 0.5942098  0.59590827 0.59389665 0.59071364 0.59248203\n",
      " 0.58825856 0.58520592 0.58225366 0.58276846 0.57884288 0.57693213\n",
      " 0.57813193 0.58072818 0.58174809 0.58105448 0.5833725  0.57945411\n",
      " 0.58050235 0.58137391 0.58308833 0.58054311 0.58124688 0.57957964\n",
      " 0.57948441 0.58050274 0.57860878 0.57889426 0.57747737 0.57839571\n",
      " 0.58101316 0.58294391 0.58455337 0.58276011 0.58232394 0.58145777\n",
      " 0.58019493 0.57918623 0.57717832 0.57452341 0.57436585 0.57531911\n",
      " 0.57305471 0.57439468 0.57199058 0.57336224 0.57276674 0.56965295\n",
      " 0.56900727 0.56798551 0.5670906  0.56839481 0.56651584 0.56656466\n",
      " 0.56747848 0.56564408 0.5634648  0.56533978 0.56385799 0.56344518\n",
      " 0.56067542 0.55926232 0.56110296 0.56201882 0.56062388 0.56185923\n",
      " 0.56095805 0.55907155 0.55809277 0.5568237  0.55613242 0.55658445\n",
      " 0.55676978 0.55813789 0.5589675  0.56071725 0.56239015 0.56334556\n",
      " 0.56241481 0.56430306 0.56363607 0.56502066 0.56486056 0.56457641\n",
      " 0.56453919 0.5618931  0.56055743 0.56117943 0.56059994 0.56202224\n",
      " 0.5629697  0.56426055 0.56565795 0.56384961 0.56178575 0.56301092\n",
      " 0.56156977 0.55964809 0.55852061 0.55689266 0.55670833 0.55709108\n",
      " 0.55613987 0.5555453  0.55453268 0.55597835 0.55439193 0.55278468\n",
      " 0.55313164 0.55472771 0.55513984 0.55361745 0.55198928 0.55131479\n",
      " 0.55213121 0.5507202  0.55169741 0.55239157 0.55323971 0.55468153\n",
      " 0.55424361 0.55593925 0.55625832 0.5542535  0.55223856 0.55064658\n",
      " 0.55170951 0.55099575 0.55272918 0.55251832 0.55051621 0.55066632\n",
      " 0.55027826 0.54934479 0.54805778 0.54759741 0.54584602 0.54709684\n",
      " 0.54744077 0.54705936 0.5466457  0.54770376 0.54770708 0.54896771\n",
      " 0.54985862 0.54808294 0.5475531  0.54584345 0.54411593 0.54242706\n",
      " 0.54375595 0.54509049 0.54376003 0.54214121 0.54307078 0.54456193\n",
      " 0.54555286 0.54576774 0.54468943 0.54379879 0.54218926 0.54042263\n",
      " 0.53959856 0.54002111 0.54006317 0.54128621 0.54188612 0.54049034\n",
      " 0.53945478 0.53928778 0.54065524 0.54164075 0.54208844 0.54061135\n",
      " 0.54021062 0.54147331 0.541746   0.54116212 0.54000394 0.54137175\n",
      " 0.54006213 0.5413471  0.54219224 0.54063192 0.54000287 0.54133161\n",
      " 0.5396649  0.53944415 0.54064468 0.54117689 0.54039622 0.5397058\n",
      " 0.53948002 0.53986116 0.54039799 0.53939553 0.53871416 0.53852277\n",
      " 0.53702981 0.53660025 0.5363456  0.53576049 0.53482084 0.53423816\n",
      " 0.5328779  0.53181263 0.53238155 0.53103271 0.52996515 0.52983231\n",
      " 0.52879789 0.5291949  0.53036784 0.53084578 0.53214074 0.53110121\n",
      " 0.53015904 0.52944726 0.52971586 0.53090026 0.53000601 0.53017016\n",
      " 0.53144931 0.53037362 0.52949087 0.52912327 0.52820613 0.52755062\n",
      " 0.52705979 0.52602788 0.52611948 0.52598662 0.5272049  0.5280634\n",
      " 0.52685985 0.52611194 0.52673219 0.52565426 0.52639709 0.5265662\n",
      " 0.52731991 0.5269432  0.52781701 0.52803806 0.52804903 0.52791164\n",
      " 0.52773623 0.52896259 0.52764005 0.52813018 0.52729615 0.5264933\n",
      " 0.52661606 0.52648866 0.52617532 0.52503399 0.52551815 0.52457069\n",
      " 0.5244379  0.52348117 0.52271845 0.52267189 0.52372149 0.5245362\n",
      " 0.5255752  0.52546333 0.5256138  0.52646053 0.5259345  0.52694924\n",
      " 0.52718504 0.52654312 0.526303   0.52651532 0.52575575 0.52532718\n",
      " 0.52480666 0.5235476  0.5225509  0.5215195  0.52167864 0.52196348\n",
      " 0.52077532 0.52013604 0.52087569 0.52047889 0.52140903 0.52101899\n",
      " 0.52044039 0.51996098 0.52074024 0.51960501 0.51950257 0.51840008\n",
      " 0.51898912 0.51972799 0.51884764 0.51857726 0.51739873 0.51777384\n",
      " 0.51862394 0.51847515 0.51900621 0.51905718 0.51882529 0.5182144\n",
      " 0.51712014 0.51678252 0.51713884 0.51790834 0.51818316 0.51829816\n",
      " 0.51824524 0.51867229 0.51838593 0.51819694 0.51860749 0.51895701\n",
      " 0.51817799 0.51732262 0.51787852 0.51832641 0.51898186 0.51817243\n",
      " 0.5176715  0.51729294 0.51617073 0.5163884  0.51615795 0.51680298\n",
      " 0.51647688 0.51689172 0.5179312  0.51811317 0.51890609 0.51826635\n",
      " 0.51724939 0.51702317 0.51605819 0.51621016 0.51593832 0.51568992\n",
      " 0.51531047 0.51525163 0.51557499 0.51638975 0.51663942 0.51577005\n",
      " 0.51603738 0.51560979 0.51532471 0.51446215 0.5147778  0.51538313\n",
      " 0.51589255 0.51623585 0.51594292 0.51597828 0.51519548 0.51518252\n",
      " 0.51444418 0.5153602  0.51472305 0.51518959 0.51467373 0.51440441\n",
      " 0.51492141 0.5139791  0.51462502 0.51416878 0.51420304 0.51320757\n",
      " 0.51346609 0.51313568 0.51226561 0.51161671 0.51224281 0.51253712\n",
      " 0.51268859 0.51185686 0.51229723 0.51215141 0.51292395 0.51258601\n",
      " 0.51217566 0.51217896 0.51212989 0.51176247 0.51169462 0.51220368\n",
      " 0.51260444 0.5126664  0.51355506 0.51384225 0.51404777 0.51321182\n",
      " 0.51261412 0.51338585 0.5132029  0.51344607 0.51257817 0.51162935\n",
      " 0.51144023 0.51082406 0.50989923 0.5090632  0.50818256 0.50759493\n",
      " 0.50677743 0.50739829 0.50776321 0.50686352 0.50702727 0.50774803\n",
      " 0.50790502 0.50847963 0.50794941 0.50702507 0.50679758 0.50611216\n",
      " 0.50579726 0.50594767 0.5055976  0.50560242 0.50528972 0.50468391\n",
      " 0.50432208 0.5037875  0.50344511 0.50274248 0.50318622 0.502684\n",
      " 0.50263922 0.50226019 0.5029594  0.50376242 0.50446403 0.50397206\n",
      " 0.50384899 0.50327664 0.50375662 0.50417699 0.50351437 0.50282033\n",
      " 0.50297381 0.50353567 0.50281119 0.50219537 0.50183315 0.50118743\n",
      " 0.5017739  0.50173277 0.50244778 0.50310495 0.50330498 0.50396535\n",
      " 0.50447279 0.50490215 0.50415071 0.50376718 0.50393438 0.503641\n",
      " 0.50429066 0.50408766 0.50482262 0.50476602 0.50409855 0.50482348\n",
      " 0.50537858 0.50506744 0.50434166 0.50399371 0.50460592 0.50496758\n",
      " 0.50421232 0.5046526  0.50460948 0.5041797  0.50486253 0.50452327\n",
      " 0.50425513 0.50443154 0.50408964 0.50374371 0.5044303  0.50481385\n",
      " 0.5040372  0.50418892 0.50400639 0.50339747 0.50274779 0.50207031\n",
      " 0.50248344 0.50216751 0.50192711 0.50150109 0.50113491 0.50102985\n",
      " 0.50165491 0.50143824 0.50188749 0.50217119 0.50218459 0.50184914\n",
      " 0.50110905 0.50178732 0.50164441 0.50139341 0.50165467 0.50165529\n",
      " 0.50143999 0.50156832 0.50138717 0.50088437 0.5009047  0.50075185\n",
      " 0.50016607 0.49964202 0.49985797 0.50055344 0.5011331  0.50114073\n",
      " 0.50068825 0.50015413 0.50087991 0.50029998 0.50008974 0.49971969\n",
      " 0.4997969  0.50010721 0.50005304 0.49931912 0.49933064 0.49952526\n",
      " 0.49909514 0.49919227 0.49982374 0.50008293 0.50065452 0.50004287\n",
      " 0.50056929 0.50095508 0.50141942 0.50129222 0.50187853 0.50145279\n",
      " 0.50082682 0.50033421 0.49959459 0.49939682 0.49911852 0.49875456\n",
      " 0.49919547 0.49910565 0.49875059 0.49944225 0.49890997 0.4983763\n",
      " 0.49874672 0.49853115 0.4990869  0.49872962 0.49810114 0.49851538\n",
      " 0.49878774 0.4982912  0.49770092 0.4973104  0.49660288 0.49659464\n",
      " 0.49702102 0.49640939 0.49605409 0.49658397 0.49621764 0.49646431\n",
      " 0.49689222 0.49623589 0.49648567 0.49591531 0.49642553 0.49593713\n",
      " 0.49572297 0.49525465 0.49591289 0.49551727 0.49492133 0.49548645\n",
      " 0.495576   0.49513644 0.49484795 0.49509344 0.49525034 0.49518531\n",
      " 0.49511608 0.49554723 0.49623801 0.49664695 0.49599926 0.49596696\n",
      " 0.49529221 0.49568978 0.49552566 0.4951973  0.49460791 0.49526846\n",
      " 0.49540285 0.49569956 0.49593654 0.49570226 0.49593559 0.49579001\n",
      " 0.49542173 0.49533338 0.49508111 0.49477871 0.49535125 0.49470069\n",
      " 0.49530935 0.49596347 0.49535182 0.49502127 0.49467081 0.49502318\n",
      " 0.49565632 0.49568244 0.49523366 0.49543477 0.49479851 0.49540993\n",
      " 0.49601258 0.49611681 0.49586011 0.4954669  0.49585711 0.49588079\n",
      " 0.49605316 0.49578752 0.4952461  0.49559049 0.49578029 0.496364\n",
      " 0.49698684 0.49760142 0.49700004 0.49731337 0.49670056 0.49689571\n",
      " 0.49742083 0.4968188  0.49693068 0.49671671 0.4973499  0.49723717\n",
      " 0.49672185 0.4970971  0.49773809 0.49757392 0.49774111 0.49731514\n",
      " 0.49745149 0.49791119 0.49845181 0.49865417 0.4985728  0.49917016\n",
      " 0.49862241 0.49879075 0.49869631 0.49925487 0.49915776 0.4985954\n",
      " 0.49842366 0.4989379  0.49865557 0.4981666  0.49817344 0.49803055\n",
      " 0.49853372 0.49904061 0.49955402 0.49907141 0.49847166 0.49816561\n",
      " 0.49870079 0.49843393 0.49784547 0.49754071 0.49713524 0.49742982\n",
      " 0.49759162 0.49776707 0.49806434 0.49780091 0.49777558 0.49751384\n",
      " 0.49740238 0.49781849 0.49761673 0.49780073 0.49815511 0.49762824\n",
      " 0.49808742 0.49836378 0.49789786 0.49848891 0.49824617 0.49800189\n",
      " 0.49764087 0.49757542 0.49712383 0.49714398 0.49691845 0.49708426\n",
      " 0.49672712 0.4961825  0.49660006 0.49610701 0.49599732 0.49556353\n",
      " 0.49583124 0.49583739 0.49596285 0.4963726  0.49624904 0.49588687\n",
      " 0.49569857 0.49617085 0.49660445 0.49634275 0.49686589 0.49659999\n",
      " 0.49648118 0.49656948 0.49709171 0.49762012 0.49815574 0.49843595\n",
      " 0.49869211 0.49811643 0.49814204 0.49826159 0.49796169 0.49827185\n",
      " 0.49819069 0.4977313  0.49772174 0.4976827  0.49768752 0.49810564\n",
      " 0.49840928 0.49848023 0.49894197 0.4988689  0.4985259  0.49901157\n",
      " 0.49923726 0.49941266 0.49934059 0.49940183 0.49896643 0.49866604\n",
      " 0.49822905 0.49863868 0.49852446 0.49884857 0.49905621 0.49947989\n",
      " 0.49942522 0.49919254 0.49938742 0.49965325 0.50000935 0.49948623\n",
      " 0.49928117 0.49927983 0.49979319 0.49951451 0.49973916 0.49995905\n",
      " 0.50006669 0.5004163  0.50065612 0.50086477 0.50063277 0.5005467\n",
      " 0.50002023 0.49982292 0.49982657 0.49931042 0.49983885 0.49972416\n",
      " 0.4998953  0.49951031 0.49981627 0.49990483 0.50027203 0.50071302\n",
      " 0.50061403 0.50075442 0.50024328 0.50065032 0.50079233 0.50105722\n",
      " 0.50080124 0.5011058  0.50065338 0.50043112 0.49998374 0.4999028\n",
      " 0.49939496 0.49918991 0.49963368 0.4999003  0.49975066 0.49999149\n",
      " 0.49948985 0.4999663  0.49972054 0.500085   0.50024607 0.50029991\n",
      " 0.50017236 0.50038494 0.5004037  0.50041023 0.50055428 0.50102832\n",
      " 0.50119798 0.50125966 0.50129322 0.50136844 0.50126642 0.50130971\n",
      " 0.50149461 0.5019354  0.50209013 0.50206449 0.50194765 0.50244422\n",
      " 0.5020036  0.50198977 0.50177217 0.50173589 0.50197949 0.50196084\n",
      " 0.50243393 0.5026473  0.50254414 0.5023943  0.50226121 0.50221212\n",
      " 0.50266722 0.50219472 0.50192564 0.50236468 0.50205447 0.50159902\n",
      " 0.50206974 0.5021439  0.5023951  0.50235964 0.50259861 0.50214586\n",
      " 0.501893   0.50228548 0.50245936 0.5027129  0.50263183 0.5029719\n",
      " 0.50341639 0.50325945 0.50375126 0.50350379]\n"
     ]
    }
   ],
   "source": [
    "## alernate way to do the above\n",
    "#print(np.cumsum(arr))   ##prefix sum array\n",
    "mean = np.cumsum(arr)/np.arange(1,1001)\n",
    "print(mean)"
   ]
  },
  {
   "cell_type": "markdown",
   "metadata": {},
   "source": [
    "### Effect of outlier om mean and median"
   ]
  },
  {
   "cell_type": "code",
   "execution_count": 352,
   "metadata": {},
   "outputs": [
    {
     "name": "stdout",
     "output_type": "stream",
     "text": [
      "50.58\n",
      "54.0\n",
      "79.0\n",
      "54.5\n"
     ]
    }
   ],
   "source": [
    "arr = np.random.randint(1,100,100)\n",
    "print(np.mean(arr))\n",
    "print(np.median(arr))\n",
    "## increase of mean and median because of outliers\n",
    "arr = np.append(arr,[1000,2000])\n",
    "print(np.mean(arr))\n",
    "print(np.median(arr))"
   ]
  },
  {
   "cell_type": "markdown",
   "metadata": {},
   "source": [
    "## Effect of scaling array on mean and median"
   ]
  },
  {
   "cell_type": "code",
   "execution_count": 372,
   "metadata": {},
   "outputs": [
    {
     "name": "stdout",
     "output_type": "stream",
     "text": [
      "50.01\n",
      "53.0\n",
      "\n",
      "125.675\n",
      "133.15\n",
      "125.675 125.675\n",
      "133.15 133.15\n",
      "\n",
      "4134.561875 4134.561875\n",
      "\n"
     ]
    }
   ],
   "source": [
    "arr = np.random.randint(1,100,100)\n",
    "print(np.mean(arr))\n",
    "print(np.median(arr))\n",
    "print()\n",
    "arr1 = arr*2.5 + 0.65\n",
    "print(np.mean(arr1))\n",
    "print(np.median(arr1))\n",
    "print(np.mean(arr1),2.5*np.mean(arr)+0.65)\n",
    "print(np.median(arr1),2.5*np.median(arr)+0.65)\n",
    "print()\n",
    "## only scaling appear and  constants disappear for variance and standard deviation\n",
    "print(np.var(arr*2.5+0.65),2.5*2.5*np.var(arr))  \n",
    "print()"
   ]
  },
  {
   "cell_type": "code",
   "execution_count": 379,
   "metadata": {},
   "outputs": [
    {
     "name": "stdout",
     "output_type": "stream",
     "text": [
      "-0.25726551937478226 -0.25726551937478215\n"
     ]
    }
   ],
   "source": [
    "arr1 = np.random.rand(100)\n",
    "arr2 = np.random.rand(100)\n",
    "print(np.mean(0.21*arr1-0.75*arr2),0.21*np.mean(arr1)-0.75*np.mean(arr2))"
   ]
  },
  {
   "cell_type": "code",
   "execution_count": 387,
   "metadata": {},
   "outputs": [
    {
     "name": "stdout",
     "output_type": "stream",
     "text": [
      "6\n"
     ]
    }
   ],
   "source": [
    "import numpy as np\n",
    " \n",
    "a = np.array([[1,2,3,], [4,5,6]])\n",
    "print(a[1][2])"
   ]
  }
 ],
 "metadata": {
  "kernelspec": {
   "display_name": "Python 3",
   "language": "python",
   "name": "python3"
  },
  "language_info": {
   "codemirror_mode": {
    "name": "ipython",
    "version": 3
   },
   "file_extension": ".py",
   "mimetype": "text/x-python",
   "name": "python",
   "nbconvert_exporter": "python",
   "pygments_lexer": "ipython3",
   "version": "3.7.6"
  }
 },
 "nbformat": 4,
 "nbformat_minor": 4
}
