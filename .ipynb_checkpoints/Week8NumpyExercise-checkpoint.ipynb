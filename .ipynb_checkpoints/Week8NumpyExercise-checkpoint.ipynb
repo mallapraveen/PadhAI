{
 "cells": [
  {
   "cell_type": "markdown",
   "metadata": {},
   "source": [
    "# Case Study"
   ]
  },
  {
   "cell_type": "markdown",
   "metadata": {},
   "source": [
    "##### 1. Find mean median iqr for sachin rahul india\n",
    "##### 2. Find the histogram of sachin scores with 10 bins\n",
    "##### 3. Find mean of scahin score grouped by 25 matches\n",
    "##### 4. Find mean of sachin score where he score a century\n",
    "##### 5. Find mean of sachins score where rahul score less than 10\n",
    "##### 6. Find mean of sachins score based on which quartile india's score falls in\n",
    "##### 7. For every match find out who has scored more - Scahin or rahul\n",
    "##### 8. How many more runs does scahin score on average after having scored x runs\n",
    "##### 9. How many matches did Sachin take to score 1000 runs,next 1000 runs,..."
   ]
  },
  {
   "cell_type": "code",
   "execution_count": 2,
   "metadata": {},
   "outputs": [],
   "source": [
    "import numpy as np"
   ]
  },
  {
   "cell_type": "code",
   "execution_count": 166,
   "metadata": {},
   "outputs": [
    {
     "name": "stdout",
     "output_type": "stream",
     "text": [
      "[[100.  78. 342.]\n",
      " [ 11.  62. 191.]\n",
      " [  8.  85. 252.]\n",
      " [ 71.  24. 307.]\n",
      " [104.  17. 229.]\n",
      " [ 18. 104. 246.]\n",
      " [  8.  76. 226.]\n",
      " [ 86.  74. 288.]\n",
      " [ 12.  60. 216.]\n",
      " [ 85.  12. 224.]\n",
      " [ 18.  63. 161.]\n",
      " [  4. 107. 276.]\n",
      " [  7.  76. 283.]\n",
      " [ 37.   4. 297.]\n",
      " [ 14.   5. 139.]\n",
      " [  0.  33. 224.]\n",
      " [  4.   7. 178.]\n",
      " [  0.   0.   0.]\n",
      " [ 21.  36. 193.]\n",
      " [  1.  66. 231.]\n",
      " [ 62.   0. 134.]\n",
      " [  0. 123. 246.]\n",
      " [138.  39. 299.]\n",
      " [ 38.   9. 242.]\n",
      " [  2.  11. 214.]\n",
      " [ 46.  14. 152.]\n",
      " [ 65.   0. 104.]\n",
      " [  0.   0.   4.]\n",
      " [ 39.  26. 155.]\n",
      " [ 48.   4. 168.]\n",
      " [141.  48. 282.]\n",
      " [ 62.   7. 228.]\n",
      " [ 12.  73. 231.]\n",
      " [  1.  86. 238.]\n",
      " [ 41.  32. 255.]\n",
      " [ 11.  82. 273.]\n",
      " [  3.  25. 143.]\n",
      " [186. 153. 345.]\n",
      " [ 11.  26. 134.]\n",
      " [ 27.   1. 292.]\n",
      " [ 27.   6. 299.]\n",
      " [ 51.   3. 233.]\n",
      " [ 18.   1. 332.]\n",
      " [ 32.  39. 276.]\n",
      " [146.  30. 264.]\n",
      " [  5.  32. 213.]\n",
      " [ 45.  84. 224.]\n",
      " [141.  36. 306.]\n",
      " [ 12.  31. 259.]\n",
      " [ 65.   0. 141.]\n",
      " [ 27.  47. 155.]\n",
      " [  7.  13. 183.]\n",
      " [ 16.  49. 309.]\n",
      " [  2.  28. 208.]\n",
      " [ 28.   0. 124.]\n",
      " [  6.  28. 208.]\n",
      " [123.  19. 305.]\n",
      " [120.  13. 273.]\n",
      " [  7.  14. 186.]\n",
      " [  3.  11. 163.]\n",
      " [  0. 103. 239.]\n",
      " [ 81.  43. 274.]\n",
      " [  2.   5. 182.]\n",
      " [ 54.   5. 256.]\n",
      " [122.  15. 227.]\n",
      " [  4.   0. 157.]\n",
      " [ 14.   5. 353.]\n",
      " [  0.  30. 271.]\n",
      " [100.   4. 211.]\n",
      " [ 15.  53. 141.]\n",
      " [  0.  60. 243.]\n",
      " [ 57.   7. 499.]\n",
      " [ 99.  74. 229.]\n",
      " [ 37.  71. 234.]\n",
      " [ 38.  54. 259.]\n",
      " [ 32.  13. 242.]\n",
      " [ 21.  69. 223.]\n",
      " [ 32.  33. 184.]\n",
      " [ 40.  29. 125.]\n",
      " [  0.   2. 195.]\n",
      " [  5.   8. 154.]\n",
      " [  8.  36. 142.]\n",
      " [  5.  51. 197.]\n",
      " [  0.   8. 213.]\n",
      " [ 50.  62. 256.]\n",
      " [ 30.   0. 197.]\n",
      " [ 37.  22. 177.]\n",
      " [ 89.  39. 167.]\n",
      " [  4. 104. 366.]\n",
      " [ 98.  44. 269.]\n",
      " [ 83.   1. 292.]\n",
      " [ 93.   2. 218.]\n",
      " [  0.   0.   0.]\n",
      " [ 52.  17. 199.]\n",
      " [152.   0. 319.]\n",
      " [  1.  14. 245.]\n",
      " [  8.  62. 274.]\n",
      " [ 93.  15. 208.]\n",
      " [ 45.  68. 201.]\n",
      " [ 26.  17. 275.]\n",
      " [  0.   0. 134.]\n",
      " [  1.  22.  68.]\n",
      " [  0.  25. 149.]\n",
      " [ 16.  29. 216.]\n",
      " [ 47.  60. 407.]\n",
      " [ 89.  34. 302.]\n",
      " [  3.  65. 197.]\n",
      " [  1.   3. 222.]\n",
      " [ 53.   7. 224.]\n",
      " [ 16.  16. 321.]\n",
      " [  0.   0.   0.]\n",
      " [ 81.   4. 162.]\n",
      " [ 14.  53. 221.]\n",
      " [ 78.   5. 204.]\n",
      " [  6.  23. 213.]\n",
      " [105.  82. 286.]\n",
      " [122.   3. 272.]\n",
      " [  9.   0. 382.]\n",
      " [  8.  20. 229.]\n",
      " [ 28.  21. 175.]\n",
      " [ 35.  80. 360.]\n",
      " [ 69.  22. 256.]\n",
      " [ 13.   8. 165.]\n",
      " [ 97.  18. 335.]\n",
      " [ 93.  24. 188.]\n",
      " [  2.  50. 146.]\n",
      " [ 36.   1. 113.]\n",
      " [ 39.  42. 241.]\n",
      " [  2.  61. 211.]\n",
      " [ 29.   0. 225.]\n",
      " [ 12.   6.  35.]\n",
      " [ 19.  64. 163.]\n",
      " [ 34.   9. 200.]\n",
      " [  2.  46. 176.]\n",
      " [100.   0. 269.]\n",
      " [ 44.   0. 284.]\n",
      " [ 82.   0. 175.]\n",
      " [  0.   0.  27.]\n",
      " [ 79.  13. 282.]\n",
      " [  6.   0. 141.]\n",
      " [  9.  72. 229.]\n",
      " [  8.  12. 213.]\n",
      " [ 23.  38. 205.]\n",
      " [ 93.  79. 279.]\n",
      " [ 35.  18.  88.]\n",
      " [ 63.  16. 284.]\n",
      " [ 74.  16. 207.]\n",
      " [  8.  56. 224.]\n",
      " [117.  21. 204.]\n",
      " [ 39.  58. 280.]\n",
      " [ 49.   8. 197.]\n",
      " [ 64.   0. 205.]\n",
      " [ 43.   0. 230.]\n",
      " [ 72.   7. 323.]\n",
      " [  5.  13. 209.]\n",
      " [ 17.  77. 210.]\n",
      " [  0.  29. 162.]\n",
      " [ 65.  20. 272.]\n",
      " [ 20.  90. 251.]\n",
      " [141.  26. 286.]\n",
      " [ 28.  54. 228.]\n",
      " [ 44.  17. 148.]\n",
      " [ 27.  78. 272.]\n",
      " [ 60.  57. 309.]\n",
      " [ 68.  59. 202.]\n",
      " [  3.  10. 136.]\n",
      " [139.  15. 281.]\n",
      " [ 31.  54. 314.]\n",
      " [  2.  52. 419.]\n",
      " [ 44.   9. 229.]\n",
      " [ 47.   0. 133.]\n",
      " [  6.  18. 228.]\n",
      " [ 17.   3. 143.]\n",
      " [ 35.   4. 116.]\n",
      " [ 88.   6. 194.]\n",
      " [114.  16. 249.]\n",
      " [  7.  71. 319.]\n",
      " [127.  64. 205.]\n",
      " [  0.   7. 191.]\n",
      " [ 45.  61. 213.]\n",
      " [ 33.   1. 104.]\n",
      " [110.   7. 210.]\n",
      " [146.   0. 392.]\n",
      " [  7.   0.  57.]\n",
      " [ 25.  26. 213.]\n",
      " [  9.  19. 158.]\n",
      " [  2.  63. 163.]\n",
      " [ 11.   3. 166.]\n",
      " [ 17.  46. 164.]\n",
      " [ 14.  31. 238.]\n",
      " [  1.  12. 118.]\n",
      " [ 45.  49. 189.]\n",
      " [ 94.   4. 346.]\n",
      " [ 28.  99. 390.]\n",
      " [  4.  47. 319.]\n",
      " [ 62.  56. 276.]\n",
      " [  1.  73. 324.]\n",
      " [  9.  74. 213.]\n",
      " [ 67.  31. 207.]\n",
      " [ 10.  29. 158.]\n",
      " [ 99.  92. 304.]\n",
      " [ 55.   1. 199.]\n",
      " [  0.   0.   0.]\n",
      " [  1.  30. 195.]\n",
      " [101.  16. 207.]\n",
      " [  2. 145. 352.]\n",
      " [  1.  22. 225.]\n",
      " [ 16.  31. 236.]\n",
      " [140. 104. 301.]\n",
      " [ 23.  20. 136.]\n",
      " [113.  13. 327.]\n",
      " [ 10.  52. 296.]\n",
      " [  1.  31. 176.]\n",
      " [ 41.  12. 201.]\n",
      " [  1.  50. 171.]\n",
      " [ 28.   3. 191.]\n",
      " [  2.   9.  11.]\n",
      " [ 22.  53. 211.]\n",
      " [ 29.  49. 225.]\n",
      " [  1.  21. 290.]\n",
      " [ 25.  14. 101.]\n",
      " [102.  50. 470.]\n",
      " [  0.  22. 165.]\n",
      " [ 27.   0. 192.]\n",
      " [ 40.   0. 213.]]\n"
     ]
    }
   ],
   "source": [
    "arr = np.genfromtxt(r\"C:\\Users\\malla\\OneDrive\\Desktop\\PadhAI\\cric_data.tsv\",skip_header=1,usecols=(1,2,3))\n",
    "print(arr)"
   ]
  },
  {
   "cell_type": "markdown",
   "metadata": {},
   "source": [
    "##### 1"
   ]
  },
  {
   "cell_type": "code",
   "execution_count": 188,
   "metadata": {},
   "outputs": [
    {
     "name": "stdout",
     "output_type": "stream",
     "text": [
      "Mean: 39.87555555555556\n",
      "Median: 27.0\n",
      "IQR: 57.0\n",
      "[ 39.87555556  32.06222222 220.79555556]\n"
     ]
    }
   ],
   "source": [
    "sachin = arr[:,0]\n",
    "rahul = arr[:,1]\n",
    "india = arr[:,2]\n",
    "def stats(col):\n",
    "    print(\"Mean:\",np.mean(col))\n",
    "    print(\"Median:\",np.median(col))\n",
    "    iqr_ = np.percentile(col,[25,75])\n",
    "    iqr = iqr_[1] - iqr_[0]\n",
    "    print(\"IQR:\",iqr)\n",
    "stats(sachin)\n",
    "print(np.mean(arr,axis=0))"
   ]
  },
  {
   "cell_type": "markdown",
   "metadata": {},
   "source": [
    "##### 2"
   ]
  },
  {
   "cell_type": "code",
   "execution_count": 189,
   "metadata": {},
   "outputs": [
    {
     "name": "stdout",
     "output_type": "stream",
     "text": [
      "(array([99, 36, 28, 16, 11, 17,  8,  8,  1,  1], dtype=int64), array([  0. ,  18.6,  37.2,  55.8,  74.4,  93. , 111.6, 130.2, 148.8,\n",
      "       167.4, 186. ]))\n"
     ]
    }
   ],
   "source": [
    "print(np.histogram(sachin,bins=10))"
   ]
  },
  {
   "cell_type": "markdown",
   "metadata": {},
   "source": [
    "##### 3"
   ]
  },
  {
   "cell_type": "code",
   "execution_count": 193,
   "metadata": {},
   "outputs": [
    {
     "name": "stdout",
     "output_type": "stream",
     "text": [
      "[33.96 49.4  38.48 40.16 39.36 38.2  44.6  39.52 35.2 ]\n"
     ]
    }
   ],
   "source": [
    "sachin_r = sachin.reshape(9,25)\n",
    "print(np.mean(sachin_r,axis=1))"
   ]
  },
  {
   "cell_type": "markdown",
   "metadata": {},
   "source": [
    "##### 4"
   ]
  },
  {
   "cell_type": "code",
   "execution_count": 68,
   "metadata": {},
   "outputs": [
    {
     "name": "stdout",
     "output_type": "stream",
     "text": [
      "125.0\n"
     ]
    }
   ],
   "source": [
    "sachin_100 = sachin[sachin>=100]\n",
    "print(np.mean(sachin_100))"
   ]
  },
  {
   "cell_type": "markdown",
   "metadata": {},
   "source": [
    "##### 5"
   ]
  },
  {
   "cell_type": "code",
   "execution_count": 77,
   "metadata": {},
   "outputs": [
    {
     "name": "stdout",
     "output_type": "stream",
     "text": [
      "40.74285714285714\n"
     ]
    }
   ],
   "source": [
    "rahul_10 = rahul<=10\n",
    "sachin_10 = sachin[rahul_10]\n",
    "print(np.mean(sachin_10))"
   ]
  },
  {
   "cell_type": "markdown",
   "metadata": {},
   "source": [
    "##### 6"
   ]
  },
  {
   "cell_type": "code",
   "execution_count": 217,
   "metadata": {},
   "outputs": [
    {
     "name": "stdout",
     "output_type": "stream",
     "text": [
      "19.672727272727272\n",
      "28.18018018018018\n",
      "31.688622754491018\n",
      "39.799107142857146\n",
      "\n",
      "19.672727272727272\n",
      "36.535714285714285\n",
      "38.642857142857146\n",
      "63.56140350877193\n"
     ]
    }
   ],
   "source": [
    "india_q = np.percentile(india,[25,50,75,100])\n",
    "## Using Broadcasting\n",
    "india_q = india_q.reshape(4,1)\n",
    "tof = india<india_q\n",
    "for i in range(4):\n",
    "    print(np.mean(sachin[tof[i]]))\n",
    "\n",
    "print()\n",
    "## other interpretation      both are correct\n",
    "### Alternative\n",
    "print(np.mean(sachin[india<india_q[0]]))\n",
    "print(np.mean(sachin[(india>=india_q[0]) & (india<india_q[1])]))\n",
    "print(np.mean(sachin[(india>=india_q[1]) & (india<india_q[2])]))\n",
    "print(np.mean(sachin[(india>=india_q[2]) & (india<india_q[3])]))"
   ]
  },
  {
   "cell_type": "markdown",
   "metadata": {},
   "source": [
    "##### 7"
   ]
  },
  {
   "cell_type": "code",
   "execution_count": 228,
   "metadata": {},
   "outputs": [
    {
     "name": "stdout",
     "output_type": "stream",
     "text": [
      "['Sachin' 'Rahul' 'Rahul' 'Sachin' 'Sachin' 'Rahul' 'Rahul' 'Sachin'\n",
      " 'Rahul' 'Sachin' 'Rahul' 'Rahul' 'Rahul' 'Sachin' 'Sachin' 'Rahul'\n",
      " 'Rahul' 'Sachin' 'Rahul' 'Rahul' 'Sachin' 'Rahul' 'Sachin' 'Sachin'\n",
      " 'Rahul' 'Sachin' 'Sachin' 'Sachin' 'Sachin' 'Sachin' 'Sachin' 'Sachin'\n",
      " 'Rahul' 'Rahul' 'Sachin' 'Rahul' 'Rahul' 'Sachin' 'Rahul' 'Sachin'\n",
      " 'Sachin' 'Sachin' 'Sachin' 'Rahul' 'Sachin' 'Rahul' 'Rahul' 'Sachin'\n",
      " 'Rahul' 'Sachin' 'Rahul' 'Rahul' 'Rahul' 'Rahul' 'Sachin' 'Rahul'\n",
      " 'Sachin' 'Sachin' 'Rahul' 'Rahul' 'Rahul' 'Sachin' 'Rahul' 'Sachin'\n",
      " 'Sachin' 'Sachin' 'Sachin' 'Rahul' 'Sachin' 'Rahul' 'Rahul' 'Sachin'\n",
      " 'Sachin' 'Rahul' 'Rahul' 'Sachin' 'Rahul' 'Rahul' 'Sachin' 'Rahul'\n",
      " 'Rahul' 'Rahul' 'Rahul' 'Rahul' 'Rahul' 'Sachin' 'Sachin' 'Sachin'\n",
      " 'Rahul' 'Sachin' 'Sachin' 'Sachin' 'Sachin' 'Sachin' 'Sachin' 'Rahul'\n",
      " 'Rahul' 'Sachin' 'Rahul' 'Sachin' 'Sachin' 'Rahul' 'Rahul' 'Rahul'\n",
      " 'Rahul' 'Sachin' 'Rahul' 'Rahul' 'Sachin' 'Sachin' 'Sachin' 'Sachin'\n",
      " 'Rahul' 'Sachin' 'Rahul' 'Sachin' 'Sachin' 'Sachin' 'Rahul' 'Sachin'\n",
      " 'Rahul' 'Sachin' 'Sachin' 'Sachin' 'Sachin' 'Rahul' 'Sachin' 'Rahul'\n",
      " 'Rahul' 'Sachin' 'Sachin' 'Rahul' 'Sachin' 'Rahul' 'Sachin' 'Sachin'\n",
      " 'Sachin' 'Sachin' 'Sachin' 'Sachin' 'Rahul' 'Rahul' 'Rahul' 'Sachin'\n",
      " 'Sachin' 'Sachin' 'Sachin' 'Rahul' 'Sachin' 'Rahul' 'Sachin' 'Sachin'\n",
      " 'Sachin' 'Sachin' 'Rahul' 'Rahul' 'Rahul' 'Sachin' 'Rahul' 'Sachin'\n",
      " 'Rahul' 'Sachin' 'Rahul' 'Sachin' 'Sachin' 'Rahul' 'Sachin' 'Rahul'\n",
      " 'Rahul' 'Sachin' 'Sachin' 'Rahul' 'Sachin' 'Sachin' 'Sachin' 'Sachin'\n",
      " 'Rahul' 'Sachin' 'Rahul' 'Rahul' 'Sachin' 'Sachin' 'Sachin' 'Sachin'\n",
      " 'Rahul' 'Rahul' 'Rahul' 'Sachin' 'Rahul' 'Rahul' 'Rahul' 'Rahul' 'Sachin'\n",
      " 'Rahul' 'Rahul' 'Sachin' 'Rahul' 'Rahul' 'Sachin' 'Rahul' 'Sachin'\n",
      " 'Sachin' 'Sachin' 'Rahul' 'Sachin' 'Rahul' 'Rahul' 'Rahul' 'Sachin'\n",
      " 'Sachin' 'Sachin' 'Rahul' 'Rahul' 'Sachin' 'Rahul' 'Sachin' 'Rahul'\n",
      " 'Rahul' 'Rahul' 'Rahul' 'Sachin' 'Sachin' 'Rahul' 'Sachin' 'Sachin']\n",
      "\n",
      "\n"
     ]
    }
   ],
   "source": [
    "## Method 1\n",
    "print(np.where(rahul>sachin,'Rahul','Sachin'))\n",
    "print()\n",
    "print()\n",
    "## method 2\n",
    "##np.argmax(np.arange(5))  --  give the position of max value\n",
    "#snr = arr[:,0:2]\n",
    "#is_rahul_higher = np.argmax(snr,axis=1)\n",
    "#np.where(is_rahul_higher,\"Rahul\",\"Sachin\")"
   ]
  },
  {
   "cell_type": "markdown",
   "metadata": {},
   "source": [
    "##### 8"
   ]
  },
  {
   "cell_type": "code",
   "execution_count": 260,
   "metadata": {},
   "outputs": [
    {
     "data": {
      "text/plain": [
       "47.48026315789474"
      ]
     },
     "execution_count": 260,
     "metadata": {},
     "output_type": "execute_result"
    }
   ],
   "source": [
    "def mean_x(x):\n",
    "    arr = np.genfromtxt(r\"C:\\Users\\malla\\OneDrive\\Desktop\\PadhAI\\cric_data.tsv\",skip_header=1,usecols=(1,2,3))\n",
    "    sachin = arr[:,0]\n",
    "    sachin = sachin-x\n",
    "    return np.mean(sachin[sachin>=0])\n",
    "mean_x(10)"
   ]
  },
  {
   "cell_type": "code",
   "execution_count": 301,
   "metadata": {},
   "outputs": [
    {
     "name": "stdout",
     "output_type": "stream",
     "text": [
      "(225,)\n",
      "39.87555555555556\n",
      "45.61363636363637\n",
      "47.48026315789474\n",
      "47.45255474452555\n",
      "46.824\n",
      "44.10084033613445\n",
      "45.13461538461539\n",
      "43.24742268041237\n",
      "44.05882352941177\n",
      "43.41558441558441\n",
      "43.98529411764706\n",
      "42.317460317460316\n",
      "38.67213114754098\n",
      "37.654545454545456\n",
      "37.08163265306123\n",
      "34.34782608695652\n",
      "30.75\n",
      "28.65\n",
      "27.4\n",
      "26.433333333333334\n"
     ]
    }
   ],
   "source": [
    "## Using Broadcasting\n",
    "x_arr = np.arange(0,100,5)\n",
    "x_arr = x_arr.reshape(x_arr.shape[0],1)\n",
    "sachin_r = sachin>=x_arr\n",
    "print(sachin_r[0,:].shape)\n",
    "for i in range(x_arr.shape[0]):\n",
    "    after_x = sachin[sachin_r[i,:]]-x_arr[i]\n",
    "    print(np.mean(after_x))"
   ]
  },
  {
   "cell_type": "markdown",
   "metadata": {},
   "source": [
    "##### 9"
   ]
  },
  {
   "cell_type": "code",
   "execution_count": 302,
   "metadata": {},
   "outputs": [
    {
     "name": "stdout",
     "output_type": "stream",
     "text": [
      "29\n",
      "47\n"
     ]
    }
   ],
   "source": [
    "sachin_cumsum = np.cumsum(sachin)\n",
    "print(sachin[sachin_cumsum<=1000].size)\n",
    "print(sachin[sachin_cumsum<=2000].size)"
   ]
  },
  {
   "cell_type": "code",
   "execution_count": 308,
   "metadata": {},
   "outputs": [
    {
     "data": {
      "text/plain": [
       "(array([29, 18, 26, 25, 26, 26, 23, 22, 30], dtype=int64),\n",
       " array([   0, 1000, 2000, 3000, 4000, 5000, 6000, 7000, 8000, 9000]))"
      ]
     },
     "execution_count": 308,
     "metadata": {},
     "output_type": "execute_result"
    }
   ],
   "source": [
    "sachin_cumsum = np.cumsum(sachin)\n",
    "np.histogram(sachin_cumsum,bins=np.arange(0,10000,1000))"
   ]
  }
 ],
 "metadata": {
  "kernelspec": {
   "display_name": "Python 3",
   "language": "python",
   "name": "python3"
  },
  "language_info": {
   "codemirror_mode": {
    "name": "ipython",
    "version": 3
   },
   "file_extension": ".py",
   "mimetype": "text/x-python",
   "name": "python",
   "nbconvert_exporter": "python",
   "pygments_lexer": "ipython3",
   "version": "3.7.6"
  }
 },
 "nbformat": 4,
 "nbformat_minor": 4
}
