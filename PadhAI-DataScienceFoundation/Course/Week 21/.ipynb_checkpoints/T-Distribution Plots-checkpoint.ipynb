{
 "cells": [
  {
   "cell_type": "markdown",
   "id": "f71c976e-a0ae-4f12-a8ef-f7f2de7f9dfb",
   "metadata": {},
   "source": [
    "### Run this first"
   ]
  },
  {
   "cell_type": "code",
   "execution_count": 1,
   "id": "33515b26-89dc-43b7-aaca-f3274bcabe45",
   "metadata": {},
   "outputs": [],
   "source": [
    "import numpy as np\n",
    "import pandas as pd\n",
    "import seaborn as sns\n",
    "import matplotlib.pyplot as plt\n",
    "from scipy.stats import binom\n",
    "from scipy.stats import geom\n",
    "from scipy.stats import norm"
   ]
  },
  {
   "cell_type": "markdown",
   "id": "6e4a4099-a328-4f1a-a317-438e270afc7c",
   "metadata": {},
   "source": [
    "## T - Distribution Plots"
   ]
  },
  {
   "cell_type": "code",
   "execution_count": 71,
   "id": "d31b1a13-36df-4c20-83e0-b6d9fbc0b6bb",
   "metadata": {},
   "outputs": [
    {
     "data": {
      "text/plain": [
       "array([2.06279966, 0.79349584, 1.19905521, ..., 1.17735719, 1.18372162,\n",
       "       0.5069852 ])"
      ]
     },
     "execution_count": 71,
     "metadata": {},
     "output_type": "execute_result"
    }
   ],
   "source": [
    "n = 5\n",
    "N = 10000\n",
    "mu = 5\n",
    "sigma = 2\n",
    "\n",
    "a = mu + sigma*np.random.randn(N,n)\n",
    "\n",
    "T = (np.sqrt(n)*(a.mean(axis=1) - mu))/a.std(axis=1)\n",
    "T"
   ]
  },
  {
   "cell_type": "code",
   "execution_count": 72,
   "id": "97bc0fc0-e17b-458a-b45b-a9e0026c424f",
   "metadata": {},
   "outputs": [
    {
     "data": {
      "image/png": "[encoded data removed]",
      "text/plain": [
       "<Figure size 432x288 with 1 Axes>"
      ]
     },
     "metadata": {
      "needs_background": "light"
     },
     "output_type": "display_data"
    }
   ],
   "source": [
    "plt.hist(T,bins=100)\n",
    "plt.show()"
   ]
  },
  {
   "cell_type": "code",
   "execution_count": null,
   "id": "b3b5bf34-c5cf-4a50-b441-39965e24aecf",
   "metadata": {},
   "outputs": [],
   "source": []
  }
 ],
 "metadata": {
  "kernelspec": {
   "display_name": "Python 3",
   "language": "python",
   "name": "python3"
  },
  "language_info": {
   "codemirror_mode": {
    "name": "ipython",
    "version": 3
   },
   "file_extension": ".py",
   "mimetype": "text/x-python",
   "name": "python",
   "nbconvert_exporter": "python",
   "pygments_lexer": "ipython3",
   "version": "3.8.8"
  }
 },
 "nbformat": 4,
 "nbformat_minor": 5
}
