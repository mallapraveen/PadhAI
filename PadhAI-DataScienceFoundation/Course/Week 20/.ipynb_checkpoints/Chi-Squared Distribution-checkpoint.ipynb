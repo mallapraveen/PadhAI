{
 "cells": [
  {
   "cell_type": "markdown",
   "id": "4676dde4-cff3-4450-8680-42f31b04fc5a",
   "metadata": {},
   "source": [
    "### Run this first"
   ]
  },
  {
   "cell_type": "code",
   "execution_count": 1,
   "id": "504cc93d-fc5e-40fc-bd0c-c402ff0550c8",
   "metadata": {},
   "outputs": [],
   "source": [
    "import numpy as np\n",
    "import pandas as pd\n",
    "import seaborn as sns\n",
    "import matplotlib.pyplot as plt\n",
    "from scipy.stats import binom\n",
    "from scipy.stats import geom\n",
    "from scipy.stats import norm"
   ]
  },
  {
   "cell_type": "markdown",
   "id": "8376cb42-60fe-47f4-bf98-d6002b38b48d",
   "metadata": {},
   "source": [
    "## Chi - Squared Distribution"
   ]
  },
  {
   "cell_type": "markdown",
   "id": "45b10f21-3cd8-4cda-8ee5-d16c0ca38c1a",
   "metadata": {},
   "source": [
    "### Exercise"
   ]
  },
  {
   "cell_type": "code",
   "execution_count": 66,
   "id": "08758a90-af86-4db8-b18e-3e85d3dd1ee8",
   "metadata": {},
   "outputs": [
    {
     "data": {
      "text/plain": [
       "0.6731044214583196"
      ]
     },
     "execution_count": 66,
     "metadata": {},
     "output_type": "execute_result"
    }
   ],
   "source": [
    "n = 3\n",
    "N = 10000\n",
    "\n",
    "a = np.random.randn(N,n)\n",
    "\n",
    "variance = np.var(a,axis=1)\n",
    "expected_var = np.mean(variance)\n",
    "expected_var"
   ]
  },
  {
   "cell_type": "code",
   "execution_count": 67,
   "id": "db93234e-6d6c-4abd-b755-c181fab65c8d",
   "metadata": {},
   "outputs": [
    {
     "data": {
      "image/png": "[encoded data removed]",
      "text/plain": [
       "<Figure size 432x288 with 1 Axes>"
      ]
     },
     "metadata": {
      "needs_background": "light"
     },
     "output_type": "display_data"
    }
   ],
   "source": [
    "plt.hist(variance,bins=100)\n",
    "plt.show()"
   ]
  },
  {
   "cell_type": "markdown",
   "id": "e7976607-6734-4025-8f17-c05cb31e11fe",
   "metadata": {},
   "source": [
    "#### Changing sample size and no. of samples"
   ]
  },
  {
   "cell_type": "code",
   "execution_count": 84,
   "id": "6a4553b8-58a5-48e5-8352-4e008be1b730",
   "metadata": {},
   "outputs": [
    {
     "data": {
      "text/plain": [
       "0.8025699074385886"
      ]
     },
     "execution_count": 84,
     "metadata": {},
     "output_type": "execute_result"
    }
   ],
   "source": [
    "n = 5\n",
    "N = 10000\n",
    "\n",
    "a = np.random.randn(N,n)\n",
    "\n",
    "variance = np.var(a,axis=1)\n",
    "expected_var = np.mean(variance)\n",
    "expected_var"
   ]
  },
  {
   "cell_type": "code",
   "execution_count": 85,
   "id": "84c82f7e-8d7a-4258-8fff-e4003792fbe6",
   "metadata": {},
   "outputs": [
    {
     "data": {
      "image/png": "[encoded data removed]",
      "text/plain": [
       "<Figure size 432x288 with 1 Axes>"
      ]
     },
     "metadata": {
      "needs_background": "light"
     },
     "output_type": "display_data"
    }
   ],
   "source": [
    "plt.hist(variance,bins=100)\n",
    "plt.show()"
   ]
  },
  {
   "cell_type": "markdown",
   "id": "a2845fe5-fb32-47d9-87bb-03c3def7b32b",
   "metadata": {},
   "source": [
    "#### Changing mu and sigma"
   ]
  },
  {
   "cell_type": "code",
   "execution_count": 88,
   "id": "84f75800-b145-4316-830e-017c644c0b07",
   "metadata": {},
   "outputs": [
    {
     "data": {
      "text/plain": [
       "0.990845019003257"
      ]
     },
     "execution_count": 88,
     "metadata": {},
     "output_type": "execute_result"
    }
   ],
   "source": [
    "n = 100\n",
    "N = 10000\n",
    "mu = 0\n",
    "sigma = 1 \n",
    "a = mu + sigma*np.random.randn(N,n)\n",
    "\n",
    "variance = np.var(a,axis=1)\n",
    "expected_var = np.mean(variance)\n",
    "expected_var"
   ]
  },
  {
   "cell_type": "code",
   "execution_count": 89,
   "id": "651c7d95-b663-41f6-8c91-1909b2bf62c2",
   "metadata": {},
   "outputs": [
    {
     "data": {
      "image/png": "[encoded data removed]",
      "text/plain": [
       "<Figure size 432x288 with 1 Axes>"
      ]
     },
     "metadata": {
      "needs_background": "light"
     },
     "output_type": "display_data"
    }
   ],
   "source": [
    "plt.hist(variance,bins=100)\n",
    "plt.show()"
   ]
  },
  {
   "cell_type": "markdown",
   "id": "365b7c6b-4850-422f-8312-675ac96eb2db",
   "metadata": {},
   "source": [
    "## Chi square distribution"
   ]
  },
  {
   "cell_type": "markdown",
   "id": "7cb849e4-6733-4f77-8588-d565b5f803e3",
   "metadata": {},
   "source": [
    "### N = 1 , single"
   ]
  },
  {
   "cell_type": "code",
   "execution_count": 121,
   "id": "6dffaba8-0ff2-4813-8636-54db1720d7e2",
   "metadata": {},
   "outputs": [
    {
     "data": {
      "text/plain": [
       "2.081926064334964"
      ]
     },
     "execution_count": 121,
     "metadata": {},
     "output_type": "execute_result"
    }
   ],
   "source": [
    "n = 2\n",
    "N = 10000\n",
    "mu = 0\n",
    "sigma = 1 \n",
    "a = mu + sigma*np.random.randn(N,n)\n",
    "\n",
    "a_sqr = a*a\n",
    "\n",
    "a_sqr.var()"
   ]
  },
  {
   "cell_type": "code",
   "execution_count": 103,
   "id": "91da8882-1cc9-4e73-9fe1-2be45b49e3a9",
   "metadata": {},
   "outputs": [
    {
     "data": {
      "image/png": "[encoded data removed]",
      "text/plain": [
       "<Figure size 432x288 with 1 Axes>"
      ]
     },
     "metadata": {
      "needs_background": "light"
     },
     "output_type": "display_data"
    }
   ],
   "source": [
    "plt.hist(a_sqr,bins=100)\n",
    "plt.show()"
   ]
  },
  {
   "cell_type": "markdown",
   "id": "a04aa709-4817-4850-bbb8-cb66903b6fe3",
   "metadata": {},
   "source": [
    "### N = 2 , sum of 2 normal distributions"
   ]
  },
  {
   "cell_type": "code",
   "execution_count": 127,
   "id": "af186f77-1a12-4d93-9711-89f8ae4d9913",
   "metadata": {},
   "outputs": [
    {
     "data": {
      "text/plain": [
       "4.027749567608294"
      ]
     },
     "execution_count": 127,
     "metadata": {},
     "output_type": "execute_result"
    }
   ],
   "source": [
    "n = 2\n",
    "N = 10000\n",
    "mu = 0\n",
    "sigma = 1 \n",
    "a = mu + sigma*np.random.randn(N,n)\n",
    "b= mu + sigma*np.random.randn(N,n)\n",
    "\n",
    "a_sqr = a*a + b*b\n",
    "\n",
    "a_sqr.var()"
   ]
  },
  {
   "cell_type": "code",
   "execution_count": 109,
   "id": "5dc13c94-72df-4925-9659-5c6369f65647",
   "metadata": {},
   "outputs": [
    {
     "data": {
      "image/png": "[encoded data removed]",
      "text/plain": [
       "<Figure size 432x288 with 1 Axes>"
      ]
     },
     "metadata": {
      "needs_background": "light"
     },
     "output_type": "display_data"
    }
   ],
   "source": [
    "plt.hist(a_sqr,bins=100)\n",
    "plt.show()"
   ]
  },
  {
   "cell_type": "markdown",
   "id": "f1709200-04ab-42fd-8678-28282043f17c",
   "metadata": {},
   "source": [
    "### N = 3 , sum of 3 normal distributions"
   ]
  },
  {
   "cell_type": "code",
   "execution_count": 134,
   "id": "7e39ddee-a72f-4020-96b8-9d26f6308405",
   "metadata": {},
   "outputs": [
    {
     "data": {
      "text/plain": [
       "6.062619182523031"
      ]
     },
     "execution_count": 134,
     "metadata": {},
     "output_type": "execute_result"
    }
   ],
   "source": [
    "n = 2\n",
    "N = 10000\n",
    "mu = 0\n",
    "sigma = 1 \n",
    "a = mu + sigma*np.random.randn(N,n)\n",
    "b= mu + sigma*np.random.randn(N,n)\n",
    "c= mu + sigma*np.random.randn(N,n)\n",
    "\n",
    "a_sqr = a*a + b*b + c*c\n",
    "\n",
    "a_sqr.var()"
   ]
  },
  {
   "cell_type": "code",
   "execution_count": 111,
   "id": "80a29f1d-6fb2-47ab-b2a9-6fe036ec6e54",
   "metadata": {},
   "outputs": [
    {
     "data": {
      "image/png": "[encoded data removed]",
      "text/plain": [
       "<Figure size 432x288 with 1 Axes>"
      ]
     },
     "metadata": {
      "needs_background": "light"
     },
     "output_type": "display_data"
    }
   ],
   "source": [
    "plt.hist(a_sqr,bins=100)\n",
    "plt.show()"
   ]
  },
  {
   "cell_type": "markdown",
   "id": "1873a780-0ca4-446c-aafb-59954bd62449",
   "metadata": {},
   "source": [
    "### N = 10 , sum of 10 normal distributions"
   ]
  },
  {
   "cell_type": "code",
   "execution_count": 137,
   "id": "46db7a65-4fad-4a18-acb6-2349530a3291",
   "metadata": {},
   "outputs": [
    {
     "data": {
      "text/plain": [
       "20.333010320907658"
      ]
     },
     "execution_count": 137,
     "metadata": {},
     "output_type": "execute_result"
    }
   ],
   "source": [
    "n = 2\n",
    "N = 10000\n",
    "mu = 0\n",
    "sigma = 1 \n",
    "a = mu + sigma*np.random.randn(N,n)\n",
    "b= mu + sigma*np.random.randn(N,n)\n",
    "c= mu + sigma*np.random.randn(N,n)\n",
    "d= mu + sigma*np.random.randn(N,n)\n",
    "e= mu + sigma*np.random.randn(N,n)\n",
    "f= mu + sigma*np.random.randn(N,n)\n",
    "g= mu + sigma*np.random.randn(N,n)\n",
    "h= mu + sigma*np.random.randn(N,n)\n",
    "i= mu + sigma*np.random.randn(N,n)\n",
    "j= mu + sigma*np.random.randn(N,n)\n",
    "\n",
    "a_sqr = a*a + b*b + c*c + d*d + e*e + f*f + g*g+ h*h + i*i + j*j\n",
    "\n",
    "a_sqr.var()"
   ]
  },
  {
   "cell_type": "code",
   "execution_count": 138,
   "id": "0ea78e57-99ab-482c-8e8e-58f25fc89cc5",
   "metadata": {},
   "outputs": [
    {
     "data": {
      "image/png": "[encoded data removed]",
      "text/plain": [
       "<Figure size 432x288 with 1 Axes>"
      ]
     },
     "metadata": {
      "needs_background": "light"
     },
     "output_type": "display_data"
    }
   ],
   "source": [
    "plt.hist(a_sqr,bins=100)\n",
    "plt.show()"
   ]
  }
 ],
 "metadata": {
  "kernelspec": {
   "display_name": "Python 3",
   "language": "python",
   "name": "python3"
  },
  "language_info": {
   "codemirror_mode": {
    "name": "ipython",
    "version": 3
   },
   "file_extension": ".py",
   "mimetype": "text/x-python",
   "name": "python",
   "nbconvert_exporter": "python",
   "pygments_lexer": "ipython3",
   "version": "3.8.8"
  }
 },
 "nbformat": 4,
 "nbformat_minor": 5
}
