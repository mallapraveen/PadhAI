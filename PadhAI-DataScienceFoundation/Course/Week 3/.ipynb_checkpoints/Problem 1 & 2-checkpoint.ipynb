{
 "cells": [
  {
   "cell_type": "markdown",
   "metadata": {},
   "source": [
    "##### Problem 1"
   ]
  },
  {
   "cell_type": "code",
   "execution_count": 29,
   "metadata": {},
   "outputs": [
    {
     "name": "stdin",
     "output_type": "stream",
     "text": [
      "Enter your weight (in kgs) 72\n"
     ]
    }
   ],
   "source": [
    "weight = int(input(\"Enter your weight (in kgs)\"))\n"
   ]
  },
  {
   "cell_type": "code",
   "execution_count": 30,
   "metadata": {},
   "outputs": [
    {
     "name": "stdin",
     "output_type": "stream",
     "text": [
      "What is your preferred unit of height? Type  for feet and \"M\" for meters F\n"
     ]
    }
   ],
   "source": [
    "selection = input(\"What is your preferred unit of height? Type \"F\" for feet and \\\"M\\\" for meters\")"
   ]
  },
  {
   "cell_type": "code",
   "execution_count": 31,
   "metadata": {},
   "outputs": [
    {
     "name": "stdin",
     "output_type": "stream",
     "text": [
      "You will enter your height given as feet and inches. First enter feet 5\n",
      "Now enter inches 6\n"
     ]
    }
   ],
   "source": [
    "if(selection == \"F\"):\n",
    "    feet = int(input(\"You will enter your height given as feet and inches. First enter feet\"))\n",
    "    inches = int(input(\"Now enter inches\"))\n",
    "elif(selection == \"M\"):\n",
    "    height = int(input(\"What is your height in meters\"))"
   ]
  },
  {
   "cell_type": "code",
   "execution_count": 72,
   "metadata": {},
   "outputs": [],
   "source": [
    "if selection == \"F\":\n",
    "    height = (feet+inches/12)*0.3048"
   ]
  },
  {
   "cell_type": "code",
   "execution_count": 33,
   "metadata": {},
   "outputs": [
    {
     "name": "stdout",
     "output_type": "stream",
     "text": [
      "24.713059630200892\n"
     ]
    }
   ],
   "source": [
    "bmi = weight/(height*height)\n",
    "print(bmi)"
   ]
  },
  {
   "cell_type": "code",
   "execution_count": 35,
   "metadata": {},
   "outputs": [
    {
     "name": "stdout",
     "output_type": "stream",
     "text": [
      "NORMAL\n"
     ]
    }
   ],
   "source": [
    "if(bmi<18.6):\n",
    "    print(\"UNDERWEIGHT\")\n",
    "elif(bmi<25):\n",
    "    print(\"NORMAL\")\n",
    "elif(bmi<30):\n",
    "    print(\"OVERWEIGHT\")\n",
    "else:\n",
    "    print(\"OVERWEIGHT\")"
   ]
  },
  {
   "cell_type": "markdown",
   "metadata": {},
   "source": [
    "##### Problem 2"
   ]
  },
  {
   "cell_type": "code",
   "execution_count": 37,
   "metadata": {},
   "outputs": [],
   "source": [
    "def factorial_itr(n):\n",
    "    temp = 1\n",
    "    for i in range(1,n+1):\n",
    "        temp = temp*i\n",
    "    return temp"
   ]
  },
  {
   "cell_type": "code",
   "execution_count": 47,
   "metadata": {},
   "outputs": [],
   "source": [
    "def factorial_rec(n):\n",
    "    if n == 1:\n",
    "        return 1\n",
    "    return n*factorial_rec(n-1)"
   ]
  },
  {
   "cell_type": "code",
   "execution_count": 83,
   "metadata": {},
   "outputs": [],
   "source": [
    "def compute(x,n):\n",
    "    return x**n/factorial_itr(n)"
   ]
  },
  {
   "cell_type": "code",
   "execution_count": 109,
   "metadata": {},
   "outputs": [],
   "source": [
    "def sum_val(x,N):\n",
    "    temp = 1\n",
    "    for i in range(1,N+1):\n",
    "        temp+=compute(x,i)\n",
    "    return temp"
   ]
  },
  {
   "cell_type": "code",
   "execution_count": 110,
   "metadata": {},
   "outputs": [
    {
     "data": {
      "text/plain": [
       "7.387301587301587"
      ]
     },
     "execution_count": 110,
     "metadata": {},
     "output_type": "execute_result"
    }
   ],
   "source": [
    "def sum_epsilon(x,e):\n",
    "    sum = 1\n",
    "    var = e\n",
    "    i=1\n",
    "    while var>=e:\n",
    "        var=compute(x,i)\n",
    "        sum+=var\n",
    "        i+=1\n",
    "        if var<e:\n",
    "            break\n",
    "    return sum\n",
    "sum_epsilon(2,0.01)"
   ]
  },
  {
   "cell_type": "code",
   "execution_count": 111,
   "metadata": {},
   "outputs": [],
   "source": [
    "def final(p,q):\n",
    "    v1 = sum_val(p,100)*sum_val(q,100)\n",
    "    v2 = sum_val(p+q,100)\n",
    "    print(v1,v2,v2-v1)"
   ]
  },
  {
   "cell_type": "code",
   "execution_count": 113,
   "metadata": {},
   "outputs": [
    {
     "name": "stdout",
     "output_type": "stream",
     "text": [
      "270.4264074261525 270.4264074261526 1.1368683772161603e-13\n"
     ]
    }
   ],
   "source": [
    "final(-1.5,7.1)"
   ]
  }
 ],
 "metadata": {
  "kernelspec": {
   "display_name": "Python 3",
   "language": "python",
   "name": "python3"
  },
  "language_info": {
   "codemirror_mode": {
    "name": "ipython",
    "version": 3
   },
   "file_extension": ".py",
   "mimetype": "text/x-python",
   "name": "python",
   "nbconvert_exporter": "python",
   "pygments_lexer": "ipython3",
   "version": "3.7.6"
  }
 },
 "nbformat": 4,
 "nbformat_minor": 4
}
