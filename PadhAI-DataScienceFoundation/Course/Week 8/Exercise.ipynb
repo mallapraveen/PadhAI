{
 "cells": [
  {
   "cell_type": "code",
   "execution_count": 1,
   "metadata": {},
   "outputs": [],
   "source": [
    "import numpy as np"
   ]
  },
  {
   "cell_type": "markdown",
   "metadata": {},
   "source": [
    "# Exercise"
   ]
  },
  {
   "cell_type": "markdown",
   "metadata": {},
   "source": [
    "1.   Write a program to multiply two matrices of size $(100, 100)$ in two methods: (a) by using `np.dot(mat_1, mat_2)` and (b) by using for-loops. Comapre the time of execution in both the cases. Check out the documentation of `np.dot` in case that is not familiar to you. "
   ]
  },
  {
   "cell_type": "code",
   "execution_count": 4,
   "metadata": {},
   "outputs": [
    {
     "name": "stdout",
     "output_type": "stream",
     "text": [
      "[[25.77393576 27.82478222 25.29950045 ... 24.04065428 28.10626681\n",
      "  20.22193585]\n",
      " [23.76131891 26.3645058  23.82039237 ... 21.74938425 24.5622822\n",
      "  20.76443968]\n",
      " [23.50638532 27.07302309 25.91710341 ... 22.40689921 26.96470897\n",
      "  22.07112927]\n",
      " ...\n",
      " [23.34148217 28.16285746 25.22468786 ... 22.27659559 25.82255654\n",
      "  22.68232052]\n",
      " [22.48521664 24.97838458 24.37808506 ... 19.89432447 23.37762465\n",
      "  20.42348141]\n",
      " [26.29882918 30.84294011 26.93753829 ... 26.18609371 28.23358224\n",
      "  24.21495494]]\n",
      "Wall time: 1.96 ms\n"
     ]
    }
   ],
   "source": [
    "%%time\n",
    "print(np.dot(np.random.rand(100,100),np.random.rand(100,100)))"
   ]
  },
  {
   "cell_type": "code",
   "execution_count": 5,
   "metadata": {},
   "outputs": [
    {
     "name": "stdout",
     "output_type": "stream",
     "text": [
      "Wall time: 763 ms\n"
     ]
    }
   ],
   "source": [
    "%%time\n",
    "a = np.random.rand(100,100)\n",
    "b = np.random.rand(100,100)\n",
    "c = np.zeros([100, 100])\n",
    "for i in range(100):\n",
    "    for j in range(100):\n",
    "        sum = 0\n",
    "        for x in range(100):\n",
    "            sum+= a[i][x]*b[x][j]\n",
    "        c[i][j] = sum"
   ]
  },
  {
   "cell_type": "markdown",
   "metadata": {},
   "source": [
    "2.   Write a program to execute the steps below using numpy:\n",
    "    $$z_{ij} = \\sum_{k=1}^{n}w_{ik}x_{kj}$$\n",
    "    $$\\sigma_{ij}(z_{ij}) = \\frac{1}{1+e^{-z_{ij}}}$$ where $\\textbf{w}$ and $\\textbf{x}$ are matrices of random numbers having  dimensions $(m,n)$ and $(n,k)$, respectively, $\\sigma(z)$ is a function which performs above defined operation on elements of $\\textbf{z}$."
   ]
  },
  {
   "cell_type": "code",
   "execution_count": null,
   "metadata": {},
   "outputs": [],
   "source": [
    "w = np.random.randn(10, 20)\n",
    "x = np.random.randn(20, 30)\n",
    "\n",
    "def fun(z):\n",
    "    return (1/(1+np.exp(-z)))\n",
    "\n",
    "z = np.dot(w,x)\n",
    "sigma_z = fun(z)\n",
    "\n",
    "print(z.shape)\n",
    "print(sigma_z.shape)"
   ]
  },
  {
   "cell_type": "markdown",
   "metadata": {},
   "source": [
    "3.   Consider a matrix $\\textbf{M}$ of size $(n, n)$. Flatten this into a 1-dimensional array and \n",
    "> 1. compute **mean** and **standard deviation** of $\\textbf{M}$ in *two* ways. <br>\n",
    "> 2. Apply the element wise operation as defined below: $$z_i = \\frac{x_i - \\mu}{\\sigma}$$ <br> where $x_i, \\ \\mu,\\ \\sigma$ are elements, mean and standard deviation of flattened matrix $\\textbf{M}$ respectively. And $z$ is the output vector.\n",
    "> 3. Compute the **mean** and **standard deviation** of $z$ and compare them with the **mean** and **standard deviation** of $\\textbf{M}$.\n",
    "> 4. Resaon about the above comparison."
   ]
  },
  {
   "cell_type": "code",
   "execution_count": 8,
   "metadata": {},
   "outputs": [
    {
     "name": "stdout",
     "output_type": "stream",
     "text": [
      "[-0.16873377  0.3603367   0.80120018 ...  0.65689639 -1.37549859\n",
      " -0.41924249]\n"
     ]
    }
   ],
   "source": [
    "n = 100\n",
    "w = np.random.randn(n, n)\n",
    "w = w.reshape(-1)\n",
    "mean = w.mean()\n",
    "std = w.std()\n",
    "z = (w - mean)/std\n",
    "print(z)"
   ]
  },
  {
   "cell_type": "markdown",
   "metadata": {},
   "source": [
    "4.   Consider an $n$ dimentional vector $\\vec{V}$ (having $n$ elements), calculate :\n",
    "> 1. $|\\vec{V}|$ (magnitude of vector)\n",
    "> 2. $\\sum_{i=1}^{n}v_i^3$ in three different ways (here $n$ is total number of elements in $\\vec{V}$ and $v_i$ is $i_{th}$ element of $\\vec{V}$)."
   ]
  },
  {
   "cell_type": "code",
   "execution_count": 42,
   "metadata": {},
   "outputs": [
    {
     "name": "stdout",
     "output_type": "stream",
     "text": [
      "9.857394211188929\n"
     ]
    }
   ],
   "source": [
    "n = 100\n",
    "a = np.random.randn(n)\n",
    "mag = np.sqrt(np.sum(a*a))\n",
    "print(mag)"
   ]
  },
  {
   "cell_type": "code",
   "execution_count": 44,
   "metadata": {},
   "outputs": [
    {
     "name": "stdout",
     "output_type": "stream",
     "text": [
      "Method 1 :  -37.565486053562104\n",
      "Method 2 :  -37.565486053562104\n",
      "Method 3 :  -37.565486053562104\n"
     ]
    }
   ],
   "source": [
    "V_cube_1 = np.sum(a**3)\n",
    "V_cube_2 = np.power(a, 3).sum()\n",
    "V_cube_3 = np.dot(a*a, a)\n",
    "\n",
    "print('Method 1 : ', V_cube_1)\n",
    "print('Method 2 : ', V_cube_2)\n",
    "print('Method 3 : ', V_cube_3)"
   ]
  },
  {
   "cell_type": "markdown",
   "metadata": {},
   "source": [
    "5.   Create two vectors $y$ and $\\hat{y}$ having **same** dimensions, where $\\hat{y}$ should consist of random numbers between $[0, 1]$ and $y$ should contain $0s$ and $1s$, for example $y = [0, 1, 1, 0, 1, 0, 0, 1, ..., 1]$. Compute the given expression: $$O = -\\frac{1}{n}\\sum_{i=1}^{n}[y_i\\log_2(\\hat{y_i}) + (1-y_i)\\log_2(1-\\hat{y_i})]$$\n",
    "where $n$ is the total number of elements in $y$ and $\\hat{y}$."
   ]
  },
  {
   "cell_type": "code",
   "execution_count": 63,
   "metadata": {},
   "outputs": [
    {
     "name": "stdout",
     "output_type": "stream",
     "text": [
      "1.45793524073922 1.45793524073922\n"
     ]
    }
   ],
   "source": [
    "n = 100\n",
    "y_hat = np.random.rand(n)\n",
    "y = np.random.randint(0,2,n)\n",
    "\n",
    "o1 = -np.sum(y*np.log2(y_hat) + (1 - y)*np.log2(1 - y_hat))/n\n",
    "o2 = -(y*np.log2(y_hat) + (1 - y)*np.log2(1 - y_hat)).mean()\n",
    "print(o1,o2)"
   ]
  }
 ],
 "metadata": {
  "kernelspec": {
   "display_name": "Python 3",
   "language": "python",
   "name": "python3"
  },
  "language_info": {
   "codemirror_mode": {
    "name": "ipython",
    "version": 3
   },
   "file_extension": ".py",
   "mimetype": "text/x-python",
   "name": "python",
   "nbconvert_exporter": "python",
   "pygments_lexer": "ipython3",
   "version": "3.7.6"
  }
 },
 "nbformat": 4,
 "nbformat_minor": 4
}
