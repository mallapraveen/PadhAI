{
 "cells": [
  {
   "cell_type": "markdown",
   "metadata": {},
   "source": [
    "## Run this first"
   ]
  },
  {
   "cell_type": "code",
   "execution_count": 1,
   "metadata": {},
   "outputs": [],
   "source": [
    "import numpy as np\n",
    "%config IPCompleter.greedy=True"
   ]
  },
  {
   "cell_type": "markdown",
   "metadata": {},
   "source": [
    "### Comparing with list,sets and tuple etc."
   ]
  },
  {
   "cell_type": "code",
   "execution_count": 10,
   "metadata": {},
   "outputs": [
    {
     "name": "stdout",
     "output_type": "stream",
     "text": [
      "Wall time: 16.1 s\n"
     ]
    }
   ],
   "source": [
    "%%time\n",
    "N = 100000000\n",
    "list_ = list(range(N))\n",
    "for i in range(N):\n",
    "    list_[i] = list_[i]*list_[i]"
   ]
  },
  {
   "cell_type": "code",
   "execution_count": 9,
   "metadata": {},
   "outputs": [
    {
     "name": "stdout",
     "output_type": "stream",
     "text": [
      "Wall time: 10.8 s\n"
     ]
    }
   ],
   "source": [
    "%%time\n",
    "list_ = list(range(N))\n",
    "list_ = [item*item for item in list_]"
   ]
  },
  {
   "cell_type": "code",
   "execution_count": 11,
   "metadata": {},
   "outputs": [
    {
     "name": "stdout",
     "output_type": "stream",
     "text": [
      "Wall time: 2.82 s\n"
     ]
    }
   ],
   "source": [
    "%%time\n",
    "list_ = list(range(N))\n",
    "list_ = map(lambda x:x*x,list_)"
   ]
  },
  {
   "cell_type": "code",
   "execution_count": 12,
   "metadata": {},
   "outputs": [
    {
     "name": "stdout",
     "output_type": "stream",
     "text": [
      "Wall time: 22 s\n"
     ]
    }
   ],
   "source": [
    "%%time\n",
    "list_ = list(range(N))\n",
    "list_sum = 0\n",
    "for item in list_:\n",
    "    list_sum+=item"
   ]
  },
  {
   "cell_type": "code",
   "execution_count": 13,
   "metadata": {},
   "outputs": [
    {
     "name": "stdout",
     "output_type": "stream",
     "text": [
      "Wall time: 6.26 s\n"
     ]
    }
   ],
   "source": [
    "%%time\n",
    "list_ = list(range(N))\n",
    "list_sum = sum(list_)"
   ]
  },
  {
   "cell_type": "markdown",
   "metadata": {},
   "source": [
    "## Numpy"
   ]
  },
  {
   "cell_type": "markdown",
   "metadata": {},
   "source": [
    "### Intro"
   ]
  },
  {
   "cell_type": "code",
   "execution_count": 9,
   "metadata": {},
   "outputs": [
    {
     "name": "stdout",
     "output_type": "stream",
     "text": [
      "Wall time: 245 ms\n"
     ]
    }
   ],
   "source": [
    "%%time\n",
    "N = 100000000\n",
    "arr = np.arange(N)\n",
    "arr = arr*arr"
   ]
  },
  {
   "cell_type": "code",
   "execution_count": 11,
   "metadata": {},
   "outputs": [
    {
     "name": "stdout",
     "output_type": "stream",
     "text": [
      "Wall time: 139 ms\n"
     ]
    }
   ],
   "source": [
    "%%time\n",
    "arr = np.arange(N)\n",
    "arr_sum = np.sum(arr)"
   ]
  },
  {
   "cell_type": "code",
   "execution_count": 46,
   "metadata": {},
   "outputs": [
    {
     "name": "stdout",
     "output_type": "stream",
     "text": [
      "[[[ 0  1  2]\n",
      "  [ 3  4  5]\n",
      "  [ 6  7  8]]\n",
      "\n",
      " [[ 9 10 11]\n",
      "  [12 13 14]\n",
      "  [15 16 17]]\n",
      "\n",
      " [[18 19 20]\n",
      "  [21 22 23]\n",
      "  [24 25 26]]] <class 'numpy.ndarray'>\n",
      "\n",
      "\n",
      "[[3 4 5]\n",
      " [6 7 8]]\n"
     ]
    }
   ],
   "source": [
    "N = 27\n",
    "arr = np.arange(N).reshape(3,3,3)\n",
    "print(arr,type(arr))\n",
    "print(\"\\n\")\n",
    "print(arr[0,1:3,:])"
   ]
  },
  {
   "cell_type": "code",
   "execution_count": 52,
   "metadata": {},
   "outputs": [
    {
     "name": "stdout",
     "output_type": "stream",
     "text": [
      "[1 2 3 4 5 6]\n"
     ]
    }
   ],
   "source": [
    "arr = np.array([1,2,3,4,5,6],dtype='int64')\n",
    "print(arr)"
   ]
  },
  {
   "cell_type": "code",
   "execution_count": 57,
   "metadata": {},
   "outputs": [
    {
     "name": "stdout",
     "output_type": "stream",
     "text": [
      "int64\n",
      "1\n",
      "(6,)\n",
      "6\n",
      "8\n"
     ]
    }
   ],
   "source": [
    "print(arr.dtype)\n",
    "print(arr.ndim)\n",
    "print(arr.shape)\n",
    "print(arr.size)\n",
    "print(arr.itemsize)"
   ]
  },
  {
   "cell_type": "code",
   "execution_count": 62,
   "metadata": {},
   "outputs": [
    {
     "name": "stdout",
     "output_type": "stream",
     "text": [
      "[0.1 2.  3.  4.  5.  6. ]\n"
     ]
    }
   ],
   "source": [
    "arr = np.array([0.1,2,3,4,5,6])\n",
    "print(arr)"
   ]
  },
  {
   "cell_type": "code",
   "execution_count": 72,
   "metadata": {},
   "outputs": [
    {
     "name": "stdout",
     "output_type": "stream",
     "text": [
      "int32\n",
      "2\n",
      "(2, 3)\n",
      "6\n",
      "4\n"
     ]
    }
   ],
   "source": [
    "print(arr.dtype)\n",
    "print(arr.ndim)\n",
    "print(arr.shape)\n",
    "print(arr.size)\n",
    "print(arr.itemsize)"
   ]
  },
  {
   "cell_type": "code",
   "execution_count": 79,
   "metadata": {},
   "outputs": [
    {
     "name": "stdout",
     "output_type": "stream",
     "text": [
      "int32\n",
      "2\n",
      "(2, 3)\n",
      "6\n",
      "4\n"
     ]
    }
   ],
   "source": [
    "arr2d = np.array([\n",
    "    [1,2,3],\n",
    "    [4,5,6]\n",
    "])\n",
    "print(arr2d.dtype)\n",
    "print(arr2d.ndim)\n",
    "print(arr2d.shape)\n",
    "print(arr2d.size)\n",
    "print(arr2d.itemsize)"
   ]
  },
  {
   "cell_type": "code",
   "execution_count": 83,
   "metadata": {},
   "outputs": [
    {
     "name": "stdout",
     "output_type": "stream",
     "text": [
      "int32\n",
      "3\n",
      "(2, 2, 3)\n",
      "12\n",
      "4\n"
     ]
    }
   ],
   "source": [
    "arr3d = np.array([\n",
    "    [\n",
    "        [1,2,3],\n",
    "        [4,5,6]\n",
    "    ],\n",
    "    [\n",
    "        [7,8,9],\n",
    "        [10,11,12]\n",
    "    ]\n",
    "])\n",
    "print(arr3d.dtype)\n",
    "print(arr3d.ndim)\n",
    "print(arr3d.shape)\n",
    "print(arr3d.size)\n",
    "print(arr3d.itemsize)"
   ]
  },
  {
   "cell_type": "code",
   "execution_count": 89,
   "metadata": {},
   "outputs": [
    {
     "name": "stdout",
     "output_type": "stream",
     "text": [
      "[[[1. 1. 1.]\n",
      "  [1. 1. 1.]\n",
      "  [1. 1. 1.]]\n",
      "\n",
      " [[1. 1. 1.]\n",
      "  [1. 1. 1.]\n",
      "  [1. 1. 1.]]\n",
      "\n",
      " [[1. 1. 1.]\n",
      "  [1. 1. 1.]\n",
      "  [1. 1. 1.]]]\n"
     ]
    },
    {
     "data": {
      "text/plain": [
       "array([[[1729., 1729., 1729.],\n",
       "        [1729., 1729., 1729.],\n",
       "        [1729., 1729., 1729.]],\n",
       "\n",
       "       [[1729., 1729., 1729.],\n",
       "        [1729., 1729., 1729.],\n",
       "        [1729., 1729., 1729.]],\n",
       "\n",
       "       [[1729., 1729., 1729.],\n",
       "        [1729., 1729., 1729.],\n",
       "        [1729., 1729., 1729.]]])"
      ]
     },
     "execution_count": 89,
     "metadata": {},
     "output_type": "execute_result"
    }
   ],
   "source": [
    "# Tuple should be given for ones function in np\n",
    "print(np.ones((3,3,3)))\n",
    "1729*np.ones((3,3,3))"
   ]
  },
  {
   "cell_type": "code",
   "execution_count": 91,
   "metadata": {},
   "outputs": [
    {
     "name": "stdout",
     "output_type": "stream",
     "text": [
      "[[[0. 0. 0. 0.]\n",
      "  [0. 0. 0. 0.]\n",
      "  [0. 0. 0. 0.]]\n",
      "\n",
      " [[0. 0. 0. 0.]\n",
      "  [0. 0. 0. 0.]\n",
      "  [0. 0. 0. 0.]]]\n"
     ]
    }
   ],
   "source": [
    "print(np.zeros((2,3,4)))"
   ]
  },
  {
   "cell_type": "code",
   "execution_count": 131,
   "metadata": {},
   "outputs": [
    {
     "name": "stdout",
     "output_type": "stream",
     "text": [
      "9\n",
      "[[ 1 99 33]\n",
      " [95 48 22]\n",
      " [ 3 22 63]]\n",
      "[[ 0.08946461 -0.4356366   0.60805174]\n",
      " [-0.52327575 -2.590004   -0.13061485]]\n",
      "[[0.44644715 0.89460033 0.94056868]\n",
      " [0.67652531 0.44835078 0.07152934]]\n"
     ]
    }
   ],
   "source": [
    "# Provides random number within given number\n",
    "print(np.random.randint(10))\n",
    "# range of numbers and shape of array\n",
    "print(np.random.randint(0,100,(3,3)))\n",
    "# Will give series of number with normal distribution with mean 0 and varince 1 where n denotes normal distribution\n",
    "print(np.random.randn(2,3))\n",
    "# Will give numbers unformaly between 0 to 1\n",
    "print(np.random.rand(2,3))"
   ]
  },
  {
   "cell_type": "code",
   "execution_count": 143,
   "metadata": {},
   "outputs": [
    {
     "name": "stdout",
     "output_type": "stream",
     "text": [
      "[  0  10  20  30  40  50  60  70  80  90 100]\n",
      "[  1.  12.  23.  34.  45.  56.  67.  78.  89. 100.]\n"
     ]
    }
   ],
   "source": [
    "# array within given range with step size\n",
    "print(\n",
    ")\n",
    "# creates linearspace between the extremes\n",
    "print(np.linspace(1,100,10))"
   ]
  },
  {
   "cell_type": "code",
   "execution_count": 154,
   "metadata": {},
   "outputs": [
    {
     "name": "stdout",
     "output_type": "stream",
     "text": [
      "[ True False False  True False  True]\n",
      "['a' 'b' 'c' 'ddadsd'] <U6\n"
     ]
    }
   ],
   "source": [
    "print(np.array([True,False,False,True,False,True]))\n",
    "str_arr = np.array(['a','b','c','ddadsd'])\n",
    "print(str_arr,str_arr.dtype)  # U6 unicode values with length"
   ]
  },
  {
   "cell_type": "code",
   "execution_count": 169,
   "metadata": {},
   "outputs": [
    {
     "name": "stdout",
     "output_type": "stream",
     "text": [
      "[1.5 1.7 0.8 1.1]\n"
     ]
    },
    {
     "ename": "ValueError",
     "evalue": "invalid literal for int() with base 10: '1.5'",
     "output_type": "error",
     "traceback": [
      "\u001b[1;31m---------------------------------------------------------------------------\u001b[0m",
      "\u001b[1;31mValueError\u001b[0m                                Traceback (most recent call last)",
      "\u001b[1;32m<ipython-input-169-58f48d5358e9>\u001b[0m in \u001b[0;36m<module>\u001b[1;34m\u001b[0m\n\u001b[0;32m      1\u001b[0m \u001b[0mstr_arr1\u001b[0m \u001b[1;33m=\u001b[0m \u001b[0mnp\u001b[0m\u001b[1;33m.\u001b[0m\u001b[0marray\u001b[0m\u001b[1;33m(\u001b[0m\u001b[1;33m[\u001b[0m\u001b[1;34m'1.5'\u001b[0m\u001b[1;33m,\u001b[0m\u001b[1;34m'1.7'\u001b[0m\u001b[1;33m,\u001b[0m\u001b[1;34m'0.8'\u001b[0m\u001b[1;33m,\u001b[0m\u001b[1;34m'1.1'\u001b[0m\u001b[1;33m]\u001b[0m\u001b[1;33m,\u001b[0m\u001b[0mdtype\u001b[0m\u001b[1;33m=\u001b[0m\u001b[1;34m'float32'\u001b[0m\u001b[1;33m)\u001b[0m\u001b[1;33m\u001b[0m\u001b[1;33m\u001b[0m\u001b[0m\n\u001b[0;32m      2\u001b[0m \u001b[0mprint\u001b[0m\u001b[1;33m(\u001b[0m\u001b[0mstr_arr1\u001b[0m\u001b[1;33m)\u001b[0m\u001b[1;33m\u001b[0m\u001b[1;33m\u001b[0m\u001b[0m\n\u001b[1;32m----> 3\u001b[1;33m \u001b[0mstr_arr2\u001b[0m \u001b[1;33m=\u001b[0m \u001b[0mnp\u001b[0m\u001b[1;33m.\u001b[0m\u001b[0marray\u001b[0m\u001b[1;33m(\u001b[0m\u001b[1;33m[\u001b[0m\u001b[1;34m'1.5'\u001b[0m\u001b[1;33m,\u001b[0m\u001b[1;34m'1.7'\u001b[0m\u001b[1;33m,\u001b[0m\u001b[1;34m'0.8'\u001b[0m\u001b[1;33m,\u001b[0m\u001b[1;34m'1.1'\u001b[0m\u001b[1;33m]\u001b[0m\u001b[1;33m,\u001b[0m\u001b[0mdtype\u001b[0m\u001b[1;33m=\u001b[0m\u001b[1;34m'int'\u001b[0m\u001b[1;33m)\u001b[0m  \u001b[1;31m# throws error when trying to convert to int as they are floating number\u001b[0m\u001b[1;33m\u001b[0m\u001b[1;33m\u001b[0m\u001b[0m\n\u001b[0m\u001b[0;32m      4\u001b[0m \u001b[0mprint\u001b[0m\u001b[1;33m(\u001b[0m\u001b[0mstr_arr2\u001b[0m\u001b[1;33m)\u001b[0m\u001b[1;33m\u001b[0m\u001b[1;33m\u001b[0m\u001b[0m\n",
      "\u001b[1;31mValueError\u001b[0m: invalid literal for int() with base 10: '1.5'"
     ]
    }
   ],
   "source": [
    "str_arr1 = np.array(['1.5','1.7','0.8','1.1'],dtype='float32')\n",
    "print(str_arr1)\n",
    "str_arr2 = np.array(['1.5','1.7','0.8','1.1'],dtype='int')  # throws error when trying to convert to int as they are floating number\n",
    "print(str_arr2)"
   ]
  },
  {
   "cell_type": "markdown",
   "metadata": {},
   "source": [
    "### Indexing"
   ]
  },
  {
   "cell_type": "code",
   "execution_count": 178,
   "metadata": {},
   "outputs": [
    {
     "name": "stdout",
     "output_type": "stream",
     "text": [
      "9\n"
     ]
    }
   ],
   "source": [
    "arr3d = np.array([\n",
    "    [\n",
    "        [1,2,3],\n",
    "        [4,5,6]\n",
    "    ],\n",
    "    [\n",
    "        [7,8,9],\n",
    "        [10,11,12]\n",
    "    ]\n",
    "])\n",
    "print(arr3d[1,0,2])"
   ]
  },
  {
   "cell_type": "code",
   "execution_count": 199,
   "metadata": {},
   "outputs": [
    {
     "name": "stdout",
     "output_type": "stream",
     "text": [
      "[[1 2 3]\n",
      " [4 5 6]]\n",
      "[[ 4  5  6]\n",
      " [10 11 12]]\n",
      "[[[ 1  2]\n",
      "  [ 4  5]]\n",
      "\n",
      " [[ 7  8]\n",
      "  [10 11]]]\n"
     ]
    }
   ],
   "source": [
    "print(arr3d[0,:,:])\n",
    "print(arr3d[:,1,:])\n",
    "print(arr3d[:,:,0:2])"
   ]
  },
  {
   "cell_type": "code",
   "execution_count": 206,
   "metadata": {},
   "outputs": [
    {
     "name": "stdout",
     "output_type": "stream",
     "text": [
      "[[[False  True False]\n",
      "  [ True False  True]]\n",
      "\n",
      " [[False  True False]\n",
      "  [ True False  True]]]\n",
      "[ 2  4  6  8 10 12]\n",
      "[ 5  7  9 11]\n"
     ]
    }
   ],
   "source": [
    "print(arr3d%2 == 0)\n",
    "print(arr3d[arr3d%2 == 0])\n",
    "print(arr3d[(arr3d%2 == 1) & (arr3d > 3)])"
   ]
  },
  {
   "cell_type": "code",
   "execution_count": 215,
   "metadata": {},
   "outputs": [
    {
     "name": "stdout",
     "output_type": "stream",
     "text": [
      "[[[1729    2]\n",
      "  [   4    5]]\n",
      "\n",
      " [[   7    8]\n",
      "  [  10   11]]]\n",
      "3\n",
      "(2, 2, 2)\n",
      "[[[1729    2]\n",
      "  [   4    5]]\n",
      "\n",
      " [[   7    8]\n",
      "  [  10   11]]]\n",
      "[[[1729    2    3]\n",
      "  [   4    5    6]]\n",
      "\n",
      " [[   7    8    9]\n",
      "  [  10   11   12]]]\n"
     ]
    }
   ],
   "source": [
    "arr_slice = arr3d[:,:,0:2]\n",
    "print(arr_slice)\n",
    "print(arr_slice.ndim)\n",
    "print(arr_slice.shape)\n",
    "arr_slice[0,0,0] = 1729\n",
    "print(arr_slice)\n",
    "print(arr3d)  ## arr3d also chnaged the reference is changed / not doing deep copy"
   ]
  },
  {
   "cell_type": "code",
   "execution_count": 218,
   "metadata": {},
   "outputs": [
    {
     "name": "stdout",
     "output_type": "stream",
     "text": [
      "[[[ 1  2]\n",
      "  [ 4  5]]\n",
      "\n",
      " [[ 7  8]\n",
      "  [10 11]]]\n",
      "[[[1729    2    3]\n",
      "  [   4    5    6]]\n",
      "\n",
      " [[   7    8    9]\n",
      "  [  10   11   12]]]\n"
     ]
    }
   ],
   "source": [
    "arr_slice = np.copy(arr3d[:,:,0:2])\n",
    "arr_slice[0,0,0] = 1\n",
    "print(arr_slice)\n",
    "print(arr3d)"
   ]
  },
  {
   "cell_type": "code",
   "execution_count": 226,
   "metadata": {},
   "outputs": [
    {
     "name": "stdout",
     "output_type": "stream",
     "text": [
      "[5 7 2 2 6]\n",
      "[7 2 6]\n"
     ]
    }
   ],
   "source": [
    "arr = np.random.randint(0,10,(5))\n",
    "print(arr)\n",
    "my_indices = [1,3,4]\n",
    "print(arr[my_indices])"
   ]
  },
  {
   "cell_type": "markdown",
   "metadata": {},
   "source": [
    "### Numpy Operations"
   ]
  },
  {
   "cell_type": "code",
   "execution_count": 260,
   "metadata": {},
   "outputs": [
    {
     "name": "stdout",
     "output_type": "stream",
     "text": [
      "[[-0.54801413 -0.43206733  1.08790578  1.44956847]\n",
      " [-2.5998601   1.79281401  1.13435786  0.06916318]\n",
      " [ 1.6379862  -0.02324247 -0.55023509  0.54674896]]\n",
      "[[-2.57074622 -0.11698886  0.49839177  0.50593512]\n",
      " [ 0.11927339 -1.34962374 -1.23513115 -0.73785084]\n",
      " [ 1.97305467  0.6472667   0.18959379  0.79945027]]\n",
      "[[-1.57710416  0.04324895  0.23378616  0.4613196 ]\n",
      " [ 1.6862616   0.34817446 -0.05969531 -0.13491008]\n",
      " [-0.30248648 -0.10460349  0.06670321 -0.08504658]]\n",
      "[[ -1.54185537   1.74260146   2.69085638   2.07231294]\n",
      " [  0.91227103   0.14103391  -0.04252955  -0.82859486]\n",
      " [-10.77702381  -0.93067219   0.48746584  -5.32723481]]\n"
     ]
    }
   ],
   "source": [
    "arr1 = np.random.randn(3,4)\n",
    "arr2 = np.random.randn(3,4)\n",
    "print(arr1 + arr2)\n",
    "print(arr1-arr2)\n",
    "print(arr1*arr2)\n",
    "print(arr1/arr2)"
   ]
  },
  {
   "cell_type": "code",
   "execution_count": 261,
   "metadata": {},
   "outputs": [
    {
     "name": "stdout",
     "output_type": "stream",
     "text": [
      "[[0.21026636 0.75993065 2.21034536 2.65847273]\n",
      " [0.28929934 1.24806598 0.9508617  0.71580762]\n",
      " [6.08313651 1.36617125 0.83500242 1.9603041 ]]\n",
      "[[ 0.01130194         nan -1.22160396 -0.75116477]\n",
      " [        nan  0.45185167  0.16952714 -0.90756142]\n",
      " [        nan         nan         nan         nan]]\n",
      "[[ 0.8475576  -0.15688839  0.29050735  0.45450523]\n",
      " [-0.97777386  0.99999991  0.9264029   0.39264611]\n",
      " [-0.16675162 -0.32900959 -0.36153566 -0.12601474]]\n",
      "[[ 5.30703413e-01  9.87616339e-01  9.56872761e-01  8.90744071e-01]\n",
      " [ 2.09662313e-01 -4.22545630e-04  3.76533755e-01  9.19689639e-01]\n",
      " [ 9.85998934e-01  9.44326580e-01  9.32358282e-01  9.92028370e-01]]\n",
      "[[1.00566697        nan 0.54291529 0.68688913]\n",
      " [       nan 1.2534827  1.08845969 0.63522202]\n",
      " [       nan        nan        nan        nan]]\n"
     ]
    },
    {
     "name": "stderr",
     "output_type": "stream",
     "text": [
      "C:\\Users\\malla\\anaconda3\\lib\\site-packages\\ipykernel_launcher.py:2: RuntimeWarning: invalid value encountered in log\n",
      "  \n",
      "C:\\Users\\malla\\anaconda3\\lib\\site-packages\\ipykernel_launcher.py:5: RuntimeWarning: invalid value encountered in sqrt\n",
      "  \"\"\"\n"
     ]
    }
   ],
   "source": [
    "print(np.exp(arr1))  # e power of value at the index\n",
    "print(np.log(arr2))\n",
    "print(np.sin(arr2))\n",
    "print(np.cos(arr2))\n",
    "print(np.sqrt(arr2))"
   ]
  },
  {
   "cell_type": "code",
   "execution_count": 262,
   "metadata": {},
   "outputs": [
    {
     "name": "stdout",
     "output_type": "stream",
     "text": [
      "[[ -0.64128044  -3.64261439   1.26079751   1.02275445]\n",
      " [ -0.80626087   4.51273448 -19.84652716  -2.99093299]\n",
      " [  0.55385693   3.20500372  -5.54567644   1.4856642 ]]\n",
      "[[inf inf inf inf inf]\n",
      " [inf inf inf inf inf]\n",
      " [inf inf inf inf inf]]\n"
     ]
    },
    {
     "name": "stderr",
     "output_type": "stream",
     "text": [
      "C:\\Users\\malla\\anaconda3\\lib\\site-packages\\ipykernel_launcher.py:5: RuntimeWarning: divide by zero encountered in true_divide\n",
      "  \"\"\"\n"
     ]
    }
   ],
   "source": [
    "arr_inv = 1/arr1\n",
    "print(arr_inv)\n",
    "\n",
    "arr1 = np.zeros((3,5))\n",
    "arr_inv = 1/arr1\n",
    "print(arr_inv)  # does not throw error give inf indicating infinite value"
   ]
  },
  {
   "cell_type": "code",
   "execution_count": 263,
   "metadata": {},
   "outputs": [
    {
     "name": "stdout",
     "output_type": "stream",
     "text": [
      "[[ True  True  True  True  True]\n",
      " [ True  True  True  True  True]\n",
      " [ True  True  True  True  True]]\n"
     ]
    }
   ],
   "source": [
    "print(np.isinf(arr_inv))"
   ]
  },
  {
   "cell_type": "markdown",
   "metadata": {},
   "source": [
    "### Exercise on finding number of points outside n-dimensional sphere"
   ]
  },
  {
   "cell_type": "code",
   "execution_count": 442,
   "metadata": {},
   "outputs": [
    {
     "name": "stdout",
     "output_type": "stream",
     "text": [
      "0.2132\n",
      "0.473\n",
      "0.6922\n",
      "0.8337\n"
     ]
    }
   ],
   "source": [
    "### Using normal functions\n",
    "def within(ndim,s):\n",
    "    less_than = 0\n",
    "    greater_than = 0\n",
    "    arr = np.random.rand(s,ndim)\n",
    "    df0 = np.zeros((s,1))\n",
    "    for i in range(s):\n",
    "        for j in range(ndim):\n",
    "            df0[i] += arr[i][j]**2\n",
    "        df0[i] = np.sqrt(df0[i])\n",
    "        if df0[i] <=1:\n",
    "            less_than+=1\n",
    "        else:\n",
    "            greater_than+=1\n",
    "    print(greater_than/s)\n",
    "\n",
    "within(2,10000)\n",
    "within(3,10000)\n",
    "within(4,10000)\n",
    "within(5,10000)"
   ]
  },
  {
   "cell_type": "code",
   "execution_count": 443,
   "metadata": {},
   "outputs": [
    {
     "name": "stdout",
     "output_type": "stream",
     "text": [
      "0.21435\n",
      "0.47447\n",
      "0.69064\n",
      "0.83564\n",
      "0.91986\n",
      "0.96282\n",
      "0.98389\n",
      "0.99309\n",
      "0.99729\n"
     ]
    }
   ],
   "source": [
    "### Using numpy functions\n",
    "def withinnp(ndim,s):\n",
    "    greater_than = 0\n",
    "    arr = np.random.rand(s,ndim)\n",
    "    print(np.sum(np.sqrt(np.sum(arr*arr,axis=1))>1)/s)\n",
    "\n",
    "    \n",
    "for i in range(2,11):\n",
    "    withinnp(i,100000)"
   ]
  },
  {
   "cell_type": "markdown",
   "metadata": {},
   "source": [
    "### Broadcasting"
   ]
  },
  {
   "cell_type": "code",
   "execution_count": 453,
   "metadata": {},
   "outputs": [
    {
     "name": "stdout",
     "output_type": "stream",
     "text": [
      "[[0 1]\n",
      " [2 3]\n",
      " [4 5]]\n",
      "(3, 2)\n"
     ]
    }
   ],
   "source": [
    "arr1 = np.arange(6)\n",
    "arr1 = arr1.reshape(3,2)\n",
    "print(arr1)\n",
    "print(arr1.shape)"
   ]
  },
  {
   "cell_type": "code",
   "execution_count": 454,
   "metadata": {},
   "outputs": [
    {
     "name": "stdout",
     "output_type": "stream",
     "text": [
      "[[ 0  2]\n",
      " [ 4  6]\n",
      " [ 8 10]]\n"
     ]
    }
   ],
   "source": [
    "arr2 = np.arange(6).reshape(3,2)\n",
    "print(arr2+arr1)"
   ]
  },
  {
   "cell_type": "code",
   "execution_count": 482,
   "metadata": {},
   "outputs": [
    {
     "name": "stdout",
     "output_type": "stream",
     "text": [
      "[[0 1]]\n",
      "[[0 1]\n",
      " [2 3]\n",
      " [4 5]]\n"
     ]
    },
    {
     "data": {
      "text/plain": [
       "array([[0, 2],\n",
       "       [2, 4],\n",
       "       [4, 6]])"
      ]
     },
     "execution_count": 482,
     "metadata": {},
     "output_type": "execute_result"
    }
   ],
   "source": [
    "print(arr2[0].reshape(1,2))\n",
    "print(arr2)\n",
    "arr2+arr2[0].reshape(1,2)"
   ]
  },
  {
   "cell_type": "code",
   "execution_count": 490,
   "metadata": {},
   "outputs": [
    {
     "data": {
      "text/plain": [
       "array([[0, 1],\n",
       "       [4, 5],\n",
       "       [8, 9]])"
      ]
     },
     "execution_count": 490,
     "metadata": {},
     "output_type": "execute_result"
    }
   ],
   "source": [
    "arr2[:,0].reshape(3,1)+arr2"
   ]
  },
  {
   "cell_type": "code",
   "execution_count": 495,
   "metadata": {},
   "outputs": [
    {
     "data": {
      "text/plain": [
       "array([[[ 1.,  2.,  3.,  4.],\n",
       "        [ 5.,  6.,  7.,  8.],\n",
       "        [ 9., 10., 11., 12.]],\n",
       "\n",
       "       [[13., 14., 15., 16.],\n",
       "        [17., 18., 19., 20.],\n",
       "        [21., 22., 23., 24.]]])"
      ]
     },
     "execution_count": 495,
     "metadata": {},
     "output_type": "execute_result"
    }
   ],
   "source": [
    "arr1 = np.arange(24).reshape(2,3,4)\n",
    "arr2 = np.ones((1,4))\n",
    "arr1+arr2"
   ]
  },
  {
   "cell_type": "code",
   "execution_count": 496,
   "metadata": {},
   "outputs": [
    {
     "ename": "ValueError",
     "evalue": "operands could not be broadcast together with shapes (4,) (5,) ",
     "output_type": "error",
     "traceback": [
      "\u001b[1;31m---------------------------------------------------------------------------\u001b[0m",
      "\u001b[1;31mValueError\u001b[0m                                Traceback (most recent call last)",
      "\u001b[1;32m<ipython-input-496-7d557cce2a06>\u001b[0m in \u001b[0;36m<module>\u001b[1;34m\u001b[0m\n\u001b[0;32m      1\u001b[0m \u001b[0marr1\u001b[0m \u001b[1;33m=\u001b[0m \u001b[0mnp\u001b[0m\u001b[1;33m.\u001b[0m\u001b[0marange\u001b[0m\u001b[1;33m(\u001b[0m\u001b[1;36m4\u001b[0m\u001b[1;33m)\u001b[0m\u001b[1;33m\u001b[0m\u001b[1;33m\u001b[0m\u001b[0m\n\u001b[0;32m      2\u001b[0m \u001b[0marr2\u001b[0m \u001b[1;33m=\u001b[0m \u001b[0mnp\u001b[0m\u001b[1;33m.\u001b[0m\u001b[0marange\u001b[0m\u001b[1;33m(\u001b[0m\u001b[1;36m5\u001b[0m\u001b[1;33m)\u001b[0m\u001b[1;33m\u001b[0m\u001b[1;33m\u001b[0m\u001b[0m\n\u001b[1;32m----> 3\u001b[1;33m \u001b[0marr1\u001b[0m\u001b[1;33m+\u001b[0m\u001b[0marr2\u001b[0m\u001b[1;33m\u001b[0m\u001b[1;33m\u001b[0m\u001b[0m\n\u001b[0m",
      "\u001b[1;31mValueError\u001b[0m: operands could not be broadcast together with shapes (4,) (5,) "
     ]
    }
   ],
   "source": [
    "arr1 = np.arange(4)\n",
    "arr2 = np.arange(5)\n",
    "arr1+arr2"
   ]
  },
  {
   "cell_type": "code",
   "execution_count": 498,
   "metadata": {},
   "outputs": [
    {
     "data": {
      "text/plain": [
       "array([[0, 1, 2, 3, 4],\n",
       "       [1, 2, 3, 4, 5],\n",
       "       [2, 3, 4, 5, 6],\n",
       "       [3, 4, 5, 6, 7]])"
      ]
     },
     "execution_count": 498,
     "metadata": {},
     "output_type": "execute_result"
    }
   ],
   "source": [
    "arr1.reshape(4,1)+arr2"
   ]
  },
  {
   "cell_type": "code",
   "execution_count": 505,
   "metadata": {},
   "outputs": [
    {
     "name": "stdout",
     "output_type": "stream",
     "text": [
      "[[[ 0 12]\n",
      "  [ 4 16]\n",
      "  [ 8 20]]\n",
      "\n",
      " [[ 1 13]\n",
      "  [ 5 17]\n",
      "  [ 9 21]]\n",
      "\n",
      " [[ 2 14]\n",
      "  [ 6 18]\n",
      "  [10 22]]\n",
      "\n",
      " [[ 3 15]\n",
      "  [ 7 19]\n",
      "  [11 23]]]\n"
     ]
    }
   ],
   "source": [
    "# Transpose of array\n",
    "arr = np.arange(24).reshape(2,3,4)\n",
    "print(arr.T)"
   ]
  },
  {
   "cell_type": "markdown",
   "metadata": {},
   "source": [
    "### File handling"
   ]
  },
  {
   "cell_type": "code",
   "execution_count": 520,
   "metadata": {},
   "outputs": [
    {
     "ename": "ValueError",
     "evalue": "could not convert string to float: 'MERCURY'",
     "output_type": "error",
     "traceback": [
      "\u001b[1;31m---------------------------------------------------------------------------\u001b[0m",
      "\u001b[1;31mValueError\u001b[0m                                Traceback (most recent call last)",
      "\u001b[1;32m<ipython-input-520-54ca651c99b5>\u001b[0m in \u001b[0;36m<module>\u001b[1;34m\u001b[0m\n\u001b[1;32m----> 1\u001b[1;33m \u001b[0mplanets_small\u001b[0m \u001b[1;33m=\u001b[0m \u001b[0mnp\u001b[0m\u001b[1;33m.\u001b[0m\u001b[0mloadtxt\u001b[0m\u001b[1;33m(\u001b[0m\u001b[1;34mr\"C:\\Users\\malla\\PadhAI/PadhAI-DataScienceFoundation-Practice/Restart/Week 8/planets_small-200320-181217.txt\"\u001b[0m\u001b[1;33m)\u001b[0m\u001b[1;33m\u001b[0m\u001b[1;33m\u001b[0m\u001b[0m\n\u001b[0m",
      "\u001b[1;32m~\\anaconda3\\lib\\site-packages\\numpy\\lib\\npyio.py\u001b[0m in \u001b[0;36mloadtxt\u001b[1;34m(fname, dtype, comments, delimiter, converters, skiprows, usecols, unpack, ndmin, encoding, max_rows)\u001b[0m\n\u001b[0;32m   1157\u001b[0m         \u001b[1;31m# converting the data\u001b[0m\u001b[1;33m\u001b[0m\u001b[1;33m\u001b[0m\u001b[1;33m\u001b[0m\u001b[0m\n\u001b[0;32m   1158\u001b[0m         \u001b[0mX\u001b[0m \u001b[1;33m=\u001b[0m \u001b[1;32mNone\u001b[0m\u001b[1;33m\u001b[0m\u001b[1;33m\u001b[0m\u001b[0m\n\u001b[1;32m-> 1159\u001b[1;33m         \u001b[1;32mfor\u001b[0m \u001b[0mx\u001b[0m \u001b[1;32min\u001b[0m \u001b[0mread_data\u001b[0m\u001b[1;33m(\u001b[0m\u001b[0m_loadtxt_chunksize\u001b[0m\u001b[1;33m)\u001b[0m\u001b[1;33m:\u001b[0m\u001b[1;33m\u001b[0m\u001b[1;33m\u001b[0m\u001b[0m\n\u001b[0m\u001b[0;32m   1160\u001b[0m             \u001b[1;32mif\u001b[0m \u001b[0mX\u001b[0m \u001b[1;32mis\u001b[0m \u001b[1;32mNone\u001b[0m\u001b[1;33m:\u001b[0m\u001b[1;33m\u001b[0m\u001b[1;33m\u001b[0m\u001b[0m\n\u001b[0;32m   1161\u001b[0m                 \u001b[0mX\u001b[0m \u001b[1;33m=\u001b[0m \u001b[0mnp\u001b[0m\u001b[1;33m.\u001b[0m\u001b[0marray\u001b[0m\u001b[1;33m(\u001b[0m\u001b[0mx\u001b[0m\u001b[1;33m,\u001b[0m \u001b[0mdtype\u001b[0m\u001b[1;33m)\u001b[0m\u001b[1;33m\u001b[0m\u001b[1;33m\u001b[0m\u001b[0m\n",
      "\u001b[1;32m~\\anaconda3\\lib\\site-packages\\numpy\\lib\\npyio.py\u001b[0m in \u001b[0;36mread_data\u001b[1;34m(chunk_size)\u001b[0m\n\u001b[0;32m   1085\u001b[0m \u001b[1;33m\u001b[0m\u001b[0m\n\u001b[0;32m   1086\u001b[0m             \u001b[1;31m# Convert each value according to its column and store\u001b[0m\u001b[1;33m\u001b[0m\u001b[1;33m\u001b[0m\u001b[1;33m\u001b[0m\u001b[0m\n\u001b[1;32m-> 1087\u001b[1;33m             \u001b[0mitems\u001b[0m \u001b[1;33m=\u001b[0m \u001b[1;33m[\u001b[0m\u001b[0mconv\u001b[0m\u001b[1;33m(\u001b[0m\u001b[0mval\u001b[0m\u001b[1;33m)\u001b[0m \u001b[1;32mfor\u001b[0m \u001b[1;33m(\u001b[0m\u001b[0mconv\u001b[0m\u001b[1;33m,\u001b[0m \u001b[0mval\u001b[0m\u001b[1;33m)\u001b[0m \u001b[1;32min\u001b[0m \u001b[0mzip\u001b[0m\u001b[1;33m(\u001b[0m\u001b[0mconverters\u001b[0m\u001b[1;33m,\u001b[0m \u001b[0mvals\u001b[0m\u001b[1;33m)\u001b[0m\u001b[1;33m]\u001b[0m\u001b[1;33m\u001b[0m\u001b[1;33m\u001b[0m\u001b[0m\n\u001b[0m\u001b[0;32m   1088\u001b[0m \u001b[1;33m\u001b[0m\u001b[0m\n\u001b[0;32m   1089\u001b[0m             \u001b[1;31m# Then pack it according to the dtype's nesting\u001b[0m\u001b[1;33m\u001b[0m\u001b[1;33m\u001b[0m\u001b[1;33m\u001b[0m\u001b[0m\n",
      "\u001b[1;32m~\\anaconda3\\lib\\site-packages\\numpy\\lib\\npyio.py\u001b[0m in \u001b[0;36m<listcomp>\u001b[1;34m(.0)\u001b[0m\n\u001b[0;32m   1085\u001b[0m \u001b[1;33m\u001b[0m\u001b[0m\n\u001b[0;32m   1086\u001b[0m             \u001b[1;31m# Convert each value according to its column and store\u001b[0m\u001b[1;33m\u001b[0m\u001b[1;33m\u001b[0m\u001b[1;33m\u001b[0m\u001b[0m\n\u001b[1;32m-> 1087\u001b[1;33m             \u001b[0mitems\u001b[0m \u001b[1;33m=\u001b[0m \u001b[1;33m[\u001b[0m\u001b[0mconv\u001b[0m\u001b[1;33m(\u001b[0m\u001b[0mval\u001b[0m\u001b[1;33m)\u001b[0m \u001b[1;32mfor\u001b[0m \u001b[1;33m(\u001b[0m\u001b[0mconv\u001b[0m\u001b[1;33m,\u001b[0m \u001b[0mval\u001b[0m\u001b[1;33m)\u001b[0m \u001b[1;32min\u001b[0m \u001b[0mzip\u001b[0m\u001b[1;33m(\u001b[0m\u001b[0mconverters\u001b[0m\u001b[1;33m,\u001b[0m \u001b[0mvals\u001b[0m\u001b[1;33m)\u001b[0m\u001b[1;33m]\u001b[0m\u001b[1;33m\u001b[0m\u001b[1;33m\u001b[0m\u001b[0m\n\u001b[0m\u001b[0;32m   1088\u001b[0m \u001b[1;33m\u001b[0m\u001b[0m\n\u001b[0;32m   1089\u001b[0m             \u001b[1;31m# Then pack it according to the dtype's nesting\u001b[0m\u001b[1;33m\u001b[0m\u001b[1;33m\u001b[0m\u001b[1;33m\u001b[0m\u001b[0m\n",
      "\u001b[1;32m~\\anaconda3\\lib\\site-packages\\numpy\\lib\\npyio.py\u001b[0m in \u001b[0;36mfloatconv\u001b[1;34m(x)\u001b[0m\n\u001b[0;32m    792\u001b[0m         \u001b[1;32mif\u001b[0m \u001b[1;34m'0x'\u001b[0m \u001b[1;32min\u001b[0m \u001b[0mx\u001b[0m\u001b[1;33m:\u001b[0m\u001b[1;33m\u001b[0m\u001b[1;33m\u001b[0m\u001b[0m\n\u001b[0;32m    793\u001b[0m             \u001b[1;32mreturn\u001b[0m \u001b[0mfloat\u001b[0m\u001b[1;33m.\u001b[0m\u001b[0mfromhex\u001b[0m\u001b[1;33m(\u001b[0m\u001b[0mx\u001b[0m\u001b[1;33m)\u001b[0m\u001b[1;33m\u001b[0m\u001b[1;33m\u001b[0m\u001b[0m\n\u001b[1;32m--> 794\u001b[1;33m         \u001b[1;32mreturn\u001b[0m \u001b[0mfloat\u001b[0m\u001b[1;33m(\u001b[0m\u001b[0mx\u001b[0m\u001b[1;33m)\u001b[0m\u001b[1;33m\u001b[0m\u001b[1;33m\u001b[0m\u001b[0m\n\u001b[0m\u001b[0;32m    795\u001b[0m \u001b[1;33m\u001b[0m\u001b[0m\n\u001b[0;32m    796\u001b[0m     \u001b[0mtyp\u001b[0m \u001b[1;33m=\u001b[0m \u001b[0mdtype\u001b[0m\u001b[1;33m.\u001b[0m\u001b[0mtype\u001b[0m\u001b[1;33m\u001b[0m\u001b[1;33m\u001b[0m\u001b[0m\n",
      "\u001b[1;31mValueError\u001b[0m: could not convert string to float: 'MERCURY'"
     ]
    }
   ],
   "source": [
    "planets_small = np.loadtxt(r\"C:\\Users\\malla\\PadhAI/PadhAI-DataScienceFoundation-Practice/Restart/Week 8/planets_small-200320-181217.txt\")"
   ]
  },
  {
   "cell_type": "code",
   "execution_count": 528,
   "metadata": {},
   "outputs": [
    {
     "ename": "ValueError",
     "evalue": "could not convert string to float: 'Mass'",
     "output_type": "error",
     "traceback": [
      "\u001b[1;31m---------------------------------------------------------------------------\u001b[0m",
      "\u001b[1;31mValueError\u001b[0m                                Traceback (most recent call last)",
      "\u001b[1;32m<ipython-input-528-0a96c026c679>\u001b[0m in \u001b[0;36m<module>\u001b[1;34m\u001b[0m\n\u001b[1;32m----> 1\u001b[1;33m \u001b[0mplanets_small\u001b[0m \u001b[1;33m=\u001b[0m \u001b[0mnp\u001b[0m\u001b[1;33m.\u001b[0m\u001b[0mloadtxt\u001b[0m\u001b[1;33m(\u001b[0m\u001b[1;34mr\"C:\\Users\\malla\\PadhAI/PadhAI-DataScienceFoundation-Practice/Restart/Week 8/planets_small-200320-181217.txt\"\u001b[0m\u001b[1;33m,\u001b[0m\u001b[0mskiprows\u001b[0m\u001b[1;33m=\u001b[0m\u001b[1;36m1\u001b[0m\u001b[1;33m)\u001b[0m\u001b[1;33m\u001b[0m\u001b[1;33m\u001b[0m\u001b[0m\n\u001b[0m",
      "\u001b[1;32m~\\anaconda3\\lib\\site-packages\\numpy\\lib\\npyio.py\u001b[0m in \u001b[0;36mloadtxt\u001b[1;34m(fname, dtype, comments, delimiter, converters, skiprows, usecols, unpack, ndmin, encoding, max_rows)\u001b[0m\n\u001b[0;32m   1157\u001b[0m         \u001b[1;31m# converting the data\u001b[0m\u001b[1;33m\u001b[0m\u001b[1;33m\u001b[0m\u001b[1;33m\u001b[0m\u001b[0m\n\u001b[0;32m   1158\u001b[0m         \u001b[0mX\u001b[0m \u001b[1;33m=\u001b[0m \u001b[1;32mNone\u001b[0m\u001b[1;33m\u001b[0m\u001b[1;33m\u001b[0m\u001b[0m\n\u001b[1;32m-> 1159\u001b[1;33m         \u001b[1;32mfor\u001b[0m \u001b[0mx\u001b[0m \u001b[1;32min\u001b[0m \u001b[0mread_data\u001b[0m\u001b[1;33m(\u001b[0m\u001b[0m_loadtxt_chunksize\u001b[0m\u001b[1;33m)\u001b[0m\u001b[1;33m:\u001b[0m\u001b[1;33m\u001b[0m\u001b[1;33m\u001b[0m\u001b[0m\n\u001b[0m\u001b[0;32m   1160\u001b[0m             \u001b[1;32mif\u001b[0m \u001b[0mX\u001b[0m \u001b[1;32mis\u001b[0m \u001b[1;32mNone\u001b[0m\u001b[1;33m:\u001b[0m\u001b[1;33m\u001b[0m\u001b[1;33m\u001b[0m\u001b[0m\n\u001b[0;32m   1161\u001b[0m                 \u001b[0mX\u001b[0m \u001b[1;33m=\u001b[0m \u001b[0mnp\u001b[0m\u001b[1;33m.\u001b[0m\u001b[0marray\u001b[0m\u001b[1;33m(\u001b[0m\u001b[0mx\u001b[0m\u001b[1;33m,\u001b[0m \u001b[0mdtype\u001b[0m\u001b[1;33m)\u001b[0m\u001b[1;33m\u001b[0m\u001b[1;33m\u001b[0m\u001b[0m\n",
      "\u001b[1;32m~\\anaconda3\\lib\\site-packages\\numpy\\lib\\npyio.py\u001b[0m in \u001b[0;36mread_data\u001b[1;34m(chunk_size)\u001b[0m\n\u001b[0;32m   1085\u001b[0m \u001b[1;33m\u001b[0m\u001b[0m\n\u001b[0;32m   1086\u001b[0m             \u001b[1;31m# Convert each value according to its column and store\u001b[0m\u001b[1;33m\u001b[0m\u001b[1;33m\u001b[0m\u001b[1;33m\u001b[0m\u001b[0m\n\u001b[1;32m-> 1087\u001b[1;33m             \u001b[0mitems\u001b[0m \u001b[1;33m=\u001b[0m \u001b[1;33m[\u001b[0m\u001b[0mconv\u001b[0m\u001b[1;33m(\u001b[0m\u001b[0mval\u001b[0m\u001b[1;33m)\u001b[0m \u001b[1;32mfor\u001b[0m \u001b[1;33m(\u001b[0m\u001b[0mconv\u001b[0m\u001b[1;33m,\u001b[0m \u001b[0mval\u001b[0m\u001b[1;33m)\u001b[0m \u001b[1;32min\u001b[0m \u001b[0mzip\u001b[0m\u001b[1;33m(\u001b[0m\u001b[0mconverters\u001b[0m\u001b[1;33m,\u001b[0m \u001b[0mvals\u001b[0m\u001b[1;33m)\u001b[0m\u001b[1;33m]\u001b[0m\u001b[1;33m\u001b[0m\u001b[1;33m\u001b[0m\u001b[0m\n\u001b[0m\u001b[0;32m   1088\u001b[0m \u001b[1;33m\u001b[0m\u001b[0m\n\u001b[0;32m   1089\u001b[0m             \u001b[1;31m# Then pack it according to the dtype's nesting\u001b[0m\u001b[1;33m\u001b[0m\u001b[1;33m\u001b[0m\u001b[1;33m\u001b[0m\u001b[0m\n",
      "\u001b[1;32m~\\anaconda3\\lib\\site-packages\\numpy\\lib\\npyio.py\u001b[0m in \u001b[0;36m<listcomp>\u001b[1;34m(.0)\u001b[0m\n\u001b[0;32m   1085\u001b[0m \u001b[1;33m\u001b[0m\u001b[0m\n\u001b[0;32m   1086\u001b[0m             \u001b[1;31m# Convert each value according to its column and store\u001b[0m\u001b[1;33m\u001b[0m\u001b[1;33m\u001b[0m\u001b[1;33m\u001b[0m\u001b[0m\n\u001b[1;32m-> 1087\u001b[1;33m             \u001b[0mitems\u001b[0m \u001b[1;33m=\u001b[0m \u001b[1;33m[\u001b[0m\u001b[0mconv\u001b[0m\u001b[1;33m(\u001b[0m\u001b[0mval\u001b[0m\u001b[1;33m)\u001b[0m \u001b[1;32mfor\u001b[0m \u001b[1;33m(\u001b[0m\u001b[0mconv\u001b[0m\u001b[1;33m,\u001b[0m \u001b[0mval\u001b[0m\u001b[1;33m)\u001b[0m \u001b[1;32min\u001b[0m \u001b[0mzip\u001b[0m\u001b[1;33m(\u001b[0m\u001b[0mconverters\u001b[0m\u001b[1;33m,\u001b[0m \u001b[0mvals\u001b[0m\u001b[1;33m)\u001b[0m\u001b[1;33m]\u001b[0m\u001b[1;33m\u001b[0m\u001b[1;33m\u001b[0m\u001b[0m\n\u001b[0m\u001b[0;32m   1088\u001b[0m \u001b[1;33m\u001b[0m\u001b[0m\n\u001b[0;32m   1089\u001b[0m             \u001b[1;31m# Then pack it according to the dtype's nesting\u001b[0m\u001b[1;33m\u001b[0m\u001b[1;33m\u001b[0m\u001b[1;33m\u001b[0m\u001b[0m\n",
      "\u001b[1;32m~\\anaconda3\\lib\\site-packages\\numpy\\lib\\npyio.py\u001b[0m in \u001b[0;36mfloatconv\u001b[1;34m(x)\u001b[0m\n\u001b[0;32m    792\u001b[0m         \u001b[1;32mif\u001b[0m \u001b[1;34m'0x'\u001b[0m \u001b[1;32min\u001b[0m \u001b[0mx\u001b[0m\u001b[1;33m:\u001b[0m\u001b[1;33m\u001b[0m\u001b[1;33m\u001b[0m\u001b[0m\n\u001b[0;32m    793\u001b[0m             \u001b[1;32mreturn\u001b[0m \u001b[0mfloat\u001b[0m\u001b[1;33m.\u001b[0m\u001b[0mfromhex\u001b[0m\u001b[1;33m(\u001b[0m\u001b[0mx\u001b[0m\u001b[1;33m)\u001b[0m\u001b[1;33m\u001b[0m\u001b[1;33m\u001b[0m\u001b[0m\n\u001b[1;32m--> 794\u001b[1;33m         \u001b[1;32mreturn\u001b[0m \u001b[0mfloat\u001b[0m\u001b[1;33m(\u001b[0m\u001b[0mx\u001b[0m\u001b[1;33m)\u001b[0m\u001b[1;33m\u001b[0m\u001b[1;33m\u001b[0m\u001b[0m\n\u001b[0m\u001b[0;32m    795\u001b[0m \u001b[1;33m\u001b[0m\u001b[0m\n\u001b[0;32m    796\u001b[0m     \u001b[0mtyp\u001b[0m \u001b[1;33m=\u001b[0m \u001b[0mdtype\u001b[0m\u001b[1;33m.\u001b[0m\u001b[0mtype\u001b[0m\u001b[1;33m\u001b[0m\u001b[1;33m\u001b[0m\u001b[0m\n",
      "\u001b[1;31mValueError\u001b[0m: could not convert string to float: 'Mass'"
     ]
    }
   ],
   "source": [
    "planets_small = np.loadtxt(r\"C:\\Users\\malla\\PadhAI/PadhAI-DataScienceFoundation-Practice/Restart/Week 8/planets_small-200320-181217.txt\",skiprows=1)"
   ]
  },
  {
   "cell_type": "code",
   "execution_count": 545,
   "metadata": {},
   "outputs": [],
   "source": [
    "# By default delimitter is space\n",
    "# It gives nan for the values it does not able to convert & this function is not strict\n",
    "planets_small = np.loadtxt(r\"C:\\Users\\malla\\PadhAI/PadhAI-DataScienceFoundation-Practice/Restart/Week 8/planets_small-200320-181217.txt\",\n",
    "                           skiprows=1,usecols=(1,2,3,4,5,6,7,8,9))"
   ]
  },
  {
   "cell_type": "code",
   "execution_count": 546,
   "metadata": {},
   "outputs": [
    {
     "name": "stdout",
     "output_type": "stream",
     "text": [
      "[[3.3000e-01 4.8700e+00 5.9700e+00 6.4200e-01 1.8980e+03 5.6800e+02\n",
      "  8.6800e+01 1.0200e+02 1.4600e-02]\n",
      " [5.7900e+01 1.0820e+02 1.4960e+02 2.2790e+02 7.7860e+02 1.4335e+03\n",
      "  2.8725e+03 4.4951e+03 5.9064e+03]\n",
      " [4.2226e+03 2.8020e+03 2.4000e+01 2.4700e+01 9.9000e+00 1.0700e+01\n",
      "  1.7200e+01 1.6100e+01 1.5330e+02]]\n",
      "(3, 9)\n"
     ]
    }
   ],
   "source": [
    "print(planets_small)\n",
    "print(planets_small.shape)"
   ]
  },
  {
   "cell_type": "code",
   "execution_count": 547,
   "metadata": {},
   "outputs": [
    {
     "ename": "ValueError",
     "evalue": "could not convert string to float: 'Unknown'",
     "output_type": "error",
     "traceback": [
      "\u001b[1;31m---------------------------------------------------------------------------\u001b[0m",
      "\u001b[1;31mValueError\u001b[0m                                Traceback (most recent call last)",
      "\u001b[1;32m<ipython-input-547-c3dab26bc7f2>\u001b[0m in \u001b[0;36m<module>\u001b[1;34m\u001b[0m\n\u001b[0;32m      1\u001b[0m planets = np.loadtxt(r\"C:\\Users\\malla\\PadhAI/PadhAI-DataScienceFoundation-Practice/Restart/Week 8/planets-200320-181217.txt\",\n\u001b[1;32m----> 2\u001b[1;33m                            skiprows=1,usecols=(1,2,3,4,5,6,7,8,9))\n\u001b[0m",
      "\u001b[1;32m~\\anaconda3\\lib\\site-packages\\numpy\\lib\\npyio.py\u001b[0m in \u001b[0;36mloadtxt\u001b[1;34m(fname, dtype, comments, delimiter, converters, skiprows, usecols, unpack, ndmin, encoding, max_rows)\u001b[0m\n\u001b[0;32m   1157\u001b[0m         \u001b[1;31m# converting the data\u001b[0m\u001b[1;33m\u001b[0m\u001b[1;33m\u001b[0m\u001b[1;33m\u001b[0m\u001b[0m\n\u001b[0;32m   1158\u001b[0m         \u001b[0mX\u001b[0m \u001b[1;33m=\u001b[0m \u001b[1;32mNone\u001b[0m\u001b[1;33m\u001b[0m\u001b[1;33m\u001b[0m\u001b[0m\n\u001b[1;32m-> 1159\u001b[1;33m         \u001b[1;32mfor\u001b[0m \u001b[0mx\u001b[0m \u001b[1;32min\u001b[0m \u001b[0mread_data\u001b[0m\u001b[1;33m(\u001b[0m\u001b[0m_loadtxt_chunksize\u001b[0m\u001b[1;33m)\u001b[0m\u001b[1;33m:\u001b[0m\u001b[1;33m\u001b[0m\u001b[1;33m\u001b[0m\u001b[0m\n\u001b[0m\u001b[0;32m   1160\u001b[0m             \u001b[1;32mif\u001b[0m \u001b[0mX\u001b[0m \u001b[1;32mis\u001b[0m \u001b[1;32mNone\u001b[0m\u001b[1;33m:\u001b[0m\u001b[1;33m\u001b[0m\u001b[1;33m\u001b[0m\u001b[0m\n\u001b[0;32m   1161\u001b[0m                 \u001b[0mX\u001b[0m \u001b[1;33m=\u001b[0m \u001b[0mnp\u001b[0m\u001b[1;33m.\u001b[0m\u001b[0marray\u001b[0m\u001b[1;33m(\u001b[0m\u001b[0mx\u001b[0m\u001b[1;33m,\u001b[0m \u001b[0mdtype\u001b[0m\u001b[1;33m)\u001b[0m\u001b[1;33m\u001b[0m\u001b[1;33m\u001b[0m\u001b[0m\n",
      "\u001b[1;32m~\\anaconda3\\lib\\site-packages\\numpy\\lib\\npyio.py\u001b[0m in \u001b[0;36mread_data\u001b[1;34m(chunk_size)\u001b[0m\n\u001b[0;32m   1085\u001b[0m \u001b[1;33m\u001b[0m\u001b[0m\n\u001b[0;32m   1086\u001b[0m             \u001b[1;31m# Convert each value according to its column and store\u001b[0m\u001b[1;33m\u001b[0m\u001b[1;33m\u001b[0m\u001b[1;33m\u001b[0m\u001b[0m\n\u001b[1;32m-> 1087\u001b[1;33m             \u001b[0mitems\u001b[0m \u001b[1;33m=\u001b[0m \u001b[1;33m[\u001b[0m\u001b[0mconv\u001b[0m\u001b[1;33m(\u001b[0m\u001b[0mval\u001b[0m\u001b[1;33m)\u001b[0m \u001b[1;32mfor\u001b[0m \u001b[1;33m(\u001b[0m\u001b[0mconv\u001b[0m\u001b[1;33m,\u001b[0m \u001b[0mval\u001b[0m\u001b[1;33m)\u001b[0m \u001b[1;32min\u001b[0m \u001b[0mzip\u001b[0m\u001b[1;33m(\u001b[0m\u001b[0mconverters\u001b[0m\u001b[1;33m,\u001b[0m \u001b[0mvals\u001b[0m\u001b[1;33m)\u001b[0m\u001b[1;33m]\u001b[0m\u001b[1;33m\u001b[0m\u001b[1;33m\u001b[0m\u001b[0m\n\u001b[0m\u001b[0;32m   1088\u001b[0m \u001b[1;33m\u001b[0m\u001b[0m\n\u001b[0;32m   1089\u001b[0m             \u001b[1;31m# Then pack it according to the dtype's nesting\u001b[0m\u001b[1;33m\u001b[0m\u001b[1;33m\u001b[0m\u001b[1;33m\u001b[0m\u001b[0m\n",
      "\u001b[1;32m~\\anaconda3\\lib\\site-packages\\numpy\\lib\\npyio.py\u001b[0m in \u001b[0;36m<listcomp>\u001b[1;34m(.0)\u001b[0m\n\u001b[0;32m   1085\u001b[0m \u001b[1;33m\u001b[0m\u001b[0m\n\u001b[0;32m   1086\u001b[0m             \u001b[1;31m# Convert each value according to its column and store\u001b[0m\u001b[1;33m\u001b[0m\u001b[1;33m\u001b[0m\u001b[1;33m\u001b[0m\u001b[0m\n\u001b[1;32m-> 1087\u001b[1;33m             \u001b[0mitems\u001b[0m \u001b[1;33m=\u001b[0m \u001b[1;33m[\u001b[0m\u001b[0mconv\u001b[0m\u001b[1;33m(\u001b[0m\u001b[0mval\u001b[0m\u001b[1;33m)\u001b[0m \u001b[1;32mfor\u001b[0m \u001b[1;33m(\u001b[0m\u001b[0mconv\u001b[0m\u001b[1;33m,\u001b[0m \u001b[0mval\u001b[0m\u001b[1;33m)\u001b[0m \u001b[1;32min\u001b[0m \u001b[0mzip\u001b[0m\u001b[1;33m(\u001b[0m\u001b[0mconverters\u001b[0m\u001b[1;33m,\u001b[0m \u001b[0mvals\u001b[0m\u001b[1;33m)\u001b[0m\u001b[1;33m]\u001b[0m\u001b[1;33m\u001b[0m\u001b[1;33m\u001b[0m\u001b[0m\n\u001b[0m\u001b[0;32m   1088\u001b[0m \u001b[1;33m\u001b[0m\u001b[0m\n\u001b[0;32m   1089\u001b[0m             \u001b[1;31m# Then pack it according to the dtype's nesting\u001b[0m\u001b[1;33m\u001b[0m\u001b[1;33m\u001b[0m\u001b[1;33m\u001b[0m\u001b[0m\n",
      "\u001b[1;32m~\\anaconda3\\lib\\site-packages\\numpy\\lib\\npyio.py\u001b[0m in \u001b[0;36mfloatconv\u001b[1;34m(x)\u001b[0m\n\u001b[0;32m    792\u001b[0m         \u001b[1;32mif\u001b[0m \u001b[1;34m'0x'\u001b[0m \u001b[1;32min\u001b[0m \u001b[0mx\u001b[0m\u001b[1;33m:\u001b[0m\u001b[1;33m\u001b[0m\u001b[1;33m\u001b[0m\u001b[0m\n\u001b[0;32m    793\u001b[0m             \u001b[1;32mreturn\u001b[0m \u001b[0mfloat\u001b[0m\u001b[1;33m.\u001b[0m\u001b[0mfromhex\u001b[0m\u001b[1;33m(\u001b[0m\u001b[0mx\u001b[0m\u001b[1;33m)\u001b[0m\u001b[1;33m\u001b[0m\u001b[1;33m\u001b[0m\u001b[0m\n\u001b[1;32m--> 794\u001b[1;33m         \u001b[1;32mreturn\u001b[0m \u001b[0mfloat\u001b[0m\u001b[1;33m(\u001b[0m\u001b[0mx\u001b[0m\u001b[1;33m)\u001b[0m\u001b[1;33m\u001b[0m\u001b[1;33m\u001b[0m\u001b[0m\n\u001b[0m\u001b[0;32m    795\u001b[0m \u001b[1;33m\u001b[0m\u001b[0m\n\u001b[0;32m    796\u001b[0m     \u001b[0mtyp\u001b[0m \u001b[1;33m=\u001b[0m \u001b[0mdtype\u001b[0m\u001b[1;33m.\u001b[0m\u001b[0mtype\u001b[0m\u001b[1;33m\u001b[0m\u001b[1;33m\u001b[0m\u001b[0m\n",
      "\u001b[1;31mValueError\u001b[0m: could not convert string to float: 'Unknown'"
     ]
    }
   ],
   "source": [
    "planets = np.loadtxt(r\"C:\\Users\\malla\\PadhAI/PadhAI-DataScienceFoundation-Practice/Restart/Week 8/planets-200320-181217.txt\",\n",
    "                           skiprows=1,usecols=(1,2,3,4,5,6,7,8,9))"
   ]
  },
  {
   "cell_type": "code",
   "execution_count": 550,
   "metadata": {},
   "outputs": [
    {
     "name": "stdout",
     "output_type": "stream",
     "text": [
      "[[ 3.30000e-01  4.87000e+00  5.97000e+00  7.30000e-02  6.42000e-01\n",
      "   1.89800e+03  5.68000e+02  8.68000e+01  1.02000e+02]\n",
      " [ 4.87900e+03  1.21040e+04  1.27560e+04  3.47500e+03  6.79200e+03\n",
      "   1.42984e+05  1.20536e+05  5.11180e+04  4.95280e+04]\n",
      " [ 5.42700e+03  5.24300e+03  5.51400e+03  3.34000e+03  3.93300e+03\n",
      "   1.32600e+03  6.87000e+02  1.27100e+03  1.63800e+03]\n",
      " [ 3.70000e+00  8.90000e+00  9.80000e+00  1.60000e+00  3.70000e+00\n",
      "   2.31000e+01  9.00000e+00  8.70000e+00  1.10000e+01]\n",
      " [ 4.30000e+00  1.04000e+01  1.12000e+01  2.40000e+00  5.00000e+00\n",
      "   5.95000e+01  3.55000e+01  2.13000e+01  2.35000e+01]\n",
      " [ 1.40760e+03 -5.83250e+03  2.39000e+01  6.55700e+02  2.46000e+01\n",
      "   9.90000e+00  1.07000e+01 -1.72000e+01  1.61000e+01]\n",
      " [ 4.22260e+03  2.80200e+03  2.40000e+01  7.08700e+02  2.47000e+01\n",
      "   9.90000e+00  1.07000e+01  1.72000e+01  1.61000e+01]\n",
      " [ 5.79000e+01  1.08200e+02  1.49600e+02  3.84000e-01  2.27900e+02\n",
      "   7.78600e+02  1.43350e+03  2.87250e+03  4.49510e+03]\n",
      " [ 4.60000e+01  1.07500e+02  1.47100e+02  3.63000e-01  2.06600e+02\n",
      "   7.40500e+02  1.35260e+03  2.74130e+03  4.44450e+03]\n",
      " [ 6.98000e+01  1.08900e+02  1.52100e+02  4.06000e-01  2.49200e+02\n",
      "   8.16600e+02  1.51450e+03  3.00360e+03  4.54570e+03]\n",
      " [ 8.80000e+01  2.24700e+02  3.65200e+02  2.73000e+01  6.87000e+02\n",
      "   4.33100e+03  1.07470e+04  3.05890e+04  5.98000e+04]\n",
      " [ 4.74000e+01  3.50000e+01  2.98000e+01  1.00000e+00  2.41000e+01\n",
      "   1.31000e+01  9.70000e+00  6.80000e+00  5.40000e+00]\n",
      " [ 7.00000e+00  3.40000e+00  0.00000e+00  5.10000e+00  1.90000e+00\n",
      "   1.30000e+00  2.50000e+00  8.00000e-01  1.80000e+00]\n",
      " [ 2.05000e-01  7.00000e-03  1.70000e-02  5.50000e-02  9.40000e-02\n",
      "   4.90000e-02  5.70000e-02  4.60000e-02  1.10000e-02]\n",
      " [ 3.40000e-02  1.77400e+02  2.34000e+01  6.70000e+00  2.52000e+01\n",
      "   3.10000e+00  2.67000e+01  9.78000e+01  2.83000e+01]\n",
      " [ 1.67000e+02  4.64000e+02  1.50000e+01 -2.00000e+01 -6.50000e+01\n",
      "  -1.10000e+02 -1.40000e+02 -1.95000e+02 -2.00000e+02]\n",
      " [ 0.00000e+00  9.20000e+01  1.00000e+00  0.00000e+00  1.00000e-02\n",
      "           nan          nan          nan          nan]\n",
      " [ 0.00000e+00  0.00000e+00  1.00000e+00  0.00000e+00  2.00000e+00\n",
      "   7.90000e+01  8.20000e+01  2.70000e+01  1.40000e+01]\n",
      " [ 0.00000e+00  0.00000e+00  0.00000e+00  0.00000e+00  0.00000e+00\n",
      "   1.00000e+00  1.00000e+00  1.00000e+00  1.00000e+00]\n",
      " [ 1.00000e+00  0.00000e+00  1.00000e+00  0.00000e+00  0.00000e+00\n",
      "   1.00000e+00  1.00000e+00  1.00000e+00  1.00000e+00]]\n",
      "(20, 9)\n"
     ]
    }
   ],
   "source": [
    "# It gives nan for the values it does not able to convert & this function is not strict\n",
    "planets = np.genfromtxt(r\"C:\\Users\\malla\\PadhAI/PadhAI-DataScienceFoundation-Practice/Restart/Week 8/planets-200320-181217.txt\",\n",
    "                        skip_header=1,usecols=(1,2,3,4,5,6,7,8,9))\n",
    "print(planets)\n",
    "print(planets.shape)"
   ]
  },
  {
   "cell_type": "code",
   "execution_count": 551,
   "metadata": {},
   "outputs": [
    {
     "data": {
      "text/plain": [
       "array([[False, False, False, False, False, False, False, False, False],\n",
       "       [False, False, False, False, False, False, False, False, False],\n",
       "       [False, False, False, False, False, False, False, False, False],\n",
       "       [False, False, False, False, False, False, False, False, False],\n",
       "       [False, False, False, False, False, False, False, False, False],\n",
       "       [False, False, False, False, False, False, False, False, False],\n",
       "       [False, False, False, False, False, False, False, False, False],\n",
       "       [False, False, False, False, False, False, False, False, False],\n",
       "       [False, False, False, False, False, False, False, False, False],\n",
       "       [False, False, False, False, False, False, False, False, False],\n",
       "       [False, False, False, False, False, False, False, False, False],\n",
       "       [False, False, False, False, False, False, False, False, False],\n",
       "       [False, False, False, False, False, False, False, False, False],\n",
       "       [False, False, False, False, False, False, False, False, False],\n",
       "       [False, False, False, False, False, False, False, False, False],\n",
       "       [False, False, False, False, False, False, False, False, False],\n",
       "       [False, False, False, False, False,  True,  True,  True,  True],\n",
       "       [False, False, False, False, False, False, False, False, False],\n",
       "       [False, False, False, False, False, False, False, False, False],\n",
       "       [False, False, False, False, False, False, False, False, False]])"
      ]
     },
     "execution_count": 551,
     "metadata": {},
     "output_type": "execute_result"
    }
   ],
   "source": [
    "np.isnan(planets)"
   ]
  },
  {
   "cell_type": "code",
   "execution_count": 560,
   "metadata": {},
   "outputs": [],
   "source": [
    "planets_new = np.nan_to_num(planets,nan=-1)\n",
    "#for saving human readable format\n",
    "np.savetxt(\"planets_new1.txt\",planets_new,delimiter=',')\n",
    "# for numpy to efficiently process & file size is reduced compared to savetxt function\n",
    "np.save(\"planets_new2\",planets_new)"
   ]
  },
  {
   "cell_type": "code",
   "execution_count": 571,
   "metadata": {},
   "outputs": [
    {
     "name": "stdout",
     "output_type": "stream",
     "text": [
      " Volume in drive C is Acer\n",
      " Volume Serial Number is 28D9-00DE\n",
      "\n",
      " Directory of C:\\Users\\malla\\PadhAI\\PadhAI-DataScienceFoundation-Practice\\Restart\\Week 8\n",
      "\n",
      "03-10-2021  16:16    <DIR>          .\n",
      "03-10-2021  16:16    <DIR>          ..\n",
      "03-10-2021  16:14    <DIR>          .ipynb_checkpoints\n",
      "28-09-2021  17:03             2,952 cric_data-200320-181217.tsv\n",
      "28-09-2021  17:03           151,185 FDS_W08_Lecture_NB-200320-184141.ipynb\n",
      "28-09-2021  17:03            52,175 FDS_W08_Solutions-200320-184141.ipynb\n",
      "03-10-2021  16:16            52,476 Numpy.ipynb\n",
      "28-09-2021  17:03            22,551 Numpy_Assignment_Solutions-200320-184846.ipynb\n",
      "28-09-2021  17:03             3,061 Numpy_Assignments_Questions-200320-184846.ipynb\n",
      "03-10-2021  16:15             4,532 planets_new1.txt\n",
      "03-10-2021  16:15             1,568 planets_new2.npy\n",
      "28-09-2021  17:03               254 planets_small-200320-181217.txt\n",
      "28-09-2021  17:03             1,436 planets-200320-181217.txt\n",
      "              10 File(s)        292,190 bytes\n",
      "               3 Dir(s)  180,395,520,000 bytes free\n"
     ]
    }
   ],
   "source": [
    "%ls"
   ]
  },
  {
   "cell_type": "code",
   "execution_count": 573,
   "metadata": {},
   "outputs": [],
   "source": [
    "arr1 = np.random.rand(1000,10)\n",
    "arr2 = np.random.rand(2000,5)\n",
    "arr3 = np.random.rand(20,10000)"
   ]
  },
  {
   "cell_type": "code",
   "execution_count": 574,
   "metadata": {},
   "outputs": [],
   "source": [
    "np.savez(\"many_arrs\",arr1,arr2,arr3)"
   ]
  },
  {
   "cell_type": "code",
   "execution_count": 575,
   "metadata": {},
   "outputs": [
    {
     "name": "stdout",
     "output_type": "stream",
     "text": [
      " Volume in drive C is Acer\n",
      " Volume Serial Number is 28D9-00DE\n",
      "\n",
      " Directory of C:\\Users\\malla\\PadhAI\\PadhAI-DataScienceFoundation-Practice\\Restart\\Week 8\n",
      "\n",
      "03-10-2021  16:20    <DIR>          .\n",
      "03-10-2021  16:20    <DIR>          ..\n",
      "03-10-2021  16:14    <DIR>          .ipynb_checkpoints\n",
      "28-09-2021  17:03             2,952 cric_data-200320-181217.tsv\n",
      "28-09-2021  17:03           151,185 FDS_W08_Lecture_NB-200320-184141.ipynb\n",
      "28-09-2021  17:03            52,175 FDS_W08_Solutions-200320-184141.ipynb\n",
      "03-10-2021  16:20         1,760,748 many_arrs.npz\n",
      "03-10-2021  16:18            53,987 Numpy.ipynb\n",
      "28-09-2021  17:03            22,551 Numpy_Assignment_Solutions-200320-184846.ipynb\n",
      "28-09-2021  17:03             3,061 Numpy_Assignments_Questions-200320-184846.ipynb\n",
      "03-10-2021  16:15             4,532 planets_new1.txt\n",
      "03-10-2021  16:15             1,568 planets_new2.npy\n",
      "28-09-2021  17:03               254 planets_small-200320-181217.txt\n",
      "28-09-2021  17:03             1,436 planets-200320-181217.txt\n",
      "              11 File(s)      2,054,449 bytes\n",
      "               3 Dir(s)  180,404,858,880 bytes free\n"
     ]
    }
   ],
   "source": [
    "%ls"
   ]
  },
  {
   "cell_type": "code",
   "execution_count": 582,
   "metadata": {},
   "outputs": [
    {
     "name": "stdout",
     "output_type": "stream",
     "text": [
      "<numpy.lib.npyio.NpzFile object at 0x000002350117A148>\n",
      "<class 'numpy.lib.npyio.NpzFile'>\n",
      "['arr_0', 'arr_1', 'arr_2']\n",
      "[[0.08718229 0.8798122  0.02892271 ... 0.6101984  0.34747563 0.11950025]\n",
      " [0.51504931 0.88570102 0.73214746 ... 0.32220558 0.7335047  0.93596411]\n",
      " [0.85869828 0.93511592 0.62286815 ... 0.92376457 0.50911512 0.2533025 ]\n",
      " ...\n",
      " [0.29069001 0.11902293 0.67708541 ... 0.02995699 0.7262268  0.48910495]\n",
      " [0.48717254 0.64995537 0.54232998 ... 0.41850761 0.06253535 0.35209638]\n",
      " [0.83086847 0.83221439 0.08625055 ... 0.15189314 0.61672644 0.46537234]]\n",
      "(1000, 10)\n"
     ]
    }
   ],
   "source": [
    "# for loading the arrays\n",
    "arr = np.load('many_arrs.npz')\n",
    "print(arr)\n",
    "print(type(arr))\n",
    "print(arr.files)\n",
    "print(arr['arr_0'])\n",
    "print(arr['arr_0'].shape)"
   ]
  },
  {
   "cell_type": "code",
   "execution_count": 583,
   "metadata": {},
   "outputs": [],
   "source": [
    "np.savez_compressed('many_arrs_compressed',arr1,arr2,arr3)"
   ]
  },
  {
   "cell_type": "code",
   "execution_count": 584,
   "metadata": {},
   "outputs": [
    {
     "name": "stdout",
     "output_type": "stream",
     "text": [
      " Volume in drive C is Acer\n",
      " Volume Serial Number is 28D9-00DE\n",
      "\n",
      " Directory of C:\\Users\\malla\\PadhAI\\PadhAI-DataScienceFoundation-Practice\\Restart\\Week 8\n",
      "\n",
      "03-10-2021  16:22    <DIR>          .\n",
      "03-10-2021  16:22    <DIR>          ..\n",
      "03-10-2021  16:14    <DIR>          .ipynb_checkpoints\n",
      "28-09-2021  17:03             2,952 cric_data-200320-181217.tsv\n",
      "28-09-2021  17:03           151,185 FDS_W08_Lecture_NB-200320-184141.ipynb\n",
      "28-09-2021  17:03            52,175 FDS_W08_Solutions-200320-184141.ipynb\n",
      "03-10-2021  16:20         1,760,748 many_arrs.npz\n",
      "03-10-2021  16:22         1,660,219 many_arrs_compressed.npz\n",
      "03-10-2021  16:22            57,186 Numpy.ipynb\n",
      "28-09-2021  17:03            22,551 Numpy_Assignment_Solutions-200320-184846.ipynb\n",
      "28-09-2021  17:03             3,061 Numpy_Assignments_Questions-200320-184846.ipynb\n",
      "03-10-2021  16:15             4,532 planets_new1.txt\n",
      "03-10-2021  16:15             1,568 planets_new2.npy\n",
      "28-09-2021  17:03               254 planets_small-200320-181217.txt\n",
      "28-09-2021  17:03             1,436 planets-200320-181217.txt\n",
      "              12 File(s)      3,717,867 bytes\n",
      "               3 Dir(s)  180,417,347,584 bytes free\n"
     ]
    }
   ],
   "source": [
    "%ls"
   ]
  },
  {
   "cell_type": "code",
   "execution_count": 589,
   "metadata": {},
   "outputs": [],
   "source": [
    "np.savez('zeros',np.zeros((10000,10000)))\n",
    "#\n",
    "np.savez_compressed('zeros_compressed',np.zeros((10000,10000)))"
   ]
  },
  {
   "cell_type": "code",
   "execution_count": 590,
   "metadata": {},
   "outputs": [
    {
     "name": "stdout",
     "output_type": "stream",
     "text": [
      " Volume in drive C is Acer\n",
      " Volume Serial Number is 28D9-00DE\n",
      "\n",
      " Directory of C:\\Users\\malla\\PadhAI\\PadhAI-DataScienceFoundation-Practice\\Restart\\Week 8\n",
      "\n",
      "03-10-2021  16:25    <DIR>          .\n",
      "03-10-2021  16:25    <DIR>          ..\n",
      "03-10-2021  16:14    <DIR>          .ipynb_checkpoints\n",
      "28-09-2021  17:03             2,952 cric_data-200320-181217.tsv\n",
      "28-09-2021  17:03           151,185 FDS_W08_Lecture_NB-200320-184141.ipynb\n",
      "28-09-2021  17:03            52,175 FDS_W08_Solutions-200320-184141.ipynb\n",
      "03-10-2021  16:20         1,760,748 many_arrs.npz\n",
      "03-10-2021  16:22         1,660,219 many_arrs_compressed.npz\n",
      "03-10-2021  16:24            60,742 Numpy.ipynb\n",
      "28-09-2021  17:03            22,551 Numpy_Assignment_Solutions-200320-184846.ipynb\n",
      "28-09-2021  17:03             3,061 Numpy_Assignments_Questions-200320-184846.ipynb\n",
      "03-10-2021  16:15             4,532 planets_new1.txt\n",
      "03-10-2021  16:15             1,568 planets_new2.npy\n",
      "28-09-2021  17:03               254 planets_small-200320-181217.txt\n",
      "28-09-2021  17:03             1,436 planets-200320-181217.txt\n",
      "03-10-2021  16:25       800,000,264 zeros.npz\n",
      "03-10-2021  16:25           777,793 zeros_compressed.npz\n",
      "              14 File(s)    804,499,480 bytes\n",
      "               3 Dir(s)  179,619,332,096 bytes free\n"
     ]
    }
   ],
   "source": [
    "%ls"
   ]
  },
  {
   "cell_type": "markdown",
   "metadata": {},
   "source": [
    "### Stats with Numpy"
   ]
  },
  {
   "cell_type": "code",
   "execution_count": 4,
   "metadata": {},
   "outputs": [
    {
     "name": "stdout",
     "output_type": "stream",
     "text": [
      "3.4725032070914708e-06\n",
      "3.4725032070914708e-06\n",
      "0.9999921186615616\n",
      "0.9999921186615616\n",
      "0.501020570589029\n",
      "0.501020570589029\n",
      "0.08333923464275346\n",
      "0.08333923464275346\n",
      "0.28868535578160776\n",
      "0.28868535578160776\n",
      "0.5010394537452707\n"
     ]
    }
   ],
   "source": [
    "arr = np.random.rand(100000,)\n",
    "print(arr.min())\n",
    "print(np.amin(arr))\n",
    "print(arr.max())\n",
    "print(np.amax(arr))\n",
    "print(arr.mean())\n",
    "print(np.mean(arr))\n",
    "print(arr.var())\n",
    "print(np.var(arr))\n",
    "print(arr.std())\n",
    "print(np.std(arr))\n",
    "print(np.median(arr))"
   ]
  },
  {
   "cell_type": "code",
   "execution_count": 5,
   "metadata": {},
   "outputs": [
    {
     "name": "stdout",
     "output_type": "stream",
     "text": [
      "0.25096572841918685\n",
      "0.5010394537452707\n"
     ]
    }
   ],
   "source": [
    "print(np.percentile(arr,25)) # 25th percentile\n",
    "print(np.percentile(arr,50)) # 50th percentile or mdeian"
   ]
  },
  {
   "cell_type": "code",
   "execution_count": 6,
   "metadata": {},
   "outputs": [
    {
     "name": "stdout",
     "output_type": "stream",
     "text": [
      "0.49972124440851684\n",
      "Wall time: 3 ms\n"
     ]
    }
   ],
   "source": [
    "%%time\n",
    "iqr = np.percentile(arr,75) - np.percentile(arr,25)\n",
    "print(iqr)"
   ]
  },
  {
   "cell_type": "code",
   "execution_count": 7,
   "metadata": {},
   "outputs": [
    {
     "name": "stdout",
     "output_type": "stream",
     "text": [
      "0.49972124440851684\n",
      "Wall time: 2.99 ms\n"
     ]
    }
   ],
   "source": [
    "%%time\n",
    "quartiles = np.percentile(arr,[25,75])\n",
    "iqr = quartiles[1] - quartiles[0]\n",
    "print(iqr)"
   ]
  },
  {
   "cell_type": "markdown",
   "metadata": {},
   "source": [
    "#### Z-Score\n",
    "##### x = x_mean + z*std(x)"
   ]
  },
  {
   "cell_type": "code",
   "execution_count": 16,
   "metadata": {},
   "outputs": [
    {
     "name": "stdout",
     "output_type": "stream",
     "text": [
      "[ 1.01105271 -0.60356398 -0.84153597 ...  1.35777692  1.35082234\n",
      "  0.42212884]\n"
     ]
    }
   ],
   "source": [
    "z_score = (arr - np.mean(arr))/np.std(arr)\n",
    "print(z_score)"
   ]
  },
  {
   "cell_type": "code",
   "execution_count": 18,
   "metadata": {},
   "outputs": [
    {
     "data": {
      "text/plain": [
       "(array([ 9923,  9898, 10106,  9952, 10022,  9969,  9956, 10137,  9887,\n",
       "        10150], dtype=int64),\n",
       " array([-1.73551269, -1.38911873, -1.04272476, -0.6963308 , -0.34993683,\n",
       "        -0.00354287,  0.34285109,  0.68924506,  1.03563902,  1.38203298,\n",
       "         1.72842695]))"
      ]
     },
     "execution_count": 18,
     "metadata": {},
     "output_type": "execute_result"
    }
   ],
   "source": [
    "# return 2 arrays - 2nd array gives the bins - 1st array number of points withing the corresponding bins\n",
    "np.histogram(z_score)"
   ]
  },
  {
   "cell_type": "code",
   "execution_count": 21,
   "metadata": {},
   "outputs": [
    {
     "data": {
      "text/plain": [
       "(array([19821, 20058, 19991, 20093, 20037], dtype=int64),\n",
       " array([-1.73551269, -1.04272476, -0.34993683,  0.34285109,  1.03563902,\n",
       "         1.72842695]))"
      ]
     },
     "execution_count": 21,
     "metadata": {},
     "output_type": "execute_result"
    }
   ],
   "source": [
    "np.histogram(z_score,bins=5)"
   ]
  },
  {
   "cell_type": "code",
   "execution_count": 22,
   "metadata": {},
   "outputs": [
    {
     "data": {
      "text/plain": [
       "(array([7171, 7287, 7137, 7336], dtype=int64),\n",
       " array([0.  , 0.25, 0.5 , 0.75, 1.  ]))"
      ]
     },
     "execution_count": 22,
     "metadata": {},
     "output_type": "execute_result"
    }
   ],
   "source": [
    "np.histogram(z_score,bins = [0,0.25,0.5,0.75,1])"
   ]
  },
  {
   "cell_type": "code",
   "execution_count": 25,
   "metadata": {},
   "outputs": [
    {
     "data": {
      "text/plain": [
       "array([4, 2, 2, ..., 4, 4, 3], dtype=int64)"
      ]
     },
     "execution_count": 25,
     "metadata": {},
     "output_type": "execute_result"
    }
   ],
   "source": [
    "bins = [0,0.25,0.5,0.75,1]\n",
    "# this returns a array which contains the numbers which represnets the bin in which they lie in\n",
    "np.digitize(arr,bins)"
   ]
  },
  {
   "cell_type": "code",
   "execution_count": 34,
   "metadata": {},
   "outputs": [
    {
     "name": "stdout",
     "output_type": "stream",
     "text": [
      "[1 1 2 2 2 2 1 2 1 2]\n",
      "[0 1 1 2 1 2 1 1 1 2]\n"
     ]
    }
   ],
   "source": [
    "arr1 = np.random.randint(0,10,(10))\n",
    "bins = [0,6,10]\n",
    "print(np.digitize(arr1,bins))\n",
    "print(np.digitize(arr1,bins,right=True))"
   ]
  },
  {
   "cell_type": "code",
   "execution_count": 46,
   "metadata": {},
   "outputs": [],
   "source": [
    "arr1 = np.random.randint(50,80,100) # weight\n",
    "arr2 = np.random.randint(150,180,100) # height\n",
    "arr3 = np.random.randint(17,22,100) # age"
   ]
  },
  {
   "cell_type": "code",
   "execution_count": 47,
   "metadata": {},
   "outputs": [
    {
     "name": "stdout",
     "output_type": "stream",
     "text": [
      "[ 55  56  68  61  67  62  67  52  69  77  52  51  77  63  56  74  70  52\n",
      "  68  72  54  69  55  59  69  53  53  62  63  62  57  62  65  68  66  78\n",
      "  64  60  60  75  56  55  50  74  59  68  78  64  76  67  55  64  52  61\n",
      "  78  77  54  65  52  79  55  61  61  76  57  58  59  78  56  52  59  61\n",
      "  71  79  57  79  74  75  63  65  61  50  52  76  75  76  62  68  78  59\n",
      "  52  67  74  50  51  67  57  59  51  58 174 177 154 170 158 169 159 165\n",
      " 174 163 170 156 166 169 164 174 151 164 173 159 162 175 175 176 165 174\n",
      " 166 159 169 179 158 151 152 167 156 168 176 168 178 154 171 168 175 152\n",
      " 177 169 163 165 160 177 151 157 178 152 176 175 167 156 167 154 167 177\n",
      " 176 168 166 165 177 152 154 156 165 155 173 150 165 172 167 174 169 177\n",
      " 162 169 162 175 151 174 162 178 165 162 177 156 161 159 179 151 161 171\n",
      " 153 153  19  21  17  20  20  20  20  20  18  17  21  17  21  19  19  21\n",
      "  19  18  20  19  17  17  19  20  17  17  21  17  20  18  20  21  21  20\n",
      "  19  19  21  20  18  20  20  20  21  20  18  20  21  18  21  19  18  17\n",
      "  20  19  18  19  21  18  20  17  18  20  19  19  18  20  21  18  20  17\n",
      "  21  21  19  20  18  17  18  20  18  18  21  21  17  20  18  19  17  19\n",
      "  19  17  18  18  19  19  20  19  17  20  19  20]\n",
      "(300,)\n"
     ]
    }
   ],
   "source": [
    "# just concatenates the given arrays\n",
    "print(np.concatenate((arr1,arr2,arr3)))\n",
    "print(np.concatenate((arr1,arr2,arr3)).shape)"
   ]
  },
  {
   "cell_type": "code",
   "execution_count": 53,
   "metadata": {},
   "outputs": [],
   "source": [
    "# add them vertically\n",
    "arr2d = np.vstack((arr1,arr2,arr3))"
   ]
  },
  {
   "cell_type": "code",
   "execution_count": 54,
   "metadata": {},
   "outputs": [
    {
     "data": {
      "text/plain": [
       "array([ 55,  56,  68,  61,  67,  62,  67,  52,  69,  77,  52,  51,  77,\n",
       "        63,  56,  74,  70,  52,  68,  72,  54,  69,  55,  59,  69,  53,\n",
       "        53,  62,  63,  62,  57,  62,  65,  68,  66,  78,  64,  60,  60,\n",
       "        75,  56,  55,  50,  74,  59,  68,  78,  64,  76,  67,  55,  64,\n",
       "        52,  61,  78,  77,  54,  65,  52,  79,  55,  61,  61,  76,  57,\n",
       "        58,  59,  78,  56,  52,  59,  61,  71,  79,  57,  79,  74,  75,\n",
       "        63,  65,  61,  50,  52,  76,  75,  76,  62,  68,  78,  59,  52,\n",
       "        67,  74,  50,  51,  67,  57,  59,  51,  58, 174, 177, 154, 170,\n",
       "       158, 169, 159, 165, 174, 163, 170, 156, 166, 169, 164, 174, 151,\n",
       "       164, 173, 159, 162, 175, 175, 176, 165, 174, 166, 159, 169, 179,\n",
       "       158, 151, 152, 167, 156, 168, 176, 168, 178, 154, 171, 168, 175,\n",
       "       152, 177, 169, 163, 165, 160, 177, 151, 157, 178, 152, 176, 175,\n",
       "       167, 156, 167, 154, 167, 177, 176, 168, 166, 165, 177, 152, 154,\n",
       "       156, 165, 155, 173, 150, 165, 172, 167, 174, 169, 177, 162, 169,\n",
       "       162, 175, 151, 174, 162, 178, 165, 162, 177, 156, 161, 159, 179,\n",
       "       151, 161, 171, 153, 153,  19,  21,  17,  20,  20,  20,  20,  20,\n",
       "        18,  17,  21,  17,  21,  19,  19,  21,  19,  18,  20,  19,  17,\n",
       "        17,  19,  20,  17,  17,  21,  17,  20,  18,  20,  21,  21,  20,\n",
       "        19,  19,  21,  20,  18,  20,  20,  20,  21,  20,  18,  20,  21,\n",
       "        18,  21,  19,  18,  17,  20,  19,  18,  19,  21,  18,  20,  17,\n",
       "        18,  20,  19,  19,  18,  20,  21,  18,  20,  17,  21,  21,  19,\n",
       "        20,  18,  17,  18,  20,  18,  18,  21,  21,  17,  20,  18,  19,\n",
       "        17,  19,  19,  17,  18,  18,  19,  19,  20,  19,  17,  20,  19,\n",
       "        20])"
      ]
     },
     "execution_count": 54,
     "metadata": {},
     "output_type": "execute_result"
    }
   ],
   "source": [
    "# Same as concatenate function \n",
    "np.hstack((arr1,arr2,arr3))"
   ]
  },
  {
   "cell_type": "code",
   "execution_count": 58,
   "metadata": {},
   "outputs": [
    {
     "name": "stdout",
     "output_type": "stream",
     "text": [
      "[ 50 150  17]\n",
      "[ 50 150  17]\n"
     ]
    }
   ],
   "source": [
    "# Given minimum across the columns\n",
    "print(np.amin(arr2d,axis=1))\n",
    "print(arr2d.min(axis=1))"
   ]
  },
  {
   "cell_type": "markdown",
   "metadata": {},
   "source": [
    "### Checking stats rules with numpy"
   ]
  },
  {
   "cell_type": "markdown",
   "metadata": {},
   "source": [
    "#### Mean subtracted array has zero mean"
   ]
  },
  {
   "cell_type": "code",
   "execution_count": 90,
   "metadata": {},
   "outputs": [
    {
     "name": "stdout",
     "output_type": "stream",
     "text": [
      "1.6431300764452316e-17\n",
      "0.024830602958677006\n",
      "0.9705244174590378\n"
     ]
    }
   ],
   "source": [
    "arr = np.random.rand(1000)\n",
    "arr1 = arr - np.mean(arr)\n",
    "print(np.mean(arr1)) # Should be zero\n",
    "\n",
    "# randn - values are normally distributed so mean = 0  and variance = 1\n",
    "print(np.mean(np.random.randn(1000)))\n",
    "print(np.var(np.random.randn(1000)))"
   ]
  },
  {
   "cell_type": "markdown",
   "metadata": {},
   "source": [
    "#### Computing mean with smaller set of values"
   ]
  },
  {
   "cell_type": "code",
   "execution_count": 106,
   "metadata": {},
   "outputs": [
    {
     "name": "stdout",
     "output_type": "stream",
     "text": [
      "1 0.10077318108076838\n",
      "2 0.19222573868851478\n",
      "3 0.36884307346521455\n",
      "4 0.5034865005993545\n",
      "5 0.5190990919807686\n",
      "6 0.45101289653257304\n",
      "7 0.5271307281140503\n",
      "8 0.5100629094367574\n",
      "9 0.5020301929933573\n",
      "10 0.5111318225099908\n",
      "11 0.479483127208684\n",
      "12 0.5160827292183426\n",
      "13 0.5437662961834578\n",
      "14 0.5085039878891722\n",
      "15 0.5240875247593048\n",
      "16 0.5062434269875173\n",
      "17 0.4969200881926491\n",
      "18 0.5163164868319117\n",
      "19 0.5350420461366842\n",
      "20 0.5293992517868114\n",
      "21 0.5445787983498546\n",
      "22 0.5487836023075269\n",
      "23 0.5490612440992012\n",
      "24 0.5485249469317052\n",
      "25 0.5473584203078498\n",
      "26 0.5554128375994495\n",
      "27 0.5481200413821044\n",
      "28 0.531391025426677\n",
      "29 0.5314055306446569\n",
      "30 0.5464285245538546\n",
      "31 0.5311441170713561\n",
      "32 0.5182856282044148\n",
      "33 0.5176804074024797\n",
      "34 0.527729573776937\n",
      "35 0.5330039548861187\n",
      "36 0.5336961646957847\n",
      "37 0.5353589370931652\n",
      "38 0.5321918797788663\n",
      "39 0.5233622439008234\n",
      "40 0.5234895469690176\n",
      "41 0.5292440422451007\n",
      "42 0.534532824671364\n",
      "43 0.538598402708337\n",
      "44 0.5488164999690681\n",
      "45 0.5423992622092163\n",
      "46 0.5338636962840898\n",
      "47 0.5280710231566524\n",
      "48 0.5218017827767163\n",
      "49 0.5285049264548936\n"
     ]
    }
   ],
   "source": [
    "arr = np.random.rand(100)\n",
    "for k in range(1,50):\n",
    "    arr1 = arr[0:k]\n",
    "    print(k,np.mean(arr1))"
   ]
  },
  {
   "cell_type": "code",
   "execution_count": 109,
   "metadata": {},
   "outputs": [
    {
     "name": "stdout",
     "output_type": "stream",
     "text": [
      "[0.10077318 0.19222574 0.36884307 0.5034865  0.51909909 0.4510129\n",
      " 0.52713073 0.51006291 0.50203019 0.51113182 0.47948313 0.51608273\n",
      " 0.5437663  0.50850399 0.52408752 0.50624343 0.49692009 0.51631649\n",
      " 0.53504205 0.52939925 0.5445788  0.5487836  0.54906124 0.54852495\n",
      " 0.54735842 0.55541284 0.54812004 0.53139103 0.53140553 0.54642852\n",
      " 0.53114412 0.51828563 0.51768041 0.52772957 0.53300395 0.53369616\n",
      " 0.53535894 0.53219188 0.52336224 0.52348955 0.52924404 0.53453282\n",
      " 0.5385984  0.5488165  0.54239926 0.5338637  0.52807102 0.52180178\n",
      " 0.52850493 0.53609305 0.53095381 0.5344079  0.53792318 0.53875641\n",
      " 0.54495728 0.54865501 0.55199494 0.54876436 0.54507378 0.54503817\n",
      " 0.55206221 0.54845217 0.55429664 0.54641044 0.53994322 0.53494295\n",
      " 0.54171388 0.54497202 0.54352105 0.54592346 0.54537486 0.54506805\n",
      " 0.54936646 0.55006552 0.5548024  0.55566747 0.55483318 0.5533232\n",
      " 0.55177041 0.55626571 0.55876647 0.55683953 0.55836892 0.55693509\n",
      " 0.55761978 0.55551482 0.5522396  0.55225641 0.54626174 0.54289537\n",
      " 0.54556598 0.54587284 0.54503739 0.54787237 0.54772782 0.55109587\n",
      " 0.55137644 0.55072252 0.54950875 0.54858001]\n"
     ]
    }
   ],
   "source": [
    "# Gives mean from 1st number to 1000th number\n",
    "means = np.cumsum(arr)/np.arange(1,101)\n",
    "print(means)"
   ]
  },
  {
   "cell_type": "markdown",
   "metadata": {},
   "source": [
    "#### Effect of outliers on mean and median"
   ]
  },
  {
   "cell_type": "code",
   "execution_count": 128,
   "metadata": {},
   "outputs": [
    {
     "name": "stdout",
     "output_type": "stream",
     "text": [
      "52.44\n",
      "53.0\n"
     ]
    }
   ],
   "source": [
    "arr = np.random.randint(1,100,100)\n",
    "print(np.mean(arr))\n",
    "print(np.median(arr))"
   ]
  },
  {
   "cell_type": "code",
   "execution_count": 130,
   "metadata": {},
   "outputs": [
    {
     "name": "stdout",
     "output_type": "stream",
     "text": [
      "(104,)\n",
      "108.11538461538461\n",
      "55.5\n"
     ]
    }
   ],
   "source": [
    "arr = np.append(arr,[1000,2000])\n",
    "print(arr.shape)\n",
    "print(np.mean(arr))\n",
    "print(np.median(arr))\n",
    "# mean has increased and sensitive"
   ]
  },
  {
   "cell_type": "markdown",
   "metadata": {},
   "source": [
    "#### Effect of scaling arrays on mean and median"
   ]
  },
  {
   "cell_type": "code",
   "execution_count": 137,
   "metadata": {},
   "outputs": [
    {
     "name": "stdout",
     "output_type": "stream",
     "text": [
      "0.4646371003776363\n",
      "0.4874638465263608\n"
     ]
    }
   ],
   "source": [
    "arr = np.random.rand(100)\n",
    "print(np.mean(arr))\n",
    "print(np.median(arr))"
   ]
  },
  {
   "cell_type": "code",
   "execution_count": 157,
   "metadata": {},
   "outputs": [
    {
     "name": "stdout",
     "output_type": "stream",
     "text": [
      "9.323185501888183\n",
      "9.437319232631804\n",
      "1.9378424075910683\n",
      "9.323185501888183 9.323185501888181\n",
      "9.437319232631804 9.437319232631804\n",
      "1.9378424075910683 1.937842407591069\n",
      "1.3920640817114234 1.3920640817114236\n"
     ]
    }
   ],
   "source": [
    "arr1 = arr*5 + 7\n",
    "print(np.mean(arr1))\n",
    "print(np.median(arr1))\n",
    "print(np.var(arr1))\n",
    "print(np.mean(arr1),np.mean(arr)*5+7)\n",
    "print(np.median(arr1),np.median(arr)*5+7)\n",
    "print(np.var(arr1),5*5*np.var(arr))\n",
    "print(np.std(arr1),5*np.std(arr))"
   ]
  },
  {
   "cell_type": "code",
   "execution_count": 163,
   "metadata": {},
   "outputs": [
    {
     "name": "stdout",
     "output_type": "stream",
     "text": [
      "-0.26056156748337617 -0.26056156748337617\n"
     ]
    }
   ],
   "source": [
    "arr1 = np.random.rand(100)\n",
    "arr2 = np.random.rand(100)\n",
    "print(np.mean(0.21*arr1 - 0.75*arr2),0.21*np.mean(arr1) - 0.75*np.mean(arr2))"
   ]
  },
  {
   "cell_type": "markdown",
   "metadata": {},
   "source": [
    "# Case study Cricket"
   ]
  },
  {
   "cell_type": "markdown",
   "metadata": {},
   "source": [
    "1.   Find mean, median, IQR for Sachin, Rahul, and India"
   ]
  },
  {
   "cell_type": "code",
   "execution_count": 95,
   "metadata": {},
   "outputs": [
    {
     "name": "stdout",
     "output_type": "stream",
     "text": [
      "Mean - 39.87555555555556, Median - 27.0, IQR - 57.0\n",
      "Mean - 32.062222222222225, Median - 22.0, IQR - 46.0\n",
      "Mean - 220.79555555555555, Median - 216.0, IQR - 98.0\n",
      "[ 39.87555556  32.06222222 220.79555556]\n",
      "[ 27.  22. 216.]\n",
      "[57. 46. 98.]\n"
     ]
    }
   ],
   "source": [
    "data = np.loadtxt('cric_data-200320-181217.tsv',skiprows=1,usecols=(1,2,3))\n",
    "sachin = data[:,0]\n",
    "rahul = data[:,1]\n",
    "india = data[:,2]\n",
    "def stats(col):\n",
    "    mean = np.mean(col)\n",
    "    median = np.median(col)\n",
    "    iqr = np.percentile(col,75) - np.percentile(col,25)\n",
    "    print(f'Mean - {mean}, Median - {median}, IQR - {iqr}')\n",
    "\n",
    "stats(sachin)\n",
    "stats(rahul)\n",
    "stats(india)\n",
    "\n",
    "print(np.mean(data,axis = 0))\n",
    "print(np.median(data,axis = 0))\n",
    "print(np.percentile(data,75,axis = 0) - np.percentile(data,25,axis = 0))"
   ]
  },
  {
   "cell_type": "markdown",
   "metadata": {},
   "source": [
    "2.   Find the histogram of Sachin's scores with 10 bins"
   ]
  },
  {
   "cell_type": "code",
   "execution_count": 4,
   "metadata": {},
   "outputs": [
    {
     "name": "stdout",
     "output_type": "stream",
     "text": [
      "(array([99, 36, 28, 16, 11, 17,  8,  8,  1,  1], dtype=int64), array([  0. ,  18.6,  37.2,  55.8,  74.4,  93. , 111.6, 130.2, 148.8,\n",
      "       167.4, 186. ]))\n"
     ]
    }
   ],
   "source": [
    "histogram_sachin = np.histogram(data[:,0],bins=10)\n",
    "print(histogram_sachin)"
   ]
  },
  {
   "cell_type": "markdown",
   "metadata": {},
   "source": [
    "3.   Find mean of Sachin's scores grouped by 25 matches"
   ]
  },
  {
   "cell_type": "code",
   "execution_count": 57,
   "metadata": {},
   "outputs": [
    {
     "name": "stdout",
     "output_type": "stream",
     "text": [
      "[33.96 49.4  38.48 40.16 39.36 38.2  44.6  39.52 35.2 ]\n"
     ]
    }
   ],
   "source": [
    "sachin_r = sachin.reshape(9,25)\n",
    "print(np.mean(sachin_r, axis=1))"
   ]
  },
  {
   "cell_type": "markdown",
   "metadata": {},
   "source": [
    "4.   Find mean of Sachin's scores where he has scored a century"
   ]
  },
  {
   "cell_type": "code",
   "execution_count": 59,
   "metadata": {},
   "outputs": [
    {
     "name": "stdout",
     "output_type": "stream",
     "text": [
      "125.0\n"
     ]
    }
   ],
   "source": [
    "sachin = data[:,0]\n",
    "mean_sachin_century = np.mean(sachin[sachin >= 100])\n",
    "print(mean_sachin_century)"
   ]
  },
  {
   "cell_type": "markdown",
   "metadata": {},
   "source": [
    "5.   Find mean of Sachin's scores when Rahul has scored less than 10"
   ]
  },
  {
   "cell_type": "code",
   "execution_count": 60,
   "metadata": {},
   "outputs": [
    {
     "name": "stdout",
     "output_type": "stream",
     "text": [
      "40.74285714285714\n"
     ]
    }
   ],
   "source": [
    "rahul = data[:,1]\n",
    "mean_sachin_rahul = np.mean(sachin[rahul < 10])\n",
    "print(mean_sachin_rahul)"
   ]
  },
  {
   "cell_type": "markdown",
   "metadata": {},
   "source": [
    "6.   Find mean for Sachin's scores based on which quartile India's score falls in"
   ]
  },
  {
   "cell_type": "code",
   "execution_count": 108,
   "metadata": {},
   "outputs": [
    {
     "name": "stdout",
     "output_type": "stream",
     "text": [
      "39.799107142857146 31.688622754491018 28.18018018018018 19.672727272727272\n"
     ]
    }
   ],
   "source": [
    "qrs = np.percentile(india,[25,50,75,100])\n",
    "qrs = qrs.reshape(4,1)\n",
    "index = india < qrs\n",
    "mean_25 = np.mean(sachin[index[0]])\n",
    "mean_50 = np.mean(sachin[index[1]])\n",
    "mean_75 = np.mean(sachin[index[2]])\n",
    "mean_100 = np.mean(sachin[index[3]])\n",
    "print(mean_100,mean_75,mean_50,mean_25)"
   ]
  },
  {
   "cell_type": "markdown",
   "metadata": {},
   "source": [
    "7.   For every match find out who has has scored more - Sachin or Rahul"
   ]
  },
  {
   "cell_type": "code",
   "execution_count": 131,
   "metadata": {},
   "outputs": [
    {
     "name": "stdout",
     "output_type": "stream",
     "text": [
      "['Sachin' 'Rahul' 'Rahul' 'Sachin' 'Sachin' 'Rahul' 'Rahul' 'Sachin'\n",
      " 'Rahul' 'Sachin' 'Rahul' 'Rahul' 'Rahul' 'Sachin' 'Sachin' 'Rahul'\n",
      " 'Rahul' 'Sachin' 'Rahul' 'Rahul' 'Sachin' 'Rahul' 'Sachin' 'Sachin'\n",
      " 'Rahul' 'Sachin' 'Sachin' 'Sachin' 'Sachin' 'Sachin' 'Sachin' 'Sachin'\n",
      " 'Rahul' 'Rahul' 'Sachin' 'Rahul' 'Rahul' 'Sachin' 'Rahul' 'Sachin'\n",
      " 'Sachin' 'Sachin' 'Sachin' 'Rahul' 'Sachin' 'Rahul' 'Rahul' 'Sachin'\n",
      " 'Rahul' 'Sachin' 'Rahul' 'Rahul' 'Rahul' 'Rahul' 'Sachin' 'Rahul'\n",
      " 'Sachin' 'Sachin' 'Rahul' 'Rahul' 'Rahul' 'Sachin' 'Rahul' 'Sachin'\n",
      " 'Sachin' 'Sachin' 'Sachin' 'Rahul' 'Sachin' 'Rahul' 'Rahul' 'Sachin'\n",
      " 'Sachin' 'Rahul' 'Rahul' 'Sachin' 'Rahul' 'Rahul' 'Sachin' 'Rahul'\n",
      " 'Rahul' 'Rahul' 'Rahul' 'Rahul' 'Rahul' 'Sachin' 'Sachin' 'Sachin'\n",
      " 'Rahul' 'Sachin' 'Sachin' 'Sachin' 'Sachin' 'Sachin' 'Sachin' 'Rahul'\n",
      " 'Rahul' 'Sachin' 'Rahul' 'Sachin' 'Sachin' 'Rahul' 'Rahul' 'Rahul'\n",
      " 'Rahul' 'Sachin' 'Rahul' 'Rahul' 'Sachin' 'Sachin' 'Sachin' 'Sachin'\n",
      " 'Rahul' 'Sachin' 'Rahul' 'Sachin' 'Sachin' 'Sachin' 'Rahul' 'Sachin'\n",
      " 'Rahul' 'Sachin' 'Sachin' 'Sachin' 'Sachin' 'Rahul' 'Sachin' 'Rahul'\n",
      " 'Rahul' 'Sachin' 'Sachin' 'Rahul' 'Sachin' 'Rahul' 'Sachin' 'Sachin'\n",
      " 'Sachin' 'Sachin' 'Sachin' 'Sachin' 'Rahul' 'Rahul' 'Rahul' 'Sachin'\n",
      " 'Sachin' 'Sachin' 'Sachin' 'Rahul' 'Sachin' 'Rahul' 'Sachin' 'Sachin'\n",
      " 'Sachin' 'Sachin' 'Rahul' 'Rahul' 'Rahul' 'Sachin' 'Rahul' 'Sachin'\n",
      " 'Rahul' 'Sachin' 'Rahul' 'Sachin' 'Sachin' 'Rahul' 'Sachin' 'Rahul'\n",
      " 'Rahul' 'Sachin' 'Sachin' 'Rahul' 'Sachin' 'Sachin' 'Sachin' 'Sachin'\n",
      " 'Rahul' 'Sachin' 'Rahul' 'Rahul' 'Sachin' 'Sachin' 'Sachin' 'Sachin'\n",
      " 'Rahul' 'Rahul' 'Rahul' 'Sachin' 'Rahul' 'Rahul' 'Rahul' 'Rahul' 'Sachin'\n",
      " 'Rahul' 'Rahul' 'Sachin' 'Rahul' 'Rahul' 'Sachin' 'Rahul' 'Sachin'\n",
      " 'Sachin' 'Sachin' 'Rahul' 'Sachin' 'Rahul' 'Rahul' 'Rahul' 'Sachin'\n",
      " 'Sachin' 'Sachin' 'Rahul' 'Rahul' 'Sachin' 'Rahul' 'Sachin' 'Rahul'\n",
      " 'Rahul' 'Rahul' 'Rahul' 'Sachin' 'Sachin' 'Rahul' 'Sachin' 'Sachin']\n"
     ]
    }
   ],
   "source": [
    "#print(np.where(data[:,0]>data[:,1],'Sachin','Rahul'))\n",
    "\n",
    "#or\n",
    "#np.max([1,3,4,5,2]) returns the max value\n",
    "#np.arg([1,3,4,5,2]) returns the position value\n",
    "snr = data[:,0:2]\n",
    "is_rahul_higher = np.argmax(snr,axis=1)\n",
    "print(np.where(is_rahul_higher == 0,'Sachin','Rahul'))"
   ]
  },
  {
   "cell_type": "markdown",
   "metadata": {},
   "source": [
    "8.   How many more runs does Sachin score on average after having scored x runs"
   ]
  },
  {
   "cell_type": "code",
   "execution_count": 200,
   "metadata": {},
   "outputs": [
    {
     "name": "stdout",
     "output_type": "stream",
     "text": [
      "44.10084033613445\n",
      "\n",
      "\n",
      "[0] 39.87555555555556\n",
      "[5] 45.61363636363637\n",
      "[10] 47.48026315789474\n",
      "[15] 47.45255474452555\n",
      "[20] 46.824\n",
      "[25] 44.10084033613445\n",
      "[30] 45.13461538461539\n",
      "[35] 43.24742268041237\n",
      "[40] 44.05882352941177\n",
      "[45] 43.41558441558441\n",
      "[50] 43.98529411764706\n",
      "[55] 42.317460317460316\n",
      "[60] 38.67213114754098\n",
      "[65] 37.654545454545456\n",
      "[70] 37.08163265306123\n",
      "[75] 34.34782608695652\n",
      "[80] 30.75\n",
      "[85] 28.65\n",
      "[90] 27.4\n",
      "[95] 26.433333333333334\n",
      "[100] 25.0\n"
     ]
    }
   ],
   "source": [
    "def sachin_score_x(x):\n",
    "    sachin = data[:,0]\n",
    "    return np.mean(sachin[sachin >= x] - x)\n",
    "\n",
    "print(sachin_score_x(25))\n",
    "print(\"\\n\")\n",
    "\n",
    "#or\n",
    "\n",
    "x_arr = np.arange(0,101,5)\n",
    "x_arr = x_arr.reshape(x_arr.shape[0],1)\n",
    "indices = sachin >= x_arr\n",
    "for i in range(x_arr.shape[0]):\n",
    "    print(x_arr[i],np.mean(sachin[indices[i,:]] - x_arr[i]))"
   ]
  },
  {
   "cell_type": "markdown",
   "metadata": {},
   "source": [
    "9.   How many matches did Sachin take to score first 1000 runs, next 1000 runs, ..."
   ]
  },
  {
   "cell_type": "code",
   "execution_count": 253,
   "metadata": {},
   "outputs": [
    {
     "name": "stdout",
     "output_type": "stream",
     "text": [
      "Sachin took 29 matches to score 1000 runs\n",
      "Sachin took 47 matches to score 2000 runs\n",
      "Sachin took 73 matches to score 3000 runs\n",
      "Sachin took 98 matches to score 4000 runs\n",
      "Sachin took 124 matches to score 5000 runs\n",
      "Sachin took 150 matches to score 6000 runs\n",
      "Sachin took 173 matches to score 7000 runs\n",
      "Sachin took 195 matches to score 8000 runs\n",
      "Sachin took 225 matches to score 9000 runs\n"
     ]
    }
   ],
   "source": [
    "sachin_cumsum = np.cumsum(sachin)\n",
    "runs = np.arange(1000,10000,1000)\n",
    "run = runs.reshape(runs.shape[0],1)\n",
    "for i in range(run.shape[0]):\n",
    "    print(f'Sachin took {np.sum(sachin_cumsum <= run[i,:])} matches to score {runs[i]} runs')"
   ]
  },
  {
   "cell_type": "code",
   "execution_count": 252,
   "metadata": {},
   "outputs": [
    {
     "data": {
      "text/plain": [
       "(array([29, 18, 26, 25, 26, 26, 23, 22, 30], dtype=int64),\n",
       " array([   0, 1000, 2000, 3000, 4000, 5000, 6000, 7000, 8000, 9000]))"
      ]
     },
     "execution_count": 252,
     "metadata": {},
     "output_type": "execute_result"
    }
   ],
   "source": [
    "np.histogram(sachin_cumsum,bins=np.arange(0,10000,1000))"
   ]
  }
 ],
 "metadata": {
  "kernelspec": {
   "display_name": "Python 3",
   "language": "python",
   "name": "python3"
  },
  "language_info": {
   "codemirror_mode": {
    "name": "ipython",
    "version": 3
   },
   "file_extension": ".py",
   "mimetype": "text/x-python",
   "name": "python",
   "nbconvert_exporter": "python",
   "pygments_lexer": "ipython3",
   "version": "3.8.8"
  }
 },
 "nbformat": 4,
 "nbformat_minor": 4
}
