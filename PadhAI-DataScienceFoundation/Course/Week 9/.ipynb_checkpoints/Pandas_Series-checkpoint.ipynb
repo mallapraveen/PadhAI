{
 "cells": [
  {
   "cell_type": "markdown",
   "metadata": {},
   "source": [
    "### Run this first"
   ]
  },
  {
   "cell_type": "code",
   "execution_count": 192,
   "metadata": {},
   "outputs": [],
   "source": [
    "import numpy as np\n",
    "import pandas as pd"
   ]
  },
  {
   "cell_type": "markdown",
   "metadata": {},
   "source": [
    "## Creating Series Objects"
   ]
  },
  {
   "cell_type": "code",
   "execution_count": 9,
   "metadata": {},
   "outputs": [
    {
     "name": "stdout",
     "output_type": "stream",
     "text": [
      "0    0\n",
      "1    1\n",
      "2    1\n",
      "3    2\n",
      "4    3\n",
      "5    5\n",
      "6    8\n",
      "dtype: int64\n",
      "<class 'pandas.core.series.Series'>\n",
      "0    0.0\n",
      "1    1.0\n",
      "2    1.0\n",
      "3    2.0\n",
      "4    3.0\n",
      "5    5.0\n",
      "6    8.0\n",
      "dtype: float64\n",
      "<class 'pandas.core.series.Series'>\n"
     ]
    }
   ],
   "source": [
    "s = pd.Series([0,1,1,2,3,5,8])\n",
    "f = pd.Series([0.0,1,1,2,3,5,8])\n",
    "print(s)\n",
    "print(type(s))\n",
    "print(f)\n",
    "print(type(f))"
   ]
  },
  {
   "cell_type": "code",
   "execution_count": 26,
   "metadata": {},
   "outputs": [
    {
     "name": "stdout",
     "output_type": "stream",
     "text": [
      "[0 1 1 2 3 5 8]\n",
      "RangeIndex(start=0, stop=7, step=1)\n",
      "RangeIndex(start=0, stop=7, step=1)\n",
      "0\n",
      "1\n",
      "1\n",
      "2\n",
      "3\n",
      "5\n",
      "8\n",
      "0\n",
      "1\n",
      "2\n",
      "3\n",
      "4\n",
      "5\n",
      "6\n"
     ]
    }
   ],
   "source": [
    "print(s.values)\n",
    "print(s.keys())\n",
    "print(s.index)\n",
    "for i in s.values:\n",
    "    print(i)\n",
    "for i in s.index:\n",
    "    print(i)"
   ]
  },
  {
   "cell_type": "code",
   "execution_count": 32,
   "metadata": {},
   "outputs": [
    {
     "name": "stdout",
     "output_type": "stream",
     "text": [
      "(0, 0)\n",
      "(1, 1)\n",
      "(2, 1)\n",
      "(3, 2)\n",
      "(4, 3)\n",
      "(5, 5)\n",
      "(6, 8)\n"
     ]
    }
   ],
   "source": [
    "for i in zip(s.index,s.values):\n",
    "    print(i)"
   ]
  },
  {
   "cell_type": "code",
   "execution_count": 36,
   "metadata": {},
   "outputs": [
    {
     "name": "stdout",
     "output_type": "stream",
     "text": [
      "0\n",
      "8\n"
     ]
    }
   ],
   "source": [
    "print(s[0])\n",
    "print(s[6])"
   ]
  },
  {
   "cell_type": "code",
   "execution_count": 65,
   "metadata": {},
   "outputs": [
    {
     "name": "stdout",
     "output_type": "stream",
     "text": [
      "mass            0.33\n",
      "diameter       57.90\n",
      "dayLength    4222.60\n",
      "dtype: float64\n",
      "57.9\n",
      "4222.6\n",
      "57.9\n",
      "4222.6\n"
     ]
    }
   ],
   "source": [
    "mercury = pd.Series([0.33,57.9,4222.6], index = ['mass','diameter','dayLength'])\n",
    "print(mercury)\n",
    "print(mercury['diameter'])\n",
    "print(mercury['dayLength'])\n",
    "# do not use below methods\n",
    "print(mercury.diameter)\n",
    "print(mercury.dayLength)"
   ]
  },
  {
   "cell_type": "code",
   "execution_count": 66,
   "metadata": {},
   "outputs": [
    {
     "name": "stdout",
     "output_type": "stream",
     "text": [
      "10    7\n",
      "11    2\n",
      "12    1\n",
      "13    1\n",
      "14    4\n",
      "15    8\n",
      "16    7\n",
      "17    5\n",
      "18    6\n",
      "19    4\n",
      "dtype: int32\n"
     ]
    }
   ],
   "source": [
    "arr = np.random.randint(0,10,10)\n",
    "index = np.arange(10,20)\n",
    "rand_series = pd.Series(arr,index = index)\n",
    "print(rand_series)"
   ]
  },
  {
   "cell_type": "code",
   "execution_count": 67,
   "metadata": {},
   "outputs": [
    {
     "name": "stdout",
     "output_type": "stream",
     "text": [
      "mass            0.33\n",
      "diameter       57.90\n",
      "dayLength    4222.60\n",
      "dtype: float64\n"
     ]
    }
   ],
   "source": [
    "d = {}\n",
    "d['mass'] = 0.33\n",
    "d['diameter'] = 57.9\n",
    "d['dayLength'] = 4222.6\n",
    "\n",
    "mercury = pd.Series(d)\n",
    "print(mercury)"
   ]
  },
  {
   "cell_type": "code",
   "execution_count": 68,
   "metadata": {},
   "outputs": [
    {
     "name": "stdout",
     "output_type": "stream",
     "text": [
      "mass            0.33\n",
      "diameter       57.90\n",
      "dayLength    4222.60\n",
      "dtype: float64\n"
     ]
    }
   ],
   "source": [
    "mercury = pd.Series(d,index = ['mass','diameter','dayLength'])\n",
    "print(mercury)"
   ]
  },
  {
   "cell_type": "code",
   "execution_count": 70,
   "metadata": {},
   "outputs": [
    {
     "name": "stdout",
     "output_type": "stream",
     "text": [
      "mass         0.33\n",
      "diameter    57.90\n",
      "dtype: float64\n"
     ]
    }
   ],
   "source": [
    "# Only those indices which are included below in the index are taken instead of the entire dictionary\n",
    "mercury = pd.Series(d,index = ['mass','diameter'])\n",
    "print(mercury)"
   ]
  },
  {
   "cell_type": "markdown",
   "metadata": {},
   "source": [
    "### iLoc & Loc"
   ]
  },
  {
   "cell_type": "code",
   "execution_count": 93,
   "metadata": {},
   "outputs": [
    {
     "name": "stdout",
     "output_type": "stream",
     "text": [
      "1    0.0\n",
      "2    1.0\n",
      "3    1.0\n",
      "4    2.0\n",
      "5    3.0\n",
      "6    5.0\n",
      "7    8.0\n",
      "dtype: float64\n",
      "2.0\n",
      "3.0\n"
     ]
    }
   ],
   "source": [
    "s = pd.Series([0.0,1,1,2,3,5,8],index=[1,2,3,4,5,6,7])\n",
    "print(s)\n",
    "# gives value at specified location - location\n",
    "print(s.loc[4])\n",
    "# gives value at implicit location - integer location\n",
    "print(s.iloc[4])"
   ]
  },
  {
   "cell_type": "code",
   "execution_count": 106,
   "metadata": {},
   "outputs": [
    {
     "name": "stdout",
     "output_type": "stream",
     "text": [
      "0.33\n",
      "4222.6\n",
      "0.33\n",
      "diameter       57.9\n",
      "dayLength    4222.6\n",
      "dtype: float64\n",
      "4222.6\n",
      "diameter       57.9\n",
      "dayLength    4222.6\n",
      "dtype: float64\n",
      "4222.6\n"
     ]
    }
   ],
   "source": [
    "mercury = pd.Series([0.33,57.9,4222.6], index = ['mass','diameter','dayLength'])\n",
    "print(mercury.loc['mass'])\n",
    "print(mercury.iloc[-1])\n",
    "print(mercury.iloc[0])\n",
    "print(mercury.iloc[1:]) # is a new series\n",
    "print(mercury.iloc[1:][1])\n",
    "# slicing can be done to both loc and iloc\n",
    "print(mercury.loc['diameter':])\n",
    "print(mercury.loc['diameter':]['dayLength'])"
   ]
  },
  {
   "cell_type": "markdown",
   "metadata": {},
   "source": [
    "### Simple Operations"
   ]
  },
  {
   "cell_type": "code",
   "execution_count": 3,
   "metadata": {},
   "outputs": [
    {
     "name": "stdout",
     "output_type": "stream",
     "text": [
      "Mercury       0.3300\n",
      "Venus         4.8700\n",
      "Earth         5.9700\n",
      "Mars          0.6420\n",
      "Jupiter    1898.0000\n",
      "Saturn      568.0000\n",
      "Uranus       86.8000\n",
      "Neptune     102.0000\n",
      "Pluto         0.0146\n",
      "dtype: float64\n",
      "4.87\n",
      "Earth         5.970\n",
      "Mars          0.642\n",
      "Jupiter    1898.000\n",
      "dtype: float64\n",
      "Earth         5.970\n",
      "Mars          0.642\n",
      "Jupiter    1898.000\n",
      "dtype: float64\n",
      "0.642\n"
     ]
    }
   ],
   "source": [
    "mass = pd.Series([0.33,4.87,5.97,0.642,1898,568,86.8,102,0.0146], index = ['Mercury','Venus','Earth','Mars','Jupiter','Saturn','Uranus','Neptune','Pluto'])\n",
    "print(mass)\n",
    "print(mass.iloc[1])\n",
    "print(mass.iloc[2:5])\n",
    "print(mass.loc['Earth':'Jupiter'])\n",
    "print(mass.loc['Earth':'Jupiter']['Mars'])"
   ]
  },
  {
   "cell_type": "code",
   "execution_count": 121,
   "metadata": {},
   "outputs": [
    {
     "name": "stdout",
     "output_type": "stream",
     "text": [
      "Mercury    False\n",
      "Venus      False\n",
      "Earth      False\n",
      "Mars       False\n",
      "Jupiter     True\n",
      "Saturn      True\n",
      "Uranus     False\n",
      "Neptune     True\n",
      "Pluto      False\n",
      "dtype: bool\n",
      "Jupiter    1898.0\n",
      "Saturn      568.0\n",
      "Neptune     102.0\n",
      "dtype: float64\n"
     ]
    }
   ],
   "source": [
    "print(mass > 100)\n",
    "print(mass[mass > 100])"
   ]
  },
  {
   "cell_type": "code",
   "execution_count": 130,
   "metadata": {},
   "outputs": [
    {
     "name": "stdout",
     "output_type": "stream",
     "text": [
      "Venus        4.87\n",
      "Earth        5.97\n",
      "Uranus      86.80\n",
      "Neptune    102.00\n",
      "dtype: float64\n"
     ]
    }
   ],
   "source": [
    "print(mass[ (mass > 3) & (mass < 150)])"
   ]
  },
  {
   "cell_type": "code",
   "execution_count": 131,
   "metadata": {},
   "outputs": [
    {
     "name": "stdout",
     "output_type": "stream",
     "text": [
      "Mercury       0.6600\n",
      "Venus         9.7400\n",
      "Earth        11.9400\n",
      "Mars          1.2840\n",
      "Jupiter    3796.0000\n",
      "Saturn     1136.0000\n",
      "Uranus      173.6000\n",
      "Neptune     204.0000\n",
      "Pluto         0.0292\n",
      "dtype: float64\n",
      "Mercury      0.03300\n",
      "Venus        0.48700\n",
      "Earth        0.59700\n",
      "Mars         0.06420\n",
      "Jupiter    189.80000\n",
      "Saturn      56.80000\n",
      "Uranus       8.68000\n",
      "Neptune     10.20000\n",
      "Pluto        0.00146\n",
      "dtype: float64\n"
     ]
    }
   ],
   "source": [
    "print(mass*2)\n",
    "print(mass/10)"
   ]
  },
  {
   "cell_type": "code",
   "execution_count": 133,
   "metadata": {},
   "outputs": [
    {
     "name": "stdout",
     "output_type": "stream",
     "text": [
      "296.29184444444445\n",
      "5.97\n",
      "591.8827216151058\n"
     ]
    }
   ],
   "source": [
    "print(np.mean(mass))\n",
    "print(np.median(mass))\n",
    "print(np.std(mass))"
   ]
  },
  {
   "cell_type": "code",
   "execution_count": 134,
   "metadata": {},
   "outputs": [
    {
     "name": "stdout",
     "output_type": "stream",
     "text": [
      "0.0146\n",
      "1898.0\n"
     ]
    }
   ],
   "source": [
    "print(np.amin(mass))\n",
    "print(np.amax(mass))"
   ]
  },
  {
   "cell_type": "code",
   "execution_count": 137,
   "metadata": {},
   "outputs": [
    {
     "name": "stdout",
     "output_type": "stream",
     "text": [
      "Mercury    1.089000e-01\n",
      "Venus      2.371690e+01\n",
      "Earth      3.564090e+01\n",
      "Mars       4.121640e-01\n",
      "Jupiter    3.602404e+06\n",
      "Saturn     3.226240e+05\n",
      "Uranus     7.534240e+03\n",
      "Neptune    1.040400e+04\n",
      "Pluto      2.131600e-04\n",
      "dtype: float64\n",
      "Mercury       0.6600\n",
      "Venus         9.7400\n",
      "Earth        11.9400\n",
      "Mars          1.2840\n",
      "Jupiter    3796.0000\n",
      "Saturn     1136.0000\n",
      "Uranus      173.6000\n",
      "Neptune     204.0000\n",
      "Pluto         0.0292\n",
      "dtype: float64\n"
     ]
    }
   ],
   "source": [
    "print(mass*mass)\n",
    "print(mass + mass)"
   ]
  },
  {
   "cell_type": "code",
   "execution_count": 138,
   "metadata": {},
   "outputs": [
    {
     "name": "stdout",
     "output_type": "stream",
     "text": [
      "Mercury    0.0\n",
      "Venus      0.0\n",
      "Earth      0.0\n",
      "Mars       0.0\n",
      "Jupiter    0.0\n",
      "Saturn     0.0\n",
      "Uranus     0.0\n",
      "Neptune    0.0\n",
      "Pluto      0.0\n",
      "dtype: float64\n"
     ]
    }
   ],
   "source": [
    "print(mass - mass)"
   ]
  },
  {
   "cell_type": "code",
   "execution_count": 147,
   "metadata": {},
   "outputs": [
    {
     "data": {
      "text/plain": [
       "Jupiter    1898.0\n",
       "Saturn      568.0\n",
       "Neptune     102.0\n",
       "dtype: float64"
      ]
     },
     "execution_count": 147,
     "metadata": {},
     "output_type": "execute_result"
    }
   ],
   "source": [
    "big_mass = mass[mass > 100]\n",
    "big_mass"
   ]
  },
  {
   "cell_type": "code",
   "execution_count": 148,
   "metadata": {},
   "outputs": [
    {
     "name": "stdout",
     "output_type": "stream",
     "text": [
      "Earth         NaN\n",
      "Jupiter    3796.0\n",
      "Mars          NaN\n",
      "Mercury       NaN\n",
      "Neptune     204.0\n",
      "Pluto         NaN\n",
      "Saturn     1136.0\n",
      "Uranus        NaN\n",
      "Venus         NaN\n",
      "dtype: float64\n"
     ]
    }
   ],
   "source": [
    "# Does not throw error even if two objects are different dimension\n",
    "new_mass = mass + big_mass\n",
    "print(new_mass)"
   ]
  },
  {
   "cell_type": "code",
   "execution_count": 150,
   "metadata": {},
   "outputs": [
    {
     "name": "stdout",
     "output_type": "stream",
     "text": [
      "Earth       True\n",
      "Jupiter    False\n",
      "Mars        True\n",
      "Mercury     True\n",
      "Neptune    False\n",
      "Pluto       True\n",
      "Saturn     False\n",
      "Uranus      True\n",
      "Venus       True\n",
      "dtype: bool\n"
     ]
    }
   ],
   "source": [
    "print(pd.isnull(new_mass))"
   ]
  },
  {
   "cell_type": "code",
   "execution_count": 154,
   "metadata": {},
   "outputs": [
    {
     "data": {
      "text/plain": [
       "Jupiter    3796.0\n",
       "Neptune     204.0\n",
       "Saturn     1136.0\n",
       "dtype: float64"
      ]
     },
     "execution_count": 154,
     "metadata": {},
     "output_type": "execute_result"
    }
   ],
   "source": [
    "new_mass[~pd.isnull(new_mass)]"
   ]
  },
  {
   "cell_type": "markdown",
   "metadata": {},
   "source": [
    "#### Adding element to series object"
   ]
  },
  {
   "cell_type": "code",
   "execution_count": 4,
   "metadata": {},
   "outputs": [
    {
     "name": "stdout",
     "output_type": "stream",
     "text": [
      "Mercury       0.3300\n",
      "Venus         4.8700\n",
      "Earth         5.9700\n",
      "Mars          0.6420\n",
      "Jupiter    1898.0000\n",
      "Saturn      568.0000\n",
      "Uranus       86.8000\n",
      "Neptune     102.0000\n",
      "Pluto         0.0146\n",
      "Moon          0.7346\n",
      "PlanetX       6.0000\n",
      "dtype: float64\n"
     ]
    }
   ],
   "source": [
    "mass['Moon'] = 0.7346\n",
    "mass['PlanetX'] = 6\n",
    "print(mass)"
   ]
  },
  {
   "cell_type": "code",
   "execution_count": 158,
   "metadata": {},
   "outputs": [
    {
     "data": {
      "text/plain": [
       "Mercury       0.3300\n",
       "Venus         4.8700\n",
       "Earth         5.9700\n",
       "Mars          0.6420\n",
       "Jupiter    1898.0000\n",
       "Saturn      568.0000\n",
       "Uranus       86.8000\n",
       "Neptune     102.0000\n",
       "Moon          0.7346\n",
       "dtype: float64"
      ]
     },
     "execution_count": 158,
     "metadata": {},
     "output_type": "execute_result"
    }
   ],
   "source": [
    "mass.drop('Pluto') # mass.drop(['Pluto'])"
   ]
  },
  {
   "cell_type": "markdown",
   "metadata": {},
   "source": [
    "#### Collect numbers for diameters for these planets and store it as a series object. Then given these two series object mass and diameter , compute the density of each planet"
   ]
  },
  {
   "cell_type": "code",
   "execution_count": 5,
   "metadata": {},
   "outputs": [],
   "source": [
    "diameter = pd.Series([4879, 12104, 12756, 3475, 6792, 142984, 120536, 51118, 49528, 2370], \n",
    "                     index=['Mercury', 'Venus', 'Earth', 'Moon', 'Mars', 'Jupiter', 'Saturn', 'Uranus', 'Neptune', 'Pluto'])"
   ]
  },
  {
   "cell_type": "code",
   "execution_count": 6,
   "metadata": {},
   "outputs": [
    {
     "data": {
      "text/plain": [
       "Earth      5.493286e-12\n",
       "Jupiter    1.240039e-12\n",
       "Mars       3.913302e-12\n",
       "Mercury    5.426538e-12\n",
       "Moon       3.343396e-11\n",
       "Neptune    1.603427e-12\n",
       "PlanetX             NaN\n",
       "Pluto      2.094639e-12\n",
       "Saturn     6.194402e-13\n",
       "Uranus     1.241079e-12\n",
       "Venus      5.244977e-12\n",
       "dtype: float64"
      ]
     },
     "execution_count": 6,
     "metadata": {},
     "output_type": "execute_result"
    }
   ],
   "source": [
    "density = mass / (np.pi*(diameter**3)/6)\n",
    "density"
   ]
  },
  {
   "cell_type": "markdown",
   "metadata": {},
   "source": [
    "#### Given this density Series, replace all values which NaNs with the mean density of all planets"
   ]
  },
  {
   "cell_type": "code",
   "execution_count": 7,
   "metadata": {},
   "outputs": [
    {
     "name": "stdout",
     "output_type": "stream",
     "text": [
      "Earth      5.493286e-12\n",
      "Jupiter    1.240039e-12\n",
      "Mars       3.913302e-12\n",
      "Mercury    5.426538e-12\n",
      "Moon       3.343396e-11\n",
      "Neptune    1.603427e-12\n",
      "PlanetX    6.031069e-12\n",
      "Pluto      2.094639e-12\n",
      "Saturn     6.194402e-13\n",
      "Uranus     1.241079e-12\n",
      "Venus      5.244977e-12\n",
      "dtype: float64\n"
     ]
    }
   ],
   "source": [
    "print(density.fillna(np.mean(density))) # density[pd.isnull(density)] = np.mean(density)"
   ]
  },
  {
   "cell_type": "markdown",
   "metadata": {},
   "source": [
    "#### Compare Dictionary with Series: \n",
    "- checking if some key is present\n",
    "- summing values\n",
    "- computing std"
   ]
  },
  {
   "cell_type": "code",
   "execution_count": 4,
   "metadata": {
    "colab": {},
    "colab_type": "code",
    "executionInfo": {
     "elapsed": 1101,
     "status": "ok",
     "timestamp": 1592825874471,
     "user": {
      "displayName": "PadhAI FDS",
      "photoUrl": "https://lh3.googleusercontent.com/a-/AOh14Gh8aWLOeF6MNJzb9_wadSluUosxW_XG64hmyjrP=s64",
      "userId": "06149814316635818851"
     },
     "user_tz": -330
    },
    "id": "2vdPaE0AuEKs"
   },
   "outputs": [],
   "source": [
    "my_dict = {}\n",
    "N = 1000000\n",
    "for i in range(N):\n",
    "    my_dict[i] = i%10"
   ]
  },
  {
   "cell_type": "code",
   "execution_count": 5,
   "metadata": {
    "colab": {},
    "colab_type": "code",
    "executionInfo": {
     "elapsed": 2582,
     "status": "ok",
     "timestamp": 1592825876306,
     "user": {
      "displayName": "PadhAI FDS",
      "photoUrl": "https://lh3.googleusercontent.com/a-/AOh14Gh8aWLOeF6MNJzb9_wadSluUosxW_XG64hmyjrP=s64",
      "userId": "06149814316635818851"
     },
     "user_tz": -330
    },
    "id": "q4Wnc9pyz0Bz"
   },
   "outputs": [],
   "source": [
    "my_series = pd.Series(my_dict)"
   ]
  },
  {
   "cell_type": "code",
   "execution_count": 6,
   "metadata": {
    "colab": {},
    "colab_type": "code",
    "executionInfo": {
     "elapsed": 2224,
     "status": "ok",
     "timestamp": 1592825876308,
     "user": {
      "displayName": "PadhAI FDS",
      "photoUrl": "https://lh3.googleusercontent.com/a-/AOh14Gh8aWLOeF6MNJzb9_wadSluUosxW_XG64hmyjrP=s64",
      "userId": "06149814316635818851"
     },
     "user_tz": -330
    },
    "id": "bC5zidVGz2o9"
   },
   "outputs": [],
   "source": [
    "M = 10000"
   ]
  },
  {
   "cell_type": "code",
   "execution_count": 7,
   "metadata": {
    "colab": {},
    "colab_type": "code",
    "executionInfo": {
     "elapsed": 1710,
     "status": "ok",
     "timestamp": 1592825876309,
     "user": {
      "displayName": "PadhAI FDS",
      "photoUrl": "https://lh3.googleusercontent.com/a-/AOh14Gh8aWLOeF6MNJzb9_wadSluUosxW_XG64hmyjrP=s64",
      "userId": "06149814316635818851"
     },
     "user_tz": -330
    },
    "id": "MPIk0sg7z-gb"
   },
   "outputs": [],
   "source": [
    "arr = np.random.randint(0, N, M)"
   ]
  },
  {
   "cell_type": "code",
   "execution_count": 8,
   "metadata": {
    "colab": {
     "base_uri": "https://localhost:8080/",
     "height": 36
    },
    "colab_type": "code",
    "executionInfo": {
     "elapsed": 4064,
     "status": "ok",
     "timestamp": 1592825879250,
     "user": {
      "displayName": "PadhAI FDS",
      "photoUrl": "https://lh3.googleusercontent.com/a-/AOh14Gh8aWLOeF6MNJzb9_wadSluUosxW_XG64hmyjrP=s64",
      "userId": "06149814316635818851"
     },
     "user_tz": -330
    },
    "id": "PYEEv60A0Gpo",
    "outputId": "81998c90-cce6-43de-dc1d-38529c442621"
   },
   "outputs": [
    {
     "name": "stdout",
     "output_type": "stream",
     "text": [
      "3.4 ms ± 640 µs per loop (mean ± std. dev. of 7 runs, 100 loops each)\n"
     ]
    }
   ],
   "source": [
    "%%timeit\n",
    "for i in arr:\n",
    "    i in my_dict"
   ]
  },
  {
   "cell_type": "code",
   "execution_count": 9,
   "metadata": {
    "colab": {
     "base_uri": "https://localhost:8080/",
     "height": 76
    },
    "colab_type": "code",
    "executionInfo": {
     "elapsed": 8359,
     "status": "ok",
     "timestamp": 1592825884059,
     "user": {
      "displayName": "PadhAI FDS",
      "photoUrl": "https://lh3.googleusercontent.com/a-/AOh14Gh8aWLOeF6MNJzb9_wadSluUosxW_XG64hmyjrP=s64",
      "userId": "06149814316635818851"
     },
     "user_tz": -330
    },
    "id": "_vLNU8O90S-D",
    "outputId": "b0b2b3de-75dd-4354-a113-b9edf27d7c8f"
   },
   "outputs": [
    {
     "name": "stdout",
     "output_type": "stream",
     "text": [
      "7.16 ms ± 39.4 µs per loop (mean ± std. dev. of 7 runs, 100 loops each)\n"
     ]
    }
   ],
   "source": [
    "%%timeit\n",
    "for i in arr:\n",
    "    i in my_series"
   ]
  },
  {
   "cell_type": "code",
   "execution_count": 10,
   "metadata": {
    "colab": {
     "base_uri": "https://localhost:8080/",
     "height": 36
    },
    "colab_type": "code",
    "executionInfo": {
     "elapsed": 4013,
     "status": "ok",
     "timestamp": 1592825938362,
     "user": {
      "displayName": "PadhAI FDS",
      "photoUrl": "https://lh3.googleusercontent.com/a-/AOh14Gh8aWLOeF6MNJzb9_wadSluUosxW_XG64hmyjrP=s64",
      "userId": "06149814316635818851"
     },
     "user_tz": -330
    },
    "id": "-8uZ1kw20a1g",
    "outputId": "9f0a9d72-cba3-407a-db3a-0284eb387e0c"
   },
   "outputs": [
    {
     "name": "stdout",
     "output_type": "stream",
     "text": [
      "10.9 ms ± 24.5 µs per loop (mean ± std. dev. of 7 runs, 100 loops each)\n"
     ]
    }
   ],
   "source": [
    "%%timeit\n",
    "sum(my_dict.values())"
   ]
  },
  {
   "cell_type": "code",
   "execution_count": 11,
   "metadata": {
    "colab": {
     "base_uri": "https://localhost:8080/",
     "height": 36
    },
    "colab_type": "code",
    "executionInfo": {
     "elapsed": 4334,
     "status": "ok",
     "timestamp": 1592825976633,
     "user": {
      "displayName": "PadhAI FDS",
      "photoUrl": "https://lh3.googleusercontent.com/a-/AOh14Gh8aWLOeF6MNJzb9_wadSluUosxW_XG64hmyjrP=s64",
      "userId": "06149814316635818851"
     },
     "user_tz": -330
    },
    "id": "qz2FAhpT0vGp",
    "outputId": "dfdad3a0-270c-4d0c-9617-575c89a6650a"
   },
   "outputs": [
    {
     "name": "stdout",
     "output_type": "stream",
     "text": [
      "444 µs ± 5.78 µs per loop (mean ± std. dev. of 7 runs, 1000 loops each)\n"
     ]
    }
   ],
   "source": [
    "%%timeit\n",
    "np.sum(my_series)"
   ]
  },
  {
   "cell_type": "code",
   "execution_count": 12,
   "metadata": {
    "colab": {
     "base_uri": "https://localhost:8080/",
     "height": 36
    },
    "colab_type": "code",
    "executionInfo": {
     "elapsed": 7641,
     "status": "ok",
     "timestamp": 1592826080314,
     "user": {
      "displayName": "PadhAI FDS",
      "photoUrl": "https://lh3.googleusercontent.com/a-/AOh14Gh8aWLOeF6MNJzb9_wadSluUosxW_XG64hmyjrP=s64",
      "userId": "06149814316635818851"
     },
     "user_tz": -330
    },
    "id": "WZaduGUk005M",
    "outputId": "77f02925-8523-485a-f14d-52ae1ec19e59"
   },
   "outputs": [
    {
     "name": "stdout",
     "output_type": "stream",
     "text": [
      "226 ms ± 4.6 ms per loop (mean ± std. dev. of 7 runs, 1 loop each)\n"
     ]
    }
   ],
   "source": [
    "%%timeit\n",
    "mean = sum(my_dict.values()) / N\n",
    "variance = sum([(x - mean)**2 for x in my_dict.values()])\n",
    "std = variance ** 0.5"
   ]
  },
  {
   "cell_type": "code",
   "execution_count": 13,
   "metadata": {
    "colab": {
     "base_uri": "https://localhost:8080/",
     "height": 36
    },
    "colab_type": "code",
    "executionInfo": {
     "elapsed": 2253,
     "status": "ok",
     "timestamp": 1592826100348,
     "user": {
      "displayName": "PadhAI FDS",
      "photoUrl": "https://lh3.googleusercontent.com/a-/AOh14Gh8aWLOeF6MNJzb9_wadSluUosxW_XG64hmyjrP=s64",
      "userId": "06149814316635818851"
     },
     "user_tz": -330
    },
    "id": "SFPYW41t1Q3y",
    "outputId": "0b3eaa52-b416-4455-a5c5-21fc5d10095e"
   },
   "outputs": [
    {
     "name": "stdout",
     "output_type": "stream",
     "text": [
      "2.1 ms ± 121 µs per loop (mean ± std. dev. of 7 runs, 100 loops each)\n"
     ]
    }
   ],
   "source": [
    "%%timeit\n",
    "np.std(my_series)"
   ]
  },
  {
   "cell_type": "markdown",
   "metadata": {},
   "source": [
    "## Case Study Nifty"
   ]
  },
  {
   "cell_type": "code",
   "execution_count": 245,
   "metadata": {},
   "outputs": [
    {
     "name": "stdout",
     "output_type": "stream",
     "text": [
      "Date\n",
      "01-Jan-2019    10910.10\n",
      "02-Jan-2019    10792.50\n",
      "03-Jan-2019    10672.25\n",
      "04-Jan-2019    10727.35\n",
      "07-Jan-2019    10771.80\n",
      "                 ...   \n",
      "24-Dec-2019    12214.55\n",
      "26-Dec-2019    12126.55\n",
      "27-Dec-2019    12245.80\n",
      "30-Dec-2019    12255.85\n",
      "31-Dec-2019    12168.45\n",
      "Name: Close, Length: 245, dtype: float64\n",
      "<class 'pandas.core.series.Series'>\n"
     ]
    }
   ],
   "source": [
    "nifty = pd.read_csv('nifty-200623-235920.csv',index_col=0).iloc[:,0]\n",
    "print(nifty)\n",
    "print(type(nifty))"
   ]
  },
  {
   "cell_type": "code",
   "execution_count": 103,
   "metadata": {},
   "outputs": [
    {
     "data": {
      "text/plain": [
       "Date\n",
       "01-Jan-2019    10910.10\n",
       "02-Jan-2019    10792.50\n",
       "03-Jan-2019    10672.25\n",
       "04-Jan-2019    10727.35\n",
       "07-Jan-2019    10771.80\n",
       "Name: Close, dtype: float64"
      ]
     },
     "execution_count": 103,
     "metadata": {},
     "output_type": "execute_result"
    }
   ],
   "source": [
    "nifty.head(5)"
   ]
  },
  {
   "cell_type": "code",
   "execution_count": 104,
   "metadata": {},
   "outputs": [
    {
     "data": {
      "text/plain": [
       "Date\n",
       "24-Dec-2019    12214.55\n",
       "26-Dec-2019    12126.55\n",
       "27-Dec-2019    12245.80\n",
       "30-Dec-2019    12255.85\n",
       "31-Dec-2019    12168.45\n",
       "Name: Close, dtype: float64"
      ]
     },
     "execution_count": 104,
     "metadata": {},
     "output_type": "execute_result"
    }
   ],
   "source": [
    "nifty.tail(5)"
   ]
  },
  {
   "cell_type": "code",
   "execution_count": 105,
   "metadata": {},
   "outputs": [
    {
     "name": "stdout",
     "output_type": "stream",
     "text": [
      "11432.632244897959\n",
      "11512.4\n",
      "453.2866947459807\n"
     ]
    }
   ],
   "source": [
    "print(np.mean(nifty))\n",
    "print(np.median(nifty))\n",
    "print(np.std(nifty))"
   ]
  },
  {
   "cell_type": "markdown",
   "metadata": {},
   "source": [
    "### Task 1 : What fraction of days did the market close higher than the previous day"
   ]
  },
  {
   "cell_type": "code",
   "execution_count": 140,
   "metadata": {},
   "outputs": [
    {
     "name": "stdout",
     "output_type": "stream",
     "text": [
      "0.5265306122448979\n"
     ]
    }
   ],
   "source": [
    "new_nifty = nifty.shift()\n",
    "print(nifty[nifty > new_nifty].size/nifty.size)"
   ]
  },
  {
   "cell_type": "code",
   "execution_count": 153,
   "metadata": {},
   "outputs": [
    {
     "data": {
      "text/plain": [
       "Date\n",
       "01-Apr-2019    0.0\n",
       "01-Aug-2019    0.0\n",
       "01-Feb-2019    0.0\n",
       "01-Jan-2019    NaN\n",
       "01-Jul-2019    0.0\n",
       "              ... \n",
       "31-Dec-2019    NaN\n",
       "31-Jan-2019    0.0\n",
       "31-Jul-2019    0.0\n",
       "31-May-2019    0.0\n",
       "31-Oct-2019    0.0\n",
       "Name: Close, Length: 245, dtype: float64"
      ]
     },
     "execution_count": 153,
     "metadata": {},
     "output_type": "execute_result"
    }
   ],
   "source": [
    "nifty[1:] - nifty[:-1]"
   ]
  },
  {
   "cell_type": "markdown",
   "metadata": {},
   "source": [
    "### The above happend because it subtracted with the same index columns"
   ]
  },
  {
   "cell_type": "code",
   "execution_count": 162,
   "metadata": {},
   "outputs": [
    {
     "data": {
      "text/plain": [
       "0.5265306122448979"
      ]
     },
     "execution_count": 162,
     "metadata": {},
     "output_type": "execute_result"
    }
   ],
   "source": [
    "np.sum((nifty.values[1:] > nifty.values[:-1]) > 0)/nifty.shape[0]"
   ]
  },
  {
   "cell_type": "markdown",
   "metadata": {},
   "source": [
    "### Task 2 : Compute moving average of the last five days"
   ]
  },
  {
   "cell_type": "code",
   "execution_count": 246,
   "metadata": {},
   "outputs": [],
   "source": [
    "new_index = map(pd.Timestamp,nifty.index)\n",
    "new_nifty = pd.Series(nifty,index=new_index)"
   ]
  },
  {
   "cell_type": "code",
   "execution_count": 261,
   "metadata": {},
   "outputs": [
    {
     "data": {
      "text/plain": [
       "2019-01-01    10910.100000\n",
       "2019-01-02    10851.300000\n",
       "2019-01-03    10791.616667\n",
       "2019-01-04    10775.550000\n",
       "2019-01-07    10723.800000\n",
       "                  ...     \n",
       "2019-12-24    12249.700000\n",
       "2019-12-26    12201.283333\n",
       "2019-12-27    12212.412500\n",
       "2019-12-30    12209.400000\n",
       "2019-12-31    12223.366667\n",
       "Name: Close, Length: 245, dtype: float64"
      ]
     },
     "execution_count": 261,
     "metadata": {},
     "output_type": "execute_result"
    }
   ],
   "source": [
    "# Create window with function rolling and do the computation\n",
    "new_nifty.rolling('5d').mean()"
   ]
  },
  {
   "cell_type": "markdown",
   "metadata": {},
   "source": [
    "### Task 3 : Subset the data to include only the data for fridays"
   ]
  },
  {
   "cell_type": "code",
   "execution_count": 188,
   "metadata": {},
   "outputs": [],
   "source": [
    "#nifty[nifty.index[3::5]]"
   ]
  },
  {
   "cell_type": "code",
   "execution_count": 263,
   "metadata": {},
   "outputs": [
    {
     "data": {
      "text/plain": [
       "1"
      ]
     },
     "execution_count": 263,
     "metadata": {},
     "output_type": "execute_result"
    }
   ],
   "source": [
    "d = pd.Timestamp(nifty.index[0])\n",
    "d.dayofweek"
   ]
  },
  {
   "cell_type": "code",
   "execution_count": 265,
   "metadata": {},
   "outputs": [
    {
     "data": {
      "text/plain": [
       "2019-01-04    10727.35\n",
       "2019-01-11    10794.95\n",
       "2019-01-18    10906.95\n",
       "2019-01-25    10780.55\n",
       "2019-02-01    10893.65\n",
       "2019-02-08    10943.60\n",
       "2019-02-15    10724.40\n",
       "2019-02-22    10791.65\n",
       "2019-03-01    10863.50\n",
       "2019-03-08    11035.40\n",
       "2019-03-15    11426.85\n",
       "2019-03-22    11456.90\n",
       "2019-03-29    11623.90\n",
       "2019-04-05    11665.95\n",
       "2019-04-12    11643.45\n",
       "2019-04-26    11754.65\n",
       "2019-05-03    11712.25\n",
       "2019-05-10    11278.90\n",
       "2019-05-17    11407.15\n",
       "2019-05-24    11844.10\n",
       "2019-05-31    11922.80\n",
       "2019-06-07    11870.65\n",
       "2019-06-14    11823.30\n",
       "2019-06-21    11724.10\n",
       "2019-06-28    11788.85\n",
       "2019-07-05    11811.15\n",
       "2019-07-12    11552.50\n",
       "2019-07-19    11419.25\n",
       "2019-07-26    11284.30\n",
       "2019-08-02    10997.35\n",
       "2019-08-09    11109.65\n",
       "2019-08-16    11047.80\n",
       "2019-08-23    10829.35\n",
       "2019-08-30    11023.25\n",
       "2019-09-06    10946.20\n",
       "2019-09-13    11075.90\n",
       "2019-09-20    11274.20\n",
       "2019-09-27    11512.40\n",
       "2019-10-04    11174.75\n",
       "2019-10-11    11305.05\n",
       "2019-10-18    11661.85\n",
       "2019-10-25    11583.90\n",
       "2019-11-01    11890.60\n",
       "2019-11-08    11908.15\n",
       "2019-11-15    11895.45\n",
       "2019-11-22    11914.40\n",
       "2019-11-29    12056.05\n",
       "2019-12-06    11921.50\n",
       "2019-12-13    12086.70\n",
       "2019-12-20    12271.80\n",
       "2019-12-27    12245.80\n",
       "Name: Close, dtype: float64"
      ]
     },
     "execution_count": 265,
     "metadata": {},
     "output_type": "execute_result"
    }
   ],
   "source": [
    "#new_index = map(pd.Timestamp,nifty.index)\n",
    "#new_nifty = pd.Series(nifty,index=new_index)\n",
    "new_nifty[new_nifty.index.dayofweek == 4]"
   ]
  }
 ],
 "metadata": {
  "kernelspec": {
   "display_name": "Python 3",
   "language": "python",
   "name": "python3"
  },
  "language_info": {
   "codemirror_mode": {
    "name": "ipython",
    "version": 3
   },
   "file_extension": ".py",
   "mimetype": "text/x-python",
   "name": "python",
   "nbconvert_exporter": "python",
   "pygments_lexer": "ipython3",
   "version": "3.7.6"
  }
 },
 "nbformat": 4,
 "nbformat_minor": 4
}
