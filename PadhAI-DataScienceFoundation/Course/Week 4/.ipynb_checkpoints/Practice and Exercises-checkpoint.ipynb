{
 "cells": [
  {
   "cell_type": "markdown",
   "metadata": {},
   "source": [
    "#### List Exercise Solution"
   ]
  },
  {
   "cell_type": "code",
   "execution_count": 11,
   "metadata": {},
   "outputs": [
    {
     "name": "stdout",
     "output_type": "stream",
     "text": [
      "0 0\n",
      "1 0\n",
      "2 2\n",
      "3 3\n",
      "4 5\n",
      "5 8\n",
      "6 13\n",
      "7 21\n",
      "8 34\n",
      "9 55\n"
     ]
    }
   ],
   "source": [
    "import copy\n",
    "A = [[1,1],[1,0]]\n",
    "def square_matrix_power(A,n):\n",
    "    B = list(A)\n",
    "    output = [[0,0],[0,0]]\n",
    "    for i in range(n-1):\n",
    "        output[0][0] = A[0][0]*B[0][0] + A[0][1]*B[1][0]\n",
    "        output[0][1] = A[0][0]*B[0][1] + A[0][1]*B[1][1]\n",
    "        output[1][0] = A[1][0]*B[0][0] + A[1][1]*B[1][0]\n",
    "        output[1][1] = A[1][0]*B[0][1] + A[1][1]*B[1][1]\n",
    "        B = copy.deepcopy(output)\n",
    "    return output\n",
    "\n",
    "for i in range(10):\n",
    "    output = square_matrix_power(A,i)\n",
    "    print(i,output[0][0])"
   ]
  },
  {
   "cell_type": "markdown",
   "metadata": {},
   "source": [
    "#### Files"
   ]
  },
  {
   "cell_type": "code",
   "execution_count": 90,
   "metadata": {},
   "outputs": [
    {
     "name": "stdout",
     "output_type": "stream",
     "text": [
      "dict_items([('unending', 1), ('love', 6), ('by', 1), ('rabindranath', 1), ('tagore', 1), ('i', 1), ('seem', 1), ('to', 1), ('have', 3), ('loved', 1), ('you', 2), ('in', 7), ('numberless', 2), ('forms', 2), ('times', 1), ('life', 4), ('after', 4), ('age', 5), ('forever.', 5), ('my', 1), ('spellbound', 1), ('heart', 2), ('has', 2), ('made', 1), ('and', 2), ('remade', 1), ('the', 2), ('necklace', 1), ('of', 15), ('songs', 2), ('that', 3), ('take', 1), ('as', 1), ('a', 2), ('gift', 1), ('wear', 1), ('round', 1), ('your', 3), ('neck', 1), ('many', 1), ('whenever', 1), ('hear', 1), ('old', 1), ('chronicles', 1), ('its', 2), ('pain', 1), ('ancient', 1), ('tale', 1), ('being', 1), ('apart', 1), ('or', 1), ('together.', 1), ('stare', 1), ('on', 3), ('into', 1), ('past', 3), ('end', 2), ('emerge', 1), ('clad', 1), ('light', 1), ('pole', 1), ('star', 1), ('piercing', 1), ('darkness', 1), ('time:', 1), ('become', 1), ('an', 1), ('image', 1), ('what', 1), ('is', 2), ('remembered', 1), ('floated', 1), ('here', 1), ('stream', 1), ('brings', 1), ('from', 1), ('fount.', 1), ('at', 2), ('time', 1), ('one', 2), ('for', 1), ('another.', 1), ('we', 1), ('played', 1), ('along', 1), ('side', 1), ('millions', 1), ('lovers', 1), ('shared', 1), ('same', 2), ('shy', 1), ('sweetness', 1), ('meeting', 1), ('distressful', 1), ('tears', 1), ('farewell', 1), ('but', 1), ('shapes', 1), ('renew', 2), ('today', 1), ('it', 2), ('heaped', 1), ('feet', 1), ('found', 1), ('all', 2), ('manâ€™s', 1), ('days', 1), ('both', 1), ('forever:', 1), ('universal', 3), ('joy', 1), ('sorrow', 1), ('life.', 1), ('memories', 1), ('loves', 1), ('merging', 1), ('with', 1), ('this', 1), ('ours', 1), ('â€“', 1), ('every', 1), ('poet', 1)])\n"
     ]
    }
   ],
   "source": [
    "with open(r\"C:\\Users\\malla\\PadhAI\\PadhAI-DataScienceFoundation-Practice\\Restart\\Week 4\\poem-200302-054621.txt\",'r') as file:\n",
    "    output = file.readlines()\n",
    "\n",
    "dic = dict()\n",
    "rep = ['\\n',',','-','\"','(',')']\n",
    "for line in output:\n",
    "    for i in rep:\n",
    "        line = line.replace(i,' ')\n",
    "    for i in line.split():\n",
    "        dic[i.lower()] = dic.get(i,0)+1\n",
    "\n",
    "print(dic.items())"
   ]
  },
  {
   "cell_type": "markdown",
   "metadata": {},
   "source": [
    "#### Exercises"
   ]
  },
  {
   "cell_type": "code",
   "execution_count": null,
   "metadata": {},
   "outputs": [],
   "source": []
  }
 ],
 "metadata": {
  "kernelspec": {
   "display_name": "Python 3",
   "language": "python",
   "name": "python3"
  },
  "language_info": {
   "codemirror_mode": {
    "name": "ipython",
    "version": 3
   },
   "file_extension": ".py",
   "mimetype": "text/x-python",
   "name": "python",
   "nbconvert_exporter": "python",
   "pygments_lexer": "ipython3",
   "version": "3.7.6"
  }
 },
 "nbformat": 4,
 "nbformat_minor": 4
}
